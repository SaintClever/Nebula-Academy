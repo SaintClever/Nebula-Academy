{
  "cells": [
    {
      "cell_type": "markdown",
      "metadata": {},
      "source": [
        "### Question 1 \n",
        "\n",
        "🎯\n",
        "\n",
        "Write a program that calculates the factorial of a given number. The factorial of a number is the product of all positive integers less than or equal to the number."
      ]
    },
    {
      "cell_type": "code",
      "execution_count": null,
      "metadata": {},
      "outputs": [],
      "source": [
        "# Your Solution Here"
      ]
    },
    {
      "cell_type": "markdown",
      "metadata": {},
      "source": [
        "### Question 2 \n",
        "\n",
        "🌡️\n",
        "\n",
        "Write a program that converts a temperature from Celsius to Fahrenheit. The program should take a temperature in Celsius as input and print the equivalent temperature in Fahrenheit."
      ]
    },
    {
      "cell_type": "code",
      "execution_count": null,
      "metadata": {},
      "outputs": [],
      "source": [
        "# Your Solution Here"
      ]
    },
    {
      "cell_type": "markdown",
      "metadata": {},
      "source": [
        "### Question 3 \n",
        "\n",
        "📏\n",
        "\n",
        "Write a program that calculates the area of a rectangle. The program should take the length and width of the rectangle as input and print the area."
      ]
    },
    {
      "cell_type": "code",
      "execution_count": null,
      "metadata": {},
      "outputs": [],
      "source": [
        "# Your Solution Here"
      ]
    },
    {
      "cell_type": "markdown",
      "metadata": {},
      "source": [
        "### Question 4 \n",
        "\n",
        "🏎️\n",
        "\n",
        "Write a program that determines if a given number is divisible by 5. If it is divisible by 5, print 'Divisible by 5', otherwise print 'Not divisible by 5'."
      ]
    },
    {
      "cell_type": "code",
      "execution_count": null,
      "metadata": {},
      "outputs": [],
      "source": [
        "# Your Solution Here"
      ]
    },
    {
      "cell_type": "markdown",
      "metadata": {},
      "source": [
        "### Question 5 \n",
        "\n",
        "🔁\n",
        "\n",
        "Write a program that checks if a given string is a palindrome. If the string is a palindrome, print 'Palindrome', otherwise print 'Not a palindrome'."
      ]
    },
    {
      "cell_type": "code",
      "execution_count": null,
      "metadata": {},
      "outputs": [],
      "source": [
        "# Your Solution Here"
      ]
    },
    {
      "cell_type": "markdown",
      "metadata": {},
      "source": [
        "### Question 6 \n",
        "\n",
        "🌸\n",
        "\n",
        "Write a program that prints the Fibonacci series up to a given number. The Fibonacci series is a sequence of numbers where each number is the sum of the two preceding ones."
      ]
    },
    {
      "cell_type": "code",
      "execution_count": null,
      "metadata": {},
      "outputs": [],
      "source": [
        "# Your Solution Here"
      ]
    },
    {
      "cell_type": "markdown",
      "metadata": {},
      "source": [
        "### Question 7 \n",
        "\n",
        "🔢\n",
        "\n",
        "Write a program that determines if a given number is a prime number. If the number is prime, print 'Prime number', otherwise print 'Not a prime number'."
      ]
    },
    {
      "cell_type": "code",
      "execution_count": null,
      "metadata": {},
      "outputs": [],
      "source": [
        "# Your Solution Here"
      ]
    },
    {
      "cell_type": "markdown",
      "metadata": {},
      "source": [
        "### Question 8 \n",
        "\n",
        "📈\n",
        "\n",
        "Write a program that finds the maximum element in a given list. The program should take a list of numbers as input and print the maximum element."
      ]
    },
    {
      "cell_type": "code",
      "execution_count": null,
      "metadata": {},
      "outputs": [],
      "source": [
        "# Your Solution Here"
      ]
    },
    {
      "cell_type": "markdown",
      "metadata": {},
      "source": [
        "### Question 9 \n",
        "\n",
        "🔠\n",
        "\n",
        "Write a program that counts the number of vowels in a given string. The program should take a string as input and print the count of vowels."
      ]
    },
    {
      "cell_type": "code",
      "execution_count": null,
      "metadata": {},
      "outputs": [],
      "source": [
        "# Your Solution Here"
      ]
    },
    {
      "cell_type": "markdown",
      "metadata": {},
      "source": [
        "### Question 10 \n",
        "\n",
        "⏰\n",
        "\n",
        "Write a program that converts a given number of minutes into hours and minutes. The program should take the number of minutes as input and print the equivalent time in hours and minutes."
      ]
    },
    {
      "cell_type": "code",
      "execution_count": null,
      "metadata": {},
      "outputs": [],
      "source": [
        "# Your Solution Here"
      ]
    }
  ],
  "metadata": {
    "kernelspec": {
      "display_name": "Python 3",
      "language": "python",
      "name": "python3"
    },
    "language_info": {
      "codemirror_mode": {
        "name": "ipython",
        "version": 3
      },
      "file_extension": ".py",
      "mimetype": "text/x-python",
      "name": "python",
      "nbconvert_exporter": "python",
      "pygments_lexer": "ipython3",
      "version": "3.7.12"
    }
  },
  "nbformat": 4,
  "nbformat_minor": 5
}
