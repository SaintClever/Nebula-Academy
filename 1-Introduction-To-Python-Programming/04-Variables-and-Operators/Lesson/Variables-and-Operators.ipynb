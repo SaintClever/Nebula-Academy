{
 "cells": [
  {
   "attachments": {},
   "cell_type": "markdown",
   "metadata": {},
   "source": [
    "# Grasping Variables, Data Types, and Operators in Python\n",
    "\n",
    "- [Grasping Variables, Data Types, and Operators in Python](#grasping-variables-data-types-and-operators-in-python)\n",
    "  - [Decoding Variables](#decoding-variables)\n",
    "  - [Diving into Data Types](#diving-into-data-types)\n",
    "  - [Data Type Conversion: Casting](#data-type-conversion-casting)\n",
    "  - [Employing Variables and Arithmetic Operators](#employing-variables-and-arithmetic-operators)\n",
    "  - [Boolean and Comparison Operators](#boolean-and-comparison-operators)\n",
    "  - [Logical Operators](#logical-operators)\n",
    "\n",
    "\n",
    "## Decoding Variables\n",
    "\n",
    "In the world of Python programming, variables are akin to containers that harbor values. The moment we assign a value to a variable, it is brought into existence, eliminating the need for a formal initialization process. "
   ]
  },
  {
   "cell_type": "code",
   "execution_count": 16,
   "metadata": {},
   "outputs": [],
   "source": [
    "# Let's create a variable and assign it a string value\n",
    "salutation = \"Hi There!\""
   ]
  },
  {
   "attachments": {},
   "cell_type": "markdown",
   "metadata": {},
   "source": [
    "By using the print() function, we can display the value of a variable. "
   ]
  },
  {
   "cell_type": "code",
   "execution_count": 15,
   "metadata": {},
   "outputs": [
    {
     "name": "stdout",
     "output_type": "stream",
     "text": [
      "Hi There!\n"
     ]
    }
   ],
   "source": [
    "print(salutation)"
   ]
  },
  {
   "attachments": {},
   "cell_type": "markdown",
   "metadata": {
    "tags": [
     "Student Prompt"
    ]
   },
   "source": [
    "### Your Turn - Create a Variable\n",
    "\n",
    "*Instructions:*\n",
    "1. Create A variable named \"my_name\" and assign it a string containing your name\n",
    "2. Print the variable"
   ]
  },
  {
   "cell_type": "code",
   "execution_count": null,
   "metadata": {},
   "outputs": [],
   "source": [
    "# Add your solution below:\n"
   ]
  },
  {
   "cell_type": "code",
   "execution_count": null,
   "metadata": {
    "tags": [
     "solution"
    ]
   },
   "outputs": [
    {
     "name": "stdout",
     "output_type": "stream",
     "text": [
      "John Doe\n"
     ]
    }
   ],
   "source": [
    "# ⬇️ Instructor solution below ⬇️\n",
    "my_name = \"John Doe\"\n",
    "print(my_name)\n",
    "# ⬆️ Instructor solution above ⬆️"
   ]
  },
  {
   "attachments": {},
   "cell_type": "markdown",
   "metadata": {},
   "source": [
    "Python bestows upon these variables a dynamic nature, meaning they can be **reassigned** to any data type on the fly.\n",
    "\n",
    "> ***Note:*** \n",
    "You will see '\\n' used in print statments throughout this lesson. This is a special character that represents a new line. It is used to make the output more readable.\n",
    "\n",
    "You may also see two quotes on differ"
   ]
  },
  {
   "cell_type": "code",
   "execution_count": null,
   "metadata": {},
   "outputs": [
    {
     "name": "stdout",
     "output_type": "stream",
     "text": [
      "I'm Jane Doe\n",
      "33\n"
     ]
    }
   ],
   "source": [
    "salutation = \"I'm Jane Doe\"\n",
    "print(salutation)\n",
    "salutation = 33\n",
    "print(salutation)"
   ]
  },
  {
   "attachments": {},
   "cell_type": "markdown",
   "metadata": {},
   "source": [
    "Basic Data Types\n",
    "\n"
   ]
  },
  {
   "attachments": {},
   "cell_type": "markdown",
   "metadata": {},
   "source": [
    "## Mutability and Immutability\n",
    "\n",
    "Python offers a broad spectrum of built-in data types. These range from mutable types, such as lists that can be modified post-creation, to immutable types like tuples and strings, which are resistant to change once created.\n",
    "\n",
    "\n",
    " | Mutable Data Types | Immutable Data Types |\n",
    "| ---|--- |\n",
    " | List | Integer |\n",
    "| Dictionary | Float |\n",
    "| Set | Tuple |\n",
    "| User-Defined Classes | String |\n",
    "| - | Frozen Set |\n",
    "\n"
   ]
  },
  {
   "attachments": {},
   "cell_type": "markdown",
   "metadata": {},
   "source": [
    "Checkout the example below. Notice how the string, even when reassigned to exactly the same value, is treated as a new variable. We are able to observe this quality by using the `id()` function, which returns an identifier for an object based on its unique location in our computer's RAM."
   ]
  },
  {
   "cell_type": "code",
   "execution_count": 3,
   "metadata": {},
   "outputs": [
    {
     "name": "stdout",
     "output_type": "stream",
     "text": [
      "Memory ID for 'my_string':  4455561328\n",
      "This ID uniquely identifies the memory location where 'my_string' is stored.)\n",
      "\n",
      "Memory ID for 'my_string_copy':  4455561328  (This ID is the same as 'my_string', as 'my_string_copy' points to the same memory location.)\n",
      "\n",
      "4455560624\n"
     ]
    }
   ],
   "source": [
    "my_string = \"Hello World!\"\n",
    "\n",
    "print(\"Memory ID for 'my_string': \", id(my_string)) \n",
    "print(\"This ID uniquely identifies the memory location where 'my_string' is stored.)\\n\")\n",
    "\n",
    "# Assigning my_string to my_string_copy makes them point to the same piece of data,\n",
    "# therefore, they have the same memory ID.\n",
    "my_string_copy = my_string\n",
    "\n",
    "# Print the memory ID of my_string_copy.\n",
    "print(\"Memory ID for 'my_string_copy': \", id(my_string_copy), \n",
    "      \" (This ID is the same as 'my_string', as 'my_string_copy' points\"\n",
    "      \" to the same memory location.)\\n\")\n",
    "\n",
    "\n",
    "my_string = \"Hello World!\" # my_string is now pointing to a new unique identifier, or rather a new memory address containing the same value as the previous one. Therefore the id is different even though the value is the same.\n",
    "print(id(my_string)) # This id is different from the one above"
   ]
  },
  {
   "attachments": {},
   "cell_type": "markdown",
   "metadata": {},
   "source": [
    "Python has some built-in ways for us to discern type of a variable.\n",
    "Python The `type()` function can be utilized to discern the data type of a variable. As well you can use the __class__ attribute to get the type of an object. The __class__ attribute is a property of the object and is accessed by using the dot operator."
   ]
  },
  {
   "cell_type": "code",
   "execution_count": 5,
   "metadata": {
    "tags": []
   },
   "outputs": [
    {
     "name": "stdout",
     "output_type": "stream",
     "text": [
      "salutation =  Hello, Jane Doe!\n",
      "type(salutation): <class 'str'>\n",
      "salutation.__class__ : <class 'str'>\n",
      "salutation =  33\n",
      "type(salutation): <class 'int'>\n",
      "salutation.__class__ : <class 'int'>\n"
     ]
    }
   ],
   "source": [
    "# Assign a string to the variable\n",
    "salutation = \"Hello, Jane Doe!\"\n",
    "print('salutation = ', salutation)\n",
    "print('type(salutation):', type(salutation))\n",
    "print('salutation.__class__ :', salutation.__class__)"
   ]
  },
  {
   "cell_type": "code",
   "execution_count": null,
   "metadata": {},
   "outputs": [],
   "source": [
    "# Now assign an integer\n",
    "salutation = 33\n",
    "print('salutation = ', salutation)\n",
    "print('type(salutation):', type(salutation))\n",
    "print('salutation.__class__ :', salutation.__class__)"
   ]
  },
  {
   "attachments": {},
   "cell_type": "markdown",
   "metadata": {},
   "source": [
    "## Data Type Conversion: Casting\n",
    "\n",
    "Python offers the capability to convert between data types. This technique, known as casting, is a cornerstone of programming, as each data type comes equipped with distinct methods and properties that facilitate data manipulation."
   ]
  },
  {
   "cell_type": "code",
   "execution_count": 2,
   "metadata": {},
   "outputs": [
    {
     "name": "stdout",
     "output_type": "stream",
     "text": [
      "33.3\n",
      "<class 'float'>\n"
     ]
    }
   ],
   "source": [
    "num_str = \"33.3\"\n",
    "num_float = float(num_str)\n",
    "print(num_float)\n",
    "print(type(num_float))"
   ]
  },
  {
   "attachments": {},
   "cell_type": "markdown",
   "metadata": {},
   "source": [
    "## Employing Variables and Arithmetic Operators\n",
    "\n",
    "In Python, combining a number with a numeric data type culminates in arithmetic addition. However, appending a number to a string assimilates the number as a string. This distinctive behavior is paramount to remember, especially when processing user input."
   ]
  },
  {
   "cell_type": "code",
   "execution_count": 1,
   "metadata": {},
   "outputs": [],
   "source": [
    "# User's existing bank balance\n",
    "bank_balance = 142.50\n",
    "\n",
    "\n",
    "# # Uncomment the block of code below\n",
    "# # User's deposit amount, represented as a string\n",
    "# deposit_amount = input('How much do you desire to deposit?\\n')\n",
    "\n",
    "# # Convert deposit_amount to float and add it to bank_balance\n",
    "# bank_balance = float(deposit_amount) + bank_balance\n",
    "# print(bank_balance)"
   ]
  },
  {
   "attachments": {},
   "cell_type": "markdown",
   "metadata": {},
   "source": [
    "## Boolean and Comparison Operators\n",
    "\n",
    "Python embraces Boolean values (True and False) alongside a plethora of comparison operators. These are frequently brought into play when crafting conditional statements or formulating Boolean expressions.\n"
   ]
  },
  {
   "cell_type": "code",
   "execution_count": null,
   "metadata": {},
   "outputs": [
    {
     "name": "stdout",
     "output_type": "stream",
     "text": [
      "True\n"
     ]
    }
   ],
   "source": [
    "# An illustration of using comparison operators\n",
    "age = 21\n",
    "eligibility_to_vote = age >= 18\n",
    "print(eligibility_to_vote)  # This will print True"
   ]
  },
  {
   "attachments": {},
   "cell_type": "markdown",
   "metadata": {},
   "source": [
    "## Logical Operators\n",
    "\n",
    "Python also equips us with logical operators (`and`, `or`, `not`) that can be harnessed to create more intricate logical expressions."
   ]
  },
  {
   "cell_type": "code",
   "execution_count": null,
   "metadata": {},
   "outputs": [
    {
     "name": "stdout",
     "output_type": "stream",
     "text": [
      "True\n"
     ]
    }
   ],
   "source": [
    "age = 21\n",
    "owns_id = True\n",
    "eligibility_to_vote = age >= 18 and owns_id\n",
    "print(eligibility_to_vote)  # This will print True"
   ]
  },
  {
   "attachments": {},
   "cell_type": "markdown",
   "metadata": {},
   "source": [
    "This lesson serves as a stepping stone into the world of Python, revolving around variables, types, and operators. As you delve deeper into Python, you'll encounter these topics in further depth and complexity. Happy Pythoning!"
   ]
  }
 ],
 "metadata": {
  "kernelspec": {
   "display_name": "Python 3",
   "language": "python",
   "name": "python3"
  },
  "language_info": {
   "codemirror_mode": {
    "name": "ipython",
    "version": 3
   },
   "file_extension": ".py",
   "mimetype": "text/x-python",
   "name": "python",
   "nbconvert_exporter": "python",
   "pygments_lexer": "ipython3",
   "version": "3.11.3"
  },
  "orig_nbformat": 4
 },
 "nbformat": 4,
 "nbformat_minor": 2
}
