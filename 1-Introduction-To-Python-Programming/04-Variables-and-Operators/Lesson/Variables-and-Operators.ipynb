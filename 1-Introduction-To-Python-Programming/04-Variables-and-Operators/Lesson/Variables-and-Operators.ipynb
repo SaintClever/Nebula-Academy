{
 "cells": [
  {
   "attachments": {},
   "cell_type": "markdown",
   "metadata": {},
   "source": [
    "# Grasping Variables, Data Types, and Operators in Python\n",
    "\n",
    "- [Grasping Variables, Data Types, and Operators in Python](#grasping-variables-data-types-and-operators-in-python)\n",
    "  - [Decoding Variables](#decoding-variables)\n",
    "  - [Diving into Data Types](#diving-into-data-types)\n",
    "  - [Data Type Conversion: Casting](#data-type-conversion-casting)\n",
    "  - [Employing Variables and Arithmetic Operators](#employing-variables-and-arithmetic-operators)\n",
    "  - [Boolean and Comparison Operators](#boolean-and-comparison-operators)\n",
    "  - [Logical Operators](#logical-operators)\n",
    "\n",
    "\n",
    "## Decoding Variables\n",
    "\n",
    "In the world of Python programming, variables are akin to containers that harbor values. The moment we assign a value to a variable, it is brought into existence, eliminating the need for a formal initialization process. "
   ]
  },
  {
   "cell_type": "code",
   "execution_count": null,
   "metadata": {},
   "outputs": [],
   "source": [
    "# Let's create a variable and assign it a string value\n",
    "salutation = \"Hi There!\""
   ]
  },
  {
   "cell_type": "markdown",
   "metadata": {},
   "source": [
    "By using the print() function, we can display the value of a variable. "
   ]
  },
  {
   "cell_type": "code",
   "execution_count": null,
   "metadata": {},
   "outputs": [],
   "source": [
    "print(salutation)"
   ]
  },
  {
   "cell_type": "markdown",
   "metadata": {},
   "source": [
    "> ***Note:*** \n",
    "You will see '\\n' used in print statments throughout this lesson. Like this:\n",
    "> ```python\n",
    "> print(\"Hello World!\\n\")\n",
    "> ```\n",
    "> This is a special character that represents a new line. It is used to make the output more readable."
   ]
  },
  {
   "attachments": {},
   "cell_type": "markdown",
   "metadata": {},
   "source": [
    "#### 🧑🏽‍💻 You do\n",
    "**Create a Variable**\n",
    "\n",
    "1. Create A variable named \"my_name\" and assign it a string containing your name\n",
    "2. Print the variable"
   ]
  },
  {
   "cell_type": "code",
   "execution_count": null,
   "metadata": {},
   "outputs": [],
   "source": [
    "# Add your solution below:\n"
   ]
  },
  {
   "cell_type": "markdown",
   "metadata": {},
   "source": [
    "Python bestows upon these variables a dynamic nature, meaning they can be **reassigned** to any data type on the fly."
   ]
  },
  {
   "cell_type": "code",
   "execution_count": 3,
   "metadata": {},
   "outputs": [
    {
     "name": "stdout",
     "output_type": "stream",
     "text": [
      "salutation: I'm Jane Doe\n",
      "salutation: 33\n"
     ]
    }
   ],
   "source": [
    "salutation = \"I'm Jane Doe\"\n",
    "print('salutation:', salutation)\n",
    "salutation = 33\n",
    "print('salutation:', salutation)"
   ]
  },
  {
   "attachments": {},
   "cell_type": "markdown",
   "metadata": {},
   "source": [
    "## Basic Data Types\n",
    "\n",
    "| Data Types | Description | Example |\n",
    "| --- | --- | --- |\n",
    "| **int** | An integer is a whole number (positive, negative, or zero) | `x = 1` |\n",
    "| **float** | A Float is a number with a decimal point or a number in exponential form | `x = 1.0` |\n",
    "| **str** | A string is a sequence of characters enclosed in single or double quotes | `x = 'Hello World'` |\n",
    "| **bool** | A Boolean value is either `True` or `False` | `x = True` |\n",
    "| **list** | A list is a mutable ordered sequence of items | `x = [1, 2, 3]` |\n",
    "| **tuple** | A tuple is an immutable ordered sequence of items | `x = (1, 2, 3)` |\n",
    "| **dict** | A dictionary is a key-value pair data structure | `x = {'a':1, 'b':2, 'c':3}` |"
   ]
  },
  {
   "cell_type": "markdown",
   "metadata": {},
   "source": [
    "**`type()`** and **`__class__`**\n",
    "\n",
    "Python has some built-in ways for us to discern type of a variable.\n",
    "Python The `type()` function can be utilized to discern the data type of a variable. As well you can use the __class__ attribute to get the type of an object. The __class__ attribute is a property of the object and is accessed by using the dot operator."
   ]
  },
  {
   "cell_type": "code",
   "execution_count": null,
   "metadata": {},
   "outputs": [],
   "source": [
    "# Assign a string to the variable\n",
    "salutation = \"Hello, Jane Doe!\"\n",
    "print('salutation = ', salutation)\n",
    "print('type(salutation):', type(salutation))\n",
    "print('salutation.__class__ :', salutation.__class__)"
   ]
  },
  {
   "cell_type": "code",
   "execution_count": null,
   "metadata": {},
   "outputs": [],
   "source": [
    "# Now assign an integer\n",
    "salutation = 33\n",
    "print('salutation = ', salutation)\n",
    "print('type(salutation):', type(salutation))\n",
    "print('salutation.__class__ :', salutation.__class__)"
   ]
  },
  {
   "attachments": {},
   "cell_type": "markdown",
   "metadata": {},
   "source": [
    "#### Integers and Floats\n",
    "\n",
    "Integers and Floats allow us to represent all sort of different numbers. Integers are whole numbers. Floats are any number with a decimal point or a number in exponential form. Both integers and floats can be positive or negative.\n",
    "\n",
    "Let's create some together:"
   ]
  },
  {
   "cell_type": "code",
   "execution_count": null,
   "metadata": {},
   "outputs": [],
   "source": []
  },
  {
   "attachments": {},
   "cell_type": "markdown",
   "metadata": {},
   "source": [
    "#### 🧑🏽‍💻 You do\n",
    "**Create an Integer variable.** &nbsp; Log it as well as its type."
   ]
  },
  {
   "cell_type": "code",
   "execution_count": null,
   "metadata": {},
   "outputs": [],
   "source": [
    "# Your Code Here 🤖\n",
    "\n"
   ]
  },
  {
   "attachments": {},
   "cell_type": "markdown",
   "metadata": {},
   "source": [
    "**Create a Float variable.** &nbsp; Log it as well as its type."
   ]
  },
  {
   "cell_type": "code",
   "execution_count": null,
   "metadata": {},
   "outputs": [],
   "source": [
    "# Your Code Here 🤖\n",
    "\n"
   ]
  },
  {
   "attachments": {},
   "cell_type": "markdown",
   "metadata": {},
   "source": [
    "#### Lists\n",
    "\n",
    "Lists are used to store multiple items in a single variable. Lists are created using square brackets. Lists are mutable, meaning they can be changed. The type of the items in the list can be different. Here are some examples of lists:\n",
    "\n",
    "Let's create one together:"
   ]
  },
  {
   "cell_type": "code",
   "execution_count": null,
   "metadata": {},
   "outputs": [],
   "source": []
  },
  {
   "attachments": {},
   "cell_type": "markdown",
   "metadata": {},
   "source": [
    "#### 🧑🏽‍💻 You do\n",
    "**Create a List variable.** &nbsp; Log it as well as its type."
   ]
  },
  {
   "cell_type": "code",
   "execution_count": null,
   "metadata": {},
   "outputs": [],
   "source": [
    "# Your Code Here 🤖\n",
    "\n"
   ]
  },
  {
   "attachments": {},
   "cell_type": "markdown",
   "metadata": {},
   "source": [
    "#### Tuples\n",
    "\n",
    "Tuples are used to store multiple items in a single variable. Tuples are created using parentheses. Tuples are immutable, meaning they cannot be changed.\n",
    "\n",
    "Let's create one together:"
   ]
  },
  {
   "attachments": {},
   "cell_type": "markdown",
   "metadata": {},
   "source": [
    "#### 🧑🏽‍💻 You do\n",
    "**Create a Tuple Variable** &nbsp; Log it as well as its type."
   ]
  },
  {
   "cell_type": "code",
   "execution_count": null,
   "metadata": {},
   "outputs": [],
   "source": [
    "# Your Code Here 🤖\n",
    "\n"
   ]
  },
  {
   "attachments": {},
   "cell_type": "markdown",
   "metadata": {},
   "source": [
    "#### Booleans\n",
    "\n",
    "Booleans are used to describe something with two possible values: `True` or `False`. Booleans are created using the keywords `True` or `False`. Booleans are useful for comparisons as well as toggles. \n",
    "\n",
    "As an example, perhaps you created a variable called `is_logged_in` and set it to `True` when a user logs in and `False` when they log out.\n",
    "\n",
    "```python\n",
    "# Our user is logged in\n",
    "is_logged_in = True\n",
    "\n",
    "# Our user logs out\n",
    "is_logged_in = False\n",
    "```\n",
    "\n",
    "Let's create one together:"
   ]
  },
  {
   "cell_type": "code",
   "execution_count": null,
   "metadata": {},
   "outputs": [],
   "source": [
    "# Toggle\n",
    "\n",
    "# Comparisons\n"
   ]
  },
  {
   "attachments": {},
   "cell_type": "markdown",
   "metadata": {},
   "source": [
    "#### 🧑🏽‍💻 You do\n",
    "**Create a Boolean Variable** &nbsp; *Log it as well as its type.*"
   ]
  },
  {
   "cell_type": "code",
   "execution_count": null,
   "metadata": {},
   "outputs": [],
   "source": [
    "# Your Code Here 🤖\n",
    "\n"
   ]
  },
  {
   "attachments": {},
   "cell_type": "markdown",
   "metadata": {},
   "source": [
    "#### Dictionaries\n",
    "\n",
    "Dictionaries are used to store data values in a format we will refer to as key:value pairs. A dictionary is a container for storing data values, and unlike other data types that hold only one value as an element, a dictionary holds as many key:value pairs as we desire.\n",
    "\n",
    "If you think about these like dictionary words and definitions, the key is the word and the value is the definition. Dictionaries are created using curly brackets. Dictionaries are mutable, meaning they can be changed.\n",
    "\n",
    "Let's create one together:"
   ]
  },
  {
   "cell_type": "code",
   "execution_count": null,
   "metadata": {},
   "outputs": [],
   "source": []
  },
  {
   "attachments": {},
   "cell_type": "markdown",
   "metadata": {},
   "source": [
    "#### 🧑🏽‍💻 You do\n",
    "**Create a Dictionary Variable** &nbsp; *Log it as well as its type.*"
   ]
  },
  {
   "cell_type": "code",
   "execution_count": null,
   "metadata": {},
   "outputs": [],
   "source": [
    "# Your Code Here 🤖\n",
    "\n"
   ]
  },
  {
   "attachments": {},
   "cell_type": "markdown",
   "metadata": {},
   "source": [
    "## Mutability and Immutability\n",
    "\n",
    "In Python, mutability describes whether or not we can change our data after it has been created.\n",
    "\n",
    "This can be confusing to wrap your head, but we have to think of the variable and the data as two separate things. The variable is a container that holds the data. The data is the actual value that we are storing. When we refer to mutability, we are referring to the data, not the variable. \n",
    "\n",
    "Why is that distinction important?\n",
    "\n",
    "While we can <u>always</u> reassign a variable to a new value, we cannot always change the data itself.\n",
    "\n",
    " | Immutable Data Types | Mutable Data Types |\n",
    "| ---|--- |\n",
    " | Integer | List |\n",
    "| Float | Dictionary |\n",
    "| Tuple | - |\n",
    "| String | - |\n",
    "| Boolean | - |\n",
    "\n",
    "For our immutable data types, we cannot change the data itself. In the following example:\n",
    "\n",
    "```python\n",
    "int_var = 1\n",
    "int_var = 2\n",
    "```\n",
    "\n",
    "The value of `int_var` is changing, but the data itself is not. The data is still an integer.\n",
    "\n",
    "For our mutable data types, like lists, we can change the data itself. Lists specifically have a lot of methods that allow us to change the data.\n",
    "\n",
    "```python\n",
    "list_var = [1, 2, 3]\n",
    "list_var.append(4)\n",
    "print(list_var) # [1, 2, 3, 4]\n",
    "```\n",
    "\n",
    "In this example, we are changing the data itself. We are adding a new item to the list.\n"
   ]
  },
  {
   "attachments": {},
   "cell_type": "markdown",
   "metadata": {},
   "source": [
    "**`id()`**\n",
    "\n",
    "Checkout the example below. Notice how the string, even when reassigned to exactly the same value, is treated as a new variable. We are able to observe this quality by using the `id()` function, which returns an identifier for an object based on its unique location in our computer's RAM."
   ]
  },
  {
   "cell_type": "code",
   "execution_count": 2,
   "metadata": {},
   "outputs": [
    {
     "name": "stdout",
     "output_type": "stream",
     "text": [
      "Memory ID for 'my_string':  4479159536\n",
      "This ID uniquely identifies the memory location where 'my_string' is stored.\n",
      "\n",
      "\n",
      "Memory ID for 'my_string_copy':  4479159536\n",
      "This ID is the same as 'my_string', as 'my_string_copy' points to the same memory location.\n",
      "\n",
      "\n",
      "4479161328\n",
      "Notice this id is different from the one above\n"
     ]
    }
   ],
   "source": [
    "my_string = \"Hello World!\"\n",
    "\n",
    "print(\"Memory ID for 'my_string': \", id(my_string)) \n",
    "print(\"This ID uniquely identifies the memory location where 'my_string' is stored.\")\n",
    "print(\"\\n\")\n",
    "\n",
    "# Assigning my_string to my_string_copy makes them point to the same piece of data,\n",
    "# therefore, they have the same memory ID. This is called a reference.\n",
    "my_string_copy = my_string\n",
    "\n",
    "# Print the memory ID of my_string_copy.\n",
    "print(\"Memory ID for 'my_string_copy': \", id(my_string_copy))\n",
    "print(\"This ID is the same as 'my_string', as 'my_string_copy' points to the same memory location.\")\n",
    "print(\"\\n\")\n",
    "\n",
    "\n",
    "my_string = \"Hello World!\" # my_string is now pointing to a new unique identifier, or rather a new memory address containing the same value as the previous one. Therefore the id is different even though the value is the same.\n",
    "print(id(my_string)) \n",
    "print(\"Notice this id is different from the one above\")"
   ]
  },
  {
   "attachments": {},
   "cell_type": "markdown",
   "metadata": {},
   "source": [
    "Try using the `id()` function on the variables below to see how the id changes when the variable is reassigned."
   ]
  },
  {
   "cell_type": "code",
   "execution_count": null,
   "metadata": {},
   "outputs": [],
   "source": []
  },
  {
   "attachments": {},
   "cell_type": "markdown",
   "metadata": {},
   "source": [
    "## Data Type Conversion: Casting\n",
    "\n",
    "Python offers the capability to convert between data types. This technique, known as casting, is a cornerstone of programming, as each data type comes equipped with distinct methods and properties that facilitate data manipulation. One particular example, in many cases we will use the a built-in function named after the data type to convert to that data type. For example, we can convert a string to an integer by using the `int()` function. We can do the same for numbers using either the `float()` or `int()`  functions depending on the desired result.\n",
    "\n",
    "Checkout the example below. \n",
    "\n",
    "\n",
    "\n",
    "Notice we gave int() a string with a decimal point and it didn't throw an error. It just truncated the decimal point and everything after it. This means you won't run into errors if you attempt to use this get a whole number from a string that has a decimal point in it. "
   ]
  },
  {
   "cell_type": "code",
   "execution_count": 3,
   "metadata": {},
   "outputs": [
    {
     "name": "stdout",
     "output_type": "stream",
     "text": [
      "33.3\n",
      "33\n",
      "Type of '33.3':  <class 'str'> \n",
      "\n",
      "Type of '33.3' after converting it to a float:  <class 'float'> \n",
      "\n",
      "4\n"
     ]
    }
   ],
   "source": [
    "# We start with a string. \n",
    "num_str = \"33.3\"\n",
    "\n",
    "# We then convert it to a float.\n",
    "num_float = float(num_str)\n",
    "print(num_float) # This will print 33.3\n",
    "\n",
    "# Finally, we convert it to an integer.\n",
    "num_int = int(num_float)\n",
    "print(num_int) # This will print 33 (note that the decimal part is truncated)\n",
    "\n",
    "# Let's try checking the type of a variable after we convert it.\n",
    "# Here we start with a string. \n",
    "print(\"Type of '33.3': \", type('33.3'), '\\n')\n",
    "# Now let's check the type after we've converted it to a float.\n",
    "print(\"Type of '33.3' after converting it to a float: \", type(float('33.3')), '\\n')\n",
    "\n",
    "\n",
    "print(2 + int(\"2\"))"
   ]
  },
  {
   "attachments": {},
   "cell_type": "markdown",
   "metadata": {},
   "source": [
    "## Operators ➖ ➕ ➗ ✖️\n",
    "\n",
    "In Python, operators are a collection of symbols and keywords that are used to perform operations on variables and values. The most basic of such you've already been using! The `=` sign is an operator that assigns a value to a variable. \n",
    "\n",
    "But wait there's more!\n",
    "\n",
    "![but wait there's more](https://media1.giphy.com/media/9V1F9o1pBjsxFzHzBr/giphy.gif?cid=ecf05e47a3iwa0o6dkjextx1jp9r21krkavdnhh1vd0uj40d&ep=v1_gifs_search&rid=giphy.gif&ct=g)\n",
    "\n",
    "**Basic Operators**\n",
    "\n",
    "| Operator | Description |\n",
    "| -------- | ----------- |\n",
    "| `+`      | This operator adds two values together. |\n",
    "| `-`      | This operator subtracts one value from another. |\n",
    "| `*`      | This operator multiplies two values together. |\n",
    "| `/`      | This operator divides one value by another. |\n",
    "\n",
    "**Advanced Operators**\n",
    "\n",
    "| Operator | Description |\n",
    "| -------- | ----------- |\n",
    "| `**`     | This operator raises a number to the power of another number. |\n",
    "| `//`     | This operator divides one value by another and rounds down to the nearest integer (floor division). |\n",
    "| `%`      | This operator returns the remainder of a division operation (modulo operation). |\n",
    "| `!`      | This isn't a valid operator in Python, but in many programming languages it denotes logical NOT operation. |\n",
    "| `&`      | This operator performs a bitwise AND operation. |\n",
    "| `|`      | This operator performs a bitwise OR operation. |\n",
    "| `^`      | This operator performs a bitwise XOR operation. |\n",
    "| `~`      | This operator performs a bitwise NOT operation. |\n",
    "\n",
    "Let's try some out together:"
   ]
  },
  {
   "cell_type": "code",
   "execution_count": null,
   "metadata": {},
   "outputs": [],
   "source": []
  },
  {
   "attachments": {},
   "cell_type": "markdown",
   "metadata": {},
   "source": [
    "## Logical Operators\n",
    "\n",
    "In addition to those symbols we just introduced you to, you can also use some plain english words to perform some logic reasoning. These are called logical operators.\n",
    "\n",
    "| Operator | Description |\n",
    "| -------- | ----------- |\n",
    "| `and`    | This operator returns `True` if both statements are true. |\n",
    "| `or`     | This operator returns `True` if one of the statements is true. |\n",
    "| `not`    | This operator reverses the result, returns `False` if the result is true. |\n",
    "\n",
    "\n",
    "**For the `and` operator** imagine you're about to skydive for the first time. Before you jump your tandem instructor is going to verify y'all have a parachute <u>**and**</u> reserve parachute. Personally I would want to make sure both of those things are true before I jump out of a plane.\n",
    "\n",
    "**For the `or` operator** imagine you've jumped, we get done with the free fall and your instructor pulls the cord. The parachute doesn't open. Luckily you have a reserve parachute. You pull the cord and it opens. You're safe! In this case, you would have survived if either the first parachute opened <u>**or**</u> the reserve parachute opened.\n",
    "\n",
    "**For the `not` operator** the instructor is picking somewhere to land. They'll land wherever as long as it's not water. In this case, the instructor is going to land wherever is <u>**not**</u> water.\n",
    "\n",
    "Let's code that together:"
   ]
  },
  {
   "cell_type": "code",
   "execution_count": null,
   "metadata": {},
   "outputs": [],
   "source": []
  },
  {
   "attachments": {},
   "cell_type": "markdown",
   "metadata": {},
   "source": [
    "## Comparison Operators\n",
    "\n",
    "Comparison operators are used to compare two values. The result of a comparison is a boolean value, either `True` or `False`. We'll learn how to use these operators to make decisions in our code soon, but for now let's just learn what they are and how to use them.\n",
    "\n",
    "| Operator | Description |\n",
    "| -------- | ----------- |\n",
    "| `==`     | This operator returns `True` if both values are equal. |\n",
    "| `!=`     | This operator returns `True` if both values are not equal. |\n",
    "| `>`      | This operator returns `True` if the value on the left is greater than the value on the right. |\n",
    "| `<`      | This operator returns `True` if the value on the left is less than the value on the right. |\n",
    "| `>=`     | This operator returns `True` if the value on the left is greater than or equal to the value on the right. |\n",
    "| `<=`     | This operator returns `True` if the value on the left is less than or equal to the value on the right. |\n",
    "\n",
    "Let's create some conditional's together:\n"
   ]
  },
  {
   "cell_type": "code",
   "execution_count": null,
   "metadata": {},
   "outputs": [],
   "source": [
    "# User's existing bank balance\n",
    "bank_balance = 142.50\n",
    "\n",
    "\n",
    "# # Uncomment the block of code below\n",
    "# # User's deposit amount, represented as a string\n",
    "# deposit_amount = input('How much do you desire to deposit?\\n')\n",
    "\n",
    "# # Convert deposit_amount to float and add it to bank_balance\n",
    "# bank_balance = float(deposit_amount) + bank_balance\n",
    "# print(bank_balance)"
   ]
  },
  {
   "attachments": {},
   "cell_type": "markdown",
   "metadata": {},
   "source": [
    "This lesson serves as a stepping stone into the world of Python, revolving around variables, types, and operators. As you delve deeper into Python, you'll encounter these topics in further depth and complexity. Happy Pythoning!"
   ]
  }
 ],
 "metadata": {
  "kernelspec": {
   "display_name": "Python 3",
   "language": "python",
   "name": "python3"
  },
  "language_info": {
   "codemirror_mode": {
    "name": "ipython",
    "version": 3
   },
   "file_extension": ".py",
   "mimetype": "text/x-python",
   "name": "python",
   "nbconvert_exporter": "python",
   "pygments_lexer": "ipython3",
   "version": "3.11.3"
  },
  "orig_nbformat": 4
 },
 "nbformat": 4,
 "nbformat_minor": 2
}
