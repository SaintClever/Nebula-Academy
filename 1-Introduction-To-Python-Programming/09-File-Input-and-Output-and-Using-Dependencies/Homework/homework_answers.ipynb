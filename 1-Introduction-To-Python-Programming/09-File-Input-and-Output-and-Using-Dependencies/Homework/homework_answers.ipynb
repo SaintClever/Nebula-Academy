{
 "cells": [
  {
   "attachments": {},
   "cell_type": "markdown",
   "metadata": {},
   "source": [
    "## Assignment 1: Working with the `os` Module\n",
    "\n",
    "1. Use the `os` module to get the current working directory and print it.\n",
    "2. Create a new directory called 'files' within the current working directory.\n",
    "3. Use the `os` module to check if a file named 'data.txt' exists in the 'files' directory.\n",
    "   If it does not exist, create the file and write the sentence 'Hello, world!' to it."
   ]
  },
  {
   "cell_type": "code",
   "execution_count": 1,
   "metadata": {},
   "outputs": [
    {
     "name": "stdout",
     "output_type": "stream",
     "text": [
      "Current Directory: c:\\Users\\noclipping\\Desktop\\nebulaStuff\\python-curriculum\\1-Introduction-To-Python-Programming\\09-File-Input-and-Output-and-Using-Dependencies\\Homework\n"
     ]
    }
   ],
   "source": [
    "# Assignment 3: Working with the `os` Module\n",
    "\n",
    "import os\n",
    "\n",
    "# 1. Use the `os` module to get the current working directory and print it.\n",
    "current_directory = os.getcwd()\n",
    "print('Current Directory:', current_directory)\n",
    "\n",
    "# 2. Create a new directory called 'files' within the current working directory.\n",
    "directory = 'files'\n",
    "if not os.path.exists(directory):\n",
    "    os.mkdir(directory)\n",
    "\n",
    "# 3. Use the `os` module to check if a file named 'data.txt' exists in the 'files' directory.\n",
    "#    If it does not exist, create the file and write the sentence 'Hello, world!' to it.\n",
    "file_path = os.path.join(directory, 'data.txt')\n",
    "if not os.path.isfile(file_path):\n",
    "    with open(file_path, 'w') as file:\n",
    "        file.write('Hello, world!')\n"
   ]
  },
  {
   "attachments": {},
   "cell_type": "markdown",
   "metadata": {},
   "source": [
    "## Assignment 2: Reading and Writing JSON Files\n",
    "\n",
    "1. Create a dictionary called 'person' with the keys 'name', 'age', and 'city'. Set the values to your own information.\n",
    "2. Use the `json` module to write the 'person' dictionary to a file named 'person.json'.\n",
    "3. Open the 'person.json' file and use the `json` module to load its contents into a new dictionary called 'loaded_person'.\n",
    "   Print the 'loaded_person' dictionary."
   ]
  },
  {
   "cell_type": "code",
   "execution_count": 2,
   "metadata": {},
   "outputs": [
    {
     "name": "stdout",
     "output_type": "stream",
     "text": [
      "Loaded Person: {'name': 'John Doe', 'age': 25, 'city': 'New York'}\n"
     ]
    }
   ],
   "source": [
    "# Assignment 4: Reading and Writing JSON Files\n",
    "\n",
    "import json\n",
    "\n",
    "# 1. Create a dictionary called 'person' with the keys 'name', 'age', and 'city'. Set the values to your own information.\n",
    "person = {\n",
    "    'name': 'John Doe',\n",
    "    'age': 25,\n",
    "    'city': 'New York'\n",
    "}\n",
    "\n",
    "# 2. Use the `json` module to write the 'person' dictionary to a file named 'person.json'.\n",
    "with open('person.json', 'w') as file:\n",
    "    json.dump(person, file)\n",
    "\n",
    "# 3. Open the 'person.json' file and use the `json` module to load its contents into a new dictionary called 'loaded_person'.\n",
    "#    Print the 'loaded_person' dictionary.\n",
    "with open('person.json', 'r') as file:\n",
    "    loaded_person = json.load(file)\n",
    "print('Loaded Person:', loaded_person)"
   ]
  },
  {
   "attachments": {},
   "cell_type": "markdown",
   "metadata": {},
   "source": [
    "## Assignment 3: Reading and Writing CSV Files\n",
    "\n",
    "1. Create a CSV file named 'students.csv' with the following data:\n",
    "   - Name, Age, Grade\n",
    "   - John, 15, 9\n",
    "   - Emily, 16, 10\n",
    "   - Michael, 14, 8\n",
    "   - Sophia, 15, 9\n",
    "2. Use the `csv` module to open and read the 'students.csv' file. Print each row of data."
   ]
  },
  {
   "cell_type": "code",
   "execution_count": 3,
   "metadata": {},
   "outputs": [
    {
     "name": "stdout",
     "output_type": "stream",
     "text": [
      "['Name', 'Age', 'Grade']\n",
      "['John', '15', '9']\n",
      "['Emily', '16', '10']\n",
      "['Michael', '14', '8']\n",
      "['Sophia', '15', '9']\n"
     ]
    }
   ],
   "source": [
    "# Assignment 5: Reading and Writing CSV Files\n",
    "\n",
    "import csv\n",
    "\n",
    "# 1. Create a CSV file named 'students.csv' with the provided data.\n",
    "data = [\n",
    "    ['Name', 'Age', 'Grade'],\n",
    "    ['John', 15, 9],\n",
    "    ['Emily', 16, 10],\n",
    "    ['Michael', 14, 8],\n",
    "    ['Sophia', 15, 9]\n",
    "]\n",
    "with open('students.csv', 'w', newline='') as file:\n",
    "    writer = csv.writer(file)\n",
    "    writer.writerows(data)\n",
    "\n",
    "# 2. Use the `csv` module to open and read the 'students.csv' file. Print each row of data.\n",
    "with open('students.csv', 'r') as file:\n",
    "    reader = csv.reader(file)\n",
    "    for row in reader:\n",
    "        print(row)"
   ]
  }
 ],
 "metadata": {
  "kernelspec": {
   "display_name": "Python 3",
   "language": "python",
   "name": "python3"
  },
  "language_info": {
   "codemirror_mode": {
    "name": "ipython",
    "version": 3
   },
   "file_extension": ".py",
   "mimetype": "text/x-python",
   "name": "python",
   "nbconvert_exporter": "python",
   "pygments_lexer": "ipython3",
   "version": "3.11.0"
  },
  "orig_nbformat": 4
 },
 "nbformat": 4,
 "nbformat_minor": 2
}
