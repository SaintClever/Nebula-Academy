{
  "cells": [
    {
      "attachments": {},
      "cell_type": "markdown",
      "metadata": {},
      "source": [
        "# Table of Contents\n",
        "1. [Unleashing the Power of Lists](#1.-Unleashing-the-Power-of-Lists)\n",
        "    1. [Crafting a List and Grasping its Versatility](#1.1-Crafting-a-List-and-Grasping-its-Versatility)\n",
        "    2. [Harnessing Python's In-Built List Methods](#1.2-Harnessing-Python's-In-Built-List-Methods)\n",
        "    3. [Indexing - The Key to Accessing List Elements](#1.3-Indexing---The-Key-to-Accessing-List-Elements)\n",
        "    4. [Molding Lists to Your Will: Indexing and Slicing](#1.4-Molding-Lists-to-Your-Will:-Indexing-and-Slicing)\n",
        "    5. [Employing 'in' and 'not in' Operators to Scout for List Items](#1.5-Employing-'in'-and-'not-in'-Operators-to-Scout-for-List-Items)\n",
        "2. [Tuples](#2.-Tuples)\n",
        "    1. [Understand What a Tuple Is, How to Create One, and How It Differs From a List](#2.1-Understand-What-a-Tuple-Is,-How-to-Create-One,-and-How-It-Differs-From-a-List)\n",
        "    2. [Know the Use Cases for Tuples and How They Compare to Lists in Terms of Mutability](#2.2-Know-the-Use-Cases-for-Tuples-and-How-They-Compare-to-Lists-in-Terms-of-Mutability)\n",
        "    3. [Learn to Create, Access, and Manipulate Elements in a Tuple](#2.3-Learn-to-Create,-Access,-and-Manipulate-Elements-in-a-Tuple)\n",
        "    4. [Understand Tuple Methods and When to Use Them](#2.4-Understand-Tuple-Methods-and-When-to-Use-Them)\n",
        "3. [Dictionaries](#3.-Dictionaries)\n",
        "    1. [Create a Dictionary and Understand Its Utility](#3.1-Create-a-Dictionary-and-Understand-Its-Utility)\n",
        "    2. [Manage Key-Value Pairs in a Dictionary - Access, Add, Remove, and Modify](#3.2-Manage-Key-Value-Pairs-in-a-Dictionary---Access,-Add,-Remove,-and-Modify)\n",
        "    3. [Check for the Presence of a Key in a Dictionary Using 'in' and 'not in' Operators](#3.3-Check-for-the-Presence-of-a-Key-in-a-Dictionary-Using-'in'-and-'not-in'-Operators)\n",
        "    4. [Access the Keys, Values, and Key-Value Pairs in a Dictionary Using keys(), values(), and items() Methods](#3.4-Access-the-Keys,-Values,-and-Key-Value-Pairs-in-a-Dictionary-Using-keys(),-values(),-and-items()-Methods)\n"
      ]
    },
    {
      "attachments": {},
      "cell_type": "markdown",
      "metadata": {},
      "source": [
        "# Part 1: Unleashing the Power of Lists\n",
        "## 1.1 Crafting a List and Grasping its Versatility\n",
        "In the Python cosmos, lists are truly potent. They are an efficient means of managing numerous elements. The construction of a list is a breeze - simply gather a collection of items within square brackets, separated by commas. Let's see an example.\n"
      ]
    },
    {
      "cell_type": "code",
      "execution_count": null,
      "metadata": {},
      "outputs": [],
      "source": [
        "fruits = [\"apple\", \"banana\", \"cherry\"]\n",
        "fruits"
      ]
    },
    {
      "attachments": {},
      "cell_type": "markdown",
      "metadata": {},
      "source": [
        "#### 🧑🏽‍💻 You do\n",
        "**Create a List**\n",
        "\n",
        "1. Create a list named \"my_fruits\" and assign it three different types of fruits\n",
        "2. Print the list"
      ]
    },
    {
      "cell_type": "code",
      "execution_count": null,
      "metadata": {},
      "outputs": [],
      "source": [
        "# Add your solution below:\n"
      ]
    },
    {
      "attachments": {},
      "cell_type": "markdown",
      "metadata": {},
      "source": [
        "## 1.2 Harnessing Python's In-Built List Methods\n",
        "If you aim to append an element to the end of your list, the `append()` method is your trusted ally."
      ]
    },
    {
      "cell_type": "code",
      "execution_count": null,
      "metadata": {},
      "outputs": [],
      "source": [
        "fruits.append(\"orange\")\n",
        "fruits"
      ]
    },
    {
      "attachments": {},
      "cell_type": "markdown",
      "metadata": {},
      "source": [
        "#### 🧑🏽‍💻 You do\n",
        "**Append to a List**\n",
        "\n",
        "1. Append a new fruit to the \"my_fruits\" list\n",
        "2. Print the list"
      ]
    },
    {
      "cell_type": "code",
      "execution_count": null,
      "metadata": {},
      "outputs": [],
      "source": [
        "# Add your solution below:\n"
      ]
    },
    {
      "attachments": {},
      "cell_type": "markdown",
      "metadata": {},
      "source": [
        "## 1.3 Indexing - The Key to Accessing List Elements\n",
        "Lists, thanks to their organized sequence of elements, simplify the process of identifying elements. Python's indexing system allows for easy access to list items.\n",
        "Moreover, Python bestows upon lists the power of mutability, enabling you to adjust individual items as necessary. Suppose you have a fruit basket as depicted by our list `fruits`, and you wish to replace 'banana' with 'blackcurrant'."
      ]
    },
    {
      "cell_type": "code",
      "execution_count": null,
      "metadata": {},
      "outputs": [],
      "source": [
        "fruits[1] = \"blackcurrant\"\n",
        "fruits"
      ]
    },
    {
      "attachments": {},
      "cell_type": "markdown",
      "metadata": {},
      "source": [
        "#### 🧑🏽‍💻 You do\n",
        "**Modify a List Item**\n",
        "\n",
        "1. Replace the second fruit in the \"my_fruits\" list with a new fruit\n",
        "2. Print the list"
      ]
    },
    {
      "cell_type": "code",
      "execution_count": null,
      "metadata": {},
      "outputs": [],
      "source": [
        "# Add your solution below:\n"
      ]
    },
    {
      "attachments": {},
      "cell_type": "markdown",
      "metadata": {},
      "source": [
        "## 1.4 Molding Lists to Your Will: Indexing and Slicing\n",
        "*Empty for now*"
      ]
    },
    {
      "attachments": {},
      "cell_type": "markdown",
      "metadata": {},
      "source": [
        "## 1.5 Employing 'in' and 'not in' Operators to Scout for List Items\n",
        "The 'in' and 'not in' operators in Python empower you to verify an item's existence within your list. For instance, to check if 'apple' is in the fruit basket, you would simply need to do this:"
      ]
    },
    {
      "cell_type": "code",
      "execution_count": null,
      "metadata": {},
      "outputs": [],
      "source": [
        "if \"apple\" in fruits:\n",
        "    print(\"Yes, 'apple' is in the fruits list\")"
      ]
    },
    {
      "attachments": {},
      "cell_type": "markdown",
      "metadata": {},
      "source": [
        "#### 🧑🏽‍💻 You do\n",
        "**Check if an Item Exists in a List**\n",
        "\n",
        "1. Check if a particular fruit exists in the \"my_fruits\" list\n",
        "2. Print a relevant message"
      ]
    },
    {
      "cell_type": "code",
      "execution_count": null,
      "metadata": {},
      "outputs": [],
      "source": [
        "# Add your solution below:\n"
      ]
    },
    {
      "attachments": {},
      "cell_type": "markdown",
      "metadata": {},
      "source": [
        "## 2. The Immutable World of Tuples"
      ]
    },
    {
      "attachments": {},
      "cell_type": "markdown",
      "metadata": {},
      "source": [
        "### 2.1 Understand What a Tuple Is, How to Create One, and How It Differs From a List\n",
        "Tuples are similar to lists in Python, with one crucial difference: they are immutable. This means that once a tuple is created, it cannot be changed. Tuples are useful when you have a collection of items that should not be changed throughout the execution of your program.\n",
        "You can create a tuple by enclosing a comma-separated sequence of items in parentheses `()`."
      ]
    },
    {
      "attachments": {},
      "cell_type": "markdown",
      "metadata": {},
      "source": [
        "#### 🧑🏽‍💻 You do\n",
        "1. Create a tuple named `my_tuple` with the elements 1, 2, and 3\n",
        "2. Print the tuple"
      ]
    },
    {
      "cell_type": "code",
      "execution_count": null,
      "metadata": {},
      "outputs": [],
      "source": [
        "# Add your solution below:\n"
      ]
    },
    {
      "attachments": {},
      "cell_type": "markdown",
      "metadata": {},
      "source": [
        "### 2.2 Know the Use Cases for Tuples and How They Compare to Lists in Terms of Mutability\n",
        "Tuples are used when immutability is necessary. If in your program you are passing around an object and need to make sure it does not get changed, then a tuple becomes your solution. It provides a convenient source of data integrity."
      ]
    },
    {
      "attachments": {},
      "cell_type": "markdown",
      "metadata": {},
      "source": [
        "### 2.3 Learn to Create, Access, and Manipulate Elements in a Tuple\n",
        "You can't change a tuple, but you can access its elements and read their values. This can be done using indexing, just like you would with a list."
      ]
    },
    {
      "attachments": {},
      "cell_type": "markdown",
      "metadata": {},
      "source": [
        "#### 🧑🏽‍💻 You do\n",
        "1. Access the second element of the `my_tuple` and print it"
      ]
    },
    {
      "cell_type": "code",
      "execution_count": null,
      "metadata": {},
      "outputs": [],
      "source": [
        "# Add your solution below:\n"
      ]
    },
    {
      "attachments": {},
      "cell_type": "markdown",
      "metadata": {},
      "source": [
        "### 2.4 Understand Tuple Methods and When to Use Them\n",
        "Tuples have only two methods: `count` and `index`. `count` returns the number of times a specified value occurs in a tuple, while `index` searches the tuple for a specified value and returns the position of where it was found."
      ]
    },
    {
      "attachments": {},
      "cell_type": "markdown",
      "metadata": {},
      "source": [
        "#### 🧑🏽‍💻 You do\n",
        "1. Use the `count` method to check how many times `2` appears in `my_tuple`\n",
        "2. Use the `index` method to find the position of `2` in `my_tuple`"
      ]
    },
    {
      "cell_type": "code",
      "execution_count": null,
      "metadata": {},
      "outputs": [],
      "source": [
        "# Add your solution below:\n"
      ]
    },
    {
      "attachments": {},
      "cell_type": "markdown",
      "metadata": {},
      "source": [
        "## 3. Key-value Pairs and the Versatility of Dictionaries"
      ]
    },
    {
      "attachments": {},
      "cell_type": "markdown",
      "metadata": {},
      "source": [
        "### 3.1 Create a Dictionary and Understand Its Utility\n",
        "Dictionaries in Python are a type of collection that allow users to store values like a map, which unlike other Data Types that hold only a single value as an element, a dictionary holds key:value pairs. Key value pairs are two linked data items: a key, which is a unique identifier for some item of data, and the value, which is either the data that is identified or a pointer to the location of that data. Dictionaries are mutable."
      ]
    },
    {
      "attachments": {},
      "cell_type": "markdown",
      "metadata": {},
      "source": [
        "#### 🧑🏽‍💻 You do\n",
        "1. Create a dictionary named `my_dict` with the following key-value pairs:\n",
        "   - 'name': 'John'\n",
        "   - 'age': 25\n",
        "2. Print the dictionary"
      ]
    },
    {
      "cell_type": "code",
      "execution_count": null,
      "metadata": {},
      "outputs": [],
      "source": [
        "# Add your solution below:\n"
      ]
    },
    {
      "attachments": {},
      "cell_type": "markdown",
      "metadata": {},
      "source": [
        "### 3.2 Manage Key-value Pairs in a Dictionary - Access, Add, Remove, and Modify\n",
        "In a dictionary, you can access a value using its key. You can also add new key-value pairs, remove pairs, and modify existing pairs."
      ]
    },
    {
      "attachments": {},
      "cell_type": "markdown",
      "metadata": {},
      "source": [
        "### 3.3 Check for the Presence of a Key in a Dictionary Using `in` and `not in` Operators\n",
        "You can check for the presence of a specific key in a dictionary using the `in` and `not in` operators."
      ]
    },
    {
      "attachments": {},
      "cell_type": "markdown",
      "metadata": {},
      "source": [
        "#### 🧑🏽‍💻 You do\n",
        "1. Check if the key 'name' exists in `my_dict` and print the result\n",
        "2. Check if the key 'address' does not exist in `my_dict` and print the result"
      ]
    },
    {
      "cell_type": "code",
      "execution_count": null,
      "metadata": {},
      "outputs": [],
      "source": [
        "# Add your solution below:\n"
      ]
    },
    {
      "attachments": {},
      "cell_type": "markdown",
      "metadata": {},
      "source": [
        "### 3.4 Access the Keys, Values, and Key-value Pairs in a Dictionary Using `keys()`, `values()`, and `items()` Methods\n",
        "The `keys()` method returns a view object that displays a list of all the keys in the dictionary. The `values()` method returns a view object that displays a list of all the values in the dictionary. The `items()` method returns a view object that displays a list of the dictionary's key-value tuple pairs."
      ]
    },
    {
      "attachments": {},
      "cell_type": "markdown",
      "metadata": {},
      "source": [
        "#### 🧑🏽‍💻 You do\n",
        "1. Print all keys in `my_dict` using the `keys()` method\n",
        "2. Print all values in `my_dict` using the `values()` method\n",
        "3. Print all key-value pairs in `my_dict` using the `items()` method"
      ]
    },
    {
      "cell_type": "code",
      "execution_count": null,
      "metadata": {},
      "outputs": [],
      "source": [
        "# Add your solution below:\n"
      ]
    }
  ],
  "metadata": {
    "language_info": {
      "name": "python"
    },
    "orig_nbformat": 4
  },
  "nbformat": 4,
  "nbformat_minor": 2
}
