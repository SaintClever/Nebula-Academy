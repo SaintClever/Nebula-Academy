{
  "cells": [
    {
      "attachments": {},
      "cell_type": "markdown",
      "metadata": {},
      "source": [
        "# Table of Contents\n",
        "1. [Unleashing the Power of Lists](#1-unleashing-the-power-of-lists)\n",
        "    1. [Crafting a List and Grasping its Versatility](#11-crafting-a-list-and-grasping-its-versatility)\n",
        "    2. [Harnessing Python's In-Built List Methods](#12-harnessing-pythons-in-built-list-methods)\n",
        "    3. [Indexing - [ ] The Key to Accessing List Elements](#13-indexing---the-key-to-accessing-list-elements)\n",
        "    4. [Employing 'in' and 'not in' Operators to Scout for List Items](#14-employing-in-and-not-in-operators-to-scout-for-list-items)\n",
        "    5. [Unpacking Lists 📦](#15-unpacking-lists-📦)\n",
        "2. [Tuples](#2-the-immutable-world-of-tuples)\n",
        "    1. [Understand What a Tuple Is, How to Create One, and How It Differs From a List](#21-understand-what-a-tuple-is-how-to-create-one-and-how-it-differs-from-a-list)\n",
        "    2. [Using Tuples](#22-using-tuples)\n",
        "    3. [Understand Tuple Methods and When to Use Them](#23-understand-tuple-methods-and-when-to-use-them)\n",
        "3. [Dictionaries](#3-key-value-pairs-and-the-versatility-of-dictionaries)\n",
        "    1. [Create a Dictionary and Understand Its Utility](#31-create-a-dictionary-and-understand-its-utility)\n",
        "    2. [Manage Key-Value Pairs in a Dictionary](#32-manage-key-value-pairs-in-a-dictionary)\n",
        "    3. [Check for the Presence of a Key in a Dictionary Using 'in' and 'not in' Operators](#33-check-for-the-presence-of-a-key-in-a-dictionary-using-in-and-not-in-operators)\n",
        "    4. [`keys()`, `values()`, and `items()` Methods](#34-keys-values-and-items-methods)\n",
        "    5. [Unpacking Dictionaries 📦](#35-unpacking-dictionaries-📦)\n"
      ]
    },
    {
      "attachments": {},
      "cell_type": "markdown",
      "metadata": {},
      "source": [
        "## 1: Unleashing the Power of Lists\n",
        "##### 1.1 Crafting a List and Grasping its Versatility\n",
        "In the Python cosmos, lists are truly potent. While less efficient than tuples, they are more versatile. They are a mutable data types allowing us to mutate, or change, the elements they contain. They offer a wide range of methods that facilitate the manipulation of their contents. Like tuples they are also iterable, meaning we can loop over them. They are also ordered, meaning the order of the elements they contain is preserved. This is a key difference between lists and dictionaries, which we will explore later.\n"
      ]
    },
    {
      "cell_type": "code",
      "execution_count": null,
      "metadata": {},
      "outputs": [],
      "source": [
        "fruits = [\"🍎\", \"🍌\", \"🍒\"]\n",
        "\n",
        "vegetables = [\"carrot\", \"potato\", \"pepper\"]\n",
        "\n",
        "numbers = [1, 2, 3, 4, 5]\n",
        "\n",
        "mixed_list = [\"apple\", 3, \"🍌\", 4, \"cherry\", 5]\n",
        "\n",
        "all_possible_data_types = [1, 2.0, \"string\", True, None] \n",
        "\n",
        "# Side Note: `None` is a datatype that essentially means an empty value. It is not the same as `False` or `0`. It is a special value that is used to indicate that a variable has no value. It is often used as a placeholder when we don't want to assign a value to a variable yet. "
      ]
    },
    {
      "attachments": {},
      "cell_type": "markdown",
      "metadata": {},
      "source": [
        "> *Note:* We will be using the terms 'element' and 'item' interchangeably to refer to the individual components of a list."
      ]
    },
    {
      "attachments": {},
      "cell_type": "markdown",
      "metadata": {},
      "source": [
        "**🧑🏽‍💻 You do**\n",
        "\n",
        "*Create a List*\n",
        "\n",
        "1. Create a list named \"days\" and assign it to the days of the week.\n",
        "2. Print the list"
      ]
    },
    {
      "cell_type": "code",
      "execution_count": null,
      "metadata": {},
      "outputs": [],
      "source": [
        "# Add your solution below:\n"
      ]
    },
    {
      "attachments": {},
      "cell_type": "markdown",
      "metadata": {},
      "source": [
        "##### 1.2 Harnessing Python's In-Built List Methods"
      ]
    },
    {
      "attachments": {},
      "cell_type": "markdown",
      "metadata": {},
      "source": [
        "| Method Name | Description |\n",
        "|-------------|-------------|\n",
        "| [`append(item)`](#append) | Adds an item to the end of the list. |\n",
        "| [`extend(iterable)`](#extend) | Adds all the elements of an iterable (like list, tuple, string etc.) to the end of the list. |\n",
        "| [`insert(index, item)`](#insert) | Inserts an item at a given position. |\n",
        "| [`pop(index)`](#pop) | Removes the item at the given position in the list, and returns it. If no index is specified, it removes and returns the last item in the list. |\n",
        "| [`remove(item)`](#remove) | Removes the first item from the list that matches the input. |"
      ]
    },
    {
      "attachments": {},
      "cell_type": "markdown",
      "metadata": {},
      "source": [
        "##### `append()`\n",
        "\n",
        "We use the `append(item)` method to add an item to the end of a list. We provide it with **one** argument, the *item* we want to add or `append` to the list."
      ]
    },
    {
      "cell_type": "code",
      "execution_count": null,
      "metadata": {},
      "outputs": [],
      "source": [
        "my_todo_list = ['walk the dog', 'buy groceries', 'go to the gym']\n",
        "my_todo_list.append('do the dishes')\n",
        "my_todo_list.append('vacuum the house')\n",
        "my_todo_list.append('do laundry')\n",
        "print(my_todo_list)"
      ]
    },
    {
      "attachments": {},
      "cell_type": "markdown",
      "metadata": {},
      "source": [
        "🧑🏽‍💻 **You do**\n",
        "\n",
        "*`append()` Method*\n",
        "\n",
        "1. Create a list named elements and assign it to 3 random elements on the periodic table.\n",
        "2. Append a new element to the list.\n",
        "3. Print the list"
      ]
    },
    {
      "cell_type": "code",
      "execution_count": null,
      "metadata": {},
      "outputs": [],
      "source": [
        "# Add your solution below:\n"
      ]
    },
    {
      "attachments": {},
      "cell_type": "markdown",
      "metadata": {},
      "source": [
        "##### `extend()`\n",
        "\n",
        "We use the `extend(iterable)` method to add all the elements of an iterable (like list, tuple, string etc.) to the end of the list. We provide it with **one** argument, the *iterable* we want to add or `extend` to the list."
      ]
    },
    {
      "cell_type": "code",
      "execution_count": 1,
      "metadata": {},
      "outputs": [
        {
          "name": "stdout",
          "output_type": "stream",
          "text": [
            "['🍕', '🍣', '🍦', '🍫', '🍔', '🍟', '🍩', '🍪']\n"
          ]
        }
      ],
      "source": [
        "favorite_foods = ['🍕', '🍣', '🍦', '🍫'] \n",
        "favorite_foods.extend(['🍔', '🍟', '🍩', '🍪'])\n",
        "print(favorite_foods)"
      ]
    },
    {
      "attachments": {},
      "cell_type": "markdown",
      "metadata": {},
      "source": [
        "**🧑🏽‍💻 You do**\n",
        "\n",
        "*`extend()` Method*\n",
        "\n",
        "1. Create an *empty* list named 'subjects'\n",
        "2. Using the `extend()` method, add the following subjects to the list: 'Math', 'English', 'Science', 'History', 'Geography', 'Art', 'Music', 'PE'\n",
        "3. Print the list"
      ]
    },
    {
      "cell_type": "code",
      "execution_count": null,
      "metadata": {},
      "outputs": [],
      "source": [
        "# Add your solution below:\n"
      ]
    },
    {
      "attachments": {},
      "cell_type": "markdown",
      "metadata": {},
      "source": [
        "##### `insert()`\n",
        "\n",
        "We can use the `insert(index, item)` method to insert a <u>**single item**</u> at a <u>**given position**</u>. We provide it with **two** arguments, the *index*, or position where we would like to insert the item and the *item* we want to insert."
      ]
    },
    {
      "cell_type": "code",
      "execution_count": null,
      "metadata": {},
      "outputs": [],
      "source": [
        "languages = ['Python', 'Swift', 'C++']\n",
        "print('Before Insert:', languages)\n",
        "languages.insert(1, 'Java')\n",
        "print('After Insert:', languages)"
      ]
    },
    {
      "attachments": {},
      "cell_type": "markdown",
      "metadata": {},
      "source": [
        "**🧑🏽‍💻 You do**\n",
        "\n",
        "**`insert()`** Method\n",
        "\n",
        "1. Create a list named 'favorite_emojis' and assign it to your 4 favorite emojis.\n",
        "  \n",
        "  > ***Hint***\n",
        "  > \n",
        "  > You can open the emoji keyboard on:\n",
        "  > - Mac: `ctrl + cmd + space`\n",
        "  > - Windows: `win + .`\n",
        "  > - Linux: `ctrl + .`\n",
        "  > - ChromeOS: `ctrl + .`\n",
        "  >\n",
        "  >&nbsp;\n",
        "2. Use the insert() method to add an additional emoji to the middle of our list.\n",
        "3. Print your favorite emojis."
      ]
    },
    {
      "cell_type": "code",
      "execution_count": null,
      "metadata": {},
      "outputs": [],
      "source": [
        "# Add your solution below:\n"
      ]
    },
    {
      "attachments": {},
      "cell_type": "markdown",
      "metadata": {},
      "source": [
        "**`pop()`**\n",
        "\n",
        "The `pop(index)` method removes <u>**and returns**</u> the item at the index, or position we provide the method with. If no index is specified, it removes and returns the last item in the list."
      ]
    },
    {
      "cell_type": "code",
      "execution_count": null,
      "metadata": {},
      "outputs": [],
      "source": [
        "prime_numbers = [2, 3, 5, 7]\n",
        "print('Before Pop:', prime_numbers)\n",
        "removed_element = prime_numbers.pop(2)\n",
        "print('Removed Element:', removed_element)\n",
        "print('After Pop:', prime_numbers)"
      ]
    },
    {
      "attachments": {},
      "cell_type": "markdown",
      "metadata": {},
      "source": [
        "**🧑🏽‍💻 You do**\n",
        "\n",
        "**`pop()` Method**\n",
        "\n",
        "1. Create a list named 'my_list'\n",
        "2. Use the pop() method to remove an item at index 2 from 'my_list'\n",
        "3. Print 'my_list'"
      ]
    },
    {
      "cell_type": "code",
      "execution_count": null,
      "metadata": {},
      "outputs": [],
      "source": []
    },
    {
      "attachments": {},
      "cell_type": "markdown",
      "metadata": {},
      "source": [
        "**`remove()`**\n",
        "\n",
        "We use the `remove(item)` method to remove the first item from the list that matches the input. We provide it with **one** argument, the *item* we want to remove from the list. Unlike the `pop()` method, `remove()` does not return the item it removes."
      ]
    },
    {
      "cell_type": "code",
      "execution_count": null,
      "metadata": {},
      "outputs": [],
      "source": [
        "languages = ['Python', 'Swift', 'C++', 'C', 'Java', 'Rust', 'R']\n",
        "print('Before Remove:', languages)\n",
        "languages.remove('Python')\n",
        "print('After Remove:', languages)"
      ]
    },
    {
      "attachments": {},
      "cell_type": "markdown",
      "metadata": {},
      "source": [
        "**🧑🏽‍💻 You do**\n",
        "\n",
        "**`remove()` Method**\n",
        "\n",
        "Remove the outlier from the list below."
      ]
    },
    {
      "cell_type": "code",
      "execution_count": null,
      "metadata": {},
      "outputs": [],
      "source": [
        "temps_in_fahrenheit = [32, 45, 60, 72, 832, 99, 110]\n",
        "\n",
        "# Add your solution below:"
      ]
    },
    {
      "attachments": {},
      "cell_type": "markdown",
      "metadata": {},
      "source": [
        "##### 1.3 Indexing - The Key to Accessing List Elements\n",
        "Lists, thanks to their organized sequence of elements, simplify the process of identifying elements. Python's indexing system allows for easy access to list items.\n",
        "Moreover, Python bestows upon lists the power of mutability, enabling you to adjust individual items as necessary. Suppose you have a fruit basket as depicted by our list `fruits`, and you wish to replace 'banana' with 'durian'."
      ]
    },
    {
      "cell_type": "code",
      "execution_count": null,
      "metadata": {},
      "outputs": [],
      "source": [
        "fruits = [ 'apple', 'banana', 'cherry']\n",
        "fruits[1] = 'durian'"
      ]
    },
    {
      "attachments": {},
      "cell_type": "markdown",
      "metadata": {},
      "source": [
        "While this is a way to access elements in Python, it is not the only way. Another way to access elements in a list is by using negative indices. Negative indices start from the end of the list and work towards the front. The last element in a list has an index of -1, the second to last element has an index of -2, so on and so forth. Like the first example we can also use this syntax to change a specific item.\n",
        "\n"
      ]
    },
    {
      "attachments": {},
      "cell_type": "markdown",
      "metadata": {},
      "source": [
        "#### 🧑🏽‍💻 You do\n",
        "\n",
        "**Modify a List Item**\n",
        "\n",
        "1. Print the last car in the list of cars below.\n",
        "2. Print the first car in the list of cars below.\n",
        "3. Print the second to last car in the list of cars below.\n",
        "4. Print the third car in the list of cars below."
      ]
    },
    {
      "cell_type": "code",
      "execution_count": null,
      "metadata": {},
      "outputs": [],
      "source": [
        "kei_trucks = ['Subaru Sambar', 'Honda Acty', 'Daihatsu Hijet', 'Mitsubishi Minicab', 'Suzuki Carry']\n",
        "# Add your solution below:\n"
      ]
    },
    {
      "attachments": {},
      "cell_type": "markdown",
      "metadata": {},
      "source": [
        "**Accessing a Range List Elements**\n",
        "\n",
        "We can access a range of elements in our list using the `[start:end]` syntax. <u>**Start**</u> and <u>**end**</u> refer to the starting and ending indices or positions of the range of items we are attempting to access. \n",
        "\n",
        "Some other ways we can access items include:\n",
        "- `[start:]` - Accesses all items from the start index to the end of the list.\n",
        "- `[:end]` - Accesses all items from the start of the list to the index specified.\n",
        "- `[:]` - Accesses all items in the list, or a copy of the list. "
      ]
    },
    {
      "attachments": {},
      "cell_type": "markdown",
      "metadata": {},
      "source": [
        "#### 🧑🏽‍💻 You do\n",
        "**Accessing and Modifying a Range of List Elements**\n",
        "\n",
        "Using the list of cars below, do the following:\n",
        "1. Print the first 3 cars\n",
        "2. Replace the last 2 cars. For your convenience, 2 additional kei cars you can use are 'Honda N-One' and 'Suzuki Hustler'\n",
        "3. Print the 3rd to 5th cars."
      ]
    },
    {
      "cell_type": "code",
      "execution_count": null,
      "metadata": {},
      "outputs": [],
      "source": [
        "kei_cars = ['Suzuki Cappuccino', 'Autozam(Mazda) AZ-1', 'Honda Beat', 'Daihatsu Copen', 'Subaru Vivio']\n",
        "# Add your solution below:\n"
      ]
    },
    {
      "attachments": {},
      "cell_type": "markdown",
      "metadata": {},
      "source": [
        "##### 1.4 Employing 'in' and 'not in' Operators to Scout for List Items\n",
        "The 'in' and 'not in' operators in Python empower you to verify an item's existence within your list. For instance, to check if 'apple' is in the fruit basket, you would simply need to do this:"
      ]
    },
    {
      "cell_type": "code",
      "execution_count": null,
      "metadata": {},
      "outputs": [],
      "source": [
        "fruits = [\"apple\", \"banana\", \"cherry\"]\n",
        "print('Does fruits contain apple?', 'apple' in fruits)\n",
        "\n",
        "# not in\n",
        "# Gotta make sure there is no carrot in the fruits. If there is, then we have a problem.\n",
        "print('Fruits does not contain a carrot, correct?', 'carrot' not in fruits)"
      ]
    },
    {
      "attachments": {},
      "cell_type": "markdown",
      "metadata": {},
      "source": [
        "#### 🧑🏽‍💻 You do\n",
        "**Check if an Item Exists in a List**\n",
        "\n",
        "I always think to myself before I leave the house, \"Phone, keys, wallet.\". Let's automate this check with a list. \n",
        "1. Create a list called my_personal_carry with the following values: \"Phone\", \"Keys\", \"Wallet\".\n",
        "2. For each item we need to leave the house with the following day, use the 'in' operator to check if it is in the list."
      ]
    },
    {
      "cell_type": "code",
      "execution_count": null,
      "metadata": {},
      "outputs": [],
      "source": [
        "# Add your solution below:\n"
      ]
    },
    {
      "attachments": {},
      "cell_type": "markdown",
      "metadata": {},
      "source": [
        "##### 1.5 Unpacking Lists 📦\n",
        "\n",
        "Unpacking lists is a way to a to quickly expand a list into a series of variables. This is useful when you have a list of values that you want to assign to multiple variables."
      ]
    },
    {
      "cell_type": "code",
      "execution_count": null,
      "metadata": {},
      "outputs": [],
      "source": [
        "# Unpacking an RGB color\n",
        "r, g, b = [255, 255, 255]"
      ]
    },
    {
      "attachments": {},
      "cell_type": "markdown",
      "metadata": {},
      "source": [
        "We can also use the unpacking operator `*` to unpack a list into another list. This is useful when we want to combine two lists into one."
      ]
    },
    {
      "cell_type": "code",
      "execution_count": null,
      "metadata": {},
      "outputs": [],
      "source": [
        "class_234 = ['John', 'Brandon', 'Steve', 'David', 'Sarah', 'Samantha']\n",
        "class_235 = ['William', 'Jack', 'David', 'Krystal', 'Brittany']\n",
        "\n",
        "all_students = [*class_234, *class_235]\n",
        "print(all_students)"
      ]
    },
    {
      "attachments": {},
      "cell_type": "markdown",
      "metadata": {},
      "source": [
        "## 2. The Immutable World of Tuples"
      ]
    },
    {
      "attachments": {},
      "cell_type": "markdown",
      "metadata": {},
      "source": [
        "##### 2.1 Understand What a Tuple Is, How to Create One, and How It Differs From a List\n",
        "Tuples are similar to lists in Python, with one crucial difference: they are immutable. This means that once a tuple is created, it cannot be changed. Tuples are advantageous and more efficient for working with data that does not need to be changed.\n",
        "\n",
        "You can create a tuple by enclosing a comma-separated sequence of items in parentheses `()`."
      ]
    },
    {
      "cell_type": "code",
      "execution_count": null,
      "metadata": {},
      "outputs": [],
      "source": [
        "theme_colors = ['red', 'white', 'silver']"
      ]
    },
    {
      "attachments": {},
      "cell_type": "markdown",
      "metadata": {},
      "source": [
        "#### 🧑🏽‍💻 You do\n",
        "1. Create a tuple named `my_tuple` with the elements 1, 2, and 3\n",
        "2. Print the tuple"
      ]
    },
    {
      "cell_type": "code",
      "execution_count": null,
      "metadata": {},
      "outputs": [],
      "source": [
        "# Add your solution below:"
      ]
    },
    {
      "attachments": {},
      "cell_type": "markdown",
      "metadata": {},
      "source": [
        "##### 2.2 Using Tuples\n",
        "\n",
        "Some things we can use tuples for include:\n",
        "- Grouping Data\n",
        "- Tuple Packing\n",
        "- Tuple Unpacking\n",
        "- Returning multiple values from a function.\n",
        "- Dictionary Keys\n",
        "- Performance Optimization\n",
        "- Data Integrity"
      ]
    },
    {
      "attachments": {},
      "cell_type": "markdown",
      "metadata": {},
      "source": [
        "**Grouping Data**\n",
        "\n",
        "Tuples are a great way to group data together when we can for it's performance benefits. For example, if we have a list of 3D coordinates, we can group each coordinate together in a tuple (X, Y, Z). We could even nest these tuples in another tuple to hold our 3d object.\n",
        "```python\n",
        "cube = ((x, y, z), (x, y, z), (x, y, z), (x, y, z),\n",
        " (x, y, z), (x, y, z), (x, y, z), (x, y, z))\n",
        "```\n",
        "If we wanted do we could create a program that could assemble a shape using our coordinates, basically like 3D connect the dots."
      ]
    },
    {
      "attachments": {},
      "cell_type": "markdown",
      "metadata": {},
      "source": [
        "**Tuple Packing**\n",
        "\n",
        "You can also create a tuple without using parentheses. This is known as tuple packing."
      ]
    },
    {
      "cell_type": "code",
      "execution_count": null,
      "metadata": {},
      "outputs": [],
      "source": [
        "my_packed_tuple = 1, 2, 3\n",
        "print(my_packed_tuple)\n",
        "print(type(my_packed_tuple))"
      ]
    },
    {
      "attachments": {},
      "cell_type": "markdown",
      "metadata": {},
      "source": [
        "**Tuple Unpacking**\n",
        "\n",
        "You can also unpack a tuple into multiple variables. This is particularly useful for giving a function multiple inputs, defining multiple variables at once and returning multiple values from a function.\n",
        "\n",
        "Here's an example of tuple unpacking used to give a function multiple inputs:"
      ]
    },
    {
      "cell_type": "code",
      "execution_count": null,
      "metadata": {},
      "outputs": [],
      "source": [
        "def add(x, y):\n",
        "    return x + y\n",
        "\n",
        "t = (5, 6)\n",
        "add(*t)"
      ]
    },
    {
      "attachments": {},
      "cell_type": "markdown",
      "metadata": {},
      "source": [
        "Defining multiple variables at once:"
      ]
    },
    {
      "cell_type": "code",
      "execution_count": null,
      "metadata": {},
      "outputs": [],
      "source": [
        "building_materials = ('Toyota Corolla', '4-cylinder', 'Good Year')\n",
        "\n",
        "def build_car(*building_materials):\n",
        "  \n",
        "  chassis, engine, tires = building_materials\n",
        "\n",
        "  print(f'We are mounting a {engine} engine on a {chassis} chassis with {tires} tires.')\n",
        "\n",
        "build_car(*building_materials)"
      ]
    },
    {
      "attachments": {},
      "cell_type": "markdown",
      "metadata": {},
      "source": [
        "and returning multiple values from a function:"
      ]
    },
    {
      "cell_type": "code",
      "execution_count": null,
      "metadata": {},
      "outputs": [],
      "source": [
        "# Returning multiple values from a function example\n",
        "\n",
        "def get_name():\n",
        "    return 'John', 'Doe'\n",
        "\n",
        "print(get_name())\n",
        "print(type(get_name()))"
      ]
    },
    {
      "attachments": {},
      "cell_type": "markdown",
      "metadata": {},
      "source": [
        "**Dictionary Keys**\n",
        "\n",
        "You can also use tuples as keys in a dictionary. In the example below, we are employing a dictionary with tuple keys to evaluate the results of a rock, paper, scissors game."
      ]
    },
    {
      "cell_type": "code",
      "execution_count": null,
      "metadata": {},
      "outputs": [],
      "source": [
        "game_dict = {\n",
        "    ('r', 'r'): \"It's a tie!\",\n",
        "    ('r', 'p'): \"Player 2 wins! Paper covers Rock.\",\n",
        "    ('r', 's'): \"Player 1 wins! Rock smashes Scissors.\",\n",
        "    ('p', 'r'): \"Player 1 wins! Paper covers Rock.\",\n",
        "    ('p', 'p'): \"It's a tie!\",\n",
        "    ('p', 's'): \"Player 2 wins! Scissors cut Paper.\",\n",
        "    ('s', 'r'): \"Player 2 wins! Rock smashes Scissors.\",\n",
        "    ('s', 'p'): \"Player 1 wins! Scissors cut Paper.\",\n",
        "    ('s', 's'): \"It's a tie!\"\n",
        "}\n",
        "\n",
        "player1 = 'r' # input(\"Player 1, enter your choice (r, p, or s): \")\n",
        "player2 = 'p' # input(\"Player 2, enter your choice (r, p, or s): \")\n",
        "\n",
        "# Combine player choices into a tuple\n",
        "player_choices = (player1, player2)\n",
        "\n",
        "# Print the result\n",
        "print(game_dict[player_choices])\n"
      ]
    },
    {
      "attachments": {},
      "cell_type": "markdown",
      "metadata": {},
      "source": [
        "In this Rock, Paper, Scissors example, we used tuples as keys in a dictionary. \n",
        "```python\n",
        "game_dict = {\n",
        "    ('r', 'r'): \"It's a tie!\",\n",
        "    ('r', 'p'): \"Player 2 wins! Paper covers Rock.\",\n",
        "    #     ... more key-value pairs ...\n",
        "}\n",
        "```\n",
        "\n",
        "This is because tuples are immutable, and therefore can be used as dictionary keys. Lists, on the other hand, are mutable and therefore cannot be used as dictionary keys. They also provided us with a convenient way to store the results of the game."
      ]
    },
    {
      "attachments": {},
      "cell_type": "markdown",
      "metadata": {},
      "source": [
        "**Performance Optimization**\n",
        "\n",
        "Tuples are faster than lists. Put simply, since lists are mutable, they require more memory to operate. Tuples, on the other hand, are immutable and therefore require less memory to operate. This makes them faster than lists.\n",
        "\n",
        "**Data Integrity**\n",
        "\n",
        "While we don't introduce Python's `threading` module in this course, it is important to note that tuples are thread-safe. This means that when multiple threads(small units of a program, split for efficiency typically) are running simultaneously, tuples can be accessed without the risk of data corruption. This is because tuples are immutable, and therefore cannot be changed by any of our threads before the other threads have finished executing. Lists, on the other hand, are mutable and therefore cannot be accessed by multiple threads simultaneously without the risk of data corruption. This is true for all mutable data types in Python, and is something to keep in mind if you choose to learn more about threading in Python.\n",
        "\n",
        "Returning multiple values from a function"
      ]
    },
    {
      "attachments": {},
      "cell_type": "markdown",
      "metadata": {},
      "source": [
        "### 2.3 Understand Tuple Methods and When to Use Them\n",
        "Tuples have only two methods: `count` and `index`. "
      ]
    },
    {
      "attachments": {},
      "cell_type": "markdown",
      "metadata": {},
      "source": [
        "**`count`**\n",
        "\n",
        "Returns the number of times a specified value occurs in a tuple.\n",
        "\n",
        "Example:"
      ]
    },
    {
      "cell_type": "code",
      "execution_count": null,
      "metadata": {},
      "outputs": [],
      "source": [
        "our_tuple = (1, 2, 3, 4, 5, 6, 7, 8, 9, 2)\n",
        "our_tuple.count(2)"
      ]
    },
    {
      "attachments": {},
      "cell_type": "markdown",
      "metadata": {},
      "source": [
        "**`index`** \n",
        "\n",
        "Searches the tuple for a specific value and returns the index wherever it's first found.\n",
        "\n",
        "\n",
        "Example:"
      ]
    },
    {
      "cell_type": "code",
      "execution_count": null,
      "metadata": {},
      "outputs": [],
      "source": [
        "# Example using the index method on a tuple\n",
        "our_tuple.index(2)"
      ]
    },
    {
      "attachments": {},
      "cell_type": "markdown",
      "metadata": {},
      "source": [
        "#### 🧑🏽‍💻 You do\n",
        "1. Use the `count` method to check how many times `2` appears in `my_tuple`\n",
        "2. Use the `index` method to find the position of `2` in `my_tuple`"
      ]
    },
    {
      "cell_type": "code",
      "execution_count": null,
      "metadata": {},
      "outputs": [],
      "source": [
        "# Add your solution below:\n"
      ]
    },
    {
      "attachments": {},
      "cell_type": "markdown",
      "metadata": {},
      "source": [
        "## 3. Key-value Pairs and the Versatility of Dictionaries"
      ]
    },
    {
      "attachments": {},
      "cell_type": "markdown",
      "metadata": {},
      "source": [
        "### 3.1 Create a Dictionary and Understand Its Utility\n",
        "Dictionaries in Python are a type of collection that allow users to store values. This datatype solves the problem of needing to remember the index of a value in a list. Instead of using an index, we can use a key to access a value.\n",
        "\n",
        "For example, if your friend invited to their house their less likely to tell you 10th house on the right on Sycamore Street than they are to tell you their address. The 10th house is similar to an index in a list, whereas the address is similar to a key in a dictionary. This is because addresses provide us with a universal way to identify a location. In the same way, dictionaries provide us with a universal way to identify a value. The key:value pair is the foundation of a dictionary. Using our analogy, the key is the address and the value is the house."
      ]
    },
    {
      "cell_type": "code",
      "execution_count": null,
      "metadata": {},
      "outputs": [],
      "source": [
        "# Example using a dictionary to store houses at addresses\n",
        "houses = {\n",
        "    '123 Main Street': '🏠',\n",
        "    '321 Elm Street': '🏡',\n",
        "    '555 Maple Street': '🏚️',\n",
        "    '777 Pine Street': '🏘️',\n",
        "    '888 Oak Street': '🏡'\n",
        "}\n",
        "\n",
        "# Example dictionary containing a list of animals\n",
        "zoological_dictionary = {\n",
        "    'alligator': 'a large semiaquatic reptile similar to a crocodile but with a chunky little head, native to the Americas and China.',\n",
        "    'baboon': 'a large monkey with a long doglike snout, large teeth, and naked callosities on the buttocks.',\n",
        "    'caiman': 'a semiaquatic reptile similar to an alligator but with a relatively longer, more slender snout, native to tropical America.',\n",
        "    'dingo': 'a wild Australian dog with a harsh howl, a tan coat, and dark markings on the face, chiefly living in the outback.',\n",
        "    'elephant': 'a very large plant-eating mammal with a prehensile trunk, long curved ivory tusks, and large ears, native to Africa and southern Asia. It is the largest living land animal.'\n",
        "}"
      ]
    },
    {
      "attachments": {},
      "cell_type": "markdown",
      "metadata": {},
      "source": [
        "**🧑🏽‍💻 You do**\n",
        "1. Create a dictionary named `my_dict` with the following key-value pairs:\n",
        "   - 'name': 'John'\n",
        "   - 'age': 25\n",
        "2. Print the dictionary"
      ]
    },
    {
      "cell_type": "code",
      "execution_count": null,
      "metadata": {},
      "outputs": [],
      "source": [
        "# Add your solution below:\n"
      ]
    },
    {
      "attachments": {},
      "cell_type": "markdown",
      "metadata": {},
      "source": [
        "##### 3.2 Manage Key-value Pairs in a Dictionary \n",
        "\n",
        "In a dictionary, we can access values using their key's. You can also add new key-value pairs, remove pairs, and modify existing pairs.\n",
        "\n",
        "**Accessing Values**\n",
        "\n",
        "To access a value in a dictionary, you can use the key in square brackets `[]`."
      ]
    },
    {
      "cell_type": "code",
      "execution_count": null,
      "metadata": {},
      "outputs": [],
      "source": [
        "print(zoological_dictionary['elephant'])"
      ]
    },
    {
      "cell_type": "markdown",
      "metadata": {},
      "source": [
        "**🧑🏽‍💻 You do**\n",
        "1. Create a dictionary named `my_dict` with the following key-value pairs:\n",
        "   - 'name': 'John'\n",
        "   - 'age': 25\n",
        "2. Print the dictionary"
      ]
    },
    {
      "cell_type": "markdown",
      "metadata": {},
      "source": []
    },
    {
      "cell_type": "markdown",
      "metadata": {},
      "source": []
    },
    {
      "cell_type": "markdown",
      "metadata": {},
      "source": []
    },
    {
      "attachments": {},
      "cell_type": "markdown",
      "metadata": {},
      "source": [
        "**Changing Values**\n",
        "\n",
        "To change the value of a specific key, you can use access it the same way we did above and assign it a new value."
      ]
    },
    {
      "cell_type": "code",
      "execution_count": null,
      "metadata": {},
      "outputs": [],
      "source": [
        "zoological_dictionary['elephant'] = 'a very large plant-eating mammal with a prehensile trunk, long curved ivory tusks, and large ears, native to Africa and southern Asia. It is the largest living land animal. 🐘' # We're adding an emoji, super important!"
      ]
    },
    {
      "attachments": {},
      "cell_type": "markdown",
      "metadata": {},
      "source": [
        "**Creating a new key-value pair**\n",
        "\n",
        "To create a new key-value pair, you can access a key that doesn't exist in the same we accessed existing keys above and assign it a value."
      ]
    },
    {
      "cell_type": "code",
      "execution_count": null,
      "metadata": {},
      "outputs": [],
      "source": [
        "zoological_dictionary['fox'] = 'a carnivorous mammal of the dog family with a pointed muzzle and bushy tail, proverbial for its cunning.'"
      ]
    },
    {
      "attachments": {},
      "cell_type": "markdown",
      "metadata": {},
      "source": [
        "**Removing a key-value pair**\n",
        "\n",
        "To remove a key-value pair, you can use the `del` keyword and access the key you want to remove."
      ]
    },
    {
      "cell_type": "code",
      "execution_count": null,
      "metadata": {},
      "outputs": [],
      "source": [
        "print('Houses before the bulldozing: ', houses)\n",
        "\n",
        "print('🚜🚜🚜 The bulldozers arrived. 🚜🚜🚜')\n",
        "\n",
        "del houses['555 Maple Street']\n",
        "\n",
        "print('Houses after the bulldozing: ', houses)"
      ]
    },
    {
      "attachments": {},
      "cell_type": "markdown",
      "metadata": {},
      "source": [
        "**Clearing out our dictionary**\n",
        "\n",
        "To clear out our dictionary, we can use the `clear` method. This method can be accessed as a method of our dictionary ie: `dictionary_name.clear()` or by using the one provided by the data type itself `dict.clear(dictionary_name)`."
      ]
    },
    {
      "cell_type": "code",
      "execution_count": null,
      "metadata": {},
      "outputs": [],
      "source": [
        "print('Houses before the bulldozing: ', houses)\n",
        "\n",
        "print('🚜🚜🚜 The bulldozers arrived. 🚜🚜🚜')\n",
        "\n",
        "# dict.clear(houses)\n",
        "# houses.clear()\n",
        "\n",
        "print('Houses after the bulldozing: ', houses)"
      ]
    },
    {
      "attachments": {},
      "cell_type": "markdown",
      "metadata": {},
      "source": [
        "### 3.3 Check for the Presence of a Key in a Dictionary Using `in` and `not in` Operators\n",
        "You can check for the presence of a specific key in a dictionary using the `in` and `not in` operators."
      ]
    },
    {
      "cell_type": "code",
      "execution_count": null,
      "metadata": {},
      "outputs": [],
      "source": [
        "# Example of using the in keyword to check if a key exists in a dictionary\n",
        "print('123 Main Street' in houses)\n",
        "\n",
        "# Example of using the not in keyword to check if a key does not exist in a dictionary\n",
        "print('anaconda' not in zoological_dictionary)\n",
        "\n",
        "\n"
      ]
    },
    {
      "attachments": {},
      "cell_type": "markdown",
      "metadata": {},
      "source": [
        "**🧑🏽‍💻 You do**\n",
        "\n",
        "1. Check the id dictionary for the presence of the key 'name'\n",
        "2. Make sure the key the letter z is not in our frequency dictionary"
      ]
    },
    {
      "cell_type": "code",
      "execution_count": null,
      "metadata": {},
      "outputs": [],
      "source": [
        "id = { 'name': 'John Doe', 'age': 32, 'occupation': 'gardener' }\n",
        "# Add your solution for 1 below:\n",
        "\n",
        "letter_frequency = { 'e': 1, 'h': 1, 'l': 2, 'o': 1 }\n",
        "# Add your solution for 2 below:\n"
      ]
    },
    {
      "attachments": {},
      "cell_type": "markdown",
      "metadata": {},
      "source": [
        "##### 3.4 `keys()`, `values()`, and `items()` Methods\n",
        "\n",
        "**`keys()`**\n",
        "\n",
        "The `keys()` method returns a view object that displays a <u>**list**</u> of all the keys in the dictionary."
      ]
    },
    {
      "cell_type": "code",
      "execution_count": null,
      "metadata": {},
      "outputs": [],
      "source": [
        "my_dict = {\n",
        "    'name': 'John',\n",
        "    'age': 25\n",
        "}\n",
        "\n",
        "print(my_dict.keys())\n",
        "print(dict.keys(my_dict))"
      ]
    },
    {
      "attachments": {},
      "cell_type": "markdown",
      "metadata": {},
      "source": [
        "**🧑🏽‍💻 You do**\n",
        "\n",
        "`keys()` Method\n",
        "\n",
        "Create a list of addresses by printing all address or keys in `houses`."
      ]
    },
    {
      "cell_type": "code",
      "execution_count": null,
      "metadata": {},
      "outputs": [],
      "source": [
        "houses = {\n",
        "    '123 Main Street': '🏠',\n",
        "    '321 Elm Street': '🏡',\n",
        "    '555 Maple Street': '🏚️',\n",
        "    '777 Pine Street': '🏘️',\n",
        "    '888 Oak Street': '🏡'\n",
        "}\n",
        "# Add your solution below:\n"
      ]
    },
    {
      "attachments": {},
      "cell_type": "markdown",
      "metadata": {},
      "source": [
        "**values()**\n",
        "\n",
        "The `values()` method returns a view object that displays a list of all the values in the dictionary."
      ]
    },
    {
      "cell_type": "code",
      "execution_count": null,
      "metadata": {},
      "outputs": [],
      "source": [
        "houses = {\n",
        "    '123 Main Street': '🏠',\n",
        "    '321 Elm Street': '🏡',\n",
        "    '555 Maple Street': '🏚️',\n",
        "    '777 Pine Street': '🏘️',\n",
        "    '888 Oak Street': '🏡'\n",
        "}\n",
        "\n",
        "neighborhood = houses.values()\n",
        "print(*neighborhood)"
      ]
    },
    {
      "attachments": {},
      "cell_type": "markdown",
      "metadata": {},
      "source": [
        "**🧑🏽‍💻 You do**\n",
        "\n",
        "`values()` Method\n",
        "\n",
        "Now we "
      ]
    },
    {
      "cell_type": "code",
      "execution_count": null,
      "metadata": {},
      "outputs": [],
      "source": [
        "print(*houses.values())"
      ]
    },
    {
      "attachments": {},
      "cell_type": "markdown",
      "metadata": {},
      "source": [
        "The `items()` method returns a view object that displays a list of the dictionary's key-value tuple pairs."
      ]
    },
    {
      "attachments": {},
      "cell_type": "markdown",
      "metadata": {},
      "source": [
        "##### 3.5 Unpacking Dictionaries 📦\n",
        "\n",
        "We can unpack dictionaries using the `**` operator. This operator is used to expand dictionaries into keyword arguments in function calls, among other things. We'll cover this \"function\" thing in more detail soon. For now, let's focus on the important part: the `**` operator."
      ]
    },
    {
      "cell_type": "code",
      "execution_count": null,
      "metadata": {},
      "outputs": [],
      "source": [
        "def print_name(name, age):\n",
        "    print(f\"Hello, my name is {name} and I am {age} years old.\")\n",
        "\n",
        "my_dict = {\n",
        "    'name': 'John',\n",
        "    'age': 25\n",
        "}\n",
        "\n",
        "print_name(**my_dict)"
      ]
    }
  ],
  "metadata": {
    "kernelspec": {
      "display_name": "Python 3",
      "language": "python",
      "name": "python3"
    },
    "language_info": {
      "codemirror_mode": {
        "name": "ipython",
        "version": 3
      },
      "file_extension": ".py",
      "mimetype": "text/x-python",
      "name": "python",
      "nbconvert_exporter": "python",
      "pygments_lexer": "ipython3",
      "version": "3.11.0"
    },
    "orig_nbformat": 4
  },
  "nbformat": 4,
  "nbformat_minor": 2
}
