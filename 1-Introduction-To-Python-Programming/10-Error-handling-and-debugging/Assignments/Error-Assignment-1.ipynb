{
  "cells": [
    {
      "attachments": {},
      "cell_type": "markdown",
      "metadata": {},
      "source": ["## Welcome to the Space Exploration Program!"]
    },
    {
      "attachments": {},
      "cell_type": "markdown",
      "metadata": {},
      "source": [
        "You are a scientist working on a groundbreaking space exploration project. As part of your research, you need to write code to analyze data collected from various space probes. However, there are errors in the code that need to be fixed to ensure accurate results. Your task is to debug the code and resolve the errors."
      ]
    },
    {
      "attachments": {},
      "cell_type": "markdown",
      "metadata": {},
      "source": ["### Challenge 1: Planetary Data Analysis"]
    },
    {
      "attachments": {},
      "cell_type": "markdown",
      "metadata": {},
      "source": [
        "You have collected data from multiple planetary probes and need to analyze it. However, there are errors in the code that prevent the analysis from running correctly. Your task is to fix the errors and execute the code to obtain the desired results."
      ]
    },
    {
      "attachments": {},
      "cell_type": "markdown",
      "metadata": {},
      "source": ["python"]
    },
    {
      "attachments": {},
      "cell_type": "markdown",
      "metadata": {},
      "source": [
        "# Planetary Data Analysis\n",
        "temperatures = [200, 250, 300, 275, 225]\n",
        "\n",
        "average_temperature = sum(temperatures) / len(temperatures)\n",
        "print(f\"The average temperature is: {average_temperature}\")\n",
        "\n",
        "max_temperature = max(temperatures)\n",
        "print(f\"The maximum temperature is: {max_temperature}\")\n",
        "\n",
        "min_temperature = min(temperatures)\n",
        "print(f\"The minimum temperature is: {min_temperature}\")\n"
      ]
    },
    {
      "attachments": {},
      "cell_type": "markdown",
      "metadata": {},
      "source": [""]
    },
    {
      "attachments": {},
      "cell_type": "markdown",
      "metadata": {},
      "source": [
        "Fix the errors in the code above and execute it to calculate and display the average, maximum, and minimum temperatures obtained from the space probe data."
      ]
    },
    {
      "cell_type": "code",
      "metadata": {},
      "outputs": [],
      "source": ["Your Solution Here ❌"]
    },
    {
      "attachments": {},
      "cell_type": "markdown",
      "metadata": {},
      "source": ["### Challenge 2: Satellite Communication"]
    },
    {
      "attachments": {},
      "cell_type": "markdown",
      "metadata": {},
      "source": [
        "You are responsible for maintaining communication with a satellite orbiting a distant planet. However, there are errors in the code that handle the communication process. Your task is to fix the errors and ensure successful communication with the satellite."
      ]
    },
    {
      "attachments": {},
      "cell_type": "markdown",
      "metadata": {},
      "source": ["python"]
    },
    {
      "attachments": {},
      "cell_type": "markdown",
      "metadata": {},
      "source": [
        "# Satellite Communication\n",
        "def send_message(message):\n",
        " if len(message) > 100:\n",
        " print('Message is too long!')\n",
        " elif len(message) < 10:\n",
        " print('Message is too short!')\n",
        " else:\n",
        " print(f'Sending message: {message}')\n",
        "\n",
        "send_message('Hello, this is a test message.')\n",
        "send_message('Hi')\n",
        "send_message('This is a very long message that exceeds the maximum allowed length.')\n"
      ]
    },
    {
      "attachments": {},
      "cell_type": "markdown",
      "metadata": {},
      "source": [""]
    },
    {
      "attachments": {},
      "cell_type": "markdown",
      "metadata": {},
      "source": [
        "Fix the errors in the code above and execute it to send the appropriate messages to the satellite based on their length."
      ]
    },
    {
      "cell_type": "code",
      "metadata": {},
      "outputs": [],
      "source": ["Your Solution Here ❌"]
    },
    {
      "attachments": {},
      "cell_type": "markdown",
      "metadata": {},
      "source": ["### Challenge 3: Astronomical Calculation"]
    },
    {
      "attachments": {},
      "cell_type": "markdown",
      "metadata": {},
      "source": [
        "You are working on a program to calculate astronomical distances between celestial bodies. However, there are errors in the code that prevent the calculations from being accurate. Your task is to fix the errors and ensure correct astronomical distance calculations."
      ]
    },
    {
      "attachments": {},
      "cell_type": "markdown",
      "metadata": {},
      "source": ["python"]
    },
    {
      "attachments": {},
      "cell_type": "markdown",
      "metadata": {},
      "source": [
        "# Astronomical Calculation\n",
        "import math\n",
        "\n",
        "def calculate_distance(planet1, planet2):\n",
        " x_distance = planet2[0] - planet1[0]\n",
        " y_distance = planet2[1] - planet1[1]\n",
        " z_distance = planet2[2] - planet1[2]\n",
        " \n",
        " distance = math.sqrt(x_distance**2 + y_distance**2 + z_distance**2)\n",
        " return distance\n",
        "\n",
        "planet1 = (10, 5, 3)\n",
        "planet2 = (7, 8, 2)\n",
        "distance = calculate_distance(planet1, planet2)\n",
        "print(f'The distance between the two planets is: {distance}')\n"
      ]
    },
    {
      "attachments": {},
      "cell_type": "markdown",
      "metadata": {},
      "source": [""]
    },
    {
      "attachments": {},
      "cell_type": "markdown",
      "metadata": {},
      "source": [
        "Fix the errors in the code above and execute it to calculate the distance between two planets based on their coordinates."
      ]
    },
    {
      "cell_type": "code",
      "metadata": {},
      "outputs": [],
      "source": ["Your Solution Here ❌"]
    }
  ],
  "metadata": {
    "kernelspec": {
      "display_name": "Python 3",
      "language": "python",
      "name": "python3"
    },
    "language_info": {
      "codemirror_mode": {
        "name": "ipython",
        "version": 3
      },
      "file_extension": ".py",
      "mimetype": "text/x-python",
      "name": "python",
      "nbconvert_exporter": "python",
      "pygments_lexer": "ipython3",
      "version": "3.11.3"
    },
    "orig_nbformat": 4
  },
  "nbformat": 4,
  "nbformat_minor": 2
}
