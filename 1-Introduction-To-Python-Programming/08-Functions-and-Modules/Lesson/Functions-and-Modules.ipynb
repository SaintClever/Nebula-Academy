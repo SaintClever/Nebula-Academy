{
  "cells": [
    {
      "attachments": {},
      "cell_type": "markdown",
      "metadata": {},
      "source": [
        "# Table of Contents\n",
        "1. [Introduction to Functions]()\n",
        "    1. [What is a Function?]()\n",
        "    2. [Anatomy of a Function]()\n",
        "    3. [Returning Values From Our Functions]()\n",
        "2. [Modules and Importing]()\n",
        "    1. [Understanding Modules]()\n",
        "    2. [Creating Your Own Modules]()\n",
        "    3. [Organizing Modules]()\n",
        "    4. [Python Standard Library]()\n",
        "    5. [Python Packages]()\n",
        "    6. [Recap]()\n",
        "3. [Quiz and Challenge]()\n"
      ]
    },
    {
      "attachments": {},
      "cell_type": "markdown",
      "metadata": {},
      "source": [
        "## 1: Introduction to Functions\n",
        "##### 1.1 What is a Function?\n",
        "A function is a block of reusable code that performs a specific task. It allows you to organize your code into logical and modular units, making it easier to read, understand, and maintain. Functions in Python are defined using the `def` keyword followed by the function name, parentheses, and a colon. They can have parameters and may return a value using the `return` keyword.\n",
        "\n",
        "Here is an example of a function that takes in two numbers and returns their sum:"
      ]
    },
    {
      "cell_type": "code",
      "execution_count": 2,
      "metadata": {},
      "outputs": [
        {
          "name": "stdout",
          "output_type": "stream",
          "text": [
            "3\n"
          ]
        }
      ],
      "source": [
        "def add(x, y):\n",
        "    return x + y\n",
        "\n",
        "print(add(1, 2))"
      ]
    },
    {
      "attachments": {},
      "cell_type": "markdown",
      "metadata": {},
      "source": [
        "**👩🏿‍💻 You Do**\n",
        "\n",
        "\n",
        "*Use a Function*\n",
        "\n",
        "1. Go to the store and buy the ingredients. (Call the `buy_ingredients()` function and assign it to a variable called `ingredients`.)\n",
        "2. Write a function `assemble_sandwiches()` that assembles your ingredients into a list and returns it from the function."
      ]
    },
    {
      "attachments": {},
      "cell_type": "markdown",
      "metadata": {},
      "source": [
        "##### 1.2 Anatomy of a Function\n",
        "\n",
        "In Python, a function is defined using the `def` keyword, followed by the function name and parentheses. Parameters can be specified inside the parentheses, and the function body is indented below."
      ]
    },
    {
      "cell_type": "code",
      "execution_count": null,
      "metadata": {},
      "outputs": [],
      "source": [
        "def function_name(parameters):\n",
        "    # function body \n",
        "    # return value (optional)\n",
        "\n",
        "function_name(arguments)"
      ]
    },
    {
      "attachments": {},
      "cell_type": "markdown",
      "metadata": {},
      "source": [
        "##### 1.3 Returning Values From Our Functions\n",
        "Often the entire purpose of a function is to return a value. In order to do this, we use the `return` keyword. The `return` keyword is followed by the value we want to return."
      ]
    },
    {
      "cell_type": "code",
      "execution_count": null,
      "metadata": {},
      "outputs": [],
      "source": [
        "def string_returning_function():\n",
        "    return \"Hello World!\"\n",
        "\n",
        "def string_returning_function():\n",
        "    return \"Hello World!\"\n",
        "    print(\"This will never print\")"
      ]
    },
    {
      "attachments": {},
      "cell_type": "markdown",
      "metadata": {},
      "source": [
        "**👩🏿‍💻 You Do**\n",
        "\n",
        "*Use a Function*\n",
        "\n",
        "1. Go to the store and buy the ingredients. (Call the `buy_ingredients()` function and assign it to a variable called `ingredients`.)\n",
        "2. Write a function `assemble_sandwiches()` that assembles your ingredients into a list and returns it from the function."
      ]
    },
    {
      "cell_type": "code",
      "execution_count": null,
      "metadata": {},
      "outputs": [],
      "source": [
        "# Add your solution below:\n",
        "\n"
      ]
    },
    {
      "attachments": {},
      "cell_type": "markdown",
      "metadata": {},
      "source": [
        "# Section 2: The Marvel & Advanced Features of Python Libraries\n",
        "\n",
        "## 2.1 - Detailed Overview on Python Standard Library\n",
        "\n",
        "Python's Standard Library, a treasure trove of built-in modules, offers a plethora of functionalities that make Python programming more efficient and enjoyable. Each module offers specific features, from generating random numbers with the `random` module to interacting with the operating system using the `os` module.\n",
        "\n",
        "Certainly! Here's an updated version of the Markdown table with a selection of the most commonly used built-in Python libraries:\n",
        "\n",
        "| Library    | Description                                                                                                                                                         |\n",
        "|------------|---------------------------------------------------------------------------------------------------------------------------------------------------------------------|\n",
        "| os         | Provides a way of using operating system dependent functionality, such as reading or writing to the file system, interacting with the environment, and more.         |\n",
        "| sys        | Provides access to some variables used or maintained by the interpreter and to functions that interact with the interpreter.                                      |\n",
        "| math       | Contains mathematical functions and constants for various mathematical operations such as trigonometry, logarithmic, exponential functions, and more.                |\n",
        "| random     | Allows generating random numbers, selecting random elements from a sequence, shuffling, and other random-related operations.                                        |\n",
        "| datetime   | Provides classes for working with dates, times, time intervals, time zones, and performing operations like formatting, arithmetic, comparisons, and more.              |\n",
        "| collections| Contains various container datatypes, such as `deque`, `Counter`, and `namedtuple`, providing alternatives to built-in containers like lists, dictionaries, and tuples.|\n",
        "| json       | Enables working with JavaScript Object Notation (JSON) data, providing functions for encoding and decoding JSON format.                                               |\n",
        "| csv        | Allows reading from and writing to CSV (Comma-Separated Values) files, providing functionality for working with tabular data.                                      |\n",
        "\n",
        "**👩🏿‍💻 You Do**\n",
        "Bring into play the `random` module to spawn a random number. Employ the `datetime` module to fetch and display the current date and time. Use the `os` module to determine and print your current working directory."
      ]
    },
    {
      "cell_type": "code",
      "execution_count": null,
      "metadata": {},
      "outputs": [],
      "source": []
    },
    {
      "attachments": {},
      "cell_type": "markdown",
      "metadata": {},
      "source": [
        "## 2.2 - Unleashing the Power of External Libraries \n",
        "\n",
        "In addition to its standard library, Python boasts a vast ecosystem of external libraries that extend its capabilities. Libraries such as `numpy`, `pandas`, and `matplotlib` are used extensively in data analysis, while `requests` is a favorite for interacting with websites.\n",
        "\n",
        "\n",
        "Commonly used Python libraries include:\n",
        "| Library       | Description                                                                                                                              |\n",
        "|-------------- |----------------------------------------------------------------------------------------------------------------------------------------- |\n",
        "| NumPy         | NumPy is designed to support large multi-dimensional arrays and matrices in addition to several math operations needed by analytical tasks. |\n",
        "| Pandas        | With Pandas comes access to efficient data manipulation and analysis functionality alongside structured data utilization using DataFrames.    |\n",
        "| Matplotlib    | A robust visualization tool that empowers professionals from diverse domains allowing the creation of potential storyline visuals in static or interactive modes. |\n",
        "| TensorFlow    | A powerful open source ML framework which enables its users to create and train complex machine learning models including neural networks.   |\n",
        "| PyTorch       | PyTorch is an effective machine learning framework equivalent to TensorFlow, acclaimed for its dynamic building and computation procedures predominantly in deep learning tasks. |\n",
        "| Scikit-learn  | Scikit-learn is a popular package for Python that provides access to the most efficient ML algorithms for multiple tasks such as classification, regression etc with additional tools helping with dimensionality reduction. |\n",
        "| Django        | Streamlining the development of effective web applications is now easier than ever thanks to an array of frameworks and libraries available for use within Python. Amongst these options exist Django which provides many helpful features used across high-level platforms including URL routing and database integration. |\n",
        "| Flask         | Flask is a lightweight web framework that emphasizes expeditiousness producing flexible solutions for developers, making it ideal for building web applications quickly. |\n",
        "| SQLAlchemy    | SQLAlchemy offers a comprehensive set of tools for working with databases and performing database operations in Python, providing an ORM library and a SQL toolkit. |\n",
        "| Requests      | Requests is a popular library for making HTTP requests, simplifying the process of sending requests, handling responses, managing sessions, and more. |\n",
        "| Beautiful Soup| Beautiful Soup is a powerful library for web scraping, allowing efficient parsing of HTML and XML documents and extraction of valuable data from websites. |\n",
        "| FastAPI       | FastAPI is a modern web framework designed for building APIs with Python 3.7+ based on standard Python type hints. It prioritizes speed performance and comes with automatic API documentation powered by type hints. |\n",
        "\n",
        "Here is an example using matplotlib. To run this code, you will need to install the matplotlib library using `pip install matplotlib` in your terminal."
      ]
    },
    {
      "cell_type": "code",
      "execution_count": null,
      "metadata": {},
      "outputs": [
        {
          "data": {
            "image/png": "[encoded data removed]",
            "text/plain": [
              "<Figure size 640x480 with 1 Axes>"
            ]
          },
          "metadata": {},
          "output_type": "display_data"
        }
      ],
      "source": [
        "import matplotlib.pyplot\n",
        "\n",
        "x = [1, 2, 3, 4, 5]\n",
        "y = [10, 20, 15, 25, 30]\n",
        "\n",
        "matplotlib.pyplot.plot(x, y)\n",
        "matplotlib.pyplot.xlabel('X-axis')\n",
        "matplotlib.pyplot.ylabel('Y-axis')\n",
        "matplotlib.pyplot.title('My Cool Graph')\n",
        "matplotlib.pyplot.show()\n"
      ]
    },
    {
      "attachments": {},
      "cell_type": "markdown",
      "metadata": {},
      "source": [
        "**👩🏿‍💻 You Do**\n",
        "Install the `requests` library using pip. Create a simple program to send a GET request to a URL of your choice and print the status code of the response."
      ]
    },
    {
      "cell_type": "code",
      "execution_count": null,
      "metadata": {},
      "outputs": [],
      "source": []
    },
    {
      "attachments": {},
      "cell_type": "markdown",
      "metadata": {},
      "source": [
        "## 2.3 - Creating and Using Custom Modules\n",
        "\n",
        "Beyond using built-in and external modules, Python allows you to create your own modules for encapsulating reusable code. This is a powerful feature that promotes code reuse and modularization.\n",
        "\n",
        "Let's create a module together."
      ]
    },
    {
      "cell_type": "code",
      "execution_count": 4,
      "metadata": {},
      "outputs": [
        {
          "name": "stdout",
          "output_type": "stream",
          "text": [
            "def say_hello():\n",
            "    print('Hello!')\n",
            "\n"
          ]
        }
      ],
      "source": [
        "!mkdir -p modules\n",
        "!rm -rf modules/hello.py\n",
        "!touch modules/hello.py\n",
        "\n",
        "with open(\"modules/hello.py\", \"w\") as f:\n",
        "    f.write('''\\\n",
        "def say_hello():\n",
        "    print('Hello!')\n",
        "''')\n",
        "\n",
        "with open(\"modules/hello.py\", \"r\") as f:\n",
        "    print(f.read())\n"
      ]
    },
    {
      "cell_type": "code",
      "execution_count": 5,
      "metadata": {},
      "outputs": [
        {
          "name": "stdout",
          "output_type": "stream",
          "text": [
            "Hello!\n"
          ]
        }
      ],
      "source": [
        "from modules.hello import say_hello as hello\n",
        "\n",
        "hello()\n"
      ]
    },
    {
      "attachments": {},
      "cell_type": "markdown",
      "metadata": {},
      "source": [
        "**👩🏿‍💻 You Do**\n",
        "Construct a simple library that contains a function to calculate the area of a rectangle. Use this library in a Python program to calculate and print the area of a rectangle with dimensions of your choice. \n",
        "\n",
        "**Hint**: Reuse the script to create the module from above or manually create a file called `rectangle.py` in the `modules` folder and add the function to it."
      ]
    },
    {
      "cell_type": "code",
      "execution_count": null,
      "metadata": {},
      "outputs": [],
      "source": []
    },
    {
      "attachments": {},
      "cell_type": "markdown",
      "metadata": {},
      "source": [
        "## 2.4 - Managing Dependencies with `pip`\n",
        "\n",
        "Python's `pip` tool is a versatile command-line utility for installing and managing Python packages. It interfaces with the Python Package Index (PyPI) and other package repositories to download and install packages, and can also be used to manage package versions and dependencies.\n",
        "\n",
        "**👩🏿‍💻 You Do**\n",
        "Utilize the `pip list` command to display the list of packages installed in your Python environment. Subsequently, use the `pip install` command to install the `numpy` package."
      ]
    },
    {
      "cell_type": "code",
      "execution_count": null,
      "metadata": {},
      "outputs": [],
      "source": []
    },
    {
      "attachments": {},
      "cell_type": "markdown",
      "metadata": {},
      "source": [
        "**`pip freeze` and requirements.txt**\n",
        "\n",
        "The `pip freeze` command is used to generate a list of installed packages and their versions. This list can be saved to a file called `requirements.txt` using the `>` operator. Like so:\n",
        "  \n",
        "```bash\n",
        "pip freeze > requirements.txt\n",
        "```\n",
        "\n",
        "That command will look over all the packages installed in your environment and save them to a file called `requirements.txt`. This file can then be used to install the same packages in another environment using the `pip install` command. Like so:\n",
        "\n",
        "```bash\n",
        "pip install -r requirements.txt\n",
        "```\n",
        "\n",
        "This pattern will be used later in the course to install the packages needed for the projects and save your project dependencies within your repos for easy installation by others."
      ]
    },
    {
      "attachments": {},
      "cell_type": "markdown",
      "metadata": {},
      "source": [
        "# 💻 Self Study\n",
        "\n",
        "- Practice creating and using Python modules and packages. \n",
        "- Try using different modules from the Python Standard Library and install and use a third-party Python package."
      ]
    }
  ],
  "metadata": {
    "kernelspec": {
      "display_name": "Python 3",
      "language": "python",
      "name": "python3"
    },
    "language_info": {
      "codemirror_mode": {
        "name": "ipython",
        "version": 3
      },
      "file_extension": ".py",
      "mimetype": "text/x-python",
      "name": "python",
      "nbconvert_exporter": "python",
      "pygments_lexer": "ipython3",
      "version": "3.11.3"
    },
    "orig_nbformat": 4
  },
  "nbformat": 4,
  "nbformat_minor": 2
}
