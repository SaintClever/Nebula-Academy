{
   "cells": [
      {
         "attachments": {},
         "cell_type": "markdown",
         "metadata": {},
         "source": [
            "Max is an aspiring video game developer. let's help him craft some functions that will help him build his first game.\n",
            "\n",
            "**Question 1:**\n",
            "Help him write a function `welcome_player(name)` that takes a player's name and returns a personalized welcome message. The message should be 'Welcome to the adventure, [name]!'"
         ]
      },
      {
         "cell_type": "code",
         "execution_count": null,
         "metadata": {},
         "outputs": [],
         "source": [
            "def welcome_player(name):\n",
            "    # Your Solution Here ❌"
         ]
      },
      {
         "attachments": {},
         "cell_type": "markdown",
         "metadata": {},
         "source": [
            "**Question 2:**\n",
            "Max is designing an inventory system for his game. He needs a function `pick_up_item(location, item)` that takes an existing location's inventory and an item, removes the item from the location's inventory, and adds it to the player's inventory. Assume player's inventory is a list, and location's inventory is a dictionary where each key-value pair represents a piece of furniture and the item it contains."
         ]
      },
      {
         "cell_type": "code",
         "execution_count": null,
         "metadata": {},
         "outputs": [],
         "source": [
            "player_inventory = ['apple']\n",
            "location_inventory = {\n",
            "    'table': ['candle', 'plate', 'plate', 'plate', 'fork', 'butter knife'],\n",
            "    'shelf': ['book', 'key', 'map']\n",
            "}\n",
            "\n",
            "def pick_up_item(location, item):\n",
            "    # Your Solution Here ❌"
         ]
      },
      {
         "attachments": {},
         "cell_type": "markdown",
         "metadata": {},
         "source": [
            "**Question 3:**\n",
            "Max wants to create a leveling system. He needs a function `calculate_experience(level)` that takes a player's current level and returns the experience needed to reach the next level. Assume that the experience needed to reach the next level is the current level squared times 10."
         ]
      },
      {
         "cell_type": "code",
         "execution_count": null,
         "metadata": {},
         "outputs": [],
         "source": [
            "def calculate_experience(level):\n",
            "    # Your Solution Here ❌"
         ]
      },
      {
         "attachments": {},
         "cell_type": "markdown",
         "metadata": {},
         "source": [
            "**Question 4:**\n",
            "Max is designing a feature where players can send an item to another players inventory.\n",
            "\n",
            "In the example inventories we're adding tuples to hold the item name and quantity. ie ('apple', 3) means 3 apples. In the shop inventory we're adding a third value to the tuple to hold the price of the item. ie ('apple', 3, 1.50) means 3 apples that cost 1.50 each.\n",
            "\n",
            "For this question imagine the friendly shop owner has offered our character an apple. Write a function `send_item_from_p1_to_p2(player1_inventory, player2_inventory, item)` that takes the inventories of two players and/or shops and an item, and moves the item from player 1's inventory to player 2's inventory. "
         ]
      },
      {
         "cell_type": "code",
         "execution_count": null,
         "metadata": {},
         "outputs": [],
         "source": [
            "character_inventory = [('sword', 1), ('armor', 1), ('shield', 1), ('gold', 50), ('potion', 2)]\n",
            "shop_inventory = [ ('torch', 25, 5), ('gold', 100, 1), ('armor', 10, 50), ('apple', 1, 1.50)]\n",
            "\n",
            "def send_item_from_p1_to_p2(player1_inventory, player2_inventory, item):\n",
            "    # Your Solution Here ❌"
         ]
      },
      {
         "attachments": {},
         "cell_type": "markdown",
         "id": "3da0e3d3",
         "metadata": {},
         "source": [
            "**Question 5:** Max needs a function that also allows the player to purchase things in the shop. Write a function `trade_item_from_p1_to_p2(player1_inventory, player2_inventory, player1_item, player2_item)` that takes the inventories of two players and/or shops and two items, and moves the items accordingly."
         ]
      },
      {
         "cell_type": "code",
         "execution_count": null,
         "id": "adc16b89",
         "metadata": {},
         "outputs": [],
         "source": [
            "def buy_item(player_inventory, shop_inventory, item):\n",
            "    # Your Solution Here ❌"
         ]
      },
      {
         "attachments": {},
         "cell_type": "markdown",
         "metadata": {},
         "source": [
            "**Question 6:**\n",
            "Max is implementing a feature that allows players to craft items. He needs a function `craft_item(recipe, player_inventory)` that takes a recipe (a dictionary where each key-value pair represents an item and its required quantity) and the player's inventory, and returns True if the player has enough items to craft the item, and False otherwise. Assume the player's inventory is a list of items."
         ]
      },
      {
         "cell_type": "code",
         "execution_count": null,
         "metadata": {},
         "outputs": [],
         "source": [
            "character_inventory = [('sword', 1), ('armor', 1), ('shield', 1), ('gold', 50), ('potion', 2), ('apple', 3), ('Blue Dye', 1), ('Red Dye', 1)]\n",
            "\n",
            "purple_dye_recipe = {\n",
            "    'Red Dye': 1,\n",
            "    'Blue Dye': 1\n",
            "}\n",
            "\n",
            "def craft_item(recipe, player_inventory):\n",
            "    # Your Solution Here ❌"
         ]
      },
      {
         "attachments": {},
         "cell_type": "markdown",
         "metadata": {},
         "source": [
            "**Question 7:**\n",
            "Max has decided to incorporate a feature where players can send messages to each other. Write a function `send_message(player_name, message)` that appends a tuple to the list containing the player's name and the message they sent."
         ]
      },
      {
         "cell_type": "code",
         "execution_count": null,
         "metadata": {},
         "outputs": [],
         "source": [
            "chat_log = [\n",
            "    ('John', 'Hello, how are you?'),\n",
            "    ('Jane', 'I am doing well, how about you?'),\n",
            "    ('John', 'I am doing well also!'),\n",
            "]\n",
            "\n",
            "def send_message(player_name, message):\n",
            "    # Your Solution Here ❌"
         ]
      },
      {
         "attachments": {},
         "cell_type": "markdown",
         "metadata": {},
         "source": [
            "**Question 9:**\n",
            "Max is designing a scoring system for his game. Write a function `calculate_score(points, multiplier)` that takes a player's points and a score multiplier, and returns the player's final score."
         ]
      },
      {
         "cell_type": "code",
         "execution_count": null,
         "metadata": {},
         "outputs": [],
         "source": [
            "def calculate_score(points, multiplier):\n",
            "    # Your Solution Here ❌"
         ]
      },
      {
         "attachments": {},
         "cell_type": "markdown",
         "metadata": {},
         "source": [
            "**Question 10:**\n",
            "Max is planning to include secret codes in his game that players can redeem for special items. Write a function `redeem_code(player_inventory, code)` that takes a player's inventory and a code, and if the code is 'MAXGAME', adds a 'Special Item' to the player's inventory."
         ]
      },
      {
         "cell_type": "code",
         "execution_count": null,
         "metadata": {},
         "outputs": [],
         "source": [
            "character_inventory = [('sword', 1), ('armor', 1), ('shield', 1), ('gold', 50), ('potion', 2), ('apple', 3), ('Blue Dye', 1), ('Red Dye', 1)]\n",
            "\n",
            "def redeem_code(player_inventory, code):\n",
            "    # Your Solution Here ❌"
         ]
      },
      {
         "attachments": {},
         "cell_type": "markdown",
         "metadata": {},
         "source": [
            "**Question 11:**\n",
            "Max wants to check if a player has a particular item in their inventory. Write a function `has_item(inventory, item)` that takes a player's inventory and an item, and returns True if the item is in the inventory, and False otherwise."
         ]
      },
      {
         "cell_type": "code",
         "execution_count": null,
         "metadata": {},
         "outputs": [],
         "source": [
            "def has_item(inventory, item):\n",
            "    # Your Solution Here ❌"
         ]
      },
      {
         "attachments": {},
         "cell_type": "markdown",
         "metadata": {},
         "source": [
            "**Question 12:**\n",
            "Max is planning to add character classes to his game. He needs a function `assign_class(player_name, character_class)` that takes a player's name and a character class, and appends to the chat log a string saying '[player_name] has chosen the [character_class] class.'"
         ]
      },
      {
         "cell_type": "code",
         "execution_count": null,
         "metadata": {},
         "outputs": [],
         "source": [
            "chat_log = [\n",
            "    ('John', 'Hello, how are you?'),\n",
            "    ('Jane', 'I am doing well, how about you?'),\n",
            "    ('John', 'I am doing well also!'),\n",
            "]\n",
            "\n",
            "def assign_class(player_name, character_class):\n",
            "    # Your Solution Here ❌"
         ]
      },
      {
         "attachments": {},
         "cell_type": "markdown",
         "metadata": {},
         "source": [
            "**Question 13:**\n",
            "Max wants to add a feature that allows players to set their status. Write a function `set_status(player_name, status)` that takes a player's name and a status, and appends a string saying '[player_name] is currently [status] to the chat log."
         ]
      },
      {
         "cell_type": "code",
         "execution_count": null,
         "metadata": {},
         "outputs": [],
         "source": [
            "chat_log = [\n",
            "    ('John', 'Hello, how are you?'),\n",
            "    ('Jane', 'I am doing well, how about you?'),\n",
            "    ('John', 'I am doing well also!'),\n",
            "]\n",
            "\n",
            "def set_status(player_name, status):\n",
            "    # Your Solution Here ❌"
         ]
      },
      {
         "attachments": {},
         "cell_type": "markdown",
         "metadata": {},
         "source": [
            "**Question 14:**\n",
            "Max is considering adding pets to his game. Write a function `adopt_pet(player_name, pet_name)` that takes a player's name and a pet name, and appends a string saying '[player_name] has adopted [pet_name] as their pet to the chat log."
         ]
      },
      {
         "cell_type": "code",
         "execution_count": null,
         "metadata": {},
         "outputs": [],
         "source": [
            "chat_log = [\n",
            "    ('John', 'Hello, how are you?'),\n",
            "    ('Jane', 'I am doing well, how about you?'),\n",
            "    ('John', 'I am doing well also!'),\n",
            "]\n",
            "\n",
            "def adopt_pet(player_name, pet_name):\n",
            "    # Your Solution Here ❌"
         ]
      },
      {
         "attachments": {},
         "cell_type": "markdown",
         "metadata": {},
         "source": [
            "**Question 15:**\n",
            "Max is planning to add a feature where players can form guilds. Write a function `create_guild(guild_name, player_name)` that takes a guild name and a player's name, and appends a string saying '[player_name] has created the [guild_name] guild.' to the chat log."
         ]
      },
      {
         "cell_type": "code",
         "execution_count": null,
         "metadata": {},
         "outputs": [],
         "source": [
            "chat_log = [\n",
            "    ('John', 'Hello, how are you?'),\n",
            "    ('Jane', 'I am doing well, how about you?'),\n",
            "    ('John', 'I am doing well also!'),\n",
            "]\n",
            "\n",
            "def create_guild(guild_name, player_name):\n",
            "    # Your Solution Here ❌"
         ]
      },
      {
         "attachments": {},
         "cell_type": "markdown",
         "metadata": {},
         "source": [
            "**Question 16:**\n",
            "Max wants to add a feature where players can earn achievements based on their actions in the game. Write a function `earn_achievement(player_name, achievement)` that takes a player's name and an achievement, and appends a string saying '[player_name] earned the [achievement] achievement.' to the chat log."
         ]
      },
      {
         "cell_type": "code",
         "execution_count": null,
         "metadata": {},
         "outputs": [],
         "source": [
            "chat_log = [\n",
            "    ('John', 'Hello, how are you?'),\n",
            "    ('Jane', 'I am doing well, how about you?'),\n",
            "    ('John', 'I am doing well also!'),\n",
            "]\n",
            "\n",
            "def earn_achievement(player_name, achievement):\n",
            "    # Your Solution Here ❌"
         ]
      },
      {
         "attachments": {},
         "cell_type": "markdown",
         "metadata": {},
         "source": [
            "**Question 17:**\n",
            "Max is adding a feature where players can challenge each other to duels. Write a function `challenge_player(challenger, challenged)` that takes two player names, and appends a string saying '[challenger] has challenged [challenged] to a duel.'"
         ]
      },
      {
         "cell_type": "code",
         "execution_count": null,
         "metadata": {},
         "outputs": [],
         "source": [
            "chat_log = [\n",
            "    ('John', 'Hello, how are you?'),\n",
            "    ('Jane', 'I am doing well, how about you?'),\n",
            "    ('John', 'I am doing well also!'),\n",
            "]\n",
            "\n",
            "def challenge_player(challenger, challenged):\n",
            "    # Your Solution Here ❌"
         ]
      },
      {
         "attachments": {},
         "cell_type": "markdown",
         "metadata": {},
         "source": [
            "**Question 18:**\n",
            "Max is planning to add a system for player levels and ranks. He needs a function `set_rank(player_name, rank)` that takes a player's name and a rank, and append a string saying '[player_name] has been promoted to [rank].' to the chat log."
         ]
      },
      {
         "cell_type": "code",
         "execution_count": null,
         "metadata": {},
         "outputs": [],
         "source": [
            "chat_log = [\n",
            "    ('John', 'Hello, how are you?'),\n",
            "    ('Jane', 'I am doing well, how about you?'),\n",
            "    ('John', 'I am doing well also!'),\n",
            "]\n",
            "\n",
            "def set_rank(player_name, rank):\n",
            "    # Your Solution Here ❌"
         ]
      },
      {
         "attachments": {},
         "cell_type": "markdown",
         "metadata": {},
         "source": [
            "**Question 19:**\n",
            "Max is adding a feature where players can form teams. Write a function `form_team(team_name, player1, player2, player3)` that takes a team name and three player names, and appends a string saying 'Team [team_name] was formed by [player1], [player2], and [player3].' to the chat log."
         ]
      },
      {
         "cell_type": "code",
         "execution_count": null,
         "metadata": {},
         "outputs": [],
         "source": [
            "chat_log = [\n",
            "    ('John', 'Hello, how are you?'),\n",
            "    ('Jane', 'I am doing well, how about you?'),\n",
            "    ('John', 'I am doing well also!'),\n",
            "]\n",
            "\n",
            "def form_team(team_name, player1, player2, player3):\n",
            "    # Your Solution Here ❌"
         ]
      },
      {
         "attachments": {},
         "cell_type": "markdown",
         "metadata": {},
         "source": [
            "**Question 20:**\n",
            "Max is planning to incorporate a weather system into his game. Write a function `describe_weather(weather)` that takes a weather condition (e.g., 'sunny', 'rainy', 'snowy') and returns a description of the weather. For example, for 'sunny', the function should return 'The sun is shining brightly.' to the chat log."
         ]
      },
      {
         "cell_type": "code",
         "execution_count": null,
         "metadata": {},
         "outputs": [],
         "source": [
            "chat_log = [\n",
            "    ('John', 'Hello, how are you?'),\n",
            "    ('Jane', 'I am doing well, how about you?'),\n",
            "    ('John', 'I am doing well also!'),\n",
            "]\n",
            "\n",
            "def describe_weather(weather):\n",
            "    # Your Solution Here ❌"
         ]
      }
   ],
   "metadata": {
      "kernelspec": {
         "display_name": "Python 3",
         "name": "python3"
      },
      "language_info": {
         "codemirror_mode": {
            "name": "ipython",
            "version": 3
         },
         "file_extension": ".py",
         "mimetype": "text/x-python",
         "name": "python",
         "nbconvert_exporter": "python",
         "pygments_lexer": "ipython3",
         "version": "3.11.3"
      }
   },
   "nbformat": 4,
   "nbformat_minor": 5
}
