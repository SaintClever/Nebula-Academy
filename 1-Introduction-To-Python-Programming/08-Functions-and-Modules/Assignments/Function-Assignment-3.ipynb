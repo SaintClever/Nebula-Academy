{
   "cells": [
      {
         "attachments": {},
         "cell_type": "markdown",
         "metadata": {},
         "source": [
            "Max is an aspiring video game developer. let's help him craft some functions that will help him build his first game.\n",
            "\n",
            "**Question 1:**\n",
            "Help him write a function `welcome_player(name)` that takes a player's name and returns a personalized welcome message. The message should be 'Welcome to the adventure, [name]!'"
         ]
      },
      {
         "cell_type": "code",
         "execution_count": null,
         "metadata": {},
         "outputs": [],
         "source": [
            "def welcome_player(name):\n",
            "    # Your Solution Here ❌"
         ]
      },
      {
         "attachments": {},
         "cell_type": "markdown",
         "metadata": {},
         "source": [
            "**Question 2:**\n",
            "Max is designing an inventory system for his game. He needs a function `pick_up_item(location, item)` that takes an existing location's inventory and an item, removes the item from the location's inventory, and adds it to the player's inventory. Assume player's inventory is a list, and location's inventory is a dictionary where each key-value pair represents a piece of furniture and the item it contains."
         ]
      },
      {
         "cell_type": "code",
         "execution_count": null,
         "metadata": {},
         "outputs": [],
         "source": [
            "player_inventory = ['apple']\n",
            "location_inventory = {\n",
            "    'table': ['candle', 'plate', 'plate', 'plate', 'fork', 'butter knife'],\n",
            "    'shelf': ['book', 'key', 'map']\n",
            "}\n",
            "\n",
            "def pick_up_item(location, item):\n",
            "    # Your Solution Here ❌"
         ]
      },
      {
         "attachments": {},
         "cell_type": "markdown",
         "metadata": {},
         "source": [
            "**Question 3:**\n",
            "Max wants to create a leveling system. He needs a function `calculate_experience(level)` that takes a player's current level and returns the experience needed to reach the next level. Assume that the experience needed to reach the next level is the current level squared times 10."
         ]
      },
      {
         "cell_type": "code",
         "execution_count": null,
         "metadata": {},
         "outputs": [],
         "source": [
            "def calculate_experience(level):\n",
            "    # Your Solution Here ❌"
         ]
      },
      {
         "attachments": {},
         "cell_type": "markdown",
<<<<<<< Updated upstream
=======
         "id": "a7ec5243",
>>>>>>> Stashed changes
         "metadata": {},
         "source": [
            "**Question 4:**\n",
            "Max is designing a feature where players can send an item to another players inventory.\n",
            "\n",
            "In the example inventories we're adding tuples to hold the item name and quantity. ie ('apple', 3) means 3 apples. In the shop inventory we're adding a third value to the tuple to hold the price of the item. ie ('apple', 3, 1.50) means 3 apples that cost 1.50 each.\n",
            "\n",
            "For this question imagine the friendly shop owner has offered our character an apple. Write a function `send_item_from_p1_to_p2(player1_inventory, player2_inventory, item)` that takes the inventories of two players and/or shops and an item, and moves the item from player 1's inventory to player 2's inventory. "
         ]
      },
      {
         "cell_type": "code",
<<<<<<< Updated upstream
         "execution_count": null,
         "metadata": {},
         "outputs": [],
         "source": [
            "character_inventory = [('sword', 1), ('armor', 1), ('shield', 1), ('gold', 50), ('potion', 2)]\n",
            "shop_inventory = [ ('torch', 25, 5), ('gold', 100, 1), ('armor', 10, 50), ('apple', 1, 1.50)]\n",
            "\n",
            "def send_item_from_p1_to_p2(player1_inventory, player2_inventory, item):\n",
            "    # Your Solution Here ❌"
=======
         "execution_count": 13,
         "id": "094c34e7",
         "metadata": {},
         "outputs": [
            {
               "name": "stdout",
               "output_type": "stream",
               "text": [
                  "Removed ('apple', 1) from player1_inventory\n",
                  "Added ('apple', 1) to player2_inventory\n",
                  "player1_inventory: [('sword', 1), ('armor', 1), ('shield', 1), ('gold', 50), ('potion', 2)]\n",
                  "player2_inventory: [('torch', 25, 5), ('gold', 100, 1), ('armor', 10, 50), ('apple', 1, 1.5), ('apple', 1)]\n"
               ]
            }
         ],
         "source": [
            "character_inventory = [('sword', 1), ('armor', 1), ('shield', 1), ('gold', 50), ('potion', 2), ('apple', 1)]\n",
            "shop_inventory = [ ('torch', 25, 5), ('gold', 100, 1), ('armor', 10, 50), ('apple', 1, 1.50)]\n",
            "\n",
            "\n",
            "player1_inventory = [('sword', 1), ('armor', 1), ('shield', 1), ('gold', 50), ('potion', 2)]\n",
            "player2_inventory = [('torch', 1), ('gold', 10), ('apple', 1)]\n",
            "\n",
            "def send_item_from_p1_to_p2(player1_inventory, player2_inventory, item):\n",
            "    \n",
            "    for index, (item_name, quantity) in enumerate(player1_inventory):\n",
            "        # Check if the item is in player1_inventory\n",
            "        if item_name == item:\n",
            "            # Remove the item from player1_inventory\n",
            "            removed_item = player1_inventory.pop(index)\n",
            "            print(f\"Removed {removed_item} from player1_inventory\")\n",
            "            # Add the item to player2_inventory\n",
            "            player2_inventory.append(removed_item)\n",
            "            print(f\"Added {removed_item} to player2_inventory\")\n",
            "            print(f\"player1_inventory: {player1_inventory}\")\n",
            "            print(f\"player2_inventory: {player2_inventory}\")\n",
            "\n",
            "\n",
            "\n",
            "\n",
            "\n",
            "\n",
            "send_item_from_p1_to_p2(character_inventory, shop_inventory, 'apple')"
>>>>>>> Stashed changes
         ]
      },
      {
         "attachments": {},
         "cell_type": "markdown",
         "id": "3da0e3d3",
         "metadata": {},
         "source": [
            "**Question 5:** Max needs a function that also allows the player to purchase things in the shop. Write a function `trade_item_from_p1_to_p2(player1_inventory, player2_inventory, player1_item, player2_item)` that takes the inventories of two players and/or shops and two items, and moves the items accordingly."
         ]
      },
      {
         "cell_type": "code",
<<<<<<< Updated upstream
         "execution_count": null,
=======
         "execution_count": 44,
>>>>>>> Stashed changes
         "id": "adc16b89",
         "metadata": {},
         "outputs": [],
         "source": [
<<<<<<< Updated upstream
            "def buy_item(player_inventory, shop_inventory, item):\n",
            "    # Your Solution Here ❌"
=======
            "character_inventory = [('sword', 1), ('armor', 1), ('shield', 1), ('gold', 50), ('potion', 2), ('apple', 1)]\n",
            "shop_inventory = [ ('torch', 25, 5), ('gold', 100, 1), ('armor', 10, 50), ('apple', 1, 1.50)]\n",
            "\n",
            "\n",
            "def buy_item(player_inventory, shop_inventory, item):\n",
            "    # Assume there is no item to sell by default\n",
            "    item_to_sell = None\n",
            "    # Check if the item is in the shop_inventory\n",
            "    for shop_item in shop_inventory:\n",
            "        if item == shop_item[0]:\n",
            "            print(f\"{item} is in the shop_inventory\")\n",
            "            item_to_sell = shop_item\n",
            "            break\n",
            "    \n",
            "    # If the item is in the shop_inventory\n",
            "    if item_to_sell:\n",
            "        # Check the price of the item and if the player has enough gold\n",
            "        # Check player_inventory for gold and store the amount\n",
            "        for index, player_item in enumerate(player_inventory):\n",
            "            if player_item[0] == 'gold':\n",
            "                player_gold = player_item[1]\n",
            "                break\n",
            "        # Store a boolean value if the player has enough gold\n",
            "        has_enough_gold = player_gold >= item_to_sell[2]\n",
            "\n",
            "        # If the player has enough gold\n",
            "        if has_enough_gold:\n",
            "            # Decrement the quantity of the item in the shop_inventory\n",
            "            item_to_sell = (item_to_sell[0], item_to_sell[1] - 1, item_to_sell[2])\n",
            "            # If the quantity is 0, remove the item from the shop_inventory\n",
            "            if item_to_sell[1] == 0:\n",
            "                shop_inventory.remove(shop_item)\n",
            "            else:\n",
            "                shop_inventory[shop_inventory.index(shop_item)] = item_to_sell\n",
            "            # Remove the gold from the player_inventory\n",
            "            for index, player_item in enumerate(player_inventory):\n",
            "                if player_item[0] == 'gold':\n",
            "                    player_inventory[index] = (player_item[0], player_item[1] - item_to_sell[2])\n",
            "                    break\n",
            "\n",
            "            # If the item exists in the player inventory set preexisting_item to True\n",
            "            preexisting_item = False\n",
            "\n",
            "            for index, player_item in enumerate(player_inventory):\n",
            "                if player_item[0] == item_to_sell[0]:\n",
            "                    player_inventory[index] = (player_item[0], player_item[1] + 1)\n",
            "                    preexisting_item = True\n",
            "                    break\n",
            "                # If the item does not exist in the player inventory, add the item to the player inventory\n",
            "            if not preexisting_item:\n",
            "                player_inventory.append((item_to_sell[0], 1))\n",
            "                \n",
            "            # Transfer the gold to the shop_inventory\n",
            "            for index, shop_item in enumerate(shop_inventory):\n",
            "                if shop_item[0] == 'gold':\n",
            "                    shop_inventory[index] = (shop_item[0], shop_item[1] + item_to_sell[2], 1)\n",
            "                    break\n",
            "            # Print the player_inventory and shop_inventory\n",
            "            print(f\"player_inventory: {player_inventory}\")\n",
            "            print(f\"shop_inventory: {shop_inventory}\")\n",
            "        \n",
            "        # If the player does not have enough gold\n",
            "        else:\n",
            "            print(\"Not enough gold\")\n",
            "    else:\n",
            "        print(f\"{item} is not in the shop_inventory\")\n"
         ]
      },
      {
         "cell_type": "code",
         "execution_count": 55,
         "id": "b18651d9",
         "metadata": {},
         "outputs": [
            {
               "name": "stdout",
               "output_type": "stream",
               "text": [
                  "torch is in the shop_inventory\n",
                  "Not enough gold\n"
               ]
            }
         ],
         "source": [
            "buy_item(character_inventory, shop_inventory, 'torch')"
>>>>>>> Stashed changes
         ]
      },
      {
         "attachments": {},
         "cell_type": "markdown",
         "metadata": {},
         "source": [
            "**Question 6:**\n",
            "Max is implementing a feature that allows players to craft items. He needs a function `craft_item(recipe, player_inventory)` that takes a recipe (a dictionary where each key-value pair represents an item and its required quantity) and the player's inventory, and returns True if the player has enough items to craft the item, and False otherwise. Assume the player's inventory is a list of items."
         ]
      },
      {
         "cell_type": "code",
<<<<<<< Updated upstream
         "execution_count": null,
         "metadata": {},
         "outputs": [],
=======
         "execution_count": 63,
         "metadata": {},
         "outputs": [
            {
               "name": "stdout",
               "output_type": "stream",
               "text": [
                  "Checking if Red Dye is in the player_inventory\n",
                  "Red Dye is in the player_inventory\n",
                  "Checking if Blue Dye is in the player_inventory\n",
                  "Blue Dye is in the player_inventory\n",
                  "You have the required items to craft this item\n"
               ]
            }
         ],
>>>>>>> Stashed changes
         "source": [
            "character_inventory = [('sword', 1), ('armor', 1), ('shield', 1), ('gold', 50), ('potion', 2), ('apple', 3), ('Blue Dye', 1), ('Red Dye', 1)]\n",
            "\n",
            "purple_dye_recipe = {\n",
            "    'Red Dye': 1,\n",
            "    'Blue Dye': 1\n",
            "}\n",
            "\n",
            "def craft_item(recipe, player_inventory):\n",
<<<<<<< Updated upstream
            "    # Your Solution Here ❌"
=======
            "    # Create a list to store our item check results\n",
            "    has_items = [ True, False]\n",
            "\n",
            "    for item in recipe:\n",
            "        print(f\"Checking if {item} is in the player_inventory\")\n",
            "        # Check if the item is in the player_inventory use a boolean to store the result\n",
            "        has_item = False\n",
            "        for player_item in player_inventory:\n",
            "            if item == player_item[0]:\n",
            "                print(f\"{item} is in the player_inventory\")\n",
            "                has_item = True\n",
            "                has_items.append(True)\n",
            "                break\n",
            "        if not has_item:\n",
            "            print(f\"{item} is not in the player_inventory\")\n",
            "            has_items.append(False)\n",
            "            break\n",
            "\n",
            "    if any(item_status == False for item_status in has_items):\n",
            "        print(\"You do not have the required items to craft this item\")\n",
            "    else:\n",
            "        print(\"You have the required items to craft this item\")\n",
            "\n",
            "craft_item(purple_dye_recipe, character_inventory)"
>>>>>>> Stashed changes
         ]
      },
      {
         "attachments": {},
         "cell_type": "markdown",
         "metadata": {},
         "source": [
            "**Question 7:**\n",
            "Max has decided to incorporate a feature where players can send messages to each other. Write a function `send_message(player_name, message)` that appends a tuple to the list containing the player's name and the message they sent."
         ]
      },
      {
         "cell_type": "code",
<<<<<<< Updated upstream
         "execution_count": null,
         "metadata": {},
         "outputs": [],
=======
         "execution_count": 65,
         "metadata": {},
         "outputs": [
            {
               "name": "stdout",
               "output_type": "stream",
               "text": [
                  "[('John', 'Hello, how are you?'), ('Jane', 'I am doing well, how about you?'), ('John', 'I am doing well also!'), ('Jane', 'That sounds great!')]\n",
                  "[('John', 'Hello, how are you?'), ('Jane', 'I am doing well, how about you?'), ('John', 'I am doing well also!'), ('Jane', 'That sounds great!'), ('Joe', 'Where are you?')]\n"
               ]
            }
         ],
>>>>>>> Stashed changes
         "source": [
            "chat_log = [\n",
            "    ('John', 'Hello, how are you?'),\n",
            "    ('Jane', 'I am doing well, how about you?'),\n",
            "    ('John', 'I am doing well also!'),\n",
            "]\n",
            "\n",
            "def send_message(player_name, message):\n",
<<<<<<< Updated upstream
            "    # Your Solution Here ❌"
=======
            "    # Add new message to chat_log\n",
            "    chat_log.append((player_name, message))\n",
            "    print(chat_log)\n",
            "\n",
            "# Test the function\n",
            "send_message('Jane', 'That sounds great!')\n",
            "send_message('Joe', 'Where are you?')\n"
>>>>>>> Stashed changes
         ]
      },
      {
         "attachments": {},
         "cell_type": "markdown",
         "metadata": {},
         "source": [
            "**Question 9:**\n",
            "Max is designing a scoring system for his game. Write a function `calculate_score(points, multiplier)` that takes a player's points and a score multiplier, and returns the player's final score."
         ]
      },
      {
         "cell_type": "code",
         "execution_count": null,
         "metadata": {},
         "outputs": [],
         "source": [
            "def calculate_score(points, multiplier):\n",
            "    # Your Solution Here ❌"
         ]
      },
      {
         "attachments": {},
         "cell_type": "markdown",
         "metadata": {},
         "source": [
            "**Question 10:**\n",
            "Max is planning to include secret codes in his game that players can redeem for special items. Write a function `redeem_code(player_inventory, code)` that takes a player's inventory and a code, and if the code is 'MAXGAME', adds a 'Special Item' to the player's inventory."
         ]
      },
      {
         "cell_type": "code",
         "execution_count": null,
         "metadata": {},
         "outputs": [],
         "source": [
            "character_inventory = [('sword', 1), ('armor', 1), ('shield', 1), ('gold', 50), ('potion', 2), ('apple', 3), ('Blue Dye', 1), ('Red Dye', 1)]\n",
            "\n",
            "def redeem_code(player_inventory, code):\n",
            "    # Your Solution Here ❌"
         ]
      },
      {
         "attachments": {},
         "cell_type": "markdown",
         "metadata": {},
         "source": [
            "**Question 11:**\n",
            "Max wants to check if a player has a particular item in their inventory. Write a function `has_item(inventory, item)` that takes a player's inventory and an item, and returns True if the item is in the inventory, and False otherwise."
         ]
      },
      {
         "cell_type": "code",
         "execution_count": null,
         "metadata": {},
         "outputs": [],
         "source": [
            "def has_item(inventory, item):\n",
            "    # Your Solution Here ❌"
         ]
      },
      {
         "attachments": {},
         "cell_type": "markdown",
         "metadata": {},
         "source": [
            "**Question 12:**\n",
            "Max is planning to add character classes to his game. He needs a function `assign_class(player_name, character_class)` that takes a player's name and a character class, and appends to the chat log a string saying '[player_name] has chosen the [character_class] class.'"
         ]
      },
      {
         "cell_type": "code",
         "execution_count": null,
         "metadata": {},
         "outputs": [],
         "source": [
            "chat_log = [\n",
            "    ('John', 'Hello, how are you?'),\n",
            "    ('Jane', 'I am doing well, how about you?'),\n",
            "    ('John', 'I am doing well also!'),\n",
            "]\n",
            "\n",
            "def assign_class(player_name, character_class):\n",
            "    # Your Solution Here ❌"
         ]
      },
      {
         "attachments": {},
         "cell_type": "markdown",
         "metadata": {},
         "source": [
            "**Question 13:**\n",
            "Max wants to add a feature that allows players to set their status. Write a function `set_status(player_name, status)` that takes a player's name and a status, and appends a string saying '[player_name] is currently [status] to the chat log."
         ]
      },
      {
         "cell_type": "code",
         "execution_count": null,
         "metadata": {},
         "outputs": [],
         "source": [
            "chat_log = [\n",
            "    ('John', 'Hello, how are you?'),\n",
            "    ('Jane', 'I am doing well, how about you?'),\n",
            "    ('John', 'I am doing well also!'),\n",
            "]\n",
            "\n",
            "def set_status(player_name, status):\n",
            "    # Your Solution Here ❌"
         ]
      },
      {
         "attachments": {},
         "cell_type": "markdown",
         "metadata": {},
         "source": [
            "**Question 14:**\n",
            "Max is considering adding pets to his game. Write a function `adopt_pet(player_name, pet_name)` that takes a player's name and a pet name, and appends a string saying '[player_name] has adopted [pet_name] as their pet to the chat log."
         ]
      },
      {
         "cell_type": "code",
         "execution_count": null,
         "metadata": {},
         "outputs": [],
         "source": [
            "chat_log = [\n",
            "    ('John', 'Hello, how are you?'),\n",
            "    ('Jane', 'I am doing well, how about you?'),\n",
            "    ('John', 'I am doing well also!'),\n",
            "]\n",
            "\n",
            "def adopt_pet(player_name, pet_name):\n",
            "    # Your Solution Here ❌"
         ]
      },
      {
         "attachments": {},
         "cell_type": "markdown",
         "metadata": {},
         "source": [
            "**Question 15:**\n",
            "Max is planning to add a feature where players can form guilds. Write a function `create_guild(guild_name, player_name)` that takes a guild name and a player's name, and appends a string saying '[player_name] has created the [guild_name] guild.' to the chat log."
         ]
      },
      {
         "cell_type": "code",
         "execution_count": null,
         "metadata": {},
         "outputs": [],
         "source": [
            "chat_log = [\n",
            "    ('John', 'Hello, how are you?'),\n",
            "    ('Jane', 'I am doing well, how about you?'),\n",
            "    ('John', 'I am doing well also!'),\n",
            "]\n",
            "\n",
            "def create_guild(guild_name, player_name):\n",
            "    # Your Solution Here ❌"
         ]
      },
      {
         "attachments": {},
         "cell_type": "markdown",
         "metadata": {},
         "source": [
            "**Question 16:**\n",
            "Max wants to add a feature where players can earn achievements based on their actions in the game. Write a function `earn_achievement(player_name, achievement)` that takes a player's name and an achievement, and appends a string saying '[player_name] earned the [achievement] achievement.' to the chat log."
         ]
      },
      {
         "cell_type": "code",
         "execution_count": null,
         "metadata": {},
         "outputs": [],
         "source": [
            "chat_log = [\n",
            "    ('John', 'Hello, how are you?'),\n",
            "    ('Jane', 'I am doing well, how about you?'),\n",
            "    ('John', 'I am doing well also!'),\n",
            "]\n",
            "\n",
            "def earn_achievement(player_name, achievement):\n",
            "    # Your Solution Here ❌"
         ]
      },
      {
         "attachments": {},
         "cell_type": "markdown",
         "metadata": {},
         "source": [
            "**Question 17:**\n",
            "Max is adding a feature where players can challenge each other to duels. Write a function `challenge_player(challenger, challenged)` that takes two player names, and appends a string saying '[challenger] has challenged [challenged] to a duel.'"
         ]
      },
      {
         "cell_type": "code",
         "execution_count": null,
         "metadata": {},
         "outputs": [],
         "source": [
            "chat_log = [\n",
            "    ('John', 'Hello, how are you?'),\n",
            "    ('Jane', 'I am doing well, how about you?'),\n",
            "    ('John', 'I am doing well also!'),\n",
            "]\n",
            "\n",
            "def challenge_player(challenger, challenged):\n",
            "    # Your Solution Here ❌"
         ]
      },
      {
         "attachments": {},
         "cell_type": "markdown",
         "metadata": {},
         "source": [
            "**Question 18:**\n",
            "Max is planning to add a system for player levels and ranks. He needs a function `set_rank(player_name, rank)` that takes a player's name and a rank, and append a string saying '[player_name] has been promoted to [rank].' to the chat log."
         ]
      },
      {
         "cell_type": "code",
         "execution_count": null,
         "metadata": {},
         "outputs": [],
         "source": [
            "chat_log = [\n",
            "    ('John', 'Hello, how are you?'),\n",
            "    ('Jane', 'I am doing well, how about you?'),\n",
            "    ('John', 'I am doing well also!'),\n",
            "]\n",
            "\n",
            "def set_rank(player_name, rank):\n",
            "    # Your Solution Here ❌"
         ]
      },
      {
         "attachments": {},
         "cell_type": "markdown",
         "metadata": {},
         "source": [
            "**Question 19:**\n",
            "Max is adding a feature where players can form teams. Write a function `form_team(team_name, player1, player2, player3)` that takes a team name and three player names, and appends a string saying 'Team [team_name] was formed by [player1], [player2], and [player3].' to the chat log."
         ]
      },
      {
         "cell_type": "code",
         "execution_count": null,
         "metadata": {},
         "outputs": [],
         "source": [
            "chat_log = [\n",
            "    ('John', 'Hello, how are you?'),\n",
            "    ('Jane', 'I am doing well, how about you?'),\n",
            "    ('John', 'I am doing well also!'),\n",
            "]\n",
            "\n",
            "def form_team(team_name, player1, player2, player3):\n",
            "    # Your Solution Here ❌"
         ]
      },
      {
         "attachments": {},
         "cell_type": "markdown",
         "metadata": {},
         "source": [
            "**Question 20:**\n",
            "Max is planning to incorporate a weather system into his game. Write a function `describe_weather(weather)` that takes a weather condition (e.g., 'sunny', 'rainy', 'snowy') and returns a description of the weather. For example, for 'sunny', the function should return 'The sun is shining brightly.' to the chat log."
         ]
      },
      {
         "cell_type": "code",
         "execution_count": null,
         "metadata": {},
         "outputs": [],
         "source": [
            "chat_log = [\n",
            "    ('John', 'Hello, how are you?'),\n",
            "    ('Jane', 'I am doing well, how about you?'),\n",
            "    ('John', 'I am doing well also!'),\n",
            "]\n",
            "\n",
            "def describe_weather(weather):\n",
            "    # Your Solution Here ❌"
         ]
      }
   ],
   "metadata": {
      "kernelspec": {
         "display_name": "Python 3",
         "name": "python3"
      },
      "language_info": {
         "codemirror_mode": {
            "name": "ipython",
            "version": 3
         },
         "file_extension": ".py",
         "mimetype": "text/x-python",
         "name": "python",
         "nbconvert_exporter": "python",
         "pygments_lexer": "ipython3",
         "version": "3.11.3"
      }
   },
   "nbformat": 4,
   "nbformat_minor": 5
}
