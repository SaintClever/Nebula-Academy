{
   "cells": [
      {
         "attachments": {},
         "cell_type": "markdown",
         "id": "f07a66e1",
         "metadata": {},
         "source": [
            "**Question 1:**\n",
            "Define a function `subtract` that takes two numbers and returns their difference."
         ]
      },
      {
         "cell_type": "code",
         "execution_count": null,
         "id": "8bc4485d",
         "metadata": {},
         "outputs": [],
         "source": [
            "#Your Solution Here ❌"
         ]
      },
      {
         "attachments": {},
         "cell_type": "markdown",
         "id": "0729a5bd",
         "metadata": {},
         "source": [
            "**Question 2:**\n",
            "Write a function that returns a string 'Python is fun!'"
         ]
      },
      {
         "cell_type": "code",
         "execution_count": null,
         "id": "142fb924",
         "metadata": {},
         "outputs": [],
         "source": [
            "#Your Solution Here ❌"
         ]
      },
      {
         "attachments": {},
         "cell_type": "markdown",
         "id": "9fa3e98a",
         "metadata": {},
         "source": [
            "**Question 3:**\n",
            "Describe the role and purpose of functions in Python."
         ]
      },
      {
         "attachments": {},
         "cell_type": "markdown",
         "id": "2c9d189e",
         "metadata": {},
         "source": [
            "Your Solution Here ❌"
         ]
      },
      {
         "attachments": {},
         "cell_type": "markdown",
         "id": "5d24e576",
         "metadata": {},
         "source": [
            "**Question 4:**\n",
            "Explain what the `def` keyword does in Python."
         ]
      },
      {
         "attachments": {},
         "cell_type": "markdown",
         "id": "9cf0a7f4",
         "metadata": {},
         "source": [
            "Your Solution Here ❌"
         ]
      },
      {
         "attachments": {},
         "cell_type": "markdown",
         "id": "dd7ee9e3",
         "metadata": {},
         "source": [
            "**Question 5:**\n",
            "Write a Python function that calculates the factorial of a number."
         ]
      },
      {
         "cell_type": "code",
         "execution_count": null,
         "id": "809c9609",
         "metadata": {},
         "outputs": [],
         "source": [
            "#Your Solution Here ❌"
         ]
      },
      {
         "attachments": {},
         "cell_type": "markdown",
         "id": "fc3c5eb8",
         "metadata": {},
         "source": [
            "**Question 6:**\n",
            "Explain the purpose of the Python Standard Library and list five modules from it."
         ]
      },
      {
         "attachments": {},
         "cell_type": "markdown",
         "id": "e7d5436c",
         "metadata": {},
         "source": [
            "Your Solution Here ❌"
         ]
      },
      {
         "attachments": {},
         "cell_type": "markdown",
         "id": "aef85e3c",
         "metadata": {},
         "source": [
            "**Question 7:**\n",
            "Write a Python script that uses the `os` module from the Python Standard Library to print the current working directory."
         ]
      },
      {
         "cell_type": "code",
         "execution_count": null,
         "id": "51e85c4c",
         "metadata": {},
         "outputs": [],
         "source": [
            "#Your Solution Here ❌"
         ]
      },
      {
         "attachments": {},
         "cell_type": "markdown",
         "id": "fe99834f",
         "metadata": {},
         "source": [
            "**Question 8:**\n",
            "What are external libraries in Python and give an example of how to install one using `pip`."
         ]
      },
      {
         "attachments": {},
         "cell_type": "markdown",
         "id": "5e4f428a",
         "metadata": {},
         "source": [
            "Your Solution Here ❌"
         ]
      },
      {
         "attachments": {},
         "cell_type": "markdown",
         "id": "02dc749b",
         "metadata": {},
         "source": [
            "**Question 9:**\n",
            "Create a Python script that uses the `random` module from the Python Standard Library to generate and print a random number between 1 and 10."
         ]
      },
      {
         "cell_type": "code",
         "execution_count": null,
         "id": "23b098bf",
         "metadata": {},
         "outputs": [],
         "source": [
            "#Your Solution Here ❌"
         ]
      },
      {
         "attachments": {},
         "cell_type": "markdown",
         "id": "2dbbe344",
         "metadata": {},
         "source": [
            "**Question 10:**\n",
            "Write a Python function named `square` in a separate module, then import and call that function in another Python script."
         ]
      },
      {
         "cell_type": "code",
         "execution_count": null,
         "id": "f56cd044",
         "metadata": {},
         "outputs": [],
         "source": [
            "#Your Solution Here ❌"
         ]
      },
      {
         "attachments": {},
         "cell_type": "markdown",
         "id": "bcb36f53",
         "metadata": {},
         "source": [
            "**Question 11:**\n",
            "What is the purpose of `pip` in Python?"
         ]
      },
      {
         "attachments": {},
         "cell_type": "markdown",
         "id": "2d35c6cb",
         "metadata": {},
         "source": [
            "Your Solution Here ❌"
         ]
      },
      {
         "attachments": {},
         "cell_type": "markdown",
         "metadata": {},
         "source": [
            "**Question 21:**\n",
            "Write a Python function named `calculate_average` that takes a list of numbers as input and returns their average."
         ]
      },
      {
         "cell_type": "code",
         "execution_count": 5,
         "metadata": {},
         "outputs": [
            {
               "name": "stdout",
               "output_type": "stream",
               "text": [
                  "15\n"
               ]
            }
         ],
         "source": [
            "\n",
            "def calculate_average(nums):\n",
            "    total = 0\n",
            "    for num in nums:\n",
            "        total+=num\n",
            "    print(total)\n",
            "\n",
            "calculate_average([1,2,3,4,5])"
         ]
      },
      {
         "attachments": {},
         "cell_type": "markdown",
         "metadata": {},
         "source": [
            "**Question 12:**\n",
            "Create a Python module named `string_operations` with a function `reverse_string` that takes a string and returns the reversed string. Import and use this function in another script."
         ]
      },
      {
         "cell_type": "code",
         "execution_count": null,
         "metadata": {},
         "outputs": [],
         "source": [
            "# Your Solution Here ❌"
         ]
      },
      {
         "attachments": {},
         "cell_type": "markdown",
         "metadata": {},
         "source": [
            "**Question 13:**\n",
            "Use the `os` module in Python to create a new directory called 'new_directory'."
         ]
      },
      {
         "cell_type": "code",
         "execution_count": null,
         "metadata": {},
         "outputs": [],
         "source": [
            "# Your Solution Here ❌"
         ]
      },
      {
         "attachments": {},
         "cell_type": "markdown",
         "metadata": {},
         "source": [
            "**Question 14:**\n",
            "Write a Python script that uses the `random` module to generate and print a list of 10 random numbers between 1 and 100."
         ]
      },
      {
         "cell_type": "code",
         "execution_count": null,
         "metadata": {},
         "outputs": [],
         "source": [
            "# Your Solution Here ❌"
         ]
      },
      {
         "attachments": {},
         "cell_type": "markdown",
         "metadata": {},
         "source": [
            "**Question 15:**\n",
            "Write a Python function named `count_vowels` that takes a string and returns the count of vowel letters in the string."
         ]
      },
      {
         "cell_type": "code",
         "execution_count": null,
         "metadata": {},
         "outputs": [],
         "source": [
            "# Your Solution Here ❌"
         ]
      },
      {
         "attachments": {},
         "cell_type": "markdown",
         "metadata": {},
         "source": [
            "**Question 16:**\n",
            "Use the `requests` library to [send a GET request](https://www.w3schools.com/python/ref_requests_get.asp) to `https://jsonplaceholder.typicode.com/posts` and print the first post's title."
         ]
      },
      {
         "cell_type": "code",
         "execution_count": null,
         "metadata": {},
         "outputs": [],
         "source": [
            "# Your Solution Here ❌"
         ]
      },
      {
         "attachments": {},
         "cell_type": "markdown",
         "metadata": {},
         "source": [
            "**Question 17:**\n",
            "Write a Python function named `factorial` that takes a positive integer and returns its factorial."
         ]
      },
      {
         "cell_type": "code",
         "execution_count": null,
         "metadata": {},
         "outputs": [],
         "source": [
            "# Your Solution Here ❌"
         ]
      },
      {
         "attachments": {},
         "cell_type": "markdown",
         "metadata": {},
         "source": [
            "**Question 18:**\n",
            "Write a Python function named `is_palindrome` that takes a string and returns `True` if the string is a palindrome and `False` otherwise."
         ]
      },
      {
         "cell_type": "code",
         "execution_count": null,
         "metadata": {},
         "outputs": [],
         "source": [
            "# Your Solution Here ❌"
         ]
      },
      {
         "attachments": {},
         "cell_type": "markdown",
         "metadata": {},
         "source": [
            "**Question 19:**\n",
            "Write a Python script that creates a `numpy` array of 100 elements, all of which are equal to the integer 7."
         ]
      },
      {
         "cell_type": "code",
         "execution_count": null,
         "metadata": {},
         "outputs": [],
         "source": [
            "# Your Solution Here ❌"
         ]
      }
   ],
   "metadata": {
      "kernelspec": {
         "display_name": "Python 3",
         "name": "python3"
      },
      "language_info": {
         "codemirror_mode": {
            "name": "ipython",
            "version": 3
         },
         "file_extension": ".py",
         "mimetype": "text/x-python",
         "name": "python",
         "nbconvert_exporter": "python",
         "pygments_lexer": "ipython3",
         "version": "3.11.0"
      }
   },
   "nbformat": 4,
   "nbformat_minor": 5
}
