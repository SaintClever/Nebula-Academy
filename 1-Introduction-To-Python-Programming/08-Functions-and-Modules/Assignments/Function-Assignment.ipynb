{
   "cells": [
      {
         "attachments": {},
         "cell_type": "markdown",
         "metadata": {},
         "source": [
            "**Question 1:**\n",
            "What is a function in Python? What keyword is used to define a function in Python?"
         ]
      },
      {
         "attachments": {},
         "cell_type": "markdown",
         "id": "b2137b6c",
         "metadata": {},
         "source": [
            "Your Solution Here ❌"
         ]
      },
      {
         "attachments": {},
         "cell_type": "markdown",
         "metadata": {},
         "source": [
            "**Question 2:**\n",
            "Define a function `multiply_numbers` that takes in two parameters `a` and `b`, and returns their product."
         ]
      },
      {
         "cell_type": "code",
<<<<<<< Updated upstream
         "execution_count": null,
         "metadata": {},
         "outputs": [],
         "source": [
            "#Your Solution Here ❌"
=======
         "execution_count": 2,
         "metadata": {},
         "outputs": [
            {
               "name": "stdout",
               "output_type": "stream",
               "text": [
                  "6\n"
               ]
            }
         ],
         "source": [
            "#Your Solution Here ❌\n",
            "\n",
            "def mult(a, b):\n",
            "    return a * b\n",
            "\n",
            "print(mult(2, 3))"
>>>>>>> Stashed changes
         ]
      },
      {
         "attachments": {},
         "cell_type": "markdown",
         "metadata": {},
         "source": [
            "**Question 3:**\n",
            "Write a function `greet` that takes a string `name` as a parameter and returns a greeting message 'Hello, {name}!'."
         ]
      },
      {
         "cell_type": "code",
<<<<<<< Updated upstream
         "execution_count": null,
         "metadata": {},
         "outputs": [],
         "source": [
            "#Your Solution Here ❌"
=======
         "execution_count": 3,
         "metadata": {},
         "outputs": [
            {
               "name": "stdout",
               "output_type": "stream",
               "text": [
                  "Hello, Bob!\n"
               ]
            }
         ],
         "source": [
            "#Your Solution Here ❌\n",
            "\n",
            "def greeting(name):\n",
            "    return \"Hello, \" + name + \"!\"\n",
            "\n",
            "print(greeting(\"Bob\"))"
>>>>>>> Stashed changes
         ]
      },
      {
         "attachments": {},
         "cell_type": "markdown",
         "metadata": {},
         "source": [
            "**Question 4:**\n",
            "What does the Python Standard Library consist of?"
         ]
      },
      {
         "attachments": {},
         "cell_type": "markdown",
         "id": "f0990c8e",
         "metadata": {},
         "source": [
            "Your Solution Here ❌"
         ]
      },
      {
         "attachments": {},
         "cell_type": "markdown",
         "metadata": {},
         "source": [
            "**Question 5:**\n",
            "Use the `os` module from the Python Standard Library to print the current working directory."
         ]
      },
      {
         "cell_type": "code",
<<<<<<< Updated upstream
         "execution_count": null,
         "metadata": {},
         "outputs": [],
         "source": [
            "#Your Solution Here ❌"
=======
         "execution_count": 4,
         "metadata": {},
         "outputs": [
            {
               "name": "stdout",
               "output_type": "stream",
               "text": [
                  "/Users/brandongottshall/Repos/Work/Nebula/curriculumDevelopment/python-curriculum/1-Introduction-To-Python-Programming/08-Functions-and-Modules/Assignments\n"
               ]
            }
         ],
         "source": [
            "import os\n",
            "\n",
            "print(os.getcwd())"
>>>>>>> Stashed changes
         ]
      },
      {
         "attachments": {},
         "cell_type": "markdown",
         "metadata": {},
         "source": [
            "**Question 6:**\n",
            "Use the `random` module from the Python Standard Library to generate a random integer between 1 and 10."
         ]
      },
      {
         "cell_type": "code",
<<<<<<< Updated upstream
         "execution_count": null,
         "metadata": {},
         "outputs": [],
         "source": [
            "#Your Solution Here ❌"
=======
         "execution_count": 20,
         "metadata": {},
         "outputs": [
            {
               "name": "stdout",
               "output_type": "stream",
               "text": [
                  "9\n"
               ]
            }
         ],
         "source": [
            "import random\n",
            "\n",
            "print(random.randint(0, 10))\n"
>>>>>>> Stashed changes
         ]
      },
      {
         "attachments": {},
         "cell_type": "markdown",
         "metadata": {},
         "source": [
            "**Question 7:**\n",
            "What are some of the most commonly used external Python libraries?"
         ]
      },
      {
         "attachments": {},
         "cell_type": "markdown",
         "id": "49eebb0d",
         "metadata": {},
         "source": [
            "Your Solution Here ❌"
         ]
      },
      {
         "attachments": {},
         "cell_type": "markdown",
         "metadata": {},
         "source": [
            "**Question 8:**\n",
            "Install the `numpy` library using pip. Record the command you used to install the library."
         ]
      },
      {
         "cell_type": "code",
<<<<<<< Updated upstream
         "execution_count": null,
=======
         "execution_count": 1,
>>>>>>> Stashed changes
         "metadata": {
            "vscode": {
               "languageId": "shellscript"
            }
         },
<<<<<<< Updated upstream
         "outputs": [],
         "source": [
            "# Your Solution Here ❌"
=======
         "outputs": [
            {
               "ename": "SyntaxError",
               "evalue": "invalid syntax (1567257264.py, line 2)",
               "output_type": "error",
               "traceback": [
                  "\u001b[0;36m  Cell \u001b[0;32mIn[1], line 2\u001b[0;36m\u001b[0m\n\u001b[0;31m    pip install numpy\u001b[0m\n\u001b[0m        ^\u001b[0m\n\u001b[0;31mSyntaxError\u001b[0m\u001b[0;31m:\u001b[0m invalid syntax\n"
               ]
            }
         ],
         "source": [
            "# Your Solution Here ❌\n",
            "pip install numpy"
>>>>>>> Stashed changes
         ]
      },
      {
         "attachments": {},
         "cell_type": "markdown",
         "metadata": {},
         "source": [
            "**Question 9:**\n",
            "Create a numpy array `arr` with the elements 1, 2, 3, 4, 5."
         ]
      },
      {
         "cell_type": "code",
<<<<<<< Updated upstream
         "execution_count": null,
         "metadata": {},
         "outputs": [],
         "source": [
            "#Your Solution Here ❌"
=======
         "execution_count": 3,
         "metadata": {},
         "outputs": [
            {
               "name": "stdout",
               "output_type": "stream",
               "text": [
                  "[1 2 3 4 5]\n",
                  "[0 2 4 6 8]\n"
               ]
            }
         ],
         "source": [
            "#Your Solution Here ❌\n",
            "import numpy as np\n",
            "\n",
            "print(np.array([1, 2, 3, 4, 5]))\n",
            "print(np.arange(0, 10, 2))\n",
            "\n"
>>>>>>> Stashed changes
         ]
      },
      {
         "attachments": {},
         "cell_type": "markdown",
         "metadata": {},
         "source": [
            "**Question 10:**\n",
            "What are custom modules in Python and how do you create them?"
         ]
      },
      {
         "attachments": {},
         "cell_type": "markdown",
         "id": "f380e9f0",
         "metadata": {},
         "source": [
            "Your Solution Here ❌"
         ]
      },
      {
         "attachments": {},
         "cell_type": "markdown",
         "metadata": {},
         "source": [
            "**Question 11:**\n",
            "Create a module `calculator` with a function `add` that takes two numbers and returns their sum."
         ]
      },
      {
         "cell_type": "code",
<<<<<<< Updated upstream
         "execution_count": null,
         "metadata": {},
         "outputs": [],
         "source": [
            "#Your Solution Here ❌"
=======
         "execution_count": 5,
         "metadata": {},
         "outputs": [
            {
               "name": "stdout",
               "output_type": "stream",
               "text": [
                  "5\n"
               ]
            }
         ],
         "source": [
            "import modules.calculator as calc\n",
            "\n",
            "print(calc.add(2, 3))"
>>>>>>> Stashed changes
         ]
      },
      {
         "attachments": {},
         "cell_type": "markdown",
         "metadata": {},
         "source": [
            "**Question 12:**\n",
            "What is `pip` and what is it used for in Python?"
         ]
      },
      {
         "attachments": {},
         "cell_type": "markdown",
         "id": "9927187b",
         "metadata": {},
         "source": [
<<<<<<< Updated upstream
            "Your Solution Here ❌"
=======
            "anyio                    3.6.2\n",
            "appnope                  0.1.3\n",
            "argon2-cffi              21.3.0\n",
            "argon2-cffi-bindings     21.2.0\n",
            "arrow                    1.2.3\n",
            "asttokens                2.2.1\n",
            "attrs                    23.1.0\n",
            "backcall                 0.2.0\n",
            "beautifulsoup4           4.12.2\n",
            "bleach                   6.0.0\n",
            "cffi                     1.15.1\n",
            "comm                     0.1.3\n",
            "contourpy                1.0.7\n",
            "cycler                   0.11.0\n",
            "debugpy                  1.6.7\n",
            "decorator                5.1.1\n",
            "defusedxml               0.7.1\n",
            "executing                1.2.0\n",
            "fastjsonschema           2.17.1\n",
            "fonttools                4.39.4\n",
            "fqdn                     1.5.1\n",
            "idna                     3.4\n",
            "ipykernel                6.23.1\n",
            "ipython                  8.13.2\n",
            "ipython-genutils         0.2.0\n",
            "ipywidgets               8.0.6\n",
            "isoduration              20.11.0\n",
            "jedi                     0.18.2\n",
            "Jinja2                   3.1.2\n",
            "jsonpointer              2.3\n",
            "jsonschema               4.17.3\n",
            "jupyter                  1.0.0\n",
            "jupyter_client           8.2.0\n",
            "jupyter-console          6.6.3\n",
            "jupyter_core             5.3.0\n",
            "jupyter-events           0.6.3\n",
            "jupyter_server           2.5.0\n",
            "jupyter_server_terminals 0.4.4\n",
            "jupyterlab-pygments      0.2.2\n",
            "jupyterlab-widgets       3.0.7\n",
            "kiwisolver               1.4.4\n",
            "MarkupSafe               2.1.2\n",
            "matplotlib               3.7.1\n",
            "matplotlib-inline        0.1.6\n",
            "mistune                  2.0.5\n",
            "mpmath                   1.3.0\n",
            "nbclassic                1.0.0\n",
            "nbclient                 0.8.0\n",
            "nbconvert                7.4.0\n",
            "nbformat                 5.8.0\n",
            "nest-asyncio             1.5.6\n",
            "notebook                 6.5.4\n",
            "notebook_shim            0.2.3\n",
            "numpy                    1.24.3\n",
            "packaging                23.1\n",
            "pandocfilters            1.5.0\n",
            "parso                    0.8.3\n",
            "pexpect                  4.8.0\n",
            "pickleshare              0.7.5\n",
            "Pillow                   9.5.0\n",
            "pip                      22.3.1\n",
            "platformdirs             3.5.1\n",
            "prometheus-client        0.16.0\n",
            "prompt-toolkit           3.0.38\n",
            "psutil                   5.9.5\n",
            "ptyprocess               0.7.0\n",
            "pure-eval                0.2.2\n",
            "pycparser                2.21\n",
            "Pygments                 2.15.1\n",
            "pyparsing                3.0.9\n",
            "pyrsistent               0.19.3\n",
            "python-dateutil          2.8.2\n",
            "python-json-logger       2.0.7\n",
            "PyYAML                   6.0\n",
            "pyzmq                    25.0.2\n",
            "qtconsole                5.4.3\n",
            "QtPy                     2.3.1\n",
            "rfc3339-validator        0.1.4\n",
            "rfc3986-validator        0.1.1\n",
            "Send2Trash               1.8.2\n",
            "setuptools               65.5.0\n",
            "six                      1.16.0\n",
            "sniffio                  1.3.0\n",
            "soupsieve                2.4.1\n",
            "stack-data               0.6.2\n",
            "sympy                    1.12\n",
            "terminado                0.17.1\n",
            "tinycss2                 1.2.1\n",
            "tornado                  6.3.2\n",
            "traitlets                5.9.0\n",
            "uri-template             1.2.0\n",
            "wcwidth                  0.2.6\n",
            "webcolors                1.13\n",
            "webencodings             0.5.1\n",
            "websocket-client         1.5.2\n",
            "widgetsnbextension       4.0.7"
>>>>>>> Stashed changes
         ]
      },
      {
         "attachments": {},
         "cell_type": "markdown",
         "metadata": {},
         "source": [
            "**Question 13:**\n",
            "Display the list of packages installed in your Python environment using `pip list`. Show the output."
         ]
      },
      {
         "cell_type": "raw",
         "metadata": {},
         "source": [
            "Your Solution Here ❌"
         ]
      },
      {
         "attachments": {},
         "cell_type": "markdown",
         "metadata": {},
         "source": [
            "**Question 14:**\n",
            "What is the purpose of the `pip freeze` command and the `requirements.txt` file in Python?"
         ]
      },
      {
         "attachments": {},
         "cell_type": "markdown",
         "id": "838262e8",
         "metadata": {},
         "source": [
            "Your Solution Here ❌"
         ]
      },
      {
         "attachments": {},
         "cell_type": "markdown",
         "metadata": {},
         "source": [
            "**Question 15:**\n",
            "Generate a `requirements.txt` file for your current Python environment using the `pip freeze` command. Show the output."
         ]
      },
      {
         "cell_type": "raw",
         "metadata": {},
         "source": [
            "Your Solution Here ❌"
         ]
      },
      {
         "attachments": {},
         "cell_type": "markdown",
         "metadata": {},
         "source": [
            "**Question 16:**\n",
            "Create a Python script that uses the `requests` library to send a GET request to 'http://example.com' and prints the status code of the response. [Hint](https://www.w3schools.com/python/ref_requests_get.asp)"
         ]
      },
      {
         "cell_type": "code",
<<<<<<< Updated upstream
         "execution_count": null,
         "metadata": {},
         "outputs": [],
         "source": [
            "#Your Solution Here ❌"
=======
         "execution_count": 6,
         "metadata": {},
         "outputs": [
            {
               "name": "stdout",
               "output_type": "stream",
               "text": [
                  "200\n"
               ]
            }
         ],
         "source": [
            "#Your Solution Here ❌\n",
            "\n",
            "import requests\n",
            "\n",
            "response = requests.get(\"https://www.google.com\")\n",
            "\n",
            "print(response.status_code)"
>>>>>>> Stashed changes
         ]
      },
      {
         "attachments": {},
         "cell_type": "markdown",
         "metadata": {},
         "source": [
            "**Question 17:**\n",
            "Create a simple library that contains a function `calculate_area` to calculate the area of a rectangle. Use this library in a Python program to calculate and print the area of a rectangle with dimensions 5 and 10."
         ]
      },
      {
         "cell_type": "code",
<<<<<<< Updated upstream
         "execution_count": null,
         "metadata": {},
         "outputs": [],
         "source": [
            "#Your Solution Here ❌"
=======
         "execution_count": 3,
         "metadata": {},
         "outputs": [
            {
               "name": "stdout",
               "output_type": "stream",
               "text": [
                  "3.0\n"
               ]
            }
         ],
         "source": [
            "#Your Solution Here ❌\n",
            "from modules.calculator import calculate_area\n",
            "\n",
            "print(calculate_area(2, 3))"
>>>>>>> Stashed changes
         ]
      },
      {
         "attachments": {},
         "cell_type": "markdown",
         "metadata": {},
         "source": [
            "**Question 18:**\n",
            "What are the steps to create and use a custom module in Python? You may choose to [illustrate](https://excalidraw.com) and/or describe this process."
         ]
      },
      {
         "attachments": {},
         "cell_type": "markdown",
         "id": "78d18887",
         "metadata": {},
         "source": [
            "Your Solution Here ❌"
         ]
      },
      {
         "attachments": {},
         "cell_type": "markdown",
         "metadata": {},
         "source": [
            "**Question 19:**\n",
            "Create a Python script that uses the `datetime` module from the Python Standard Library to print the current date and time."
         ]
      },
      {
         "cell_type": "code",
<<<<<<< Updated upstream
         "execution_count": null,
         "metadata": {},
         "outputs": [],
         "source": [
            "#Your Solution Here ❌"
=======
         "execution_count": 5,
         "metadata": {},
         "outputs": [
            {
               "name": "stdout",
               "output_type": "stream",
               "text": [
                  "2023-06-02 12:08:16.345443\n"
               ]
            }
         ],
         "source": [
            "#Your Solution Here ❌\n",
            "\n",
            "import datetime\n",
            "\n",
            "print(datetime.datetime.now())\n"
>>>>>>> Stashed changes
         ]
      }
   ],
   "metadata": {
      "kernelspec": {
         "display_name": "Python 3",
         "name": "python3"
      },
      "language_info": {
         "codemirror_mode": {
            "name": "ipython",
            "version": 3
         },
         "file_extension": ".py",
         "mimetype": "text/x-python",
         "name": "python",
         "nbconvert_exporter": "python",
         "pygments_lexer": "ipython3",
         "version": "3.11.3"
      }
   },
   "nbformat": 4,
   "nbformat_minor": 5
}
