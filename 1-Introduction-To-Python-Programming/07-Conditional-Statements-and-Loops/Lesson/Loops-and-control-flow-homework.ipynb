{
  "cells": [
    {
      "attachments": {},
      "cell_type": "markdown",
      "id": "ab509a33",
      "metadata": {},
      "source": [
        "1. Picture yourself as a robot in a grocery store observing items on a shelf. Your task is to \"pick up\" or print item 1, 4, and 6 on this shelf. How would you achieve this using a `for` loop?\n"
      ]
    },
    {
      "cell_type": "code",
      "execution_count": 3,
      "id": "f0496ab3",
      "metadata": {},
      "outputs": [],
      "source": [
        "shelf = [ 'ketchup', 'mustard', 'mayo', 'hot_sauce', 'salt', 'pepper', 'peanut_butter', 'jelly', 'ranch', 'soy_sauce', 'sriracha', 'cheese' ]\n",
        "\n",
        "# Your Solution Here"
      ]
    },
    {
      "attachments": {},
      "cell_type": "markdown",
      "id": "9f9d45a0",
      "metadata": {},
      "source": [
        "2. Imagine being a night watchman at a museum, where you need to patrol from room 1 to room 10. But rather than entering every room and expending energy you only need to print the even numbered rooms. How would you achieve this using a `while` loop?"
      ]
    },
    {
      "cell_type": "code",
      "execution_count": 4,
      "id": "faaf9827",
      "metadata": {},
      "outputs": [],
      "source": [
        "# Your Solution Here"
      ]
    },
    {
      "attachments": {},
      "cell_type": "markdown",
      "id": "ef25aad5",
      "metadata": {},
      "source": [
        "3. Suppose you're an inexperienced Martian on Earth and trying to learn about counting. You're given the tuple `my_tuple` (1, 2, 3, 4, 5) and your job is to print each number. At each number, determine if its greater than, lesser than, or equal to three and then print your analysis. Use a `for` loop, `if`, `elif`, and `else` statements."
      ]
    },
    {
      "cell_type": "code",
      "execution_count": 5,
      "id": "2bcd0845",
      "metadata": {},
      "outputs": [],
      "source": [
        "my_tuple = (1, 2, 3, 4, 5)\n",
        "# Your Solution Here"
      ]
    },
    {
      "attachments": {},
      "cell_type": "markdown",
      "id": "8580b2e5",
      "metadata": {},
      "source": [
        "4. You are tasked with transforming numbers from one through ten into their squared counterparts at magic school. However, numbers should not be squared if the result exceed seven but skipped over instead. How would you achieve this using a `for` loop and an `if` statement?\n"
      ]
    },
    {
      "cell_type": "code",
      "execution_count": 6,
      "id": "eb978e1a",
      "metadata": {},
      "outputs": [],
      "source": [
        "# Your Solution Here"
      ]
    },
    {
      "attachments": {},
      "cell_type": "markdown",
      "id": "0c194f38",
      "metadata": {},
      "source": [
        "5. Imagine you are a personal trainer. Inform your clients about their levels using a numbered scale. When calling out their numbers, follow with categories such as 'Beginner' (less than four), 'Intermediate' (numbers four through seven), and 'Advanced' (greater than seven). How would you achieve this using a `while` loop and `if`, `elif`, and `else` statements?"
      ]
    },
    {
      "cell_type": "code",
      "execution_count": 7,
      "id": "94b7979b",
      "metadata": {},
      "outputs": [],
      "source": [
        "clients = { 'Marilyn Monroe': 5, 'Yogi Berra': 6, 'Robin Williams': 9, 'Muhammad Ali': 12, 'Babe Ruth': 11, 'Mae West': 8 }\n",
        "# Your Solution Here"
      ]
    },
    {
      "attachments": {},
      "cell_type": "markdown",
      "id": "ebd251a5",
      "metadata": {},
      "source": [
        "6. Now let's pretend that you're the host of a math-themed game show. Give each of your 15 participants a random score from 1-10. Any participant whose number is divisible by 3 will win a 'Fizz', those whose number is divisible by 5 get a 'Buzz' prize, and those whose number is divisible by both get the coveted prize of both: 'FizzBuzz'. How would you achieve this using a `for` loop and `if`, `elif`, and `else` statements?\n"
      ]
    },
    {
      "cell_type": "code",
      "execution_count": 8,
      "id": "f492758a",
      "metadata": {},
      "outputs": [],
      "source": [
        "participant_scores = {\n",
        "    'John': 0,\n",
        "    'Bob': 0,\n",
        "    'Charles': 0,\n",
        "    'Digory': 0,\n",
        "    'Edward': 0,\n",
        "    'Ford': 0,\n",
        "    'Arthur': 0,\n",
        "    'Marvin': 0,\n",
        "    'Eddie': 0,\n",
        "    'Frankie': 0,\n",
        "    'Benjy': 0,\n",
        "    'Loretta': 0,\n",
        "    'Trillian': 0,\n",
        "    'Zaphod': 0,\n",
        "    'Jeff': 0,\n",
        "}\n",
        "# Your Solution Here"
      ]
    },
    {
      "attachments": {},
      "cell_type": "markdown",
      "id": "d59df45c",
      "metadata": {},
      "source": [
        "7. Suppose that you're on a mission to find prime numbers in `num_list`. Whenever you come across one while scanning through this list, declare \"Yes\". However, if what you find is actually a composite number instead, declare \"No\". How would you achieve this using a `for` loop and `if` and `else` statements?\n",
        "\n",
        "Note: A prime number is a number that is divisible only by itself and 1. A composite number is a number that is divisible by more than itself and 1."
      ]
    },
    {
      "cell_type": "code",
      "execution_count": 9,
      "id": "d422be4e",
      "metadata": {},
      "outputs": [],
      "source": [
        "num_list = [ 1, 2, 3, 4, 5, 6, 7, 8, 9, 10 ]\n",
        "# Your Solution Here"
      ]
    },
    {
      "attachments": {},
      "cell_type": "markdown",
      "id": "37ece92c",
      "metadata": {},
      "source": [
        "8.  You are an archaeologist who needs to decode an ancient message written in the variable `the_code`. Decipher this message by printing out each character in reverse. If an \"e\" pops up at any point during your work, mark down its appearance with an exclamation as in \"Found an e!\". How would you achieve this using a `for` loop and `if` and `else` statements?\n"
      ]
    },
    {
      "cell_type": "code",
      "execution_count": null,
      "id": "0795f8f9",
      "metadata": {},
      "outputs": [],
      "source": [
        "the_code = [ 'r', 'e', 'g', 'n', 'a', 'd' ]\n",
        "# Your Solution Here"
      ]
    },
    {
      "attachments": {},
      "cell_type": "markdown",
      "id": "72e8af84",
      "metadata": {},
      "source": [
        "9. Imagine you're an astronaut traveling through space and encountering planets numbered from 1 to 8. You need to print 'Small' for planets with odd numbers and 'Big' for planets with even numbers. How would you do this using a `for` loop and `if`, `elif`, and `else` statements?"
      ]
    },
    {
      "cell_type": "code",
      "execution_count": null,
      "id": "20eafa08",
      "metadata": {},
      "outputs": [],
      "source": [
        "# Your Solution Here"
      ]
    },
    {
      "attachments": {},
      "cell_type": "markdown",
      "id": "e94f73d1",
      "metadata": {},
      "source": [
        "10.  Imagine you're a zookeeper at a reptile exhibit with different species numbered from 1 to 15. Some of the reptiles are friendly and some are not. You need to print 'Not Friendly' if the exhibit number is divisible by 3. Print 'Friendly' for all other reptiles. How would you accomplish this using a `for` loop and `if`, `elif`, and `else` statements?"
      ]
    },
    {
      "cell_type": "code",
      "execution_count": null,
      "id": "17ec1dd6",
      "metadata": {},
      "outputs": [],
      "source": [
        "# Your Solution Here"
      ]
    }
  ],
  "metadata": {
    "kernelspec": {
      "display_name": "Python 3",
      "name": "python3"
    },
    "language_info": {
      "codemirror_mode": {
        "name": "ipython",
        "version": 3
      },
      "file_extension": ".py",
      "mimetype": "text/x-python",
      "name": "python",
      "nbconvert_exporter": "python",
      "pygments_lexer": "ipython3",
      "version": "3.11.3"
    }
  },
  "nbformat": 4,
  "nbformat_minor": 5
}
