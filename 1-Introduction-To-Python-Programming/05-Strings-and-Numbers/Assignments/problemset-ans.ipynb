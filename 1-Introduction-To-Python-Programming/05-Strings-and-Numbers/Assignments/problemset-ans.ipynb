{
 "cells": [
  {
   "cell_type": "markdown",
   "metadata": {},
   "source": [
    "# Practice Problems\n",
    "\n",
    "## 1. Strings\n",
    "\n",
    "### 1.1 Recognizing and Crafting Strings\n",
    "\n",
    "1. Create a string variable named `greeting` and assign it the value \"Hello, World!\".\n",
    "2. Create a string variable named `name` and assign it your name. Print a message that says \"Hello, [your name]!\" using the `name` variable."
   ]
  },
  {
   "cell_type": "code",
   "execution_count": null,
   "metadata": {},
   "outputs": [],
   "source": [
    "# Problem 1.1.1\n",
    "greeting = \"Hello, World!\"\n",
    "\n",
    "# Problem 1.1.2\n",
    "name = \"John\"\n",
    "print(\"Hello, \" + name + \"!\")"
   ]
  },
  {
   "cell_type": "markdown",
   "metadata": {},
   "source": [
    "### 1.2 String Formatting with the Format and F-String Methods\n",
    "\n",
    "1. Create a string variable named `fruit` and assign it the value \"apple\". Create another string variable named `color` and assign it the value \"red\". Use string formatting to print the message \"The [color] [fruit] is delicious!\".\n",
    "2. Use f-string formatting to print the message \"I have 3 apples and 2 bananas.\" using variables `apple_count` and `banana_count`."
   ]
  },
  {
   "cell_type": "code",
   "execution_count": null,
   "metadata": {},
   "outputs": [],
   "source": [
    "# Problem 1.2.1\n",
    "fruit = \"apple\"\n",
    "color = \"red\"\n",
    "print(\"The {} {} is delicious!\".format(color, fruit))\n",
    "\n",
    "# Problem 1.2.2\n",
    "apple_count = 3\n",
    "banana_count = 2\n",
    "print(f\"I have {apple_count} apples and {banana_count} bananas.\")"
   ]
  },
  {
   "cell_type": "markdown",
   "metadata": {},
   "source": [
    "### 1.3 Utilizing Escape Characters and Raw Strings for Special Characters\n",
    "\n",
    "1. Create a string variable named `path` and assign it a Windows file path (e.g., \"C:\\\\Documents\\\\file.txt\"). Use the appropriate escape characters to represent the backslashes correctly.\n",
    "2. Create a raw string variable named `raw_path` and assign it the same Windows file path as above. Print the value of `raw_path` and observe how the escape characters are treated differently."
   ]
  },
  {
   "cell_type": "code",
   "execution_count": null,
   "metadata": {},
   "outputs": [],
   "source": [
    "# Problem 1.3.1\n",
    "path = \"C:\\\\Documents\\\\file.txt\"\n",
    "\n",
    "# Problem 1.3.2\n",
    "raw_path = r\"C:\\Documents\\file.txt\"\n",
    "print(raw_path)"
   ]
  },
  {
   "cell_type": "markdown",
   "metadata": {},
   "source": [
    "### 1.4 Accessing String Characters via Indexing\n",
    "\n",
    "1. Create a string variable named `word` and assign it a word of your choice. Print the first character of the word.\n",
    "2. Print the last character of the word using negative indexing."
   ]
  },
  {
   "cell_type": "code",
   "execution_count": null,
   "metadata": {},
   "outputs": [],
   "source": [
    "# Problem 1.4.1\n",
    "word = \"Python\"\n",
    "print(word[0])\n",
    "\n",
    "# Problem 1.4.2\n",
    "print(word[-1])"
   ]
  },
  {
   "cell_type": "markdown",
   "metadata": {},
   "source": [
    "### 1.5 Utilizing Basic String Methods\n",
    "\n",
    "1. Create a string variable named `sentence` and assign it a sentence of your choice. Convert the sentence to uppercase and print the result.\n",
    "2. Count and print the number of occurrences of the letter \"e\" in the sentence."
   ]
  },
  {
   "cell_type": "code",
   "execution_count": null,
   "metadata": {},
   "outputs": [],
   "source": [
    "# Problem 1.5.1\n",
    "sentence = \"This is a sentence.\"\n",
    "print(sentence.upper())\n",
    "\n",
    "# Problem 1.5.2\n",
    "e_count = sentence.count(\"e\")\n",
    "print(e_count)"
   ]
  },
  {
   "cell_type": "markdown",
   "metadata": {},
   "source": [
    "### 1.6 Manipulating Strings with Arithmetic Operators\n",
    "\n",
    "1. Create two string variables, `first_name` and `last_name`, and assign them your first and last name, respectively. Concatenate the two names using the `+` operator and print the full name.\n",
    "2. Create a string variable named `word` and assign it a word of your choice. Multiply the word by 3 using the `*` operator and print the result."
   ]
  },
  {
   "cell_type": "code",
   "execution_count": null,
   "metadata": {},
   "outputs": [],
   "source": [
    "# Problem 1.6.1\n",
    "first_name = \"John\"\n",
    "last_name = \"Doe\"\n",
    "full_name = first_name + \" \" + last_name\n",
    "print(full_name)\n",
    "\n",
    "# Problem 1.6.2\n",
    "word = \"Hello\"\n",
    "result = word * 3\n",
    "print(result)"
   ]
  },
  {
   "cell_type": "markdown",
   "metadata": {},
   "source": [
    "## 2. Delving into Numbers\n",
    "\n",
    "### 2.1 Distinguishing Between Integers and Floats\n",
    "\n",
    "1. Create an integer variable named `age` and assign it your age. Print the value of `age`.\n",
    "2. Create a float variable named `temperature` and assign it the current temperature. Print the value of `temperature`."
   ]
  },
  {
   "cell_type": "code",
   "execution_count": null,
   "metadata": {},
   "outputs": [],
   "source": [
    "# Problem 2.1.1\n",
    "age = 25\n",
    "print(age)\n",
    "\n",
    "# Problem 2.1.2\n",
    "temperature = 23.5\n",
    "print(temperature)"
   ]
  },
  {
   "cell_type": "markdown",
   "metadata": {},
   "source": [
    "### 2.2 Executing Mathematical Operations with Arithmetic Operators\n",
    "\n",
    "1. Create two variables, `num1` and `num2`, and assign them any two numbers of your choice. Add the two numbers together and print the result.\n",
    "2. Subtract `num2` from `num1` and print the result."
   ]
  },
  {
   "cell_type": "code",
   "execution_count": null,
   "metadata": {},
   "outputs": [],
   "source": [
    "# Problem 2.2.1\n",
    "num1 = 10\n",
    "num2 = 5\n",
    "result = num1 + num2\n",
    "print(result)\n",
    "\n",
    "# Problem 2.2.2\n",
    "result = num1 - num2\n",
    "print(result)"
   ]
  },
  {
   "cell_type": "markdown",
   "metadata": {},
   "source": [
    "### 2.3 Harnessing Built-In Functions for Mathematical Operations\n",
    "\n",
    "1. Create a variable named `radius` and assign it the value of the radius of a circle. Calculate and print the circumference of the circle using the formula `circumference = 2 * pi * radius`. You can use the value of pi from the `math` module.\n",
    "2. Calculate the square root of a number of your choice using the `sqrt()` function from the `math` module and print the result."
   ]
  },
  {
   "cell_type": "code",
   "execution_count": null,
   "metadata": {},
   "outputs": [],
   "source": [
    "import math\n",
    "\n",
    "# Problem 2.3.1\n",
    "radius = 5\n",
    "circumference = 2 * math.pi * radius\n",
    "print(circumference)\n",
    "\n",
    "# Problem 2.3.2\n",
    "number = 16\n",
    "square_root = math.sqrt(number)\n",
    "print(square_root)"
   ]
  },
  {
   "cell_type": "markdown",
   "metadata": {},
   "source": [
    "### 2.4 Comprehending and Manipulating the Order of Operations\n",
    "\n",
    "1. Evaluate the expression `(4 + 8) * 2 - 7` and print the result.\n",
    "2. Evaluate the expression `10 - 3 * (7 - 2) + 1` and print the result."
   ]
  },
  {
   "cell_type": "code",
   "execution_count": null,
   "metadata": {},
   "outputs": [],
   "source": [
    "# Problem 2.4.1\n",
    "result = (4 + 8) * 2 - 7\n",
    "print(result)\n",
    "\n",
    "# Problem 2.4.2\n",
    "result = 10 - 3 * (7 - 2) + 1\n",
    "print(result)"
   ]
  },
  {
   "cell_type": "markdown",
   "metadata": {},
   "source": [
    "### 2.5 Utilizing the Math Module for Advanced Mathematical Operations\n",
    "\n",
    "1. Calculate and print the value of e raised to the power of 3 using the `exp()` function from the `math` module.\n",
    "2. Calculate and print the logarithm (base 10) of 100 using the `log10()` function from the `math` module."
   ]
  },
  {
   "cell_type": "code",
   "execution_count": null,
   "metadata": {},
   "outputs": [],
   "source": [
    "# Problem 2.5.1\n",
    "result = math.exp(3)\n",
    "print(result)\n",
    "\n",
    "# Problem 2.5.2\n",
    "result = math.log10(100)\n",
    "print(result)"
   ]
  },
  {
   "cell_type": "markdown",
   "metadata": {},
   "source": [
    "### 2.6 Generating Random Numbers Using the Random Module\n",
    "\n",
    "1. Generate a random integer between 1 and 10 (inclusive) using the `randint()` function from the `random` module. Print the random number.\n",
    "2. Generate a random float between 0 and 1 using the `random()` function from the `random` module. Print the random float."
   ]
  },
  {
   "cell_type": "code",
   "execution_count": null,
   "metadata": {},
   "outputs": [],
   "source": [
    "import random\n",
    "\n",
    "# Problem 2.6.1\n",
    "random_number = random.randint(1, 10)\n",
    "print(random_number)\n",
    "\n",
    "# Problem 2.6.2\n",
    "random_float = random.random()\n",
    "print(random_float)"
   ]
  },
  {
   "cell_type": "markdown",
   "metadata": {},
   "source": [
    "### 2.7 Handling Infinite Numbers with Float, Decimal Modules, and Math Module\n",
    "\n",
    "1. Divide any number by zero and observe the result.\n",
    "2. Calculate and print the value of infinity using the `math.inf` constant from the `math` module."
   ]
  },
  {
   "cell_type": "code",
   "execution_count": null,
   "metadata": {},
   "outputs": [],
   "source": [
    "# Problem 2.7.1\n",
    "result = 10 / 0  # This will result in a ZeroDivisionError\n",
    "\n",
    "# Problem 2.7.2\n",
    "infinity = math.inf\n",
    "print(infinity)"
   ]
  }
 ],
 "metadata": {
  "kernelspec": {
   "display_name": "Python 3",
   "language": "python",
   "name": "python3"
  },
  "language_info": {
   "codemirror_mode": {
    "name": "ipython",
    "version": 3
   },
   "file_extension": ".py",
   "mimetype": "text/x-python",
   "name": "python",
   "nbconvert_exporter": "python",
   "pygments_lexer": "ipython3",
   "version": "3.7.11"
  }
 },
 "nbformat": 4,
 "nbformat_minor": 5
}
