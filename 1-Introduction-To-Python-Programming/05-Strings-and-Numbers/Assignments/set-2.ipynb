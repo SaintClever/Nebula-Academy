{
  "cells": [
    {
      "attachments": {},
      "cell_type": "markdown",
      "metadata": {},
      "source": [
        "## String Transformation Challenge\n",
        "\n",
        "You are given a string that represents a sentence. Your task is to transform the string according to the following rules:\n",
        "\n",
        "- Convert all letters to uppercase.\n",
        "- Replace all spaces with underscores.\n",
        "- Append a prefix \"TRANSFORMED: \" to the beginning of the string.\n",
        "\n",
        "Your solution should implement a function that takes a string as input and returns the transformed string as output. You should only use string manipulation techniques without utilizing if statements or for loops.\n",
        "\n",
        "For example:\n",
        "\n",
        "Input:\n",
        "\n",
        "```python\n",
        "transform_string(\"Hello, how are you today?\")\n",
        "```\n",
        "Output:\n",
        "\n",
        "```\n",
        "TRANSFORMED: HELLO,_HOW_ARE_YOU_TODAY?\n",
        "```\n",
        "In this example, the input string \"Hello, how are you today?\" is transformed as follows:\n",
        "\n",
        "- All letters are converted to uppercase, resulting in \"HELLO, HOW ARE YOU TODAY?\".\n",
        "- All spaces are replaced with underscores, resulting in \"HELLO,_HOW_ARE_YOU_TODAY?\".\n",
        "- The prefix \"TRANSFORMED: \" is appended to the beginning of the string, resulting in the final output \"TRANSFORMED: HELLO,_HOW_ARE_YOU_TODAY?\".\n",
        "\n",
        "Your solution should be able to handle sentences of varying lengths and properly apply the specified transformations using only string manipulation techniques."
      ]
    },
    {
      "cell_type": "code",
      "execution_count": 4,
      "metadata": {},
      "outputs": [
        {
          "name": "stdout",
          "output_type": "stream",
          "text": [
            "TRANSFORMED: HELLO,_HOW_ARE_YOU_TODAY?\n"
          ]
        }
      ],
      "source": [
        "# String Transformation Challenge\n",
        "\n",
        "string = \"Hello, how are you today?\"\n",
        "# Step 1: Convert to uppercase\n",
        "\n",
        "# Step 2: Replace spaces with underscores\n",
        "\n",
        "# Step 3: Append prefix\n",
        "\n",
        "# Step 4: Print it\n",
        "\n",
        "# !! CHALLENGE STEP: Reverse the string as well, and then print it reversed. \n"
      ]
    }
  ],
  "metadata": {
    "kernelspec": {
      "display_name": "Python 3",
      "language": "python",
      "name": "python3"
    },
    "language_info": {
      "codemirror_mode": {
        "name": "ipython",
        "version": 3
      },
      "file_extension": ".py",
      "mimetype": "text/x-python",
      "name": "python",
      "nbconvert_exporter": "python",
      "pygments_lexer": "ipython3",
      "version": "3.11.0"
    }
  },
  "nbformat": 4,
  "nbformat_minor": 5
}
