{
  "cells": [
    {
      "attachments": {},
      "cell_type": "markdown",
      "id": "db01b09a",
      "metadata": {},
      "source": [
        "# Loops Assignment 1"
      ]
    },
    {
      "attachments": {},
      "cell_type": "markdown",
      "metadata": {},
      "source": [
        "**Question 1:**\n",
        "Write a for loop that iterates over a list of famous landmarks (e.g., \"Eiffel Tower\", \"Great Wall of China\", \"Statue of Liberty\") and prints each one alongside the number of letters it contains."
      ]
    },
    {
      "cell_type": "code",
      "execution_count": null,
      "metadata": {},
      "outputs": [],
      "source": [
        "# Your Solution Here ❌"
      ]
    },
    {
      "attachments": {},
      "cell_type": "markdown",
      "metadata": {},
      "source": [
        "**Question 2:**\n",
        "Write a for loop that iterates over the string 'supercalifragilisticexpialidocious' and prints each vowel encountered."
      ]
    },
    {
      "cell_type": "code",
      "execution_count": null,
      "metadata": {},
      "outputs": [],
      "source": [
        "# Your Solution Here ❌"
      ]
    },
    {
      "attachments": {},
      "cell_type": "markdown",
      "metadata": {},
      "source": [
        "**Question 3:**\n",
        "Write a for loop that iterates over a list of temperatures in Fahrenheit (e.g., 32, 45, 80, 90) and prints each one converted into Celsius.\n",
        "\n",
        "Hint: the conversion formula is C = (F - 32) * 5/9"
      ]
    },
    {
      "cell_type": "code",
      "execution_count": null,
      "metadata": {},
      "outputs": [],
      "source": [
        "# Your Solution Here ❌"
      ]
    },
    {
      "attachments": {},
      "cell_type": "markdown",
      "metadata": {},
      "source": [
        "**Question 4:**\n",
        "Given a list of planets in our solar system, write a for loop that iterates over the list and prints the planet name, along with a fun fact about each planet. You'll need to create the fun facts yourself!"
      ]
    },
    {
      "cell_type": "code",
      "execution_count": null,
      "metadata": {},
      "outputs": [],
      "source": [
        "# Your Solution Here ❌"
      ]
    },
    {
      "attachments": {},
      "cell_type": "markdown",
      "metadata": {},
      "source": [
        "**Question 5:**\n",
        "Write a for loop that iterates over a list of your favorite movies and prints each one alongside its release year. You'll need to look up the release years!"
      ]
    },
    {
      "cell_type": "code",
      "execution_count": null,
      "metadata": {},
      "outputs": [],
      "source": [
        "# Your Solution Here ❌"
      ]
    },
    {
      "attachments": {},
      "cell_type": "markdown",
      "metadata": {},
      "source": [
        "**Question 6:**\n",
        "Write a for loop that iterates over a list of numbers (e.g., 7, 12, 25, 34, 59) and prints whether each number is prime or not.\n",
        "\n",
        "Hint: A prime number is only divisible by 1 and itself."
      ]
    },
    {
      "cell_type": "code",
      "execution_count": null,
      "metadata": {},
      "outputs": [],
      "source": [
        "# Your Solution Here ❌"
      ]
    },
    {
      "attachments": {},
      "cell_type": "markdown",
      "metadata": {},
      "source": [
        "**Question 7:**\n",
        "Write a for loop that iterates over a list of words (e.g., 'racecar', 'level', 'python', 'wow') and prints each word only if it is a palindrome.\n",
        "\n",
        "***Hint:*** you can tell if a word is a palindrome by comparing it to its reverse!"
      ]
    },
    {
      "cell_type": "code",
      "execution_count": null,
      "metadata": {},
      "outputs": [],
      "source": [
        "# Your Solution Here ❌"
      ]
    },
    {
      "attachments": {},
      "cell_type": "markdown",
      "metadata": {},
      "source": [
        "**Question 8:**\n",
        "Given a list of words, write a for loop that iterates over the list and prints the word if it contains more than two vowels."
      ]
    },
    {
      "cell_type": "code",
      "execution_count": null,
      "metadata": {},
      "outputs": [],
      "source": [
        "# Your Solution Here ❌"
      ]
    },
    {
      "attachments": {},
      "cell_type": "markdown",
      "metadata": {},
      "source": [
        "**Question 9:**\n",
        "Write a for loop that iterates over a list of your favorite bands or musicians and prints each one, along with the title of your favorite song."
      ]
    },
    {
      "cell_type": "code",
      "execution_count": null,
      "metadata": {},
      "outputs": [],
      "source": [
        "# Your Solution Here ❌"
      ]
    },
    {
      "attachments": {},
      "cell_type": "markdown",
      "metadata": {},
      "source": [
        "**Question 10:**\n",
        "Write a for loop that iterates over a list of ages (e.g., 10, 21, 25, 60, 80) and prints a custom message depending on the age (e.g., \"Child\", \"Young Adult\", \"Adult\", \"Senior\")."
      ]
    },
    {
      "cell_type": "code",
      "execution_count": null,
      "metadata": {},
      "outputs": [],
      "source": [
        "# Your Solution Here ❌"
      ]
    },
    {
      "attachments": {},
      "cell_type": "markdown",
      "metadata": {},
      "source": [
        "**Question 11:**\n",
        "Write a for loop that iterates over a list of animals (e.g., 'cat', 'dog', 'elephant') and prints each one alongside a rhyming word. You'll need to think of the rhyming words!"
      ]
    },
    {
      "cell_type": "code",
      "execution_count": null,
      "metadata": {},
      "outputs": [],
      "source": [
        "# Your Solution Here ❌"
      ]
    },
    {
      "attachments": {},
      "cell_type": "markdown",
      "metadata": {},
      "source": [
        "**Question 12:**\n",
        "Write a for loop that iterates over a string of digits (e.g., '1234567890') and prints the cube of each digit."
      ]
    },
    {
      "cell_type": "code",
      "execution_count": null,
      "metadata": {},
      "outputs": [],
      "source": [
        "# Your Solution Here ❌"
      ]
    },
    {
      "attachments": {},
      "cell_type": "markdown",
      "metadata": {},
      "source": [
        "**Question 13:**\n",
        "Write a for loop that iterates over your name, and a couple of your classmates (or pets 🦮🐈🐡) names and prints out a welcome message for each."
      ]
    },
    {
      "cell_type": "code",
      "execution_count": null,
      "metadata": {},
      "outputs": [],
      "source": [
        "# Your Solution Here ❌"
      ]
    },
    {
      "attachments": {},
      "cell_type": "markdown",
      "metadata": {},
      "source": [
        "**Question 14:**\n",
        "Write a for loop that iterates over a list of US states and prints each one along with its capital."
      ]
    },
    {
      "cell_type": "code",
      "execution_count": null,
      "metadata": {},
      "outputs": [],
      "source": [
        "# Your Solution Here ❌"
      ]
    },
    {
      "attachments": {},
      "cell_type": "markdown",
      "metadata": {},
      "source": [
        "**Question 15:**\n",
        "Write a for loop that iterates over a list of grades and prints a motivational message for each grade based on the letter grade (e.g., A = \"Stellar Work!\", B = \"Good job!\", C = \"You can do better!\", D = \"Keep focus. Come see me if you need help.!\", F = \"Let me know if you need help! I'm here to support you, you just need to ask!\")."
      ]
    },
    {
      "cell_type": "code",
      "execution_count": null,
      "metadata": {},
      "outputs": [],
      "source": [
        "# Your Solution Here ❌"
      ]
    },
    {
      "attachments": {},
      "cell_type": "markdown",
      "metadata": {},
      "source": [
        "**Question 16:**\n",
        "Write a for loop that iterates over a list of books and prints each one along with the name of its author. These can be your favorites, and some random ones you read in school, have heard of, or just found on the internet."
      ]
    },
    {
      "cell_type": "code",
      "execution_count": null,
      "metadata": {},
      "outputs": [],
      "source": [
        "# Your Solution Here ❌"
      ]
    },
    {
      "attachments": {},
      "cell_type": "markdown",
      "metadata": {},
      "source": [
        "**Question 17:**\n",
        "Write a for loop that iterates over a list of sports and prints each one along with a famous athlete associated with that sport."
      ]
    },
    {
      "cell_type": "code",
      "execution_count": null,
      "metadata": {},
      "outputs": [],
      "source": [
        "# Your Solution Here ❌"
      ]
    },
    {
      "attachments": {},
      "cell_type": "markdown",
      "metadata": {},
      "source": [
        "**Question 18:**\n",
        "Write a for loop that iterates over a list of numbers and prints the absolute value of each number."
      ]
    },
    {
      "cell_type": "code",
      "execution_count": null,
      "metadata": {},
      "outputs": [],
      "source": [
        "# Your Solution Here ❌"
      ]
    },
    {
      "attachments": {},
      "cell_type": "markdown",
      "metadata": {},
      "source": [
        "**Question 19:**\n",
        "Write a for loop that iterates over a list of computer programming languages and prints each one along with the year it was created.\n",
        "\n",
        "Here's a list of some popular languages: Python, Javascript, Java, Ruby, C, C++, C#, PHP, Objective-C, Swift, TypeScript, Kotlin, Go, Assembly, R, VBA, Perl, Rust, MATLAB, SQL, Scala, Groovy, HTML, CSS, and Bash."
      ]
    },
    {
      "cell_type": "code",
      "execution_count": null,
      "metadata": {},
      "outputs": [],
      "source": [
        "# Your Solution Here ❌"
      ]
    },
    {
      "attachments": {},
      "cell_type": "markdown",
      "metadata": {},
      "source": [
        "**Question 20:**\n",
        "Write a `for` loop that iterates over list of tuples containing a completely fictional dinosaur names and a fact about that dinosaur. Print each dinosaur name and the fact alongside it."
      ]
    },
    {
      "cell_type": "code",
      "execution_count": null,
      "metadata": {},
      "outputs": [],
      "source": [
        "# Your Solution Here ❌"
      ]
    }
  ],
  "metadata": {
    "kernelspec": {
      "display_name": "Python 3",
      "name": "python3"
    },
    "language_info": {
      "codemirror_mode": {
        "name": "ipython",
        "version": 3
      },
      "file_extension": ".py",
      "mimetype": "text/x-python",
      "name": "python",
      "nbconvert_exporter": "python",
      "pygments_lexer": "ipython3",
      "version": "3.11.3"
    }
  },
  "nbformat": 4,
  "nbformat_minor": 5
}
