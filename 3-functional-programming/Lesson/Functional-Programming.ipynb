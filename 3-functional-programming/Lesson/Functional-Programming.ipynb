{
  "cells": [
    {
      "cell_type": "markdown",
      "metadata": {},
      "source": [
        "# Table of Contents\n",
        "* [1. Functional Programming Concepts 🧠](#section1)\n",
        "* [2. Pure vs. Impure Functions 🧪](#section2)\n",
        "* [3. Lambda Functions and Higher Order Functions 🚀](#section3)\n"
      ]
    },
    {
      "cell_type": "markdown",
      "metadata": {},
      "source": [
        "# Section 1: Functional Programming Concepts 🧠\n",
        "Alright, squad! Let's get our coding game on! 🎮 We're about to dive into the world of functional programming, a paradigm that views computation as the evaluation of mathematical functions and avoids changing state and mutable data. Yep, it's like going back to your algebra classes, but with a cool, coding twist! 🌀\n",
        "\n",
        "In functional programming, functions are first-class citizens. That means functions can be assigned to variables, stored in collections, or passed as arguments. This concept can be a powerful tool for creating modular and readable code. 🚀 So, even though functional programming might sound academic and theoretical, it's actually super practical and will level up your coding skills like no other! 🔥\n",
        "\n",
        "Let's contrast this with other popular programming paradigms:\n",
        "- **Imperative programming**: Here, code is organized around actions or commands. Think of it as a step-by-step recipe to achieve your program's goal. 🧑‍🍳\n",
        "- **Object-oriented programming (OOP)**: Code is organized around objects and data rather than actions and logic. It's all about creating objects, manipulating these objects, and making them work together to create robust and flexible software. 🏗️\n",
        "\n",
        "While each paradigm has its strengths, as a versatile coder, you need to learn and adapt to all of them. So, ready to dive in and explore the magic of functional programming? Let's get started! 💡"
      ]
    },
    {
      "cell_type": "code",
      "execution_count": 18,
      "metadata": {},
      "outputs": [
        {
          "name": "stdout",
          "output_type": "stream",
          "text": [
            "hello Mary\n",
            "hello Isla\n",
            "hello Sam\n",
            "[None, None, None]\n"
          ]
        }
      ],
      "source": [
        "names = ['Mary', 'Isla', 'Sam']\n",
        "\n",
        "# for i in range(len(names)):\n",
        "#     names[i] = print('hello ' + names[i])\n",
        "\n"
      ]
    },
    {
      "cell_type": "markdown",
      "metadata": {},
      "source": [
        "**👩🏿‍💻 You Do**\n",
        "Now that we've covered the basics of functional programming, it's time to put that theory into practice. 🏋️‍♀️ For this exercise, I want you to write a Python function in both a traditional style and a functional style. The function should take in a list of numbers and return a new list with each number doubled. For the traditional style, feel free to use a loop. For the functional style, try using Python's built-in `map` function. Remember, coding is like cooking -- everyone has their own flavor. Let's see yours! 🍲"
      ]
    },
    {
      "cell_type": "code",
      "execution_count": 32,
      "metadata": {},
      "outputs": [
        {
          "name": "stdout",
          "output_type": "stream",
          "text": [
            "[1, 4, 9, 16, 25]\n"
          ]
        },
        {
          "data": {
            "text/plain": [
              "[('Call the doctor', False), None, ('Learn Python', False)]"
            ]
          },
          "execution_count": 32,
          "metadata": {},
          "output_type": "execute_result"
        }
      ],
      "source": [
        "# Your code goes here\n",
        "\n",
        "nums = [1, 2, 3, 4, 5]\n",
        "\n",
        "# Traditional approach\n",
        "\n",
        "squares = []\n",
        "for x in nums:\n",
        "    squares.append(x ** 2)\n",
        "print(squares)\n",
        "\n",
        "# Functional programming approach\n",
        "\n",
        "def sqr(x): return x ** 2\n",
        "squares = list(map(sqr, nums))\n",
        "\n",
        "\n",
        "squares = list(map(lambda x: x ** 2, nums))\n",
        "\n",
        "todos = [ ('Call the doctor', False), ('Buy groceries', True), ('Learn Python', False)]\n",
        "\n",
        "# Traditional approach\n",
        "\n",
        "# for i in range(len(todos)):\n",
        "#     if todos[i][1] == False:\n",
        "#         print(todos[i][0])\n",
        "#     else:\n",
        "#         todos[i] = None\n",
        "\n",
        "\n",
        "# Functional programming approach\n",
        "\n",
        "todos = lambda todoList: list(map(lambda task: task if not task[1] else None, todoList))\n",
        "\n",
        "todos([ ('Call the doctor', False), ('Buy groceries', True), ('Learn Python', False)])\n",
        "\n"
      ]
    },
    {
      "cell_type": "markdown",
      "metadata": {},
      "source": [
        "# Section 2: Pure vs. Impure Functions 🧪\n",
        "Alright, onto the next section, where we're going to tackle the concept of pure and impure functions. Understanding this distinction is like knowing the difference between milk chocolate and dark chocolate -- it might not seem crucial, but it will definitely affect the outcome of your recipes (or, in our case, your programs)! 🍫\n",
        "\n",
        "A **pure function** is a function where the return value is only determined by its input values, and it doesn't alter any external state. Pure functions are predictable -- like a loyal puppy, give them the same input, and they'll always return the same output. 🐶\n",
        "\n",
        "An **impure function**, on the other hand, can have side effects. This means the function might change the state of something else in the program, such as a global variable. They're a bit more rogue -- like a mischievous cat, you can never be sure what they're going to do next! 🐱\n",
        "\n",
        "To give you an example, let's look at the following functions that square all numbers in a list. One is pure, the other is not. Can you tell which is which? 🕵️‍♀️"
      ]
    },
    {
      "cell_type": "code",
      "execution_count": 4,
      "metadata": {},
      "outputs": [],
      "source": [
        "def pure_square_list(list):\n",
        "    return [x**2 for x in list]\n",
        "\n",
        "def impure_square_list(list):\n",
        "    for i in range(len(list)):\n",
        "        list[i] **= 2\n",
        "    return list"
      ]
    },
    {
      "cell_type": "markdown",
      "metadata": {},
      "source": [
        "**👩🏿‍💻 You Do**\n",
        "Time for a brain workout! 🏋️‍♀️ Your challenge is to convert the impure function `impure_square_list` we just created into a pure function. But here's the twist: you can't use the approach we used in `pure_square_list`. Get creative and show off your problem-solving skills! And remember, every challenge you face is making you a better coder. You've got this! 🚀"
      ]
    },
    {
      "cell_type": "code",
      "execution_count": 2,
      "metadata": {},
      "outputs": [
        {
          "name": "stdout",
          "output_type": "stream",
          "text": [
            "[1, 2, 3, 5]\n"
          ]
        }
      ],
      "source": [
        "# Example\n",
        "\n",
        "# string_to_capitalize = 'hello world'\n",
        "\n",
        "# def impure_to_upper(string):\n",
        "#     list = string.split()\n",
        "#     for i in range(len(list)):\n",
        "#         list[i] = list[i].upper()\n",
        "#     return list\n",
        "\n",
        "# print(impure_to_upper(string_to_capitalize))\n",
        "\n",
        "# def pure_to_upper(string_to_cap):\n",
        "#     return str(list(map(lambda x: x.upper(), string_to_cap.split())))\n",
        "\n",
        "# print(pure_to_upper(string_to_capitalize))\n",
        "\n",
        "\n",
        "# You Do\n",
        "list_to_pass = [1, 2, 3, 'dfdf', 5]\n",
        "\n",
        "def impure_list_filter(list):\n",
        "    for i in range(len(list)):\n",
        "        if type(list[i]) != int:\n",
        "            list[i] = None\n",
        "    return list\n",
        "\n",
        "def pure_list_filter(input_list):\n",
        "    return list(filter( lambda list_item: type(list_item) == int, input_list ))\n",
        "\n",
        "print(pure_list_filter(list_to_pass))\n",
        "\n"
      ]
    },
    {
      "cell_type": "markdown",
      "metadata": {},
      "source": [
        "# Section 3: Lambda Functions and Higher Order Functions 🚀\n",
        "Ready to keep the coding train chugging? 🚂 Next, we're diving into lambda functions and higher-order functions. Lambda functions are small anonymous functions that we define on-the-fly. They're perfect for when we need a quick, disposable function without going through the full ceremony of defining it with `def`. Lambda functions are like those single-use packets of hot sauce you get from fast food places. They're small, quick, and perfect for adding a little spice when you need it! 🌶️\n",
        "\n",
        "Higher-order functions are where things get really interesting! 🎉 They're functions that can take other functions as arguments and/or return them as results. Yes, you heard that right! In Python, functions are first-class citizens. They can be passed around just like any other variable. It's like going to a party where everyone's invited: integers, strings, lists, and now functions themselves. It's time to turn the music up and get this function party started! 🥳\n",
        "\n",
        "To give you an example, the built-in Python function `map` is a higher-order function. It takes a function and a sequence (like a list) as arguments, and then applies the function to every item in the sequence. Let's see this in action: 🕺"
      ]
    },
    {
      "cell_type": "code",
      "execution_count": 8,
      "metadata": {},
      "outputs": [],
      "source": [
        "numbers = [1, 2, 3, 4, 5]\n",
        "squared = map(lambda x: x**2, numbers)\n",
        "\n",
        "print(list(squared))"
      ]
    },
    {
      "cell_type": "markdown",
      "metadata": {},
      "source": [
        "**👩🏿‍💻 You Do**\n",
        "Your coding challenge, should you choose to accept it, is to use a lambda function and the `filter` higher-order function to filter out all the even numbers from a list. Remember, `filter` is another built-in Python function that takes a function and a sequence as arguments, and returns a new sequence with only the elements for which the function returns `True`. So, get your coding hat on and let's filter out some numbers! 🕵️‍♀️"
      ]
    },
    {
      "cell_type": "code",
      "execution_count": 4,
      "metadata": {},
      "outputs": [
        {
          "name": "stdout",
          "output_type": "stream",
          "text": [
            "[1, 2, 3, 4, 5, 6, 7, 8, 9, 10, 11, 12, 13, 14, 15, 16, 17, 18, 19, 20, 21, 22, 23, 24, 25, 26, 27, 28, 29, 30, 31, 32, 33, 34, 35, 36, 37, 38, 39, 40, 41, 42, 43, 44, 45, 46, 47, 48, 49, 50, 51, 52, 53, 54, 55, 56, 57, 58, 59, 60, 61, 62, 63, 64, 65, 66, 67, 68, 69, 70, 71, 72, 73, 74, 75, 76, 77, 78, 79, 80, 81, 82, 83, 84, 85, 86, 87, 88, 89, 90, 91, 92, 93, 94, 95, 96, 97, 98, 99, 100, 101, 102, 103, 104, 105, 106, 107, 108, 109, 110, 111, 112, 113, 114, 115, 116, 117, 118, 119, 120, 121, 122, 123, 124, 125, 126, 127, 128, 129, 130, 131, 132, 133, 134, 135, 136, 137, 138, 139, 140, 141, 142, 143, 144, 145, 146, 147, 148, 149, 150, 151, 152, 153, 154, 155, 156, 157, 158, 159, 160, 161, 162, 163, 164, 165, 166, 167, 168, 169, 170, 171, 172, 173, 174, 175, 176, 177, 178, 179, 180, 181, 182, 183, 184, 185, 186, 187, 188, 189, 190, 191, 192, 193, 194, 195, 196, 197, 198, 199]\n",
            "[2, 4, 6, 8, 10, 12, 14, 16, 18, 20, 22, 24, 26, 28, 30, 32, 34, 36, 38, 40, 42, 44, 46, 48, 50, 52, 54, 56, 58, 60, 62, 64, 66, 68, 70, 72, 74, 76, 78, 80, 82, 84, 86, 88, 90, 92, 94, 96, 98, 100, 102, 104, 106, 108, 110, 112, 114, 116, 118, 120, 122, 124, 126, 128, 130, 132, 134, 136, 138, 140, 142, 144, 146, 148, 150, 152, 154, 156, 158, 160, 162, 164, 166, 168, 170, 172, 174, 176, 178, 180, 182, 184, 186, 188, 190, 192, 194, 196, 198]\n"
          ]
        }
      ],
      "source": [
        "# Your code goes here\n",
        "\n",
        "numbers = list(range(1, 200))\n",
        "\n",
        "print(numbers)\n",
        "\n",
        "numbers = list(filter(\n",
        "  lambda x: x % 2 == 0,\n",
        "  numbers\n",
        "))\n",
        "\n",
        "print(numbers)"
      ]
    },
    {
      "cell_type": "markdown",
      "metadata": {},
      "source": [
        "Alright, champs! That's a wrap for this session. I hope you enjoyed our journey into the world of functional programming. 🌍 It's a unique and powerful paradigm that can help you write more efficient, modular, and readable code. And, hey, you now know all about pure functions, lambda functions, and higher-order functions! That's some impressive coding knowledge you've got there. Keep practicing and keep exploring. The coding universe is yours to discover! 🚀"
      ]
    }
  ],
  "metadata": {
    "kernelspec": {
      "display_name": "Python 3",
      "language": "python",
      "name": "python3"
    },
    "language_info": {
      "codemirror_mode": {
        "name": "ipython",
        "version": 3
      },
      "file_extension": ".py",
      "mimetype": "text/x-python",
      "name": "python",
      "nbconvert_exporter": "python",
      "pygments_lexer": "ipython3",
      "version": "3.11.3"
    },
    "orig_nbformat": 4
  },
  "nbformat": 4,
  "nbformat_minor": 2
}
