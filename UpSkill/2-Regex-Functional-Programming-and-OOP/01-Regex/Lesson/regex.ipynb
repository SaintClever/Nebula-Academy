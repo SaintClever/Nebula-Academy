{
  "cells": [
    {
      "cell_type": "markdown",
      "metadata": {},
      "source": [
        "# 📖 Introduction to Regular Expressions\n",
        "\n",
        "Regular expressions (regex) are a powerful tool for finding and manipulating text. They're used for string matching and \"search-and-replace\"-like operations. Regex is based on metacharacters and literal text. The metacharacters are special constructs, while the literal text are the actual characters. Python’s built-in module, `re`, is used to work with Regex.\n",
        "\n",
        "Let's get started by importing the `re` module."
      ]
    },
    {
      "cell_type": "code",
      "execution_count": null,
      "metadata": {},
      "outputs": [],
      "source": [
        "import re"
      ]
    },
    {
      "cell_type": "markdown",
      "metadata": {},
      "source": [
        "## 🧱 Basic Regular Expressions \n",
        "\n",
        "The most basic form of a regular expression is a sequence of characters to be searched for, contained within quotes. Here are some examples:"
      ]
    },
    {
      "cell_type": "code",
      "execution_count": null,
      "metadata": {},
      "outputs": [],
      "source": [
        "pattern = r\"spam\"    # String to be searched in the text\n",
        "text = \"spamspamspam\"\n",
        "match = re.search(pattern, text)\n",
        "\n",
        "if match:\n",
        "    print(\"Pattern found in text!\")\n",
        "else:\n",
        "    print(\"Pattern not found in text!\")"
      ]
    },
    {
      "cell_type": "markdown",
      "metadata": {},
      "source": [
        "### Exercise 🏋️‍♀️\n",
        "\n",
        "Try to search for the word \"cat\" in the sentence \"The cat in the hat.\""
      ]
    },
    {
      "cell_type": "markdown",
      "metadata": {},
      "source": [
        "## 📚 Special Characters \n",
        "\n",
        "There are several special characters you should be aware of:\n",
        "\n",
        "- `.`: Matches any character except newline\n",
        "- `^`: Matches the start of the string\n",
        "- `$`: Matches the end of the string\n",
        "- `*`: Matches 0 or more repetitions\n",
        "- `+`: Matches 1 or more repetitions\n",
        "- `?`: Matches 0 or 1 repetitions\n",
        "- `[abc]`: Matches any of the characters a, b, or c"
      ]
    },
    {
      "cell_type": "code",
      "execution_count": null,
      "metadata": {},
      "outputs": [],
      "source": [
        "pattern = r\".at\"    # Matches any three-letter word ending with 'at'\n",
        "text = \"The cat in the hat sat on the mat.\"\n",
        "matches = re.findall(pattern, text)\n",
        "print(matches)"
      ]
    },
    {
      "cell_type": "markdown",
      "metadata": {},
      "source": [
        "### Exercise 🏋️‍♀️\n",
        "\n",
        "Try to match all three-letter words in the sentence \"The dog ran far.\""
      ]
    },
    {
      "cell_type": "markdown",
      "metadata": {},
      "source": [
        "## 📝 Utilizing Pre-made Regular Expressions\n",
        "\n",
        "Regular expressions can get complicated quickly. For many common tasks, like validating email addresses or phone numbers, regexes have already been written and tested extensively. It is often a better use of time to use these tried-and-true solutions rather than reinventing the wheel.\n",
        "\n",
        "Python, as an open-source community, has a vast number of resources where you can find regex patterns for common tasks. Websites like [regex101.com](https://regex101.com/) provide a platform to test regex patterns, and they also have a library of common patterns.\n",
        "\n",
        "For example, the regular expression for an email address is: "
      ]
    },
    {
      "cell_type": "code",
      "execution_count": null,
      "metadata": {},
      "outputs": [],
      "source": [
        "pattern = r\"^[a-zA-Z0-9_.+-]+@[a-zA-Z0-9-]+\\.[a-zA-Z0-9-.]+$\""
      ]
    },
    {
      "cell_type": "markdown",
      "metadata": {},
      "source": [
        "And for a phone number: "
      ]
    },
    {
      "cell_type": "code",
      "execution_count": null,
      "metadata": {},
      "outputs": [],
      "source": [
        "pattern = r\"^(\\+\\d{1,2}\\s?)?1?\\-?\\.?\\s?\\(?\\d{3}\\)?[\\s.-]?\\d{3}[\\s.-]?\\d{4}$\""
      ]
    },
    {
      "cell_type": "markdown",
      "metadata": {},
      "source": [
        "While learning how to write your own regex is crucial, being able to find and utilize existing regex patterns is an equally valuable skill.\n",
        "\n",
        "### Exercise 🏋️‍♀️\n",
        "\n",
        "Try to find a pre-made regular expression online for a date in the format MM/DD/YYYY, and use it to find dates in the following sentence: \"Important events happened on 07/04/1776 and 12/07/1941.\""
      ]
    },
    {
      "cell_type": "markdown",
      "metadata": {},
      "source": [
        "## 🎁 Conclusion\n",
        "\n",
        "Regular expressions are a powerful tool for working with text. While they can be complex, the ability to find and utilize existing patterns can save you time and ensure the accuracy of your program. The `re` module in Python provides a wealth of methods to help you work with regexes.\n",
        "\n",
        "Remember, practice makes perfect, so keep practicing with more text and regex patterns. Happy coding! 🎉\n",
        "\n",
        "Please note that regular expressions can vary between different languages and regex engines, so be sure to test your patterns in the environment they'll be used in."
      ]
    },
    {
      "cell_type": "code",
      "execution_count": null,
      "metadata": {},
      "outputs": [],
      "source": [
        "# Happy coding!"
      ]
    }
  ],
  "metadata": {
    "kernelspec": {
      "display_name": "Python 3",
      "language": "python",
      "name": "python3"
    },
    "language_info": {
      "codemirror_mode": {
        "name": "ipython",
        "version": 3
      },
      "file_extension": ".py",
      "mimetype": "text/x-python",
      "name": "python",
      "nbconvert_exporter": "python",
      "pygments_lexer": "ipython3",
      "version": "3.8.3"
    }
  },
  "nbformat": 4,
  "nbformat_minor": 4
}
