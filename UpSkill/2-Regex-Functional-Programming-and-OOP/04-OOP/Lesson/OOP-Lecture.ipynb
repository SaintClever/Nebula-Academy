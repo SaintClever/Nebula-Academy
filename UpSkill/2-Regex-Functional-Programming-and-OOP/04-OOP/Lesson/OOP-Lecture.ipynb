{
 "cells": [
  {
   "attachments": {},
   "cell_type": "markdown",
   "metadata": {},
   "source": [
    "# Mastering Object-Oriented Programming in Python 😎🐍\n",
    "\n",
    "## Introduction to Object-Oriented Programming 🌟\n",
    "Python is a versatile programming language that supports multiple paradigms, including Object-Oriented Programming (OOP) and Functional Programming. OOP organizes code around objects, which are instances of classes, whereas Functional Programming revolves around functions. 🐍🔧\n",
    "\n",
    "### Principles of OOP:\n",
    "1. Encapsulation: Keeping fields (variables) and methods (functions) wrapped in a class. 📦🔒\n",
    "2. Inheritance: One class acquiring properties and methods from another class. 🔄📚\n",
    "3. Polymorphism: Functions or operators behaving differently based on operand types. 🎭🔁\n",
    "\n",
    "## Classes and Objects 🏗️🌟\n",
    "In Python, a class is like a blueprint for creating objects with associated behaviors and attributes. You create an object by instantiating a class using the class's constructor. 🏗️🌌\n"
   ]
  },
  {
   "cell_type": "code",
   "execution_count": 1,
   "metadata": {},
   "outputs": [
    {
     "name": "stdout",
     "output_type": "stream",
     "text": [
      "Fido\n",
      "Woof Woof!\n"
     ]
    }
   ],
   "source": [
    "class Dog:\n",
    "    def __init__(self, name, age):\n",
    "        self.name = name\n",
    "        self.age = age\n",
    "\n",
    "    def bark(self):\n",
    "        print(\"Woof Woof!\")\n",
    "\n",
    "fido = Dog(\"Fido\", 2)\n",
    "print(fido.name)  # prints \"Fido\"\n",
    "fido.bark()  # prints \"Woof Woof!\""
   ]
  },
  {
   "attachments": {},
   "cell_type": "markdown",
   "metadata": {},
   "source": [
    "### Your Turn: ✨🔁\n",
    "Create a class called `Car` with attributes `color` and `brand`, and a method called `honk` that prints \"Beep Beep!\". Create an instance of `Car` and call the `honk` method. 🚗🔊"
   ]
  },
  {
   "cell_type": "code",
   "execution_count": null,
   "metadata": {},
   "outputs": [],
   "source": []
  },
  {
   "attachments": {},
   "cell_type": "markdown",
   "metadata": {},
   "source": [
    "## Encapsulation 📦🔒\n",
    "Encapsulation is a crucial concept in OOP that ensures data safety by bundling data and related methods within a class. In Python, you can denote private attributes using a single or double underscore prefix. 🔒🔐"
   ]
  },
  {
   "cell_type": "code",
   "execution_count": 2,
   "metadata": {},
   "outputs": [
    {
     "name": "stdout",
     "output_type": "stream",
     "text": [
      "Red\n",
      "Tesla\n",
      "True\n"
     ]
    }
   ],
   "source": [
    "class Car:\n",
    "    def __init__(self, color, brand):\n",
    "        self.color = color\n",
    "        self._brand = brand  # protected attribute\n",
    "        self.__engine_status = False  # private attribute\n",
    "\n",
    "    def start_engine(self):\n",
    "        self.__engine_status = True\n",
    "\n",
    "    def get_engine_status(self):\n",
    "        return self.__engine_status\n",
    "\n",
    "my_car = Car(\"Red\", \"Tesla\")\n",
    "print(my_car.color)  # prints \"Red\"\n",
    "print(my_car._brand)  # prints \"Tesla\"\n",
    "my_car.start_engine()\n",
    "print(my_car.get_engine_status())  # prints \"True\""
   ]
  },
  {
   "attachments": {},
   "cell_type": "markdown",
   "metadata": {},
   "source": [
    "## Inheritance 🔄📚\n",
    "Inheritance allows a class to inherit properties and methods from another class. The inherited class is called the parent class, and the inheriting class is the child class. 🔄📚"
   ]
  },
  {
   "cell_type": "code",
   "execution_count": null,
   "metadata": {},
   "outputs": [],
   "source": [
    "class Vehicle:\n",
    "    def __init__(self, color, brand):\n",
    "        self.color = color\n",
    "        self.brand = brand\n",
    "\n",
    "class Car(Vehicle):\n",
    "    def honk(self):\n",
    "        print(\"Beep Beep!\")\n",
    "\n",
    "\n",
    "my_car = Car(\"Red\", \"Tesla\")\n",
    "print(my_car.color)  # prints \"Red\"\n",
    "my_car.honk()  # prints \"Beep Beep!\""
   ]
  },
  {
   "attachments": {},
   "cell_type": "markdown",
   "metadata": {},
   "source": [
    "### Your Turn: ✨🔄\n",
    "Define a class `Animal` with a `speak` method that prints \"I don't know what I sound like\". Create a class `Dog` that inherits from `Animal` and overrides the `speak` method to print \"Woof Woof!\". 🐶🎙️"
   ]
  },
  {
   "cell_type": "code",
   "execution_count": null,
   "metadata": {},
   "outputs": [],
   "source": []
  },
  {
   "attachments": {},
   "cell_type": "markdown",
   "metadata": {},
   "source": [
    "## Polymorphism 🎭🔁\n",
    "Polymorphism allows objects to take on multiple forms. In Python, polymorphism is achieved by defining methods in child classes with the same name as those in parent classes. 🎭🔁"
   ]
  },
  {
   "cell_type": "code",
   "execution_count": null,
   "metadata": {},
   "outputs": [],
   "source": [
    "class Animal:\n",
    "    def speak(self):\n",
    "        print(\"I don't know what I sound like\")\n",
    "\n",
    "class Dog(Animal):\n",
    "    def speak(self):\n",
    "        print(\"Woof Woof!\")\n",
    "\n",
    "class Cat(Animal):\n",
    "    def speak(self):\n",
    "        print(\"Meow!\")\n",
    "\n",
    "fido = Dog()\n",
    "whiskers = Cat()\n",
    "fido.speak()  # prints \"Woof Woof!\"\n",
    "whiskers.speak()  # prints \"Meow!\""
   ]
  },
  {
   "attachments": {},
   "cell_type": "markdown",
   "metadata": {},
   "source": [
    "## Dunder Methods 🎛️🔧\n",
    "Dunder (double underscore) methods are predefined methods in Python that customize the behavior of classes. They are recognizable by their names starting and ending with double underscores. 🎛️🔧"
   ]
  },
  {
   "cell_type": "code",
   "execution_count": null,
   "metadata": {},
   "outputs": [],
   "source": [
    "class Dog:\n",
    "    def __init__(self, name, age):\n",
    "        self.name = name\n",
    "        self.age = age\n",
    "\n",
    "    def __str__(self):\n",
    "        return f\"A dog named {self.name} who is {self.age} years old\"\n",
    "\n",
    "fido = Dog(\"Fido\", 2)\n",
    "print(fido)  # prints \"A dog named Fido who is 2 years old\""
   ]
  },
  {
   "attachments": {},
   "cell_type": "markdown",
   "metadata": {},
   "source": [
    "### Your Turn: ✨🔧\n",
    "Add a `__len__` method to the `Dog` class that returns the dog's age. Create an instance of `Dog` and print its length using the `len()` function. 📏🐶"
   ]
  },
  {
   "cell_type": "code",
   "execution_count": null,
   "metadata": {},
   "outputs": [],
   "source": []
  },
  {
   "attachments": {},
   "cell_type": "markdown",
   "metadata": {},
   "source": [
    "## Using the `super()` Function 🦸‍♀️🚀\n",
    "The `super()` function in Python simplifies class inheritance and allows invoking methods from parent classes. 🦸‍♀️🚀"
   ]
  },
  {
   "cell_type": "code",
   "execution_count": null,
   "metadata": {},
   "outputs": [],
   "source": [
    "class Animal:\n",
    "    def __init__(self, name):\n",
    "        self.name = name\n",
    "\n",
    "class Dog(Animal):\n",
    "    def __init__(self, name, breed):\n",
    "        super().__init__(name)\n",
    "        self.breed = breed\n",
    "\n",
    "fido = Dog(\"Fido\", \"Labrador\")\n",
    "print(fido.name)  # prints \"Fido\"\n",
    "print(fido.breed)  # prints \"Labrador\""
   ]
  },
  {
   "attachments": {},
   "cell_type": "markdown",
   "metadata": {},
   "source": [
    "### Your Turn: ✨🚀\n",
    "Create a class `Bird` that inherits from `Animal` and has an additional attribute `can_fly` which is a boolean value. Create an instance of `Bird` and print its `name` and `can_fly` attributes. 🐦✨"
   ]
  },
  {
   "cell_type": "code",
   "execution_count": null,
   "metadata": {},
   "outputs": [],
   "source": []
  },
  {
   "attachments": {},
   "cell_type": "markdown",
   "metadata": {},
   "source": [
    "## Conclusion 🌟🎉\n",
    "In this tutorial, we have covered fundamental concepts in Object-Oriented Programming in Python. By understanding classes, objects, encapsulation, inheritance, polymorphism, dunder methods, and the `super()` function, you are well-equipped to create scalable and maintainable code. \n",
    "\n",
    "Take a few minutes to review the concepts we've covered and then dive into hands-on practice. Create your own classes, experiment with inheritance and polymorphism, and explore different dunder methods to customize class behavior. Don\n",
    "\n",
    "'t forget to share your code with others and explain these concepts to solidify your understanding. \n",
    "\n",
    "Remember, the key to mastering OOP in Python is practice and experimentation. Happy coding! 🚀💻"
   ]
  }
 ],
 "metadata": {
  "kernelspec": {
   "display_name": "Python 3",
   "language": "python",
   "name": "python3"
  },
  "language_info": {
   "codemirror_mode": {
    "name": "ipython",
    "version": 3
   },
   "file_extension": ".py",
   "mimetype": "text/x-python",
   "name": "python",
   "nbconvert_exporter": "python",
   "pygments_lexer": "ipython3",
   "version": "3.11.3"
  },
  "orig_nbformat": 4
 },
 "nbformat": 4,
 "nbformat_minor": 2
}
