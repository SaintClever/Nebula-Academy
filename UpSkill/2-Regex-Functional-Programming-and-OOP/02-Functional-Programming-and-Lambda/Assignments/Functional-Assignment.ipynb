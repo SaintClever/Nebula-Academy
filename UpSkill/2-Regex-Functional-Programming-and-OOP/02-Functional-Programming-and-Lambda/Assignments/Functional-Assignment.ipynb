{
    "cells": [
        {
            "attachments": {},
            "cell_type": "markdown",
            "metadata": {},
            "source": [
                "# Functional Programming Assignment\n",
                "Welcome to your functional programming assignment, coders! We're going to put what we learned in the lecture into practice. Remember, practice makes perfect!\n",
                "## 1.\n",
                "Create a function called `double_numbers` in both traditional and functional programming styles. The function should take in a list of numbers and return a new list with each number doubled. \n",
                "\n",
                "You can use a loop for the traditional programming style, and the `map()` function for the functional programming style.\n",
                "\n",
                "You can use this list for testing: [1, 2, 3, 4, 5]."
            ]
        },
        {
            "cell_type": "code",
            "execution_count": null,
            "metadata": {},
            "outputs": [],
            "source": [
                "# Your solution for Task 1 goes here ❌"
            ]
        },
        {
            "attachments": {},
            "cell_type": "markdown",
            "metadata": {},
            "source": [
                "## 2.\n",
                "Your challenge is to create a pure function that calculates the factorial of a given number.\n",
                "\n",
                "Your Task: Write a pure function called factorial that takes a positive integer as input and returns its factorial. The factorial of a number n is the product of all positive integers from 1 to n.\n",
                "\n",
                "Example:\n",
                "Input: 5 \n",
                "Operation: 1 x 2 x 3 x 4 x 5 = 120\n",
                "Output: 120\n",
                "\n",
                "Remember, your function should not have any side effects and should produce the same output for the same input every time it is called."
            ]
        },
        {
            "cell_type": "code",
            "execution_count": null,
            "metadata": {},
            "outputs": [],
            "source": [
                "# Your solution for Task 2 goes here ❌"
            ]
        },
        {
            "attachments": {},
            "cell_type": "markdown",
            "metadata": {},
            "source": [
                "## 3.\n",
                "Your coding challenge is to use a lambda function and the `filter` higher-order function to filter out all the even numbers from a list. You can use this list for testing: [1, 2, 3, 4, 5]."
            ]
        },
        {
            "cell_type": "code",
            "execution_count": null,
            "metadata": {},
            "outputs": [],
            "source": [
                "# Your solution for Task 3 goes here ❌"
            ]
        },
        {
            "attachments": {},
            "cell_type": "markdown",
            "metadata": {},
            "source": [
                "## 4.\n",
                "Implement a function that takes a list of strings and returns a list of the lengths of those strings using both traditional and functional programming styles."
            ]
        },
        {
            "cell_type": "code",
            "execution_count": null,
            "metadata": {},
            "outputs": [],
            "source": [
                "# Your solution for Task 4 goes here ❌"
            ]
        },
        {
            "attachments": {},
            "cell_type": "markdown",
            "metadata": {},
            "source": [
                "## 5.\n",
                "Create a pure function that takes a list of numbers and calculates the sum of all numbers."
            ]
        },
        {
            "cell_type": "code",
            "execution_count": null,
            "metadata": {},
            "outputs": [],
            "source": [
                "# Your solution for Task 5 goes here ❌"
            ]
        },
        {
            "attachments": {},
            "cell_type": "markdown",
            "metadata": {},
            "source": [
                "## 6.\n",
                "Implement a function that takes a list of numbers and returns a list of numbers that are greater than 10 using filter() and a lambda function."
            ]
        },
        {
            "cell_type": "code",
            "execution_count": null,
            "metadata": {},
            "outputs": [],
            "source": [
                "# Your solution for Task 6 goes here ❌"
            ]
        },
        {
            "attachments": {},
            "cell_type": "markdown",
            "metadata": {},
            "source": [
                "## 7.\n",
                "Write a function that takes a list of strings and returns a new list that contains only the strings that start with the letter 'a' using a lambda function and filter()."
            ]
        },
        {
            "cell_type": "code",
            "execution_count": null,
            "metadata": {},
            "outputs": [],
            "source": [
                "# Your solution for Task 7 goes here ❌"
            ]
        },
        {
            "attachments": {},
            "cell_type": "markdown",
            "metadata": {},
            "source": [
                "## 8.\n",
                "Create a function that returns the square of each number in a list using both traditional and functional programming styles."
            ]
        },
        {
            "cell_type": "code",
            "execution_count": null,
            "metadata": {},
            "outputs": [],
            "source": [
                "# Your solution for Task 8 goes here ❌"
            ]
        },
        {
            "attachments": {},
            "cell_type": "markdown",
            "metadata": {},
            "source": [
                "## 9.\n",
                "Implement a function that takes a string and returns the number of uppercase letters using both traditional and functional programming styles.\n",
                "\n"
            ]
        },
        {
            "cell_type": "code",
            "execution_count": null,
            "metadata": {},
            "outputs": [],
            "source": [
                "# Your solution for Task 9 goes here ❌"
            ]
        },
        {
            "attachments": {},
            "cell_type": "markdown",
            "metadata": {},
            "source": [
                "## 10.\n",
                "Write a function that finds the largest number in a list using reduce() and a lambda function."
            ]
        },
        {
            "cell_type": "code",
            "execution_count": null,
            "metadata": {},
            "outputs": [],
            "source": [
                "# Your solution for Task 10 goes here ❌"
            ]
        }
    ],
    "metadata": {
        "kernelspec": {
            "display_name": "Python 3",
            "language": "python",
            "name": "python3"
        },
        "language_info": {
            "codemirror_mode": {
                "name": "ipython",
                "version": 3
            },
            "file_extension": ".py",
            "mimetype": "text/x-python",
            "name": "python",
            "nbconvert_exporter": "python",
            "pygments_lexer": "ipython3",
            "version": "3.11.3"
        },
        "orig_nbformat": 4
    },
    "nbformat": 4,
    "nbformat_minor": 2
}
