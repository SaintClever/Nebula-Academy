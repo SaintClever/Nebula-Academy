{
  "cells": [
    {
      "cell_type": "markdown",
      "metadata": {},
      "source": [
        "# 🚀 Map, Filter, and Reduce\n",
        "\n",
        "Python provides several built-in functions that can help us handle and manipulate data. Among these are the `map`, `filter`, and `reduce` functions. They allow us to apply a function across a collection of data, transforming, filtering, or aggregating it in the process.\n",
        "\n",
        "We'll also look at how lambda functions can be used in conjunction with these three functions for more succinct and convenient code. So, let's get started!"
      ]
    },
    {
      "cell_type": "markdown",
      "metadata": {},
      "source": [
        "## 🌐 Map Function\n",
        "\n",
        "The `map()` function applies a given function to each item of an iterable (such as a list or a set) and returns a list of the results. The returned value from `map()` is a map object which is an iterator object."
      ]
    },
    {
      "cell_type": "code",
      "metadata": {},
      "source": [
        "# let's start with a simple function that squares a number\n",
        "def square(num):\n",
        "    return num**2\n",
        "\n",
        "numbers = [1, 2, 3, 4, 5]\n",
        "result = map(square, numbers)\n",
        "\n",
        "# convert the map object to a list\n",
        "result = list(result)\n",
        "print(result)"
      ]
    },
    {
      "cell_type": "markdown",
      "metadata": {},
      "source": [
        "### Exercise 🏋️‍♀️\n",
        "\n",
        "Using the `map` function, convert all the words in the list ['hello', 'world', 'how', 'are', 'you'] to uppercase."
      ]
    },
    {
      "cell_type": "markdown",
      "metadata": {},
      "source": [
        "## 🎛️ Filter Function\n",
        "\n",
        "The `filter()` function constructs an iterator from elements of an iterable for which a function returns true."
      ]
    },
    {
      "cell_type": "code",
      "metadata": {},
      "source": [
        "# a function that returns whether a number is even or not\n",
        "def is_even(num):\n",
        "    return num % 2 == 0\n",
        "\n",
        "numbers = [1, 2, 3, 4, 5]\n",
        "result = filter(is_even, numbers)\n",
        "\n",
        "# convert the filter object to a list\n",
        "result = list(result)\n",
        "print(result)"
      ]
    },
    {
      "cell_type": "markdown",
      "metadata": {},
      "source": [
        "### Exercise 🏋️‍♀️\n",
        "\n",
        "Using the `filter` function, remove all the odd numbers from the list [1, 2, 3, 4, 5]."
      ]
    },
    {
      "cell_type": "markdown",
      "metadata": {},
      "source": [
        "## ➕ Reduce Function\n",
        "\n",
        "The `reduce()` function applies a rolling computation to sequential pairs of values in a list and returns a single result."
      ]
    },
    {
      "cell_type": "code",
      "metadata": {},
      "source": [
        "from functools import reduce\n",
        "\n",
        "# a function that returns the sum of two numbers\n",
        "def add(a, b):\n",
        "    return a + b\n",
        "\n",
        "numbers = [1, 2, 3, 4, 5]\n",
        "result = reduce(add, numbers)\n",
        "print(result)"
      ]
    },
    {
      "cell_type": "markdown",
      "metadata": {},
      "source": [
        "### Exercise 🏋️‍♀️\n",
        "\n",
        "Using the `reduce` function, find the product of all the numbers in the list [1, 2, 3, 4, 5]."
      ]
    },
    {
      "cell_type": "markdown",
      "metadata": {},
      "source": [
        "## 🚀 Integrating with Lambda Functions\n",
        "\n",
        "Lambda functions provide a way to create small anonymous functions. They can be used wherever function objects are required. They are syntactically restricted to a single expression."
      ]
    },
    {
      "cell_type": "code",
      "metadata": {},
      "source": [
        "# map with lambda\n",
        "numbers = [1, 2, 3, 4, 5]\n",
        "result = map(lambda x: x**2, numbers)\n",
        "print(list(result))"
      ]
    },
    {
      "cell_type": "code",
      "metadata": {},
      "source": [
        "# filter with lambda\n",
        "numbers = [1, 2, 3, 4, 5]\n",
        "result = filter(lambda x: x % 2 == 0, numbers)\n",
        "print(list(result))"
      ]
    },
    {
      "cell_type": "code",
      "metadata": {},
      "source": [
        "# reduce with lambda\n",
        "from functools import reduce\n",
        "\n",
        "numbers = [1, 2, 3, 4, 5]\n",
        "result = reduce(lambda x, y: x * y, numbers)\n",
        "print(result)"
      ]
    },
    {
      "cell_type": "markdown",
      "metadata": {},
      "source": [
        "## 📚 Conclusion\n",
        "\n",
        "Congratulations, you've made it to the end of this tutorial on map, filter, and reduce! By now, you should have a good understanding of how to use these powerful functions and how to combine them with lambda functions for more efficient and readable code. Happy coding!"
      ]
    }
  ],
  "metadata": {
    "kernelspec": {
      "display_name": "Python 3",
      "language": "python",
      "name": "python3"
    },
    "language_info": {
      "codemirror_mode": {
        "name": "ipython",
        "version": 3
      },
      "file_extension": ".py",
      "mimetype": "text/x-python",
      "name": "python",
      "nbconvert_exporter": "python",
      "pygments_lexer": "ipython3",
      "version": "3.8.5"
    }
  },
  "nbformat": 4,
  "nbformat_minor": 5
}
