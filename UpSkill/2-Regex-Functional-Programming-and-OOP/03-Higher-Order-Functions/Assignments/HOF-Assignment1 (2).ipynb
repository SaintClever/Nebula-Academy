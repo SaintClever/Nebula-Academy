{
  "cells": [
    {
      "cell_type": "markdown",
      "metadata": {},
      "source": [
        "## Question 1 🗺️\n",
        "Use the `map` function to create a list of squares for numbers 1 to 10."
      ]
    },
    {
      "cell_type": "code",
      "metadata": {},
      "source": [
        "# your code here 🖊"
      ]
    },
    {
      "cell_type": "markdown",
      "metadata": {},
      "source": [
        "## Question 2 🧹\n",
        "Use the `filter` function to filter out all even numbers from a list of numbers 1 to 10."
      ]
    },
    {
      "cell_type": "code",
      "metadata": {},
      "source": [
        "# your code here 🖊"
      ]
    },
    {
      "cell_type": "markdown",
      "metadata": {},
      "source": [
        "## Question 3 🔢\n",
        "Use the `reduce` function from `functools` to get the product of numbers 1 to 5."
      ]
    },
    {
      "cell_type": "code",
      "metadata": {},
      "source": [
        "# your code here 🖊"
      ]
    },
    {
      "cell_type": "markdown",
      "metadata": {},
      "source": [
        "## Question 4 🗺️\n",
        "Use the `map` function with a lambda function to convert a list of strings into uppercase. Assume the list is ['apple', 'banana', 'cherry']."
      ]
    },
    {
      "cell_type": "code",
      "metadata": {},
      "source": [
        "# your code here 🖊"
      ]
    },
    {
      "cell_type": "markdown",
      "metadata": {},
      "source": [
        "## Question 5 🧹\n",
        "Use `filter` with a lambda function to remove all words that start with 'b' from a list of words. Assume the list is ['bear', 'deer', 'beaver', 'elephant', 'zebra']."
      ]
    },
    {
      "cell_type": "code",
      "metadata": {},
      "source": [
        "# your code here 🖊"
      ]
    },
    {
      "cell_type": "markdown",
      "metadata": {},
      "source": [
        "## Question 6 🔢\n",
        "Use the `reduce` function with a lambda function to concatenate all the words in a list into a single string, separated by spaces. Assume the list is ['Hello', 'world', '!']."
      ]
    },
    {
      "cell_type": "code",
      "metadata": {},
      "source": [
        "# your code here 🖊"
      ]
    },
    {
      "cell_type": "markdown",
      "metadata": {},
      "source": [
        "## Question 7 🗺️\n",
        "Use the `map` function with a lambda function to calculate the length of each word in a list. Assume the list is ['cat', 'window', 'defenestrate']."
      ]
    },
    {
      "cell_type": "code",
      "metadata": {},
      "source": [
        "# your code here 🖊"
      ]
    },
    {
      "cell_type": "markdown",
      "metadata": {},
      "source": [
        "## Question 8 🧹\n",
        "Use `filter` with a lambda function to keep only the numbers that are multiples of 3 from a list of numbers from 1 to 20."
      ]
    },
    {
      "cell_type": "code",
      "metadata": {},
      "source": [
        "# your code here 🖊"
      ]
    },
    {
      "cell_type": "markdown",
      "metadata": {},
      "source": [
        "## Question 9 🔢\n",
        "Use the `reduce` function with a lambda function to find the maximum number in a list. Do not use the built-in `max` function. Assume the list is [4, 2, 9, 3, 5, 1, 8, 5, 10, 6]."
      ]
    },
    {
      "cell_type": "code",
      "metadata": {},
      "source": [
        "# your code here 🖊"
      ]
    },
    {
      "cell_type": "markdown",
      "metadata": {},
      "source": [
        "## Question 10 🗺️\n",
        "Use the `map` function with a lambda function to get the last character of each word in a list. Assume the list is ['apple', 'banana', 'cherry']."
      ]
    },
    {
      "cell_type": "code",
      "metadata": {},
      "source": [
        "# your code here 🖊"
      ]
    },
    {
      "cell_type": "markdown",
      "metadata": {},
      "source": [
        "## Question 11 🗺️\n",
        "Use the `map` function to get the factorial of each number from a list of numbers from 1 to 5."
      ]
    },
    {
      "cell_type": "code",
      "metadata": {},
      "source": [
        "# your code here 🖊"
      ]
    },
    {
      "cell_type": "markdown",
      "metadata": {},
      "source": [
        "## Question 12 🧹\n",
        "Use the `filter` function to filter out all strings with length less than 5 from a list of strings. Assume the list is ['apple', 'banana', 'cherry', 'kiwi', 'mango']."
      ]
    },
    {
      "cell_type": "code",
      "metadata": {},
      "source": [
        "# your code here 🖊"
      ]
    },
    {
      "cell_type": "markdown",
      "metadata": {},
      "source": [
        "## Question 13 🔢\n",
        "Use the `reduce` function to get the sum of squares of numbers from 1 to 5."
      ]
    },
    {
      "cell_type": "code",
      "metadata": {},
      "source": [
        "# your code here 🖊"
      ]
    },
    {
      "cell_type": "markdown",
      "metadata": {},
      "source": [
        "## Question 14 🗺️\n",
        "Use the `map` function to convert a list of strings into lowercase. Assume the list is ['APPLE', 'BANANA', 'CHERRY']."
      ]
    },
    {
      "cell_type": "code",
      "metadata": {},
      "source": [
        "# your code here 🖊"
      ]
    },
    {
      "cell_type": "markdown",
      "metadata": {},
      "source": [
        "## Question 15 🧹\n",
        "Use `filter` to remove all negative numbers from a list. Assume the list is [2, -3, 4, -1, -7, 0, 5, -6]."
      ]
    },
    {
      "cell_type": "code",
      "metadata": {},
      "source": [
        "# your code here 🖊"
      ]
    },
    {
      "cell_type": "markdown",
      "metadata": {},
      "source": [
        "## Question 16 🔢\n",
        "Use the `reduce` function with a lambda function to reverse a string. Assume the string is 'HELLO WORLD'."
      ]
    },
    {
      "cell_type": "code",
      "metadata": {},
      "source": [
        "# your code here 🖊"
      ]
    },
    {
      "cell_type": "markdown",
      "metadata": {},
      "source": [
        "## Question 17 🗺️\n",
        "Use the `map` function with a lambda function to convert each character in a string into its corresponding ASCII value. Assume the string is 'hello'."
      ]
    },
    {
      "cell_type": "code",
      "metadata": {},
      "source": [
        "# your code here 🖊"
      ]
    },
    {
      "cell_type": "markdown",
      "metadata": {},
      "source": [
        "## Question 18 🧹\n",
        "Use the `filter` function with a lambda function to keep only the numbers that are prime in a list of numbers from 1 to 20."
      ]
    },
    {
      "cell_type": "code",
      "metadata": {},
      "source": [
        "# your code here 🖊"
      ]
    },
    {
      "cell_type": "markdown",
      "metadata": {},
      "source": [
        "## Question 19 🔢\n",
        "Use the `reduce` function with a lambda function to compute the least common multiple (LCM) of a list of numbers. Assume the list is [3, 5, 7, 15]."
      ]
    },
    {
      "cell_type": "code",
      "metadata": {},
      "source": [
        "# your code here 🖊"
      ]
    },
    {
      "cell_type": "markdown",
      "metadata": {},
      "source": [
        "## Question 20 🗺️\n",
        "Use the `map` function to convert a list of temperatures in Celsius to Fahrenheit. Assume the list is [0, 10, 20, 30, 40]."
      ]
    },
    {
      "cell_type": "code",
      "metadata": {},
      "source": [
        "# your code here 🖊"
      ]
    }
  ],
  "metadata": {
    "kernelspec": {
      "display_name": "Python 3",
      "language": "python",
      "name": "python3"
    },
    "language_info": {
      "codemirror_mode": {
        "name": "ipython",
        "version": 3
      },
      "file_extension": ".py",
      "mimetype": "text/x-python",
      "name": "python",
      "nbconvert_exporter": "python",
      "pygments_lexer": "ipython3",
      "version": "3.8.8"
    }
  },
  "nbformat": 4,
  "nbformat_minor": 5
}
