{
  "cells": [
    {
      "attachments": {},
      "cell_type": "markdown",
      "id": "159e0d42",
      "metadata": {},
      "source": [
        "# SQL Fun\n",
        "\n",
        "In the following block we will seed a database with some data. We will use this data to practice our SQL queries. We will need to install Faker as well for this assignment (`pip install Faker`). To start create a new Postgres database on Railway, update the variables in the next block, and run block following it."
      ]
    },
    {
      "cell_type": "code",
      "execution_count": 1,
      "id": "dc271100",
      "metadata": {},
      "outputs": [],
      "source": [
        "PGDATABASE = \"railway\"\n",
        "PGHOST = \"containers-us-west-26.railway.app\"\n",
        "PGPASSWORD = \"8HSAlP7s9zPHPETp9L0R\"\n",
        "PGPORT = \"6207\"\n",
        "PGUSER = \"postgres\""
      ]
    },
    {
      "cell_type": "code",
      "execution_count": 2,
      "id": "4d18542a",
      "metadata": {},
      "outputs": [],
      "source": [
        "import psycopg2\n",
        "from faker import Faker\n",
        "import random\n",
        "from datetime import datetime, timedelta\n",
        "\n",
        "# Create a Faker instance\n",
        "fake = Faker()\n",
        "\n",
        "# Connect to your PostgreSQL database\n",
        "conn = psycopg2.connect(\n",
        "    host=PGHOST,\n",
        "    database=PGDATABASE,\n",
        "    port=PGPORT,\n",
        "    user=PGUSER,\n",
        "    password=PGPASSWORD\n",
        ")\n",
        "cur = conn.cursor()\n",
        "\n",
        "# Drop tables if they already exist\n",
        "cur.execute(\"\"\"\n",
        "    DROP TABLE IF EXISTS Diseases CASCADE;\n",
        "    DROP TABLE IF EXISTS Patients CASCADE;\n",
        "    DROP TABLE IF EXISTS Health_Checks CASCADE;\n",
        "    DROP TABLE IF EXISTS Patient_Diseases CASCADE;\n",
        "\"\"\")\n",
        "\n",
        "# Next, we'll create the tables we need\n",
        "cur.execute(\"\"\"\n",
        "CREATE TABLE Diseases (\n",
        "    disease_id SERIAL PRIMARY KEY,\n",
        "    name TEXT NOT NULL,\n",
        "    description TEXT\n",
        ");\n",
        "\n",
        "CREATE TABLE Patients (\n",
        "    patient_id SERIAL PRIMARY KEY,\n",
        "    name TEXT NOT NULL,\n",
        "    age INTEGER NOT NULL,\n",
        "    gender TEXT NOT NULL,\n",
        "    address TEXT NOT NULL\n",
        ");\n",
        "\n",
        "CREATE TABLE Health_Checks (\n",
        "    check_id SERIAL PRIMARY KEY,\n",
        "    patient_id INTEGER REFERENCES Patients(patient_id),\n",
        "    check_date DATE NOT NULL,\n",
        "    weight DECIMAL NOT NULL,\n",
        "    height DECIMAL NOT NULL,\n",
        "    blood_pressure TEXT NOT NULL,\n",
        "    heart_rate INTEGER NOT NULL\n",
        ");\n",
        "\n",
        "CREATE TABLE Patient_Diseases (\n",
        "    pd_id SERIAL PRIMARY KEY,\n",
        "    patient_id INTEGER REFERENCES Patients(patient_id),\n",
        "    disease_id INTEGER REFERENCES Diseases(disease_id),\n",
        "    diagnosis_date DATE NOT NULL,\n",
        "    recovery_date DATE\n",
        ");\n",
        "\"\"\")\n",
        "\n",
        "\n",
        "# Diseases we're considering\n",
        "diseases = [(\"Hypertension\", \"Long-term medical condition in which the blood pressure in the arteries is persistently elevated.\"),\n",
        "            (\"Diabetes\", \"Chronic disease that occurs either when the pancreas does not produce enough insulin or when the body cannot effectively use the insulin it produces.\"),\n",
        "            (\"Asthma\", \"Common long-term inflammatory disease of the airways of the lungs.\"),\n",
        "            (\"Arthritis\", \"Inflammation of one or more joints, causing pain and stiffness that can worsen with age.\"),\n",
        "            (\"Cancer\", \"Diseases involving abnormal cell growth with the potential to invade or spread to other parts of the body.\"),\n",
        "            (\"Common cold\", \"Mild viral infectious disease of the upper respiratory system (nose and throat).\"),\n",
        "            (\"Dementia\", \"Broad category of brain diseases that cause a long-term and often gradual decrease in the ability to think and remember that is severe enough to affect daily functioning.\")]\n",
        "\n",
        "# Insert diseases into Diseases table\n",
        "for disease in diseases:\n",
        "    cur.execute(\"INSERT INTO Diseases (name, description) VALUES (%s, %s)\", (disease[0], disease[1]))\n",
        "\n",
        "conn.commit()\n",
        "\n",
        "# Get the IDs of the diseases we just inserted\n",
        "cur.execute(\"SELECT disease_id FROM Diseases\")\n",
        "disease_ids = [row[0] for row in cur.fetchall()]\n",
        "\n",
        "# Create data for 100 patients\n",
        "for _ in range(100):\n",
        "    name = fake.name()\n",
        "    age = random.randint(20, 80)\n",
        "    gender = random.choice([\"Male\", \"Female\"])\n",
        "    address = fake.address().replace(\"\\n\", \", \")\n",
        "\n",
        "    cur.execute(\"INSERT INTO Patients (name, age, gender, address) VALUES (%s, %s, %s, %s) RETURNING patient_id\", (name, age, gender, address))\n",
        "    patient_id = cur.fetchone()[0]\n",
        "\n",
        "    # Create health checks for each patient\n",
        "    for _ in range(random.randint(5, 20)):  # 1-5 health checks per patient\n",
        "        check_date = fake.date_between(start_date='-1y', end_date='today')\n",
        "        weight = round(random.uniform(50, 100), 1)\n",
        "        height = round(random.uniform(1.5, 2), 2)\n",
        "        blood_pressure = f\"{random.randint(80, 130)}/{random.randint(60, 90)}\"\n",
        "        heart_rate = random.randint(60, 100)\n",
        "\n",
        "        cur.execute(\"INSERT INTO Health_Checks (patient_id, check_date, weight, height, blood_pressure, heart_rate) VALUES (%s, %s, %s, %s, %s, %s)\",\n",
        "                    (patient_id, check_date, weight, height, blood_pressure, heart_rate))\n",
        "\n",
        "    # Assign diseases to some patients\n",
        "    if random.choice([True, False]):  # 50% chance of having a disease\n",
        "        disease_id = random.choice(disease_ids)\n",
        "        diagnosis_date = fake.date_between(start_date='-1y', end_date='today')\n",
        "        recovery_date = fake.date_between(start_date=diagnosis_date, end_date='today') if random.choice([True, False]) else None  # 50% chance of recovery\n",
        "\n",
        "        cur.execute(\"INSERT INTO Patient_Diseases (patient_id, disease_id, diagnosis_date, recovery_date) VALUES (%s, %s, %s, %s)\",\n",
        "                    (patient_id, disease_id, diagnosis_date, recovery_date))\n",
        "\n",
        "# Save the changes and close the connection\n",
        "conn.commit()"
      ]
    },
    {
      "attachments": {},
      "cell_type": "markdown",
      "id": "72d3cf88",
      "metadata": {},
      "source": [
        "1. Get a list of all patients' names and ages."
      ]
    },
    {
      "cell_type": "code",
      "execution_count": null,
      "id": "a93b8210",
      "metadata": {},
      "outputs": [],
      "source": [
        "# Your code here ❌\n",
        "# *         # fieldname,fieldname"
      ]
    },
    {
      "attachments": {},
      "cell_type": "markdown",
      "id": "92a5b78b",
      "metadata": {},
      "source": [
        "2. Get a list of all diseases, along with their descriptions."
      ]
    },
    {
      "cell_type": "code",
      "execution_count": null,
      "id": "d1065d80",
      "metadata": {},
      "outputs": [],
      "source": [
        "# Your code here ❌"
      ]
    },
    {
      "attachments": {},
      "cell_type": "markdown",
      "id": "65e83fdc",
      "metadata": {},
      "source": [
        "3. Find the number of health checks a specific patient (by their ID) has had.\n",
        "\n",
        "[COUNT](https://www.postgresqltutorial.com/postgresql-aggregate-functions/postgresql-count-function/)"
      ]
    },
    {
      "cell_type": "code",
      "execution_count": null,
      "id": "be658bb2",
      "metadata": {},
      "outputs": [],
      "source": [
        "# Your code here ❌"
      ]
    },
    {
      "attachments": {},
      "cell_type": "markdown",
      "id": "85dfd054",
      "metadata": {},
      "source": [
        "4. Get a list of patients (by name) diagnosed with \"Diabetes\"."
      ]
    },
    {
      "cell_type": "code",
      "execution_count": null,
      "id": "c8a6e00e",
      "metadata": {},
      "outputs": [],
      "source": [
        "# Your code here ❌"
      ]
    },
    {
      "attachments": {},
      "cell_type": "markdown",
      "id": "b0be7604",
      "metadata": {},
      "source": [
        "5. Get the list of diseases a specific patient (by their ID) was diagnosed with."
      ]
    },
    {
      "cell_type": "code",
      "execution_count": null,
      "id": "77b512c1",
      "metadata": {},
      "outputs": [],
      "source": [
        "# Your code here ❌"
      ]
    },
    {
      "attachments": {},
      "cell_type": "markdown",
      "id": "ff8911e6",
      "metadata": {},
      "source": [
        "6. Find the average age of patients."
      ]
    },
    {
      "cell_type": "code",
      "execution_count": null,
      "id": "6659a8d1",
      "metadata": {},
      "outputs": [],
      "source": [
        "# Your code here ❌"
      ]
    },
    {
      "attachments": {},
      "cell_type": "markdown",
      "id": "8bd5f3fd",
      "metadata": {},
      "source": [
        "7. Get a list of all patients' names, and the count of health checks they have had."
      ]
    },
    {
      "cell_type": "code",
      "execution_count": null,
      "id": "eea326d6",
      "metadata": {},
      "outputs": [],
      "source": [
        "# Your code here ❌"
      ]
    }
  ],
  "metadata": {
    "kernelspec": {
      "display_name": "Python 3",
      "name": "python3"
    },
    "language_info": {
      "codemirror_mode": {
        "name": "ipython",
        "version": 3
      },
      "file_extension": ".py",
      "mimetype": "text/x-python",
      "name": "python",
      "nbconvert_exporter": "python",
      "pygments_lexer": "ipython3",
      "version": "3.11.3"
    }
  },
  "nbformat": 4,
  "nbformat_minor": 5
}
