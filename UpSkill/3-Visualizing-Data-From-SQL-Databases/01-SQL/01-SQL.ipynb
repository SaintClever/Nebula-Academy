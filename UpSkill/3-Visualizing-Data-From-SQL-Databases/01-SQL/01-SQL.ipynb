{
 "cells": [
  {
   "attachments": {},
   "cell_type": "markdown",
   "metadata": {},
   "source": [
    "# Welcome to SQL with Python\n",
    "\n",
    "Ready to start your journey with SQL and Python? Let's dive right in! 🐬\n",
    "\n",
    "### Learning Objectives\n",
    "\n",
    "At the end of this lesson, you'll be able to:\n",
    "\n",
    "1. Understand the role and importance of SQL in data analysis.\n",
    "2. Understand basic SQL concepts like tables, schemas, keys (primary and foreign), and SQL data types.\n",
    "3. Learn how to use Python's psycopg2 library to interact with SQL databases.\n",
    "4. Set up and connect to a PostgreSQL database in Python.\n",
    "5. Understand SQL syntax for basic operations: CREATE, SELECT, INSERT, UPDATE, and DELETE.\n",
    "6. Get introduced to the concepts of Joins and data grouping.\n",
    "\n",
    "---\n",
    "\n",
    "# What is SQL?\n",
    "\n",
    "SQL (Structured Query Language) is a staple language like JSON and CSV. Instead of storing data SQL provides a way to interact with data. SQL is a language that has been around since the 1970s and is still going strong to this day. It is a language that allows us to interact with databases. SQL is used to create, modify, and query databases. While some databases exist without SQL, most databases use SQL as their language of choice. Something like 79 percent to be exact according to [InfoWorld](https://www.infoworld.com/article/2607910/not-so-fast--nosql----sql-still-reigns.html#:~:text=%5B%20The%20best%20open%20source%20software%20of%202022%20%5D&text=While%2079%20percent%20used%20some,with%20some%20form%20of%20NoSQL.).\n",
    "\n",
    "# PostgreSQL and Railway\n",
    "\n",
    "PostgreSQL is a powerful, open-source database system. It utilizes SQL to interact with our data. PostgreSQL is a great database to use for this course because it is free and open-source. It is also a very popular database system. It is used by companies like Apple, Spotify, and Netflix. It is also used by the US Department of Defense and the US Department of Energy. PostgreSQL is a great database to learn because it is free, open-source, and widely used.\n",
    "\n",
    "We are also going to utilize a tool called [Railway](https://railway.app/). Railway is a tool that allows us to create and host PostgreSQL databases for free. It also allows us to connect to our database using a GUI (Graphical User Interface). \n",
    "\n",
    "1. Log into [Railway](https://railway.app/) using your GitHub account.\n",
    "2. Click on the \"New Project\" button.\n",
    "3. Select \"Provision PostgreSQL\".\n",
    "At this point Railway is going to create a database for you in the cloud. It will take a few minutes for Railway to create your database.\n",
    "4. Once your database has been created, you will see what looks like a board with a single card on it. This is your project. It should say \"Postgres\". Click on the project.\n",
    "5. Next click the connect tab. That screen has the information we need to connect to our database.\n",
    "6. Let's add those values to the variables below.\n"
   ]
  },
  {
   "cell_type": "markdown",
   "metadata": {},
   "source": []
  },
  {
   "cell_type": "code",
   "execution_count": 2,
   "metadata": {},
   "outputs": [],
   "source": [
    "PGDATABASE = \"railway\"\n",
    "PGHOST = \"containers-us-west-86.railway.app\"\n",
    "PGPASSWORD = \"reDJwRrN39WCcV7XiRAT\"\n",
    "PGPORT = \"5941\"\n",
    "PGUSER = \"postgres\""
   ]
  },
  {
   "attachments": {},
   "cell_type": "markdown",
   "metadata": {},
   "source": [
    "# psycopg2\n",
    "\n",
    "Next we are going to look at psycopg2. Psycopg2 is a Python library that allows us to interact with PostgreSQL databases. It provides us with a simple interface to connect to our database and execute SQL commands."
   ]
  },
  {
   "attachments": {},
   "cell_type": "markdown",
   "metadata": {},
   "source": [
    "\n",
    "\n",
    "#### 🧑🏽‍💻 You do\n",
    "**Install psycopg2**\n",
    "Use your terminal and pip to install psycopg2.\n",
    "```bash\n",
    "pip install psycopg2\n",
    "```\n",
    "Now let's use Python and psycopg2 to connect to a PostgreSQL database.\n",
    "\n",
    "```python\n"
   ]
  },
  {
   "cell_type": "code",
   "execution_count": 3,
   "metadata": {},
   "outputs": [],
   "source": [
    "import psycopg2\n",
    "\n",
    "conn = psycopg2.connect(\n",
    "    host=PGHOST,\n",
    "    database=PGDATABASE,\n",
    "    port=PGPORT,\n",
    "    user=PGUSER,\n",
    "    password=PGPASSWORD\n",
    ")"
   ]
  },
  {
   "attachments": {},
   "cell_type": "markdown",
   "metadata": {},
   "source": [
    "Next we need to open a cursor. A cursor is a control structure that enables traversal over the records in a database. Kind of like you traverse your screen with a mouse cursor. The exact mechanics of a cursor are beyond the scope of this course. For now, just know that we need to open a cursor to interact with our database."
   ]
  },
  {
   "cell_type": "code",
   "execution_count": 4,
   "metadata": {},
   "outputs": [],
   "source": [
    "cur = conn.cursor()"
   ]
  },
  {
   "attachments": {},
   "cell_type": "markdown",
   "metadata": {},
   "source": [
    "# SQL Data Types and Tables\n",
    "\n",
    "SQL works with different types of data: integers, text, dates, and more. We store this data in structures called 'tables', like a spreadsheet with rows and columns.\n",
    "\n",
    "#### 🧑🏽‍💻 You do\n",
    "**Create a table**\n",
    "Let's start by creating a 'Patients' table. Our table will have fields for 'name', 'age', 'gender', and 'address'. \n",
    "\n",
    "We use CREATE TABLE to create a new table in our database. We follow it with the table name and then a list of fields. Each field has a name and a data type. \n",
    "\n",
    "Notice the data types for each field. We will use these data types to tell SQL what kind of data to expect in each field. We will use SERIAL, TEXT, and INTEGER datatypes.\n",
    "\n",
    "\n",
    "| Data Type | Description |\n",
    "| --------- | ----------- |\n",
    "| `SERIAL` | The `SERIAL` data type is an auto-incrementing integer. It's typically used for primary keys in PostgreSQL. When you insert a new row into the table without specifying the value of the SERIAL column, PostgreSQL will automatically generate a new value for you. The value starts from 1, and it's incremented by 1 for each new row. |\n",
    "| `TEXT` | The `TEXT` data type is used to store character of unlimited length. It's suitable for storing long-form text, comments, document content, etc. Unlike `VARCHAR(n)`, it does not require you to define a length at the table creation stage. |\n",
    "| `INTEGER` | The `INTEGER` data type is used to store whole numbers, without a fractional component. In PostgreSQL, it has a range of -2147483648 to +2147483647. |\n",
    "\n",
    "Please note that these are general descriptions, and the specific behavior can vary slightly based on the SQL database system you are using. (PostgreSQL, MySQL, etc.)\n",
    "\n",
    "We also use the PRIMARY KEY constraint to uniquely identify each row in the table. In this case, we are using the 'id' field as our primary key. We will use this field to uniquely identify each patient in our table.\n",
    "\n",
    "```python\n",
    "\n",
    "```\n",
    "\n",
    "Last thing to note is the cursor methods we are going to use.\n",
    "\n",
    "| Method | Description |\n",
    "| ------ | ----------- |\n",
    "| `execute()` | This method is used to execute a SQL query. It takes a single string as an argument. The string should be a valid SQL query. Also note we use \"\"\" to create a multi-line string. This is a Python feature. It allows us to create a string that spans multiple lines. |\n",
    "| `commit()` | This method is used to save changes to the database. We will use this method after we execute a SQL query that modifies the database. |\n",
    "\n",
    "\n",
    "```python\n",
    "\n",
    "```\n",
    "\n",
    "---\n",
    "\n"
   ]
  },
  {
   "cell_type": "code",
   "execution_count": 4,
   "metadata": {},
   "outputs": [],
   "source": [
    "\n",
    "conn.rollback()\n",
    "\n",
    "cur.execute(\"\"\"\n",
    "    DROP TABLE IF EXISTS Patients;\n",
    "\"\"\")\n",
    "cur.execute(\"\"\"\n",
    "    CREATE TABLE Patients (\n",
    "        id SERIAL PRIMARY KEY,\n",
    "        name TEXT,\n",
    "        age INTEGER,\n",
    "        gender TEXT,\n",
    "        address TEXT\n",
    "    );\n",
    "\"\"\")\n",
    "conn.commit()"
   ]
  },
  {
   "attachments": {},
   "cell_type": "markdown",
   "metadata": {},
   "source": [
    "# Inserting Data\n",
    "\n",
    "Now that we have a table, let's add some data! You can insert data into a table using the INSERT command. Let's see an example of inserting a single patient into our Patients table."
   ]
  },
  {
   "cell_type": "code",
   "execution_count": 5,
   "metadata": {},
   "outputs": [],
   "source": [
    "# Add a new patient\n",
    "cur.execute(\"\"\" \n",
    "  INSERT INTO Patients (name, age, gender, address)\n",
    "  VALUES ('John Doe', 22, 'Male', 'Apt. 123, 456 Fake St, New York, NY, 10001')\n",
    "\"\"\")\n",
    "conn.commit()"
   ]
  },
  {
   "attachments": {},
   "cell_type": "markdown",
   "metadata": {},
   "source": [
    "#### 🧑🏽‍💻 You do\n",
    "**Add a patient**\n",
    "Let's add a patient to our 'Patients' table. We'll use the INSERT statement for this. For now, enter any name, age, gender, and address you like!"
   ]
  },
  {
   "cell_type": "code",
   "execution_count": 6,
   "metadata": {},
   "outputs": [],
   "source": [
    "# Your code here ❌\n",
    "# reset buffer\n",
    "cur.execute(\"\"\"\n",
    "  INSERT INTO patients (name, age, gender, address)\n",
    "  VALUES('Brandon Gottshall', 25, 'male', '123 Easy st. Faketown, USA')\n",
    "\"\"\")\n",
    "conn.commit()"
   ]
  },
  {
   "attachments": {},
   "cell_type": "markdown",
   "metadata": {},
   "source": [
    "# Fetching Data\n",
    "\n",
    "How do we get data out of our database? With the SELECT statement!\n",
    "\n",
    "Let's select a patient from our 'Patients' table. We'll use the WHERE clause to specify which patient we want to select. For now, let's select the patient with the name 'John Doe'."
   ]
  },
  {
   "cell_type": "code",
   "execution_count": 11,
   "metadata": {},
   "outputs": [
    {
     "name": "stdout",
     "output_type": "stream",
     "text": [
      "[(1, 'John Doe', 22, 'Male', 'Apt. 123, 456 Fake St, New York, NY, 10001')]\n"
     ]
    }
   ],
   "source": [
    "cur.execute(\"\"\"\n",
    "  SELECT * FROM patients WHERE name = 'John Doe';\n",
    "\"\"\"\n",
    ")\n",
    "print(cur.fetchall())"
   ]
  },
  {
   "attachments": {},
   "cell_type": "markdown",
   "metadata": {},
   "source": [
    "#### 🧑🏽‍💻 You do\n",
    "**Retrieve a patient by address**\n",
    "Try fetching the data of the patient you just in  serted. Use the WHERE clause to select the patient by address. Use the address you entered when you inserted the patient."
   ]
  },
  {
   "cell_type": "code",
   "execution_count": 13,
   "metadata": {},
   "outputs": [
    {
     "name": "stdout",
     "output_type": "stream",
     "text": [
      "[(2, 'Brandon Gottshall', 25, 'male', '123 Easy st. Faketown, USA')]\n"
     ]
    }
   ],
   "source": [
    "# Your code here ❌\n",
    "\n",
    "# cur.execute\n",
    "cur.execute(\"\"\"\n",
    "  SELECT * FROM patients WHERE address = '123 Easy st. Faketown, USA';\n",
    "\"\"\")\n",
    "# cur.fetchall\n",
    "print(cur.fetchall())"
   ]
  },
  {
   "attachments": {},
   "cell_type": "markdown",
   "metadata": {},
   "source": [
    "You can also use the SELECT statement to retrieve all of the data from a table or multiple items. We then use the fetchall() method to return the data as a list of tuples. Each tuple represents a row in the table. Each element in the tuple represents a field in the row.\n",
    "\n",
    "Let's see an example of fetching all the data from our 'Patients' table."
   ]
  },
  {
   "cell_type": "code",
   "execution_count": 9,
   "metadata": {},
   "outputs": [
    {
     "name": "stdout",
     "output_type": "stream",
     "text": [
      "[('Male', 'Apt. 123, 456 Fake St, New York, NY, 10001'), ('male', '123 Easy st. Faketown, USA')]\n"
     ]
    }
   ],
   "source": [
    "cur.execute(\"SELECT gender, address FROM patients\")\n",
    "print(cur.fetchall())"
   ]
  },
  {
   "attachments": {},
   "cell_type": "markdown",
   "metadata": {},
   "source": [
    "We can also combine this with thw WHERE clause to select a subset of the data. Let's see an example of fetching all the data from our 'Patients' table where the patient's age is over 20. Notice the `<`. Just like we have in python, we can use `<`, `>`, `<=`, `>=`, `==`, and `!=` to compare values."
   ]
  },
  {
   "cell_type": "code",
   "execution_count": 16,
   "metadata": {},
   "outputs": [
    {
     "name": "stdout",
     "output_type": "stream",
     "text": [
      "[(1, 'John Doe', 22, 'Male', 'Apt. 123, 456 Fake St, New York, NY, 10001'), (2, 'Brandon Gottshall', 25, 'male', '123 Easy st. Faketown, USA')]\n"
     ]
    }
   ],
   "source": [
    "conn.rollback()\n",
    "cur.execute(\"\"\"\n",
    "  SELECT * FROM patients\n",
    "  WHERE age > 20\n",
    "\"\"\")\n",
    "print(cur.fetchall())"
   ]
  },
  {
   "attachments": {},
   "cell_type": "markdown",
   "metadata": {},
   "source": [
    "### 🧑🏽‍💻 You do\n",
    "\n",
    "**Fetch all male patients**\n",
    "\n",
    "Carefully craft a query to fetch all of the 'Male' patients from our 'Patients' table."
   ]
  },
  {
   "cell_type": "code",
   "execution_count": 15,
   "metadata": {},
   "outputs": [
    {
     "name": "stdout",
     "output_type": "stream",
     "text": [
      "[(1, 'John Doe', 22, 'Male', 'Apt. 123, 456 Fake St, New York, NY, 10001')]\n"
     ]
    }
   ],
   "source": [
    "# Your code here ❌\n",
    "cur.execute(\"\"\"\n",
    "  SELECT * FROM patients\n",
    "  WHERE gender = 'Male'\n",
    "\"\"\")\n",
    "print(cur.fetchall())"
   ]
  },
  {
   "attachments": {},
   "cell_type": "markdown",
   "metadata": {},
   "source": [
    "# Updating Data\n",
    "\n",
    "What if we need to change some data? The UPDATE statement has our back! Let's say we need to update John Doe's age. We'll use UPDATE along with a new keyword, SET. SET allows us to specify which field we want to update and what value we want to set it to. We'll also use the WHERE clause to specify which patient we want to update.\n",
    "\n",
    "Here's how we'd do it:"
   ]
  },
  {
   "cell_type": "code",
   "execution_count": 17,
   "metadata": {},
   "outputs": [],
   "source": [
    "cur.execute(\"\"\"\n",
    "    UPDATE patients\n",
    "    SET age = '31'\n",
    "    WHERE name = 'John Doe'\n",
    "\"\"\")\n",
    "conn.commit()"
   ]
  },
  {
   "attachments": {},
   "cell_type": "markdown",
   "metadata": {},
   "source": [
    "#### 🧑🏽‍💻 You do\n",
    "**Update a patient's address**\n",
    "Let's update the address of the patient you just inserted. You can choose any new address for this exercise. Use the SET and WHERE clauses. Don't forget to commit your changes to the database with conn.commit()\n",
    "\n",
    "\n",
    "```sql\n",
    "UPDATE table_name\n",
    "SET some_field = 'something'\n",
    "WHERE some_field = 'something else';\n",
    "```"
   ]
  },
  {
   "cell_type": "code",
   "execution_count": 18,
   "metadata": {},
   "outputs": [],
   "source": [
    "# Your code here ❌\n",
    "\n",
    "cur.execute(\"\"\"\n",
    "    UPDATE patients\n",
    "    SET address = '321 Easy st. Faketown, USA'\n",
    "    WHERE name = 'Brandon Gottshall'\n",
    "\"\"\")\n",
    "conn.commit()\n",
    "\n"
   ]
  },
  {
   "attachments": {},
   "cell_type": "markdown",
   "metadata": {},
   "source": [
    "# Deleting Data\n",
    "\n",
    "What if we need to remove some data? We use the DELETE statement for this.\n",
    "\n",
    "Let's say we need to delete John Doe from our 'Patients' table. We'll use DELETE along with the WHERE clause to specify which patient we want to delete. Here's how we'd do it:\n"
   ]
  },
  {
   "cell_type": "code",
   "execution_count": 7,
   "metadata": {},
   "outputs": [],
   "source": [
    "cur.execute(\"DELETE FROM Patients WHERE name = 'John Doe'\")\n",
    "conn.commit()"
   ]
  },
  {
   "attachments": {},
   "cell_type": "markdown",
   "metadata": {},
   "source": [
    "#### 🧑🏽‍💻 You do\n",
    "**Delete a patient**\n",
    "Let's insert and delete a patient. Make sure you commit your changes to the database with conn.commit() . After you create and delete the patient, use the SELECT statement to verify that the patient was deleted."
   ]
  },
  {
   "cell_type": "code",
   "execution_count": 11,
   "metadata": {},
   "outputs": [
    {
     "name": "stdout",
     "output_type": "stream",
     "text": [
      "[(2, 'Brandon Gottshall', 25, 'male', '321 Easy st. Faketown, USA'), (4, 'Brandon Gottshall', 25, 'male', '123 Easy st. Faketown, USA'), (5, 'test', 30, 'x', 'x'), (6, 'test', 30, 'x', 'x')]\n",
      "[(2, 'Brandon Gottshall', 25, 'male', '321 Easy st. Faketown, USA'), (4, 'Brandon Gottshall', 25, 'male', '123 Easy st. Faketown, USA')]\n"
     ]
    }
   ],
   "source": [
    "# Your code here ❌\n",
    "conn.rollback()\n",
    "\n",
    "# Insert a patient\n",
    "cur.execute(\"\"\"\n",
    "  INSERT INTO patients (name, age, gender, address)\n",
    "  VALUES ('test', 30, 'x', 'x')\n",
    "\"\"\")\n",
    "conn.commit()\n",
    "\n",
    "# Select and log all patients\n",
    "cur.execute(\"\"\"\n",
    "  SELECT * FROM patients\n",
    "\"\"\")\n",
    "print(cur.fetchall())\n",
    "\n",
    "# Delete a patient\n",
    "cur.execute(\"DELETE FROM patients WHERE name = 'test'\")\n",
    "\n",
    "# Select and log all patients\n",
    "cur.execute(\"\"\"\n",
    "  SELECT * FROM patients\n",
    "\"\"\")\n",
    "print(cur.fetchall())"
   ]
  },
  {
   "attachments": {},
   "cell_type": "markdown",
   "metadata": {},
   "source": [
    "# Joins\n",
    "\n",
    "Joining tables is one of the most powerful features of SQL. It lets us combine data from different tables to get a more complete picture of our data. In the current state of our database, we have only a 'Patients' table with patient data. Let's add a 'Visits' table with visit data so we have some data to join.\n",
    "\n",
    "Let's create a 'Visits' table with fields for 'patient_id', 'visit_date', and 'visit_reason'. We'll use the 'patient_id' field to link visits to patients. This is what the REFERENCES constraint is for. It tells SQL that the 'patient_id' field in the 'Visits' table is a \"foreign key\", meaning it's the primary key of another table. In this case, it's the primary key of the 'Patients' table. This is how we link the two tables together.\n",
    " that references the 'id' field in the 'Patients' table.\n"
   ]
  },
  {
   "cell_type": "code",
   "execution_count": 17,
   "metadata": {},
   "outputs": [],
   "source": [
    "conn.rollback()\n",
    "cur.execute(\"\"\"\n",
    "    CREATE TABLE Visits (\n",
    "        id SERIAL PRIMARY KEY,\n",
    "        patient_id INTEGER REFERENCES patients(id),\n",
    "        visit_date TEXT,\n",
    "        visit_reason TEXT\n",
    "    )\n",
    "\"\"\")\n",
    "conn.commit()"
   ]
  },
  {
   "attachments": {},
   "cell_type": "markdown",
   "metadata": {},
   "source": [
    "Let's add some data:"
   ]
  },
  {
   "cell_type": "code",
   "execution_count": 19,
   "metadata": {},
   "outputs": [],
   "source": [
    "conn.rollback()\n",
    "cur.execute(\"\"\"\n",
    "    INSERT INTO Visits (patient_id, visit_date, visit_reason)\n",
    "    VALUES (2, '2021-01-01', 'Checkup')\n",
    "\"\"\")\n",
    "cur.execute(\"\"\"\n",
    "    INSERT INTO Visits (patient_id, visit_date, visit_reason)\n",
    "    VALUES (2, '2021-02-02', 'Checkup')\n",
    "\"\"\")\n",
    "\n",
    "cur.execute(\"\"\"\n",
    "    INSERT INTO Visits (patient_id, visit_date, visit_reason)\n",
    "    VALUES (2, '2021-01-01', 'Checkup')\n",
    "\"\"\")\n",
    "\n",
    "conn.commit()"
   ]
  },
  {
   "attachments": {},
   "cell_type": "markdown",
   "metadata": {},
   "source": [
    "Now we'll use a JOIN to combine the data from the 'Patients' and 'Visits' tables. We'll use the ON clause to specify how the two tables are linked. In this case, we'll link them by the 'patient_id' field in the 'Visits' table and the 'id' field in the 'Patients' table. Let's print all of the visits for John Doe.\n"
   ]
  },
  {
   "cell_type": "code",
   "execution_count": 21,
   "metadata": {},
   "outputs": [
    {
     "name": "stdout",
     "output_type": "stream",
     "text": [
      "[(2, 'Brandon Gottshall', 25, 'male', '321 Easy st. Faketown, USA', 4, 2, '2021-01-01', 'Checkup'), (2, 'Brandon Gottshall', 25, 'male', '321 Easy st. Faketown, USA', 5, 2, '2021-02-02', 'Checkup'), (2, 'Brandon Gottshall', 25, 'male', '321 Easy st. Faketown, USA', 6, 2, '2021-01-01', 'Checkup')]\n"
     ]
    }
   ],
   "source": [
    "cur.execute(\"\"\"\n",
    "    SELECT * FROM Patients\n",
    "    JOIN Visits ON Visits.patient_id = Patients.id\n",
    "    WHERE Patients.id = 2\n",
    "\"\"\")\n",
    "print(cur.fetchall())"
   ]
  },
  {
   "attachments": {},
   "cell_type": "markdown",
   "metadata": {},
   "source": [
    "Let's join the 'Patients' and 'Visits' tables. List all of the visits but include the patient's name instead of the patient_id. Use the ON clause to link the two tables by the 'patient_id' field in the 'Visits' table and the 'id' field in the 'Patients' table. We'll add the patient's name to the fields were asking for in the SELECT statement. We'll also use the AS keyword to give the name field an alias of 'patient_name'. This will make the output easier to read.\n",
    "\n",
    "\n",
    "```python\n"
   ]
  },
  {
   "cell_type": "code",
   "execution_count": 22,
   "metadata": {},
   "outputs": [
    {
     "name": "stdout",
     "output_type": "stream",
     "text": [
      "[(4, 2, '2021-01-01', 'Checkup', 'Brandon Gottshall'), (5, 2, '2021-02-02', 'Checkup', 'Brandon Gottshall'), (6, 2, '2021-01-01', 'Checkup', 'Brandon Gottshall')]\n"
     ]
    }
   ],
   "source": [
    "cur.execute(\"\"\"\n",
    "    SELECT VISITS.*, Patients.name AS patient_name FROM Visits\n",
    "    JOIN Patients ON Visits.patient_id = Patients.id\n",
    "\"\"\")\n",
    "print(cur.fetchall())"
   ]
  },
  {
   "attachments": {},
   "cell_type": "markdown",
   "metadata": {},
   "source": [
    "---\n",
    "\n",
    "# That's a wrap!\n",
    "\n",
    "You've done some great work today, learning how to use SQL with Python. Remember, practice makes perfect, so keep playing with different SQL commands and exploring your data. Before you go, don't forget to close your database connection!"
   ]
  },
  {
   "cell_type": "code",
   "execution_count": 23,
   "metadata": {},
   "outputs": [],
   "source": [
    "conn.close()"
   ]
  }
 ],
 "metadata": {
  "kernelspec": {
   "display_name": "Python 3",
   "language": "python",
   "name": "python3"
  },
  "language_info": {
   "codemirror_mode": {
    "name": "ipython",
    "version": 3
   },
   "file_extension": ".py",
   "mimetype": "text/x-python",
   "name": "python",
   "nbconvert_exporter": "python",
   "pygments_lexer": "ipython3",
   "version": "3.11.3"
  },
  "orig_nbformat": 4
 },
 "nbformat": 4,
 "nbformat_minor": 2
}
