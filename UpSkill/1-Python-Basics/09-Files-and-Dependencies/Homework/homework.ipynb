{
 "cells": [
  {
   "attachments": {},
   "cell_type": "markdown",
   "metadata": {},
   "source": [
    "# 📝 Homework: File Operations \n",
    "\n",
    "Please complete the following assignments that cover the topics of file operations and dependency management in Python.\n"
   ]
  },
  {
   "attachments": {},
   "cell_type": "markdown",
   "metadata": {},
   "source": [
    "##  📲 Assignment 1: Working with the `os` Module\n",
    "\n",
    "1. Use the `os` module to get the current working directory and print it.\n",
    "2. Create a new directory called 'files' within the current working directory.\n",
    "3. Use the `os` module to check if a file named 'data.txt' exists in the 'files' directory.\n",
    "   If it does not exist, create the file and write the sentence 'Hello, world!' to it."
   ]
  },
  {
   "cell_type": "code",
   "execution_count": null,
   "metadata": {},
   "outputs": [],
   "source": [
    "# Assignment 1: Working with the `os` Module\n",
    "\n"
   ]
  },
  {
   "attachments": {},
   "cell_type": "markdown",
   "metadata": {},
   "source": [
    "## ⏹️ Assignment 2: Reading and Writing JSON Files\n",
    "\n",
    "1. Create a dictionary called 'person' with the keys 'name', 'age', and 'city'. Set the values to your own information.\n",
    "2. Use the `json` module to write the 'person' dictionary to a file named 'person.json'.\n",
    "3. Open the 'person.json' file and use the `json` module to load its contents into a new dictionary called 'loaded_person'.\n",
    "   Print the 'loaded_person' dictionary."
   ]
  },
  {
   "cell_type": "code",
   "execution_count": null,
   "metadata": {},
   "outputs": [],
   "source": [
    "# Assignment 2: Reading and Writing JSON Files\n"
   ]
  },
  {
   "attachments": {},
   "cell_type": "markdown",
   "metadata": {},
   "source": [
    "## 📜 Assignment 3: Reading and Writing CSV Files\n",
    "\n",
    "1. Create a CSV file named 'students.csv' with the following data:\n",
    "   - Name, Age, Grade\n",
    "   - John, 15, 9\n",
    "   - Emily, 16, 10\n",
    "   - Michael, 14, 8\n",
    "   - Sophia, 15, 9\n",
    "2. Use the `csv` module to open and read the 'students.csv' file. Print each row of data."
   ]
  },
  {
   "cell_type": "code",
   "execution_count": null,
   "metadata": {},
   "outputs": [],
   "source": [
    "# Assignment 3: Reading and Writing CSV Files\n"
   ]
  }
 ],
 "metadata": {
  "language_info": {
   "name": "python"
  },
  "orig_nbformat": 4
 },
 "nbformat": 4,
 "nbformat_minor": 2
}
