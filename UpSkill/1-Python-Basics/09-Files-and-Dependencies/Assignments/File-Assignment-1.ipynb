{
  "cells": [
    {
      "attachments": {},
      "cell_type": "markdown",
      "metadata": {},
      "source": [
        "# File Assignment 1\n",
        "\n",
        "## Instructions\n",
        "\n",
        "Run the setup code below before working on the questions. The code will create all of the variables and files necessary to complete this assignment. Then complete the assignment."
      ]
    },
    {
      "cell_type": "code",
      "execution_count": null,
      "metadata": {},
      "outputs": [],
      "source": [
        "# Setup ip_addresses variable\n",
        "ip_addresses = ['192.168.1.1', '10.0.0.1', '172.16.0.1']\n",
        "# Setup signal_trace.json\n",
        "import json\n",
        "\n",
        "trace = [\n",
        "    {'hop': 1, 'location': 'New York'},\n",
        "    {'hop': 2, 'location': 'Tokyo'},\n",
        "    {'hop': 3, 'location': 'Paris'},\n",
        "    {'hop': 4, 'location': 'Sydney'},\n",
        "]\n",
        "with open('signal_trace.json', 'w') as file:\n",
        "    json.dump(trace, file)\n",
        "# Setup double_agents.csv\n",
        "import csv\n",
        "\n",
        "agents = [\n",
        "    ['Code Name', 'Real Name', 'Location'],\n",
        "    ['Red Sparrow', 'John Doe', 'Moscow'],\n",
        "    ['Black Widow', 'Jane Smith', 'London'],\n",
        "    ['Blue Turtle', 'Max Powers', 'Tokyo'],\n",
        "]\n",
        "with open('double_agents.csv', 'w', newline='') as file:\n",
        "    writer = csv.writer(file)\n",
        "    writer.writerows(agents)\n",
        "\n",
        "# Setup extraction_points.json\n",
        "import json\n",
        "\n",
        "points = [\n",
        "    {'name': 'Point Alpha', 'coordinates': [40.712776, -74.005974]},\n",
        "    {'name': 'Point Bravo', 'coordinates': [51.507351, -0.127758]},\n",
        "    {'name': 'Point Charlie', 'coordinates': [35.689487, 139.691711]},\n",
        "]\n",
        "with open('extraction_points.json', 'w') as file:\n",
        "    json.dump(points, file)\n",
        "\n",
        "import json\n",
        "\n",
        "agents = {\n",
        "    '001': {'name': 'Bond', 'city': 'London', 'status': 'active'},\n",
        "    '002': {'name': 'Bourne', 'city': 'New York', 'status': 'active'},\n",
        "    '003': {'name': 'Bunny', 'city': 'Amsterdam', 'status': 'retired'},\n",
        "    '004': {'name': 'Dent', 'city': 'Paris', 'status': 'missing'},\n",
        "    '005': {'name': 'Dog', 'city': 'Berlin', 'status': 'inactive'},\n",
        "    '006': {'name': 'Dragon', 'city': 'London', 'status': 'active'},\n",
        "    '007': {'name': 'Doll', 'city': 'New York', 'status': 'active'}\n",
        "}\n",
        "\n",
        "with open('agents_data.json', 'w') as f:\n",
        "    json.dump(agents, f, indent=4)\n",
        "import csv\n",
        "import os\n",
        "\n",
        "os.mkdir('field_offices')\n",
        "\n",
        "field_office_1 = [\n",
        "    ['Code Name', 'Real Name', 'Location', 'Status'],\n",
        "    ['001', 'Bond', 'London', 'Active'],\n",
        "    ['002', 'Bourne', 'New York', 'Active'],\n",
        "    ['003', 'Bunny', 'Amsterdam', 'Retired'],\n",
        "    ['004', 'Dent', 'Paris', 'Missing'],\n",
        "    ['005', 'Dog', 'Berlin', 'Inactive']\n",
        "]\n",
        "\n",
        "field_office_2 = [\n",
        "    ['Code Name', 'Real Name', 'Location', 'Status'],\n",
        "    ['006', 'Dragon', 'London', 'Active'],\n",
        "    ['007', 'Doll', 'New York', 'Active'],\n",
        "    ['008', 'Doom', 'Amsterdam', 'Retired'],\n",
        "    ['009', 'Doom', 'Paris', 'Missing'],\n",
        "    ['010', 'Doom', 'Berlin', 'Inactive']\n",
        "]\n",
        "\n",
        "with open('field_offices/field_office_1.csv', 'w') as f:\n",
        "    writer = csv.writer(f)\n",
        "    writer.writerows(field_office_1)\n",
        "\n",
        "with open('field_offices/field_office_2.csv', 'w') as f:\n",
        "    writer = csv.writer(f)\n",
        "    writer.writerows(field_office_2)\n",
        "import csv\n",
        "\n",
        "agents = [\n",
        "    ['Code Name', 'Real Name', 'Location', 'Status'],\n",
        "    ['001', 'Bond', 'London', 'Active'],\n",
        "    ['002', 'Bourne', 'New York', 'Active'],\n",
        "    ['003', 'Bunny', 'Amsterdam', 'Retired'],\n",
        "    ['004', 'Dent', 'Paris', 'Missing'],\n",
        "    ['005', 'Dog', 'Berlin', 'Inactive']\n",
        "]\n",
        "\n",
        "with open('agents.csv', 'w') as f:\n",
        "    writer = csv.writer(f)\n",
        "    writer.writerows(agents)\n",
        "import random\n",
        "import string\n",
        "import datetime\n",
        "\n",
        "with open('activity_log.txt', 'w') as file:\n",
        "  for _ in range(10):  # Generate 10 lines of information\n",
        "    agent_id_code = ''.join(random.choices(string.ascii_uppercase, k=5))  # Generate a random code name of length 5\n",
        "    timestamp = datetime.datetime.now().strftime(\"%Y-%m-%d %H:%M:%S\")  # Get the current timestamp\n",
        "    line = f\"{agent_id_code} - {timestamp}\\n\"  # Create the line of information\n",
        "    file.write(line)  # Write the line to the file\n",
        "import csv\n",
        "import random\n",
        "import string\n",
        "\n",
        "csv_file = 'incomplete_code.csv'\n",
        "num_rows = 100\n",
        "num_columns = 5\n",
        "missing_probability = 0.2  # 20% chance that a value will be missing\n",
        "\n",
        "with open(csv_file, 'w', newline='') as file:\n",
        "  writer = csv.writer(file)\n",
        "\n",
        "  # Generate header row\n",
        "  header = ['Column {}'.format(i) for i in range(1, num_columns + 1)]\n",
        "  writer.writerow(header)\n",
        "\n",
        "  # Generate data rows\n",
        "  for _ in range(num_rows):\n",
        "    row = []\n",
        "    for _ in range(num_columns):\n",
        "      if random.random() < missing_probability:\n",
        "        row.append('')  # Add missing value\n",
        "      else:\n",
        "        value = ''.join(random.choices(string.ascii_lowercase, k=5))  # Generate random value\n",
        "        row.append(value)\n",
        "    writer.writerow(row)\n",
        "\n",
        "import json\n",
        "import random\n",
        "import string\n",
        "\n",
        "data = []\n",
        "json_file = 'activity_data.json'\n",
        "\n",
        "for _ in range(10):\n",
        "    record = {\n",
        "        'agent_code': ''.join(random.choices(string.ascii_uppercase, k=5)),\n",
        "        'timestamp': str(random.randint(2000, 2023)) + '-' + str(random.randint(1, 12)) + '-' + str(random.randint(1, 28)) + ' ' +\n",
        "                     str(random.randint(0, 23)).zfill(2) + ':' + str(random.randint(0, 59)).zfill(2) + ':' + str(random.randint(0, 59)).zfill(2)\n",
        "    }\n",
        "    data.append(record)\n",
        "\n",
        "with open(json_file, 'w') as file:\n",
        "    json_data = json.dumps(data, indent=None)\n",
        "    indented_data = ''\n",
        "    current_indent = 0\n",
        "    line_start = True\n",
        "\n",
        "    for char in json_data:\n",
        "        if char in ['{', '[']:\n",
        "            current_indent += random.randint(1, 5) * 4  # Randomly increase the current indentation\n",
        "            indented_data += char\n",
        "            line_start = True\n",
        "        elif char in ['}', ']']:\n",
        "            current_indent -= random.randint(1, 5) * 4  # Randomly decrease the current indentation\n",
        "            if not line_start:\n",
        "                indented_data += '\\n' + ' ' * current_indent\n",
        "            indented_data += char\n",
        "            line_start = False\n",
        "        elif char == ',':\n",
        "            indented_data += char\n",
        "            if random.random() < 0.3:  # Occasionally put elements on the same line\n",
        "                indented_data += ' '\n",
        "            else:\n",
        "                indented_data += '\\n' + ' ' * current_indent\n",
        "            line_start = True\n",
        "        else:\n",
        "            if line_start:\n",
        "                indented_data += ' ' * current_indent\n",
        "            indented_data += char\n",
        "            line_start = False\n",
        "\n",
        "    file.write(indented_data)\n"
      ]
    },
    {
      "attachments": {},
      "cell_type": "markdown",
      "metadata": {},
      "source": [
        "## 1. Jack into the Matrix"
      ]
    },
    {
      "attachments": {},
      "cell_type": "markdown",
      "metadata": {},
      "source": [
        "You need to connect to the Matrix. A list of IP addresses is given. Write a Python function `connect_to_matrix(ip_addresses)` to choose and return an IP address randomly from the list. (Hint: Use the `random` module)"
      ]
    },
    {
      "cell_type": "code",
      "execution_count": 2,
      "metadata": {},
      "outputs": [
        {
          "name": "stdout",
          "output_type": "stream",
          "text": [
            "None\n"
          ]
        }
      ],
      "source": [
        "ip_addresses = ['192.168.1.1', '10.0.0.1', '172.16.0.1']\n",
        "\n",
        "def connect_to_matrix(addresses):\n",
        "  # Your code here\n",
        "  pass\n",
        "\n",
        "print(connect_to_matrix(ip_addresses)) # Should print an ip address ie. 10.0.0.1"
      ]
    },
    {
      "attachments": {},
      "cell_type": "markdown",
      "metadata": {},
      "source": [
        "## 2. Trace the Signal"
      ]
    },
    {
      "attachments": {},
      "cell_type": "markdown",
      "metadata": {},
      "source": [
        "  The Matrix connection signal is hopping around the world. You've got a trace on it in 'signal_trace.json'. Load the JSON file and write a Python function `trace_signal()` that returns a dictionary showing each location and the number of hops to reach it.  "
      ]
    },
    {
      "cell_type": "code",
      "execution_count": 4,
      "metadata": {},
      "outputs": [],
      "source": [
        "def trace_signal():\n",
        "  # Your code here\n",
        "  pass"
      ]
    },
    {
      "attachments": {},
      "cell_type": "markdown",
      "metadata": {},
      "source": [
        "## 3. Double Agents"
      ]
    },
    {
      "attachments": {},
      "cell_type": "markdown",
      "metadata": {},
      "source": [
        "There's a list of double agents saved in 'double_agents.csv'. Each line of the file contains a code name, real name, and location of a double agent. Write a Python function `find_double_agent(code_name)` that receives a code name and returns the real name and location of the agent with that code name."
      ]
    },
    {
      "cell_type": "code",
      "execution_count": null,
      "metadata": {},
      "outputs": [],
      "source": [
        "def find_double_agents():\n",
        "  # Your code here\n",
        "  pass\n",
        "\n",
        "print(find_double_agents()) # Should print the real name and location of the double agent ie. Jane Smith, London"
      ]
    },
    {
      "attachments": {},
      "cell_type": "markdown",
      "metadata": {},
      "source": [
        "## 4. Extraction Point Coordinates"
      ]
    },
    {
      "attachments": {},
      "cell_type": "markdown",
      "metadata": {},
      "source": [
        "Extraction points for agents are saved in 'extraction_points.json'. Each point has a name and geographical coordinates. Write a Python function `get_coordinates(point_name)` that accepts the name of an extraction point and returns its coordinates."
      ]
    },
    {
      "cell_type": "code",
      "execution_count": null,
      "metadata": {},
      "outputs": [],
      "source": [
        "def get_coordinates(point_name):\n",
        "  # Your code here\n",
        "  pass\n",
        "\n",
        "print(get_coordinates('Point Bravo')) # Should print [51.507351, -0.127758]"
      ]
    },
    {
      "attachments": {},
      "cell_type": "markdown",
      "metadata": {},
      "source": [
        "### 5. Agent Locations\n",
        "Agents' data in the form of a dictionary is stored in a file named 'agents_data.json'. This dictionary consists of agent code names as keys, and their respective information (real name, location, and status) as values. Write a Python function active_agents_in_city(city) that loads the JSON file and returns a list of active agents in a given city."
      ]
    },
    {
      "attachments": {},
      "cell_type": "markdown",
      "metadata": {},
      "source": [
        "Run the following snippet to set up the data:"
      ]
    },
    {
      "cell_type": "code",
      "execution_count": null,
      "metadata": {},
      "outputs": [],
      "source": [
        "def active_agents_in_city(city):\n",
        "  # Your code goes here\n",
        "  pass"
      ]
    },
    {
      "attachments": {},
      "cell_type": "markdown",
      "metadata": {},
      "source": [
        "### 6. Agent Roster\n",
        "There are multiple CSV files in a directory `field_offices/`, each representing a different field office's agent roster. Each CSV file has columns 'Code Name', 'Real Name', 'Location', 'Status'. Write a Python function consolidate_files(directory) that reads all CSV files in a given directory and combines them into a single CSV file 'all_agents.csv'."
      ]
    },
    {
      "attachments": {},
      "cell_type": "markdown",
      "metadata": {},
      "source": [
        "Run the following snippet to set up the data:"
      ]
    },
    {
      "cell_type": "code",
      "execution_count": null,
      "metadata": {},
      "outputs": [],
      "source": [
        "def consolidate_files(directory):\n",
        "  # Your code goes here\n",
        "  pass"
      ]
    },
    {
      "attachments": {},
      "cell_type": "markdown",
      "metadata": {},
      "source": [
        "### 7. Agents in JSON\n",
        "Agents' data is stored in a CSV file 'agents.csv', which contains columns 'Code Name', 'Real Name', 'Location', 'Status'. Write a Python function transform_to_json(csv_file) that reads the CSV file and transforms the data into a JSON format, then saves it to 'agents.json'."
      ]
    },
    {
      "attachments": {},
      "cell_type": "markdown",
      "metadata": {},
      "source": [
        "Run the following snippet to set up the data:"
      ]
    },
    {
      "cell_type": "code",
      "execution_count": null,
      "metadata": {},
      "outputs": [],
      "source": [
        "def transform_to_json(csv_file):\n",
        "  # Your code goes here\n",
        "  pass"
      ]
    },
    {
      "attachments": {},
      "cell_type": "markdown",
      "metadata": {},
      "source": [
        "### 8. Agent Activities\n",
        "Each agent's actions are logged in a text file named 'activity_log.txt'. Each line in the file contains an agent's id code and a timestamp. Write a Python function count_activities(agent_id_code) that counts and returns how many activities a certain agent has performed."
      ]
    },
    {
      "attachments": {},
      "cell_type": "markdown",
      "metadata": {},
      "source": [
        "Run the following snippet to set up the data:"
      ]
    },
    {
      "cell_type": "code",
      "execution_count": null,
      "metadata": {},
      "outputs": [],
      "source": [
        "def count_activities(agent_id_code):\n",
        "  # Your code goes here\n",
        "  pass"
      ]
    },
    {
      "attachments": {},
      "cell_type": "markdown",
      "metadata": {},
      "source": [
        "### 9. Missing Agents\n",
        "There's a CSV file 'incomplete_code.csv' that has some missing values in it. Write a Python function handle_missing(csv_file) that reads the file, replaces any missing values with a default value, `MISSING` and writes the cleaned data to 'cleaned_agents.csv'."
      ]
    },
    {
      "attachments": {},
      "cell_type": "markdown",
      "metadata": {},
      "source": [
        "Run the following snippet to set up the data:"
      ]
    },
    {
      "cell_type": "code",
      "execution_count": 19,
      "metadata": {},
      "outputs": [],
      "source": [
        "def handle_missing(csv_file):\n",
        "  # Your code goes here\n",
        "  pass"
      ]
    },
    {
      "attachments": {},
      "cell_type": "markdown",
      "metadata": {},
      "source": [
        "### 10. Pretty Print JSON\n",
        "Agent activity data is stored in a JSON file 'activity_data.json'. However, the data is hard to read. Write a Python function pretty_print_json(json_file) that opens the file and prints its contents in a human-friendly format."
      ]
    },
    {
      "attachments": {},
      "cell_type": "markdown",
      "metadata": {},
      "source": [
        "Run the following snippet to set up the data:"
      ]
    },
    {
      "cell_type": "code",
      "execution_count": null,
      "metadata": {},
      "outputs": [],
      "source": [
        "def pretty_print_json(json_file):\n",
        "  # Your code goes here\n",
        "  pass"
      ]
    }
  ],
  "metadata": {
    "kernelspec": {
      "display_name": "Python 3",
      "language": "python",
      "name": "python3"
    },
    "language_info": {
      "codemirror_mode": {
        "name": "ipython",
        "version": 3
      },
      "file_extension": ".py",
      "mimetype": "text/x-python",
      "name": "python",
      "nbconvert_exporter": "python",
      "pygments_lexer": "ipython3",
      "version": "3.11.3"
    },
    "orig_nbformat": 4
  },
  "nbformat": 4,
  "nbformat_minor": 2
}
