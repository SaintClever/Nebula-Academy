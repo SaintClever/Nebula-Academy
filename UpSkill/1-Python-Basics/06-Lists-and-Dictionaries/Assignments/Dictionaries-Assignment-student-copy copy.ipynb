{
  "cells": [
    {
      "attachments": {},
      "cell_type": "markdown",
      "metadata": {},
      "source": [
        "# Dictionaries\n",
        "\n",
        "In this exercise, we will explore dictionaries in Python.\n",
        "\n",
        "## Part 3: Dictionaries\n",
        "\n",
        "### 3.1 Create a Dictionary and Understand Its Utility\n",
        "\n",
        "Q1: What is a dictionary in Python, and what is its utility?\n"
      ]
    },
    {
      "cell_type": "code",
      "execution_count": 1,
      "metadata": {},
      "outputs": [],
      "source": [
        "\n"
      ]
    },
    {
      "attachments": {},
      "cell_type": "markdown",
      "metadata": {},
      "source": [
        "### 3.2 Manage Key-Value Pairs in a Dictionary - Access, Add, Remove, and Modify\n",
        "\n",
        "Q2: Create a dictionary `student_scores` that stores the scores of three students. The keys should\n",
        "be the student names, and the values should be their respective scores. Add the following entries\n",
        "to the dictionary:\n",
        "- 'John' with a score of 90\n",
        "- 'Alice' with a score of 85\n",
        "- 'Bob' with a score of 95\n",
        "\n",
        "After creating the dictionary, print it to verify the contents.\n"
      ]
    },
    {
      "cell_type": "code",
      "execution_count": 2,
      "metadata": {},
      "outputs": [
        {
          "name": "stdout",
          "output_type": "stream",
          "text": [
            "{'John': 90, 'Alice': 85, 'Bob': 95}\n"
          ]
        }
      ],
      "source": [
        "# A2:\n",
        "\n"
      ]
    },
    {
      "attachments": {},
      "cell_type": "markdown",
      "metadata": {},
      "source": [
        "Q3: Modify the score of 'Alice' in the `student_scores` dictionary to 88. Then, print the updated dictionary.\n"
      ]
    },
    {
      "cell_type": "code",
      "execution_count": 3,
      "metadata": {},
      "outputs": [
        {
          "name": "stdout",
          "output_type": "stream",
          "text": [
            "{'John': 90, 'Alice': 88, 'Bob': 95}\n"
          ]
        }
      ],
      "source": [
        "# A3:\n",
        "\n"
      ]
    },
    {
      "attachments": {},
      "cell_type": "markdown",
      "metadata": {},
      "source": [
        "Q4: Remove the entry for 'John' from the `student_scores` dictionary. Then, print the updated dictionary.\n"
      ]
    },
    {
      "cell_type": "code",
      "execution_count": 4,
      "metadata": {},
      "outputs": [
        {
          "name": "stdout",
          "output_type": "stream",
          "text": [
            "{'Alice': 88, 'Bob': 95}\n"
          ]
        }
      ],
      "source": [
        "# A4:\n"
      ]
    },
    {
      "attachments": {},
      "cell_type": "markdown",
      "metadata": {},
      "source": [
        "### 3.3 Check for the Presence of a Key in a Dictionary Using 'in' and 'not in' Operators\n",
        "\n",
        "Q5: Write a program to check if the key 'Bob' is present in the `student_scores` dictionary. Print 'Present'\n",
        "if the key is found and 'Not present' otherwise.\n"
      ]
    },
    {
      "cell_type": "code",
      "execution_count": 5,
      "metadata": {},
      "outputs": [
        {
          "name": "stdout",
          "output_type": "stream",
          "text": [
            "Present\n"
          ]
        }
      ],
      "source": [
        "# A5:\n"
      ]
    },
    {
      "attachments": {},
      "cell_type": "markdown",
      "metadata": {},
      "source": [
        "Q6: Write a program to check if the key 'Emma' is not present in the `student_scores` dictionary. Print 'Not present'\n",
        "if the key is not found and 'Present' otherwise.\n"
      ]
    },
    {
      "cell_type": "code",
      "execution_count": 6,
      "metadata": {},
      "outputs": [
        {
          "name": "stdout",
          "output_type": "stream",
          "text": [
            "Not present\n"
          ]
        }
      ],
      "source": [
        "# A6:\n",
        "\n"
      ]
    },
    {
      "attachments": {},
      "cell_type": "markdown",
      "metadata": {},
      "source": [
        "### 3.4 Access the Keys, Values, and Key-Value Pairs in a Dictionary Using keys(), values(), and items() Methods\n",
        "\n",
        "Q7: Print all the keys in the `student_scores` dictionary.\n"
      ]
    },
    {
      "cell_type": "code",
      "execution_count": 7,
      "metadata": {},
      "outputs": [
        {
          "name": "stdout",
          "output_type": "stream",
          "text": [
            "dict_keys(['Alice', 'Bob'])\n"
          ]
        }
      ],
      "source": [
        "# A7:\n"
      ]
    },
    {
      "attachments": {},
      "cell_type": "markdown",
      "metadata": {},
      "source": [
        "Q8: Print all the values in the `student_scores` dictionary.\n"
      ]
    },
    {
      "cell_type": "code",
      "execution_count": 8,
      "metadata": {},
      "outputs": [
        {
          "name": "stdout",
          "output_type": "stream",
          "text": [
            "dict_values([88, 95])\n"
          ]
        }
      ],
      "source": [
        "# A8:\n"
      ]
    },
    {
      "attachments": {},
      "cell_type": "markdown",
      "metadata": {},
      "source": [
        "Q9: Print all the key-value pairs in the `student_scores` dictionary.\n"
      ]
    },
    {
      "cell_type": "code",
      "execution_count": 9,
      "metadata": {},
      "outputs": [
        {
          "name": "stdout",
          "output_type": "stream",
          "text": [
            "dict_items([('Alice', 88), ('Bob', 95)])\n"
          ]
        }
      ],
      "source": [
        "# A9:\n"
      ]
    }
  ],
  "metadata": {
    "kernelspec": {
      "display_name": "Python 3",
      "language": "python",
      "name": "python3"
    },
    "language_info": {
      "codemirror_mode": {
        "name": "ipython",
        "version": 3
      },
      "file_extension": ".py",
      "mimetype": "text/x-python",
      "name": "python",
      "nbconvert_exporter": "python",
      "pygments_lexer": "ipython3",
      "version": "3.11.0"
    }
  },
  "nbformat": 4,
  "nbformat_minor": 5
}
