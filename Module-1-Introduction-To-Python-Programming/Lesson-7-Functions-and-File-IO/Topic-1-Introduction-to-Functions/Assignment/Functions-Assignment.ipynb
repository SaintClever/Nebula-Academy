{
 "cells": [
  {
   "cell_type": "markdown",
   "metadata": {},
   "source": [
    "### **Functions in Python Assignment**\n",
    "\n",
    "## **Exercise 1: Defining and Calling Functions**\n",
    "\n",
    "Demonstrate your understanding of how to define and call functions in Python.\n",
    "\n",
    "* **Task 1.1:** Define a function named `square` that takes one parameter, `number`, and returns the square of that number. Call the function with a number of your choice and print the result.\n",
    "\n",
    "* **Task 1.2:** Create a function called `say_hello` that takes no parameters and simply prints `\"Hello, Python!\"` when called.\n",
    "\n",
    "## **Exercise 2: Working with Parameters and Return Values**\n",
    "\n",
    "Explore function parameters, arguments, and the importance of return values.\n",
    "\n",
    "* **Task 2.1:** Write a function named `add` that takes two parameters, `a` and `b`, adds them together, and returns the result. Call the function with two numbers as arguments and print the result.\n",
    "\n",
    "* **Task 2.2:** Define a function called `is_even` that takes a single parameter, `num`, and returns `True` if the number is even, and `False` otherwise. Demonstrate its use by printing the result of a call with an even and an odd number.\n",
    "\n",
    "## **Exercise 3: Default Parameters and Keyword Arguments**\n",
    "\n",
    "Understand how to use default parameters and keyword arguments in function calls.\n",
    "\n",
    "* **Task 3.1:** Define a function `greet_user` with one parameter, `name`, with a default value of `\"Guest\"`. The function should print a greeting message using the name. Call the function twice: first, without any arguments, and second, with a name of your choice.\n",
    "\n",
    "* **Task 3.2:** Create a function named `describe_animal` with two parameters: `animal_type` and `pet_name`. Print a description of the animal using these parameters. Call this function using keyword arguments to specify the name and type of your pet or a fictional animal.\n",
    "\n",
    "## **Additional Challenges**\n",
    "\n",
    "For more advanced practice:\n",
    "\n",
    "* **Challenge 1:** Write a function `max_of_three` that takes three numbers as arguments and returns the largest of them. Ensure your function works for a set of any three numbers.\n",
    "\n",
    "* **Challenge 2:** Implement a function `concat_strings` that takes an arbitrary number of strings (using `*args`) and concatenates them into a single string separated by spaces. Test your function with multiple strings.\n",
    "\n",
    "---\n",
    "\n",
    "### **Submission Guidelines**\n",
    "\n",
    "Please submit a Python file (.py) containing the implementations of all the tasks and challenges. Make sure your code is well-commented to explain the functionality of each function. Happy coding!"
   ]
  }
 ],
 "metadata": {
  "language_info": {
   "name": "python"
  }
 },
 "nbformat": 4,
 "nbformat_minor": 2
}
