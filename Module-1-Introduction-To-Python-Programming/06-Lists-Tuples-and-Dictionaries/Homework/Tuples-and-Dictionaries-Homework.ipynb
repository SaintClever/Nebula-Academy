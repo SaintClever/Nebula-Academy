{
  "cells": [
    {
      "cell_type": "markdown",
      "attachments": {},
      "metadata": {},
      "source": [
        "**Question 1:** Create a tuple named `dimensions` with the elements 5, 10, and 15 representing the length, width, and height of a box. Print the tuple."
      ]
    },
    {
      "cell_type": "code",
      "execution_count": null,
      "metadata": {},
      "outputs": [],
      "source": ["# Your Solution Here"]
    },
    {
      "cell_type": "markdown",
      "attachments": {},
      "metadata": {},
      "source": [
        "**Question 2:** Create a dictionary named `student` with the keys 'name', 'age', 'grade', and 'subjects'. Assign any values you like to these keys. Print the dictionary."
      ]
    },
    {
      "cell_type": "code",
      "execution_count": null,
      "metadata": {},
      "outputs": [],
      "source": ["# Your Solution Here"]
    },
    {
      "cell_type": "markdown",
      "attachments": {},
      "metadata": {},
      "source": [
        "**Question 3:** Access and print the 'grade' value from the `student` dictionary."
      ]
    },
    {
      "cell_type": "code",
      "execution_count": null,
      "metadata": {},
      "outputs": [],
      "source": ["# Your Solution Here"]
    },
    {
      "cell_type": "markdown",
      "attachments": {},
      "metadata": {},
      "source": [
        "**Question 4:** Update the 'age' value in the `student` dictionary to 16. Print the updated dictionary."
      ]
    },
    {
      "cell_type": "code",
      "execution_count": null,
      "metadata": {},
      "outputs": [],
      "source": ["# Your Solution Here"]
    },
    {
      "cell_type": "markdown",
      "attachments": {},
      "metadata": {},
      "source": [
        "**Question 5:** Create a list of tuples where each tuple represents a book and contains the book title and author. Print the list of tuples."
      ]
    },
    {
      "cell_type": "code",
      "execution_count": null,
      "metadata": {},
      "outputs": [],
      "source": ["# Your Solution Here"]
    },
    {
      "cell_type": "markdown",
      "attachments": {},
      "metadata": {},
      "source": [
        "**Question 6:** Create a dictionary where the keys are the book titles from the list of tuples you created in Question 5, and the values are the corresponding authors."
      ]
    },
    {
      "cell_type": "code",
      "execution_count": null,
      "metadata": {},
      "outputs": [],
      "source": ["# Your Solution Here"]
    },
    {
      "cell_type": "markdown",
      "attachments": {},
      "metadata": {},
      "source": [
        "**Question 7:** Check if a given key 'Math' exists in a dictionary. If it does, print the value of the key. If it doesn't, print 'Key not found.'."
      ]
    },
    {
      "cell_type": "code",
      "execution_count": null,
      "metadata": {},
      "outputs": [],
      "source": ["# Your Solution Here"]
    },
    {
      "cell_type": "markdown",
      "attachments": {},
      "metadata": {},
      "source": [
        "**Question 8:** Create a dictionary to represent a shopping cart. The keys should be items and the values should be the item prices. Print the dictionary."
      ]
    },
    {
      "cell_type": "code",
      "execution_count": null,
      "metadata": {},
      "outputs": [],
      "source": ["# Your Solution Here"]
    },
    {
      "cell_type": "markdown",
      "attachments": {},
      "metadata": {},
      "source": [
        "**Question 9:** Calculate the total value of the shopping cart by summing all values in the dictionary."
      ]
    },
    {
      "cell_type": "code",
      "execution_count": null,
      "metadata": {},
      "outputs": [],
      "source": ["# Your Solution Here"]
    },
    {
      "cell_type": "markdown",
      "attachments": {},
      "metadata": {},
      "source": [
        "**Question 10:** Remove an item from the shopping cart dictionary. Print the updated dictionary."
      ]
    },
    {
      "cell_type": "code",
      "execution_count": null,
      "metadata": {},
      "outputs": [],
      "source": ["# Your Solution Here"]
    },
    {
      "cell_type": "markdown",
      "attachments": {},
      "metadata": {},
      "source": [
        "**Question 11:** Create a list of dictionaries where each dictionary represents a student with keys 'name', 'age', 'grade', and 'subjects'. Print the list."
      ]
    },
    {
      "cell_type": "code",
      "execution_count": null,
      "metadata": {},
      "outputs": [],
      "source": ["# Your Solution Here"]
    },
    {
      "cell_type": "markdown",
      "attachments": {},
      "metadata": {},
      "source": [
        "**Question 12:** Given the list of dictionaries representing students created in Question 11, print the name of the second student."
      ]
    },
    {
      "cell_type": "code",
      "execution_count": null,
      "metadata": {},
      "outputs": [],
      "source": ["# Your Solution Here"]
    },
    {
      "cell_type": "markdown",
      "attachments": {},
      "metadata": {},
      "source": [
        "**Question 13:** Given a tuple `(10, 20, 30, 40, 50)`, print the third element of the tuple."
      ]
    },
    {
      "cell_type": "code",
      "execution_count": null,
      "metadata": {},
      "outputs": [],
      "source": ["# Your Solution Here"]
    },
    {
      "cell_type": "markdown",
      "attachments": {},
      "metadata": {},
      "source": [
        "**Question 14:** Create a dictionary `country` with keys 'name', 'population', 'continent'. Assign any values you like to these keys. Print the dictionary."
      ]
    },
    {
      "cell_type": "code",
      "execution_count": null,
      "metadata": {},
      "outputs": [],
      "source": ["# Your Solution Here"]
    },
    {
      "cell_type": "markdown",
      "attachments": {},
      "metadata": {},
      "source": [
        "**Question 15:** Update the 'population' value in the `country` dictionary to any new value. Print the updated dictionary."
      ]
    },
    {
      "cell_type": "code",
      "execution_count": null,
      "metadata": {},
      "outputs": [],
      "source": ["# Your Solution Here"]
    },
    {
      "cell_type": "markdown",
      "attachments": {},
      "metadata": {},
      "source": [
        "**Question 16:** Print all the keys in the `country` dictionary."
      ]
    },
    {
      "cell_type": "code",
      "execution_count": null,
      "metadata": {},
      "outputs": [],
      "source": ["# Your Solution Here"]
    },
    {
      "cell_type": "markdown",
      "attachments": {},
      "metadata": {},
      "source": [
        "**Question 17:** Print all the values in the `country` dictionary."
      ]
    },
    {
      "cell_type": "code",
      "execution_count": null,
      "metadata": {},
      "outputs": [],
      "source": ["# Your Solution Here"]
    },
    {
      "cell_type": "markdown",
      "attachments": {},
      "metadata": {},
      "source": [
        "**Question 18:** Check if a given key 'capital' exists in the `country` dictionary. If it does, print the value of the key. If it doesn't, print 'Key not found.'."
      ]
    },
    {
      "cell_type": "code",
      "execution_count": null,
      "metadata": {},
      "outputs": [],
      "source": ["# Your Solution Here"]
    },
    {
      "cell_type": "markdown",
      "attachments": {},
      "metadata": {},
      "source": [
        "**Question 19:** Delete the 'continent' key from the `country` dictionary. Print the updated dictionary."
      ]
    },
    {
      "cell_type": "code",
      "execution_count": null,
      "metadata": {},
      "outputs": [],
      "source": ["# Your Solution Here"]
    },
    {
      "cell_type": "markdown",
      "attachments": {},
      "metadata": {},
      "source": [
        "**Question 20:** Create a tuple named `coordinates` with the elements (45.4215, -75.6972) representing the latitude and longitude of a location. Print the tuple."
      ]
    },
    {
      "cell_type": "code",
      "execution_count": null,
      "metadata": {},
      "outputs": [],
      "source": ["# Your Solution Here"]
    }
  ],
  "metadata": {
    "kernelspec": {
      "display_name": "Python 3",
      "language": "python",
      "name": "python3"
    },
    "language_info": {
      "codemirror_mode": {
        "name": "ipython",
        "version": 3
      },
      "file_extension": ".py",
      "mimetype": "text/x-python",
      "name": "python",
      "nbconvert_exporter": "python",
      "pygments_lexer": "ipython3",
      "version": "3.9.7"
    }
  },
  "nbformat": 4,
  "nbformat_minor": 5
}
