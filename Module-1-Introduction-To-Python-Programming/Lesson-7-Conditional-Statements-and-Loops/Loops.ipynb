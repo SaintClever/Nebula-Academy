{
  "cells": [
   {
    "attachments": {},
    "cell_type": "markdown",
    "id": "57a7755c",
    "metadata": {},
    "source": [
     "# Loops\n",
     "\n",
     "## Learning Outcomes\n",
     "- Understand the concept of loops and their importance in programming.\n",
     "- Differentiate between the `for` and `while` loops.\n",
     "- Learn to use the `range()` function in loop iterations.\n",
     "- Grasp the concept of loop control statements: `break` and `continue`.\n",
     "- Explore practical examples of loops in Python.\n",
     "\n",
     "## Table of Contents\n",
     "- [Lecture: Loops](#lecture-loops)\n",
     "  - [Learning Outcomes](#learning-outcomes)\n",
     "  - [Table of Contents](#table-of-contents)\n",
     "  - [Section 1: Introduction to Loops](#section-1-introduction-to-loops)\n",
     "        - [1.1 What are Loops?](#11-what-are-loops)\n",
     "  - [Section 2: The `for` Loop](#section-2-the-for-loop)\n",
     "        - [2.1 Using the `range()` Function](#21-using-the-range-function)\n",
     "          - [2.2 Iterating with `for` Loops](#22-iterating-with-for-loops)\n",
     "  - [Section 3: The `while` Loop](#section-3-the-while-loop)\n",
     "        - [3.1 What is the `while` Loop?](#31-what-is-the-while-loop)\n",
     "        - [3.2 Executing with `while` Loops](#32-executing-with-while-loops)\n",
     "        - [3.3 Loop Control Statements](#33-loop-control-statements)\n",
     "  - [Section 4: Practical Examples](#section-4-practical-examples)\n",
     "        - [4.1 Example 1: Printing Numbers](#41-example-1-printing-numbers)\n",
     "        - [4.2 Example 2: Sum of Digits](#42-example-2-sum-of-digits)\n",
     "        - [4.3 Example 3: Finding Prime Numbers](#43-example-3-finding-prime-numbers)\n",
     "\n"
    ]
   },
   {
    "attachments": {},
    "cell_type": "markdown",
    "id": "722f412a",
    "metadata": {},
    "source": [
     "---\n",
     "\n",
     "## Section 1: Introduction to Loops\n",
     "\n",
     "##### 1.1 What are Loops?\n",
     "\n",
     "**Loops in Python**\n",
     "\n",
     "Programming relies heavily on loops, which enable us to execute a set of instructions repeatedly. With their help, we can automate repetitive tasks, iterate through data collections, and solve complex problems more efficiently. In Python, there are two main types of loops: the \"for\" loop and the \"while\" loop."
    ]
   },
   {
    "attachments": {},
    "cell_type": "markdown",
    "id": "97a4b937",
    "metadata": {},
    "source": [
     "---\n",
     "\n",
     "## Section 2: The `for` Loop\n",
     "\n",
     "**The `for` Loop**\n",
     "\n",
     "We use the `for` loop when we know the number of iterations in advance or want to iterate over sequence elements like a list or a string. It follows a specific syntax:\n",
     "\n",
     "```python\n",
     "for item in sequence:\n",
     "    # code to be executed\n",
     "```\n",
     "\n",
     "In this scenario, the term `item` stands for a variable that will adopt the value of each element in the sequence. Meanwhile, `sequence` indicates the collection of elements to be iterated over. The code within the loop's block will be executed for each iteration."
    ]
   },
   {
    "attachments": {},
    "cell_type": "markdown",
    "id": "8cb90127",
    "metadata": {},
    "source": [
     "**🧑🏽‍💻 You Do**\n",
     "\n",
     "1. Create a list called `airplanes` with the following planes: \"Boeing\", \"Airbus\", \"Embraer\", \"Bombardier\", and \"ATR\".\n",
     "2. Use a `for` loop to iterate over the list and print each element."
    ]
   },
   {
    "cell_type": "code",
    "execution_count": null,
    "id": "15b00900",
    "metadata": {},
    "outputs": [],
    "source": [
     "# Your code here"
    ]
   },
   {
    "attachments": {},
    "cell_type": "markdown",
    "id": "daa57b66",
    "metadata": {},
    "source": [
     "##### 2.1 Using the `range()` Function\n",
     "\n",
     "**The `range()` Function**\n",
     "\n",
     "The `range()` function allows us to generate a sequence of numbers based on the specified start, stop, and step values. It follows the syntax:\n",
     "\n",
     "```python\n",
     "range(start, stop, step)\n",
     "```\n",
     "\n",
     "The `start` argument defines the starting value (inclusive), the `stop` argument defines the ending value (exclusive), and the `step` argument defines the increment or decrement between numbers. By default, the `start` value is 0, and the `step` value is 1.\n",
     "\n",
     "Let's explore some examples of using the `range()` function:"
    ]
   },
   {
    "cell_type": "code",
    "execution_count": null,
    "id": "55092192",
    "metadata": {},
    "outputs": [],
    "source": [
     "for number in range(5):\n",
     "    print(number)"
    ]
   },
   {
    "attachments": {},
    "cell_type": "markdown",
    "id": "c5ce4fe9",
    "metadata": {},
    "source": [
     "This code will print the numbers 0, 1, 2, 3, and 4."
    ]
   },
   {
    "cell_type": "code",
    "execution_count": null,
    "id": "7ccd0f7a",
    "metadata": {},
    "outputs": [],
    "source": [
     "for number in range(1, 10, 2):\n",
     "    print(number)"
    ]
   },
   {
    "cell_type": "code",
    "execution_count": 1,
    "id": "7f193d1a",
    "metadata": {},
    "outputs": [
     {
      "name": "stdout",
      "output_type": "stream",
      "text": [
       "1\n",
       "2\n",
       "3\n",
       "4\n",
       "5\n"
      ]
     }
    ],
    "source": [
     "for number in range(1, 6):\n",
     "    print(number)"
    ]
   },
   {
    "attachments": {},
    "cell_type": "markdown",
    "id": "e5534f3b",
    "metadata": {},
    "source": [
     "In this example, the loop will iterate over the numbers 1, 2, 3, 4, and 5, printing each number on a separate line."
    ]
   },
   {
    "attachments": {},
    "cell_type": "markdown",
    "id": "5160fa15",
    "metadata": {},
    "source": [
     "In this example, the loop will iterate over the odd numbers from 1 to 9: 1, 3, 5, 7, and 9."
    ]
   },
   {
    "attachments": {},
    "cell_type": "markdown",
    "id": "349a0bd4",
    "metadata": {},
    "source": [
     "**🧑🏽‍💻 You Do**\n",
     "\n",
     "1. Use the `range()` function to print the numbers 1 to 10.\n",
     "2. Use the `range()` function to print the numbers 10 to 1."
    ]
   },
   {
    "cell_type": "code",
    "execution_count": null,
    "id": "eb02da9d",
    "metadata": {},
    "outputs": [],
    "source": [
     "# Your code here"
    ]
   },
   {
    "attachments": {},
    "cell_type": "markdown",
    "id": "90e488a3",
    "metadata": {},
    "source": [
     "###### 2.2 Iterating with `for` Loops\n",
     "\n",
     "**Iterating Over Elements**\n",
     "\n",
     "One common use of the `for` loop is to iterate over a sequence, such as a list, string, or tuple. Let's consider an example of printing each element in a list:"
    ]
   },
   {
    "cell_type": "code",
    "execution_count": null,
    "id": "c65279e1",
    "metadata": {},
    "outputs": [],
    "source": [
     "for letter in \"Python\":\n",
     "    print(letter)"
    ]
   },
   {
    "cell_type": "code",
    "execution_count": null,
    "id": "143365fa",
    "metadata": {},
    "outputs": [],
    "source": [
     "colors = [\"red\", \"green\", \"blue\", \"yellow\", \"orange\"]\n",
     "\n",
     "for color in colors:\n",
     "    print(color)"
    ]
   },
   {
    "attachments": {},
    "cell_type": "markdown",
    "id": "58e9f24d",
    "metadata": {},
    "source": [
     "**🧑🏽‍💻 You Do**\n",
     "\n",
     "1. Create a list called `dog_breeds` with the following breeds: \"Labrador\", \"Poodle\", \"Husky\", \"Beagle\", and \"Bulldog\".\n",
     "2. Use a `for` loop to iterate over the list and print each element.\n"
    ]
   },
   {
    "cell_type": "code",
    "execution_count": null,
    "id": "ca858b1f",
    "metadata": {},
    "outputs": [],
    "source": [
     "# Your code here"
    ]
   },
   {
    "attachments": {},
    "cell_type": "markdown",
    "id": "9bac946c",
    "metadata": {},
    "source": [
     "**🧑🏽‍💻 You Do**\n",
     "\n",
     "1. Use the `range()` function with a `for` loop to print the word \"Python\" from the string `\"Python'sAwesome\"`."
    ]
   },
   {
    "cell_type": "code",
    "execution_count": null,
    "id": "eb1fefd2",
    "metadata": {},
    "outputs": [],
    "source": [
     "# Your code here"
    ]
   },
   {
    "attachments": {},
    "cell_type": "markdown",
    "id": "18f3c6f0",
    "metadata": {},
    "source": [
     "---\n",
     "\n",
     "## Section 3: The `while` Loop\n",
     "\n",
     "##### 3.1 What is the `while` Loop?\n",
     "\n",
     "**The `while` Loop**\n",
     "\n",
     "The `while` loop is utilized to execute a set of instructions repeatedly until a specific condition is no longer true. It has a distinct syntax from the `for` loop. See example below:\n",
     "\n",
     "```python\n",
     "while condition:\n",
     "    # code to be executed\n",
     "```\n",
     "The loop will continue running as long as the `condition` is true. Once the condition becomes false, the loop will stop, and the program will move on to the next line of code."
    ]
   },
   {
    "attachments": {},
    "cell_type": "markdown",
    "id": "f037353a",
    "metadata": {},
    "source": [
     "##### 3.2 Executing with `while` Loops\n",
     "\n",
     "**Using a Condition**\n",
     "\n",
     "A  `while` loop will keep running as long as the given condition is true. The condition is checked before every iteration. For instance, to print numbers from 1 to 5 using a `while` loop, we can use the following example code in Python: "
    ]
   },
   {
    "cell_type": "markdown",
    "id": "b5173356",
    "metadata": {},
    "source": []
   },
   {
    "cell_type": "code",
    "execution_count": null,
    "id": "5fbca90b",
    "metadata": {},
    "outputs": [],
    "source": [
     "number = 1\n",
     "\n",
     "while number <= 5:\n",
     "    print(number)\n",
     "    number += 1"
    ]
   },
   {
    "attachments": {},
    "cell_type": "markdown",
    "id": "16680484",
    "metadata": {},
    "source": [
     "In this code, the loop will execute as long as `number` is less than or equal to 5. After each iteration, the value of `number` is incremented by 1 using the `+=` operator. The loop will terminate once `number` becomes 6."
    ]
   },
   {
    "attachments": {},
    "cell_type": "markdown",
    "id": "f063f275",
    "metadata": {},
    "source": [
     "**🧑🏽‍💻 You Do**\n",
     "\n",
     "Create a `while` loop that prints the string `\"Python's Awesome\"` 5 times."
    ]
   },
   {
    "cell_type": "code",
    "execution_count": null,
    "id": "bfc67e09",
    "metadata": {},
    "outputs": [],
    "source": [
     "# Your code here"
    ]
   },
   {
    "attachments": {},
    "cell_type": "markdown",
    "id": "5897e766",
    "metadata": {},
    "source": [
     "##### 3.3 Loop Control Statements\n",
     "\n",
     "**The `break` Statement**\n",
     "\n",
     "The `break` statement in Python exits a loop before it completes all iterations. This statement allows us to terminate the loop based on a specific condition, even if the loop's condition is still true. To better understand this concept, let's examine an example\n"
    ]
   },
   {
    "cell_type": "code",
    "execution_count": null,
    "id": "fb6ea816",
    "metadata": {},
    "outputs": [],
    "source": [
     "while number <= 10:\n",
     "    if number == 5:\n",
     "        break\n",
     "    print(number)\n",
     "    number += 1"
    ]
   },
   {
    "attachments": {},
    "cell_type": "markdown",
    "id": "37be2e9a",
    "metadata": {},
    "source": [
     "In this code, the loop will terminate when `number` becomes 5. The `break` statement is encountered, causing the loop to exit immediately.\n",
     "\n",
     "Use the `break` statement to exit the loop when `number` is equal to 5."
    ]
   },
   {
    "attachments": {},
    "cell_type": "markdown",
    "id": "ade01f45",
    "metadata": {},
    "source": [
     "**The `continue` Statement**\n",
     "\n",
     "The  `continue` statement enables the skipping of remaining code in the current iteration and proceeding to the next iteration. It is useful for bypassing certain iterations based on specific conditions. Here is an example:\n"
    ]
   },
   {
    "cell_type": "code",
    "execution_count": null,
    "id": "f1b02abb",
    "metadata": {},
    "outputs": [],
    "source": [
     "number = 1\n",
     "\n",
     "while number <= 5:\n",
     "    if number == 3:\n",
     "        number += 1\n",
     "        continue\n",
     "    print(number)\n",
     "    number += 1"
    ]
   },
   {
    "attachments": {},
    "cell_type": "markdown",
    "id": "eef8b464",
    "metadata": {},
    "source": [
     "In this code, when `number` is equal to 3, the `continue` statement is encountered, and the loop proceeds to the next iteration without executing the remaining code within the loop block. Therefore, the number\n",
     "\n",
     " 3 will not be printed."
    ]
   },
   {
    "attachments": {},
    "cell_type": "markdown",
    "id": "63e395bd",
    "metadata": {},
    "source": [
     "**🧑🏽‍💻 You Do**\n",
     "\n",
     "**Use the continue and break statements**\n",
     "\n",
     "1. Print the numbers 1 to 100, skipping odd numbers. Use continue to skip odd numbers.\n",
     "2. Use the break statement to exit the loop when the number is 50."
    ]
   },
   {
    "cell_type": "code",
    "execution_count": null,
    "id": "4e64f169",
    "metadata": {},
    "outputs": [],
    "source": [
     "# Your code here"
    ]
   },
   {
    "attachments": {},
    "cell_type": "markdown",
    "id": "d436d74d",
    "metadata": {},
    "source": [
     "---\n",
     "\n",
     "## Section 4: Practical Examples\n",
     "\n",
     "Lets look at some practical examples of using loops.\n",
     "\n",
     "##### 4.1 Example 1: Printing Numbers\n",
     "\n",
     "Let's consider an example of using a loop to print numbers from 1 to 10:\n"
    ]
   },
   {
    "cell_type": "code",
    "execution_count": null,
    "id": "0627585c",
    "metadata": {},
    "outputs": [],
    "source": [
     "for number in range(1, 11):\n",
     "    print(number)"
    ]
   },
   {
    "attachments": {},
    "cell_type": "markdown",
    "id": "0c3fa4b0",
    "metadata": {},
    "source": [
     "##### 4.2 Example 2: Sum of Digits\n",
     "\n",
     "Here's an example of using a loop to calculate the sum of the digits of a given number:"
    ]
   },
   {
    "cell_type": "code",
    "execution_count": null,
    "id": "8653709f",
    "metadata": {},
    "outputs": [],
    "source": [
     "number = int(input(\"Enter a number: \"))\n",
     "sum_of_digits = 0\n",
     "\n",
     "while number > 0:\n",
     "    digit = number % 10\n",
     "    sum_of_digits += digit\n",
     "    number //= 10\n",
     "\n",
     "print(\"The sum of digits is:\", sum_of_digits)"
    ]
   },
   {
    "attachments": {},
    "cell_type": "markdown",
    "id": "54fb11b6",
    "metadata": {},
    "source": [
     "\n",
     "In this code, the user is prompted to enter a number. The loop calculates the sum of the digits by continuously extracting the last digit (`digit`) using the modulus operator `%`, adding it to the `sum_of_digits`, and then dividing the number by 10 (`number //= 10`) to remove the last digit. The loop continues until the number becomes 0.\n",
     "\n",
     "##### 4.3 Example 3: Finding Prime Numbers\n",
     "\n",
     "Let's see an example of using a loop to find all prime numbers within a given range:\n"
    ]
   },
   {
    "cell_type": "code",
    "execution_count": null,
    "id": "dac3e2fb",
    "metadata": {},
    "outputs": [],
    "source": [
     "start = int(input(\"Enter the starting number: \"))\n",
     "end = int(input(\"Enter the ending number: \"))\n",
     "\n",
     "print(\"Prime numbers between\", start, \"and\", end, \"are:\")\n",
     "\n",
     "for number in range(start, end + 1):\n",
     "    if number > 1:\n",
     "        for divisor in range(2, int(number ** 0.5) + 1):\n",
     "            if number % divisor == 0:\n",
     "                break\n",
     "        else:\n",
     "            print(number)"
    ]
   },
   {
    "attachments": {},
    "cell_type": "markdown",
    "id": "3b72fb8f",
    "metadata": {},
    "source": [
     "Here, the user inputs the range of numbers they want to check for prime numbers. The code then iterates through each number in the range and determines if it is prime. A number is considered prime if it is greater than 1 and can only be divided by 1 and itself. The code checks for divisibility using a loop from 2 to the square root of the number. If a divisor is found, the \"break\" statement exits the loop. If no divisor is found, the code executes the \"else\" block and prints the prime number.\n",
     "---\n",
     "\n",
     "With loops, we can automate repetitive tasks, iterate over We can automate repetitive tasks, iterate over collections, and solve complex problems more efficiently with loops. By mastering the `for` and `while` loops and loop control statements like `break` and `continue`, you'll have a robust set of tools to tackle a wide range of programming challenges."
    ]
   }
  ],
  "metadata": {
   "kernelspec": {
    "display_name": "Python 3",
    "name": "python3"
   },
   "language_info": {
    "codemirror_mode": {
     "name": "ipython",
     "version": 3
    },
    "file_extension": ".py",
    "mimetype": "text/x-python",
    "name": "python",
    "nbconvert_exporter": "python",
    "pygments_lexer": "ipython3",
    "version": "3.11.3"
   }
  },
  "nbformat": 4,
  "nbformat_minor": 5
 }