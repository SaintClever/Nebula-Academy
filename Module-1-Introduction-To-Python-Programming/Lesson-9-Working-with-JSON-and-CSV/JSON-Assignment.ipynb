{
 "cells": [
  {
   "cell_type": "markdown",
   "metadata": {},
   "source": [
    "# JSON Handling in Python Assignment\n",
    "\n",
    "## Exercise 1: Parsing JSON Strings\n",
    "\n",
    "Understanding how to convert JSON strings into Python data structures is a fundamental skill for working with JSON in Python.\n",
    "\n",
    "* **Task 1.1:** Given the JSON string `{\"name\": \"Alice\", \"age\": 30, \"city\": \"New York\"}`, parse it into a Python dictionary and print the dictionary."
   ]
  },
  {
   "cell_type": "code",
   "execution_count": null,
   "metadata": {},
   "outputs": [],
   "source": [
    "# Task 1.1\n"
   ]
  },
  {
   "cell_type": "markdown",
   "metadata": {},
   "source": [
    "* **Task 1.2:** Access the value of the `name` key from the dictionary created in Task 1.1 and print it.\n"
   ]
  },
  {
   "cell_type": "code",
   "execution_count": null,
   "metadata": {},
   "outputs": [],
   "source": [
    "# Task 1.2\n"
   ]
  },
  {
   "cell_type": "markdown",
   "metadata": {},
   "source": [
    "* **Task 1.3:** Modify the `age` value to `31` in the dictionary from Task 1.1 and print the updated dictionary.\n"
   ]
  },
  {
   "cell_type": "code",
   "execution_count": null,
   "metadata": {},
   "outputs": [],
   "source": [
    "# Task 1.3"
   ]
  },
  {
   "cell_type": "markdown",
   "metadata": {},
   "source": [
    "## Exercise 2: Generating JSON Strings\n",
    "\n",
    "Converting Python data structures to JSON strings is crucial for data storage and communication.\n",
    "\n",
    "* **Task 2.1:** Create a Python list named `colors` with the elements `\"red\"`, `\"green\"`, and `\"blue\"`. Convert this list to a JSON string and print the string."
   ]
  },
  {
   "cell_type": "code",
   "execution_count": null,
   "metadata": {},
   "outputs": [],
   "source": [
    "# Task 2.1"
   ]
  },
  {
   "cell_type": "markdown",
   "metadata": {},
   "source": [
    "* **Task 2.2:** Create a Python dictionary representing a person with keys `name`, `age`, and `skills`, where `skills` is a list of skills. Convert this dictionary to a JSON string with an indentation of 4 spaces and print it."
   ]
  },
  {
   "cell_type": "code",
   "execution_count": null,
   "metadata": {},
   "outputs": [],
   "source": [
    "# Task 2.2"
   ]
  },
  {
   "cell_type": "markdown",
   "metadata": {},
   "source": [
    "* **Task 3.1:** Given the nested JSON string `{\"employee\": {\"name\": \"John Doe\", \"roles\": [\"Admin\", \"User\"], \"email\": \"johndoe@example.com\"}}`, parse it into a Python object and print the roles of the employee.\n"
   ]
  },
  {
   "cell_type": "code",
   "execution_count": null,
   "metadata": {},
   "outputs": [],
   "source": [
    "\n",
    "# Task 3.1"
   ]
  },
  {
   "cell_type": "markdown",
   "metadata": {},
   "source": [
    "* **Task 3.2:** Add a new role `\"Manager\"` to the employee roles in the Python object from Task 3.1, then convert the entire object back to a JSON string and print it.\n"
   ]
  },
  {
   "cell_type": "code",
   "execution_count": null,
   "metadata": {},
   "outputs": [],
   "source": [
    "\n",
    "# Task 3.2"
   ]
  },
  {
   "cell_type": "markdown",
   "metadata": {},
   "source": [
    "## Exercise 4: JSON and Files\n",
    "\n",
    "Working with JSON files is a common task for configuration files, data storage, and more.\n",
    "\n",
    "* **Task 4.1:** Write a Python script to load a JSON file named `data.json` containing an array of objects. Print the loaded data."
   ]
  },
  {
   "cell_type": "code",
   "execution_count": null,
   "metadata": {},
   "outputs": [],
   "source": [
    "# Task 4.1"
   ]
  },
  {
   "cell_type": "markdown",
   "metadata": {},
   "source": [
    "* **Task 4.2:** Modify the data loaded in Task 4.1 by adding a new object to the array. Save the updated array back to `data.json`."
   ]
  },
  {
   "cell_type": "code",
   "execution_count": null,
   "metadata": {},
   "outputs": [],
   "source": [
    "# Task 4.2"
   ]
  },
  {
   "cell_type": "markdown",
   "metadata": {},
   "source": [
    "## Reflection\n",
    "\n",
    "After completing these exercises, reflect on the following questions and write a short paragraph:\n",
    "\n",
    "* What are the advantages of using JSON for data storage and exchange in Python applications?\n",
    "* How does handling complex JSON structures prepare you for working with real-world data?\n",
    "* Reflect on the process of converting between Python objects and JSON strings. How does this impact the way you think about data structures in Python?"
   ]
  }
 ],
 "metadata": {
  "language_info": {
   "name": "python"
  }
 },
 "nbformat": 4,
 "nbformat_minor": 2
}
