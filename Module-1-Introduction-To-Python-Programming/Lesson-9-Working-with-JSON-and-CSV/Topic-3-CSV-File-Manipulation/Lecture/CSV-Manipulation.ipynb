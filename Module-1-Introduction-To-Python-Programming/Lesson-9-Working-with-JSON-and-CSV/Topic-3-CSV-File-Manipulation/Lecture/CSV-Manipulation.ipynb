{
 "cells": [
  {
   "cell_type": "markdown",
   "metadata": {},
   "source": [
    "# Working with JSON Files in Python\n",
    "\n",
    "## Objectives\n",
    "This lecture will guide you through handling JSON files in Python, a common data format for web data and configurations.\n",
    "\n",
    "### 1. JSON File Basics\n",
    "JSON (JavaScript Object Notation) files are text-based, human-readable, and used to store structured data. They are commonly used in web APIs and configurations.\n",
    "\n",
    "### 2. Reading JSON Files\n",
    "Python’s `json` module allows easy handling of JSON data. Use `json.load()` to read JSON data from a file.\n",
    "\n",
    "  ```python\n",
    "  import json\n",
    "  with open('data.json', 'r') as file:\n",
    "      data = json.load(file)\n",
    "  print(data)\n",
    "  ```\n",
    "\n",
    "### 3. Writing to JSON Files\n",
    "Similarly, use `json.dump()` to write Python objects to a JSON file. It converts Python objects into their JSON equivalents.\n",
    "\n",
    "  ```python\n",
    "  import json\n",
    "  data = {'name': 'Alice', 'age': 30}\n",
    "  with open('data.json', 'w') as file:\n",
    "      json.dump(data, file)\n",
    "  ```\n",
    "\n",
    "#### Practice Exercises\n",
    "1. Read a JSON file containing information about various fruits and their prices, and print each fruit with its price.\n",
    "2. Modify the above file by adding a new fruit and its price, and then write it back to the file.\n",
    "\n",
    "#### Homework\n",
    "1. Create a JSON file representing a simple address book with contact names and their details (phone, email).\n",
    "2. Write a script to add a new contact to the address book."
   ]
  }
 ],
 "metadata": {
  "language_info": {
   "name": "python"
  }
 },
 "nbformat": 4,
 "nbformat_minor": 2
}
