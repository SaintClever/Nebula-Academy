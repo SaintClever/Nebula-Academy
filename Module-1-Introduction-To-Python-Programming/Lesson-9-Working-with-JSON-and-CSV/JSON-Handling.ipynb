{
 "cells": [
  {
   "cell_type": "markdown",
   "metadata": {},
   "source": [
    "# JSON Handling in Python\n",
    "\n",
    "## Working with Complex JSON Structures\n",
    "\n",
    "Complex JSON structures, such as nested objects and arrays, are common in real-world applications. Understanding how to navigate and manipulate these structures is crucial.\n",
    "\n",
    "### Parsing Nested JSON\n",
    "\n",
    "Consider a JSON string representing a user with nested objects for contact information and a list of skills:\n"
   ]
  },
  {
   "cell_type": "code",
   "execution_count": 1,
   "metadata": {},
   "outputs": [
    {
     "name": "stdout",
     "output_type": "stream",
     "text": [
      "Email: alex@example.com, First skill: Python\n"
     ]
    }
   ],
   "source": [
    "import json\n",
    "\n",
    "nested_json_string = \"\"\"{\n",
    "  \"name\": \"Alex\",\n",
    "  \"age\": 29,\n",
    "  \"contact\": {\n",
    "    \"email\": \"alex@example.com\",\n",
    "    \"phone\": \"123-456-7890\"\n",
    "  },\n",
    "  \"skills\": [\"Python\", \"Data Analysis\", \"Machine Learning\"]\n",
    "}\"\"\"\n",
    "\n",
    "# Parsing the nested JSON string\n",
    "user_info = json.loads(nested_json_string)\n",
    "\n",
    "# Accessing nested data\n",
    "email = user_info[\"contact\"][\"email\"]\n",
    "skills = user_info[\"skills\"]\n",
    "first_skill = skills[0]\n",
    "\n",
    "print(f\"Email: {email}, First skill: {first_skill}\")\n",
    "# Output: Email: alex@example.com, First skill: Python"
   ]
  },
  {
   "cell_type": "markdown",
   "metadata": {},
   "source": [
    "### Modifying JSON Data\n",
    "\n",
    "Modifying JSON data involves altering the Python object and then serializing it back to a JSON string.\n"
   ]
  },
  {
   "cell_type": "code",
   "execution_count": 2,
   "metadata": {},
   "outputs": [
    {
     "name": "stdout",
     "output_type": "stream",
     "text": [
      "{\n",
      "    \"name\": \"Alex\",\n",
      "    \"age\": 29,\n",
      "    \"contact\": {\n",
      "        \"email\": \"alex@example.com\",\n",
      "        \"phone\": \"987-654-3210\"\n",
      "    },\n",
      "    \"skills\": [\n",
      "        \"Python\",\n",
      "        \"Data Analysis\",\n",
      "        \"Machine Learning\",\n",
      "        \"Web Development\"\n",
      "    ]\n",
      "}\n"
     ]
    }
   ],
   "source": [
    "# Adding a new skill\n",
    "user_info[\"skills\"].append(\"Web Development\")\n",
    "\n",
    "# Changing the phone number\n",
    "user_info[\"contact\"][\"phone\"] = \"987-654-3210\"\n",
    "\n",
    "# Serializing back to JSON\n",
    "modified_json_string = json.dumps(user_info, indent=4)\n",
    "print(modified_json_string)"
   ]
  },
  {
   "cell_type": "markdown",
   "metadata": {},
   "source": [
    "## Working with JSON Files\n",
    "\n",
    "JSON files are extensively used for configuration, data storage, and data exchange between applications. Python makes it easy to work with JSON files.\n",
    "\n",
    "### Reading JSON from a File\n",
    "\n",
    "Suppose we have a file named `user_info.json` containing JSON data. Here's how to read and parse it:\n"
   ]
  },
  {
   "cell_type": "code",
   "execution_count": null,
   "metadata": {},
   "outputs": [],
   "source": [
    "# Assuming 'user_info.json' contains the JSON structure from previous examples\n",
    "\n",
    "with open(\"./user_info.json\", \"r\") as file:\n",
    "    data = json.load(file)\n",
    "\n",
    "print(data)"
   ]
  },
  {
   "cell_type": "markdown",
   "metadata": {},
   "source": [
    "### Writing JSON to a File\n",
    "\n",
    "To save a Python dictionary as JSON in a file:\n"
   ]
  },
  {
   "cell_type": "code",
   "execution_count": null,
   "metadata": {},
   "outputs": [],
   "source": [
    "new_user_info = {\n",
    "    \"name\": \"Emma\",\n",
    "    \"age\": 24,\n",
    "    \"contact\": {\"email\": \"emma@example.com\", \"phone\": \"321-654-9870\"},\n",
    "    \"skills\": [\"HTML\", \"CSS\", \"JavaScript\"],\n",
    "}\n",
    "\n",
    "with open(\"new_user_info.json\", \"w\") as file:\n",
    "    json.dump(new_user_info, file, indent=4)"
   ]
  },
  {
   "cell_type": "markdown",
   "metadata": {},
   "source": [
    "## Real-world Use Case: Consuming a Web API\n",
    "\n",
    "Many web services provide APIs that return data in JSON format. Here’s a simplified example of how to consume a web API, parse the JSON response, and work with the data:\n"
   ]
  },
  {
   "cell_type": "code",
   "execution_count": null,
   "metadata": {},
   "outputs": [],
   "source": [
    "import requests\n",
    "\n",
    "# Making a GET request to a hypothetical API\n",
    "response = requests.get(\"https://api.example.com/data\")\n",
    "\n",
    "# Assuming the response contains JSON data\n",
    "data = response.json()\n",
    "\n",
    "# Example of accessing data\n",
    "for item in data[\"items\"]:\n",
    "    print(item[\"name\"], item[\"value\"])"
   ]
  },
  {
   "cell_type": "markdown",
   "metadata": {},
   "source": [
    "This example uses the `requests` library to make an HTTP GET request. The `.json()` method directly parses the JSON response to a Python dictionary or list, depending on the structure of the JSON response.\n",
    "\n",
    "## Best Practices Revisited\n",
    "\n",
    "* **Deep Copying**: When modifying data within nested structures, consider using `copy.deepcopy()` to avoid unintentional changes to the original data.\n",
    "* **Error Handling**: Enhance error handling when dealing with external JSON data to handle issues like network errors, invalid JSON, or unexpected data structures.\n",
    "\n",
    "## Conclusion\n",
    "\n",
    "By incorporating these techniques and examples into your projects, you can effectively manage and utilize JSON data in Python. Whether you're working with configuration files, consuming web APIs, or processing complex data structures, a solid understanding of JSON handling will greatly enhance your Python programming capabilities.\n"
   ]
  }
 ],
 "metadata": {
  "kernelspec": {
   "display_name": "Python 3",
   "language": "python",
   "name": "python3"
  },
  "language_info": {
   "codemirror_mode": {
    "name": "ipython",
    "version": 3
   },
   "file_extension": ".py",
   "mimetype": "text/x-python",
   "name": "python",
   "nbconvert_exporter": "python",
   "pygments_lexer": "ipython3",
   "version": "3.11.3"
  }
 },
 "nbformat": 4,
 "nbformat_minor": 2
}
