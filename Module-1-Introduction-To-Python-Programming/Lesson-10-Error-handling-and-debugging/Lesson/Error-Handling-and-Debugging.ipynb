{
 "cells": [
  {
   "attachments": {},
   "cell_type": "markdown",
   "metadata": {},
   "source": [
    "# Error Handling and Debugging\n",
    "\n",
    "# Table of Contents 📚\n",
    "- [Error Handling and Debugging](#error-handling-and-debugging)\n",
    "- [Objectives 🎓](#objectives-)\n",
    "- [Table of Contents 📚](#table-of-contents-)\n",
    "- [Section 1: Acquainting with Python Errors 🛋️](#section-1-acquainting-with-python-errors-️)\n",
    "  - [1.1 Understanding Python Errors](#11-understanding-python-errors)\n",
    "  - [1.2 Classifying Errors](#12-classifying-errors)\n",
    "- [Section 2: Error Control 🛠️](#section-2-error-control-️)\n",
    "  - [2.1 Using `try` and `except` Constructs](#21-using-try-and-except-constructs)\n",
    "  - [2.2 Implementing `else` and `finally` Constructs](#22-implementing-else-and-finally-constructs)"
   ]
  },
  {
   "attachments": {},
   "cell_type": "markdown",
   "metadata": {},
   "source": [
    "# Section 1: Acquainting with Python Errors 🛋️\n",
    "\n",
    "## 1.1 Understanding Python Errors \n",
    "\n",
    "In the Python universe, errors are akin to pesky gremlins that surface when something goes awry in your code. These gremlins can range from a minor typo (Oops!) to a major logic flaw causing your program to execute a completely unintended task. Python typically responds to an error by ceasing your program and presenting an error message, akin to Python sounding an alarm, indicating, \"Hold on, something isn't quite right here!\"\n",
    "\n",
    "For example, let's assume we're organizing a picnic and need to divide the total expenses by the number of participants. What if, by mistake, we attempt to divide by zero? That's a fundamental violation of mathematical principles!"
   ]
  },
  {
   "cell_type": "code",
   "execution_count": 2,
   "metadata": {},
   "outputs": [
    {
     "ename": "ZeroDivisionError",
     "evalue": "division by zero",
     "output_type": "error",
     "traceback": [
      "\u001b[0;31m---------------------------------------------------------------------------\u001b[0m",
      "\u001b[0;31mZeroDivisionError\u001b[0m                         Traceback (most recent call last)",
      "Cell \u001b[0;32mIn[2], line 4\u001b[0m\n\u001b[1;32m      1\u001b[0m \u001b[39mdef\u001b[39;00m \u001b[39mcalculate_cost_per_person\u001b[39m(total_cost, num_people):\n\u001b[1;32m      2\u001b[0m     \u001b[39mreturn\u001b[39;00m total_cost \u001b[39m/\u001b[39m num_people\n\u001b[0;32m----> 4\u001b[0m calculate_cost_per_person(\u001b[39m100\u001b[39;49m, \u001b[39m0\u001b[39;49m)\n",
      "Cell \u001b[0;32mIn[2], line 2\u001b[0m, in \u001b[0;36mcalculate_cost_per_person\u001b[0;34m(total_cost, num_people)\u001b[0m\n\u001b[1;32m      1\u001b[0m \u001b[39mdef\u001b[39;00m \u001b[39mcalculate_cost_per_person\u001b[39m(total_cost, num_people):\n\u001b[0;32m----> 2\u001b[0m     \u001b[39mreturn\u001b[39;00m total_cost \u001b[39m/\u001b[39;49m num_people\n",
      "\u001b[0;31mZeroDivisionError\u001b[0m: division by zero"
     ]
    }
   ],
   "source": [
    "def calculate_cost_per_person(total_cost, num_people):\n",
    "    return total_cost / num_people\n",
    "\n",
    "calculate_cost_per_person(100, 0)"
   ]
  },
  {
   "attachments": {},
   "cell_type": "markdown",
   "metadata": {},
   "source": [
    "Executing this code will yield a `ZeroDivisionError`, with Python essentially asserting, \"Hold on, division by zero is mathematically unacceptable!\""
   ]
  },
  {
   "attachments": {},
   "cell_type": "markdown",
   "metadata": {},
   "source": [
<<<<<<< Updated upstream
=======
    "**👨🏽‍💻 Your Turn**\n",
    "\n",
    "Intentionally cause an error of any type in the code cell below. Then, execute the code cell to observe the error message."
   ]
  },
  {
   "cell_type": "code",
   "execution_count": null,
   "metadata": {},
   "outputs": [],
   "source": []
  },
  {
   "attachments": {},
   "cell_type": "markdown",
   "metadata": {},
   "source": [
>>>>>>> Stashed changes
    "## 1.2 Classifying Errors\n",
    "\n",
    "Python code can be disrupted by several types of errors, including:\n",
    "\n",
    "- **Syntax Errors:** These arise when the code does not adhere to Python's language rules (usually straightforward to rectify).\n",
    "- **Name Errors:** These manifest when you attempt to utilize an undefined variable or function.\n",
    "- **Type Errors:** These surface when you perform an operation on an inappropriate type of value.\n",
    "- **Value Errors:** These occur when you supply a function with an argument of the correct type but an invalid value.\n",
    "- **ZeroDivision Errors:** These errors pop up when you attempt to divide a number by zero.\n",
    "\n",
    "Here's an example illustrating each type of error:"
   ]
  },
  {
   "cell_type": "code",
<<<<<<< Updated upstream
   "execution_count": 12,
   "metadata": {},
   "outputs": [
    {
     "name": "stdout",
     "output_type": "stream",
     "text": [
      "Hello\n",
      "2\n",
      "4\n",
      "2\n",
      "0.5\n"
     ]
    }
   ],
   "source": [
    "# Syntax Error\n",
    "print(\"Hello\")\n",
    "\n",
    "# Name Error\n",
    "x = 2\n",
    "print(x)\n",
    "\n",
    "# Type Error\n",
    "print(2 + 2)\n",
    "\n",
    "# Value Error\n",
    "print(int(\"2\"))\n",
    "\n",
    "# ZeroDivision Error\n",
    "print(1 / 2)"
=======
   "execution_count": null,
   "metadata": {},
   "outputs": [],
   "source": [
    "# Syntax Error\n",
    "print(\"Hello)\n",
    "\n",
    "# Name Error\n",
    "print(x)\n",
    "\n",
    "# Type Error\n",
    "\"2\" + 2\n",
    "\n",
    "# Value Error\n",
    "int(\"two\")\n",
    "\n",
    "# ZeroDivision Error\n",
    "1 / 0"
>>>>>>> Stashed changes
   ]
  },
  {
   "attachments": {},
   "cell_type": "markdown",
   "metadata": {},
   "source": [
    "**👩🏿‍💻 Your Turn**\n",
    "\n",
    "*Spot the Errors*\n",
    "\n",
<<<<<<< Updated upstream
    "1. Execute the above code cells and identify the specific error type for each one.\n",
    "2. Correct the errors and rerun the code cells."
=======
    "1. Intentionally induce a syntax error.\n",
    "2. Intentionally induce a name error.\n",
    "3. Intentionally induce a type error.\n",
    "4. Intentionally induce a value error.\n",
    "5. Intentionally induce a zero division error.\n"
   ]
  },
  {
   "cell_type": "code",
   "execution_count": null,
   "metadata": {},
   "outputs": [],
   "source": [
    "# Syntax Error\n",
    "\n",
    "# Name Error\n",
    "\n",
    "# Type Error\n",
    "\n",
    "# Value Error\n",
    "\n",
    "# ZeroDivision Error"
>>>>>>> Stashed changes
   ]
  },
  {
   "attachments": {},
   "cell_type": "markdown",
   "metadata": {},
   "source": [
    "# Section 2: Error Control 🛠️\n",
    "\n",
    "## 2.1 Using `try` and `except` Constructs\n",
    "\n",
    "Sometimes, errors are not only expected, but can also be used as part of your program's flow control. This is where Python's `try` and `except` constructs come into play, allowing you to \"try\" a block of code and then define what to do if a specific error occurs. This mechanism is similar to creating an emergency plan: \"If this problem arises, here's what we're going to do!\"\n",
    "\n",
    "Consider the following function, which converts a string to an integer:"
   ]
  },
  {
   "cell_type": "code",
<<<<<<< Updated upstream
   "execution_count": 18,
   "metadata": {},
   "outputs": [
    {
     "ename": "ValueError",
     "evalue": "invalid literal for int() with base 10: 'hello'",
     "output_type": "error",
     "traceback": [
      "\u001b[1;31m---------------------------------------------------------------------------\u001b[0m",
      "\u001b[1;31mValueError\u001b[0m                                Traceback (most recent call last)",
      "Cell \u001b[1;32mIn[18], line 3\u001b[0m\n\u001b[0;32m      1\u001b[0m \u001b[39mdef\u001b[39;00m \u001b[39mconvert_to_int\u001b[39m(input_string):\n\u001b[0;32m      2\u001b[0m     \u001b[39mreturn\u001b[39;00m \u001b[39mint\u001b[39m(input_string)\n\u001b[1;32m----> 3\u001b[0m convert_to_int(\u001b[39m'\u001b[39;49m\u001b[39mhello\u001b[39;49m\u001b[39m'\u001b[39;49m)\n\u001b[0;32m      4\u001b[0m \u001b[39mprint\u001b[39m(\u001b[39m'\u001b[39m\u001b[39mafter function call\u001b[39m\u001b[39m'\u001b[39m)\n",
      "Cell \u001b[1;32mIn[18], line 2\u001b[0m, in \u001b[0;36mconvert_to_int\u001b[1;34m(input_string)\u001b[0m\n\u001b[0;32m      1\u001b[0m \u001b[39mdef\u001b[39;00m \u001b[39mconvert_to_int\u001b[39m(input_string):\n\u001b[1;32m----> 2\u001b[0m     \u001b[39mreturn\u001b[39;00m \u001b[39mint\u001b[39;49m(input_string)\n",
      "\u001b[1;31mValueError\u001b[0m: invalid literal for int() with base 10: 'hello'"
     ]
    }
   ],
   "source": [
    "def convert_to_int(input_string):\n",
    "    return int(input_string)\n",
    "convert_to_int('hello')\n",
    "print('after function call')"
=======
   "execution_count": null,
   "metadata": {},
   "outputs": [],
   "source": [
    "def convert_to_int(input_string):\n",
    "    return int(input_string)"
>>>>>>> Stashed changes
   ]
  },
  {
   "attachments": {},
   "cell_type": "markdown",
   "metadata": {},
   "source": [
    "If we pass a non-numeric string, such as 'hello', we'll encounter a `ValueError`.\n",
    "\n",
    "To prevent our program from halting when this happens, we can handle this specific error using `try` and `except`:"
   ]
  },
  {
   "cell_type": "code",
<<<<<<< Updated upstream
   "execution_count": 20,
   "metadata": {},
   "outputs": [
    {
     "name": "stdout",
     "output_type": "stream",
     "text": [
      "The input hello cannot be converted to an integer.\n",
      "after function call\n"
     ]
    }
   ],
=======
   "execution_count": null,
   "metadata": {},
   "outputs": [],
>>>>>>> Stashed changes
   "source": [
    "def convert_to_int(input_string):\n",
    "    try:\n",
    "        return int(input_string)\n",
<<<<<<< Updated upstream
    "    except:\n",
    "        print(f\"The input {input_string} cannot be converted to an integer.\")\n",
    "        \n",
    "convert_to_int('hello')\n",
    "print('after function call')\n"
=======
    "    except ValueError:\n",
    "        print(f\"The input {input_string} cannot be converted to an integer.\")"
>>>>>>> Stashed changes
   ]
  },
  {
   "attachments": {},
   "cell_type": "markdown",
   "metadata": {},
   "source": [
    "If a `ValueError` occurs within the `try` block, the program now executes the code in the `except` block instead of halting entirely."
   ]
  },
  {
<<<<<<< Updated upstream
   "cell_type": "code",
   "execution_count": 46,
   "metadata": {},
   "outputs": [
    {
     "name": "stdout",
     "output_type": "stream",
     "text": [
      "Tried to divide by zero!\n"
     ]
    }
   ],
   "source": [
    "def divide_ten_by(denominator):\n",
    "    try:\n",
    "        return 10/denominator\n",
    "    except ZeroDivisionError:\n",
    "        print('Tried to divide by zero!')\n",
    "    except TypeError:\n",
    "        print('Incorrect type!')\n",
    "\n",
    "divide_ten_by(0)\n",
    "\n",
    "#True == 1  # ON state   / True state\n",
    "#False == 0 # OFF state  / False state"
=======
   "attachments": {},
   "cell_type": "markdown",
   "metadata": {},
   "source": [
    "**👨🏽‍💻 Your Turn**\n",
    "\n",
    "Create a function that prints each element of a string. If the element is not a string, print \"Not a string!\" instead."
>>>>>>> Stashed changes
   ]
  },
  {
   "attachments": {},
   "cell_type": "markdown",
   "metadata": {},
   "source": [
    "## 2.2 Implementing `else` and `finally` Constructs\n",
    "\n",
    "Along with `try` and `except`, Python offers two additional constructs for error handling: `else` and `finally`.\n",
    "\n",
    "- The `else` block executes if the `try` block doesn't encounter any errors. This can be helpful when you want to perform an action only if no errors occur.\n",
    "\n",
    "- The `finally` block executes irrespective of whether an error occurs or not. This is usually used for cleanup tasks, such as closing files or releasing resources.\n",
    "\n",
    "Here's an example to illustrate:"
   ]
  },
  {
   "cell_type": "code",
<<<<<<< Updated upstream
   "execution_count": 48,
   "metadata": {},
   "outputs": [
    {
     "name": "stdout",
     "output_type": "stream",
     "text": [
      "You can't divide by zero!\n",
      "This executes no matter what.\n"
     ]
    }
   ],
=======
   "execution_count": null,
   "metadata": {},
   "outputs": [],
>>>>>>> Stashed changes
   "source": [
    "def divide_numbers(num1, num2):\n",
    "    try:\n",
    "        result = num1 / num2\n",
    "    except ZeroDivisionError:\n",
    "        print(\"You can't divide by zero!\")\n",
    "    else:\n",
    "        print(f\"The result is {result}\")\n",
    "    finally:\n",
<<<<<<< Updated upstream
    "        print(\"This executes no matter what.\")\n",
    "divide_numbers(10,0)"
=======
    "        print(\"This executes no matter what.\")"
>>>>>>> Stashed changes
   ]
  },
  {
   "attachments": {},
   "cell_type": "markdown",
   "metadata": {},
   "source": [
    "**👨🏽‍💻 Your Turn**\n",
    "\n",
<<<<<<< Updated upstream
    "*Implementing Error Handling*\n",
=======
>>>>>>> Stashed changes
    "\n",
    "1. Write a function that opens a file and reads its content. Use a `try`/`except` block to handle the potential `FileNotFoundError`.\n",
    "2. Extend the function by adding `else` and `finally` clauses. The `else` clause should print the file content, and the `finally` clause should ensure the file is closed."
   ]
  },
  {
   "cell_type": "code",
<<<<<<< Updated upstream
   "execution_count": 58,
   "metadata": {},
   "outputs": [
    {
     "name": "stdout",
     "output_type": "stream",
     "text": [
      "File not found\n"
     ]
    },
    {
     "ename": "UnboundLocalError",
     "evalue": "cannot access local variable 'file' where it is not associated with a value",
     "output_type": "error",
     "traceback": [
      "\u001b[1;31m---------------------------------------------------------------------------\u001b[0m",
      "\u001b[1;31mUnboundLocalError\u001b[0m                         Traceback (most recent call last)",
      "Cell \u001b[1;32mIn[58], line 15\u001b[0m\n\u001b[0;32m     12\u001b[0m         file\u001b[39m.\u001b[39mclose()\n\u001b[0;32m     13\u001b[0m         \u001b[39mprint\u001b[39m(\u001b[39m'\u001b[39m\u001b[39mYou are done processing the file, now closing the file.\u001b[39m\u001b[39m'\u001b[39m)\n\u001b[1;32m---> 15\u001b[0m fileread(\u001b[39m'\u001b[39;49m\u001b[39masdjklasfg.txt\u001b[39;49m\u001b[39m'\u001b[39;49m)\n",
      "Cell \u001b[1;32mIn[58], line 12\u001b[0m, in \u001b[0;36mfileread\u001b[1;34m(file_path)\u001b[0m\n\u001b[0;32m     10\u001b[0m     \u001b[39mprint\u001b[39m(content)\n\u001b[0;32m     11\u001b[0m \u001b[39mfinally\u001b[39;00m:\n\u001b[1;32m---> 12\u001b[0m     file\u001b[39m.\u001b[39mclose()\n\u001b[0;32m     13\u001b[0m     \u001b[39mprint\u001b[39m(\u001b[39m'\u001b[39m\u001b[39mYou are done processing the file, now closing the file.\u001b[39m\u001b[39m'\u001b[39m)\n",
      "\u001b[1;31mUnboundLocalError\u001b[0m: cannot access local variable 'file' where it is not associated with a value"
     ]
    }
   ],
   "source": [
    "def fileread(file_path):\n",
    "    try:\n",
    "        file=open(file_path,'r')\n",
    "    except FileNotFoundError:\n",
    "        print('File not found')\n",
    "    except UnboundLocalError:\n",
    "        print('File not found')\n",
    "    except ValueError:\n",
    "        print('You are using an incorrect value, it must be a string.')\n",
    "    else:\n",
    "        content = file.read()\n",
    "        print(content)\n",
    "    finally:\n",
    "        file.close()\n",
    "        print('You are done processing the file, now closing the file.')\n",
    "    \n",
    "fileread('asdjklasfg.txt')\n"
   ]
=======
   "execution_count": null,
   "metadata": {},
   "outputs": [],
   "source": []
>>>>>>> Stashed changes
  },
  {
   "attachments": {},
   "cell_type": "markdown",
   "metadata": {},
   "source": [
    "By understanding Python errors and learning how to handle them, you can write more robust, fail-safe code. Just remember: errors aren't necessarily bad—they're an essential part of the development process!"
   ]
  }
 ],
 "metadata": {
  "kernelspec": {
   "display_name": "Python 3",
   "language": "python",
   "name": "python3"
  },
  "language_info": {
   "codemirror_mode": {
    "name": "ipython",
    "version": 3
   },
   "file_extension": ".py",
   "mimetype": "text/x-python",
   "name": "python",
   "nbconvert_exporter": "python",
   "pygments_lexer": "ipython3",
<<<<<<< Updated upstream
   "version": "3.11.0"
=======
   "version": "3.11.3"
>>>>>>> Stashed changes
  },
  "orig_nbformat": 4
 },
 "nbformat": 4,
 "nbformat_minor": 2
}
