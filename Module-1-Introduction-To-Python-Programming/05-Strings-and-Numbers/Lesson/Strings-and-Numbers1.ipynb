{
 "cells": [
  {
   "attachments": {},
   "cell_type": "markdown",
   "metadata": {},
   "source": [
    "## Table of Contents\n",
    "\n",
    "1. [Strings](#1-strings)\n",
    "   - [1.1 Recognizing and Crafting Strings](#11-recognizing-and-crafting-strings)\n",
    "   - [1.2 String Formatting with the Format and F-String Methods](#12-string-formatting-with-the-format-and-f-string-methods)\n",
    "   - [1.3 Utilizing Escape Characters and Raw Strings for Special Characters](#13-utilizing-escape-characters-and-raw-strings-for-special-characters)\n",
    "   - [1.4 Accessing String Characters via Indexing](#14-accessing-string-characters-via-indexing)\n",
    "   - [1.5 Utilizing Basic String Methods](#15-utilizing-basic-string-methods)\n",
    "   - [1.6 Manipulating Strings with Arithmetic Operators](#16-manipulating-strings-with-arithmetic-operators)\n",
    "2. [Delving into Numbers](#2-delving-into-numbers)\n",
    "   - [2.1 Distinguishing Between Integers and Floats](#21-distinguishing-between-integers-and-floats)\n",
    "   - [2.2 Executing Mathematical Operations with Arithmetic Operators](#22-executing-mathematical-operations-with-arithmetic-operators)\n",
    "   - [2.3 Harnessing Built-In Functions for Mathematical Operations](#23-harnessing-built-in-functions-for-mathematical-operations)\n",
    "   - [2.4 Comprehending and Manipulating the Order of Operations](#24-comprehending-and-manipulating-the-order-of-operations)\n",
    "   - [2.5 Utilizing the Math Module for Advanced Mathematical Operations](#25-utilizing-the-math-module-for-advanced-mathematical-operations)\n",
    "   - [2.6 Generating Random Numbers Using the Random Module](#26-generating-random-numbers-using-the-random-module)\n",
    "   - [2.7 Handling Infinite Numbers with Float, Decimal Modules and Math Module](#27-handling-infinite-numbers-with-float-decimal-modules-and-math-module)"
   ]
  },
  {
   "attachments": {},
   "cell_type": "markdown",
   "metadata": {},
   "source": [
    "### 1. Strings\n",
    "\n",
    "#### 1.1 Recognizing and Crafting Strings\n",
    "\n",
    "In Python, strings are sequences of characters enclosed within quotes ' or \". For instance, the following code creates a variable named name that contains the string \"Alice\".\n",
    "\n",
    "```python\n",
    "name = \"Alice\"\n",
    "```\n",
    "\n",
    "When nesting a quote within a quote, you can use the opposite quote to enclose the string. For example, the following code creates a variable named sentence that contains the string \"She said 'Hello'\".\n",
    "\n",
    "```python\n",
    "sentence = 'She said \"Hello\"'\n",
    "# Or\n",
    "sentence = \"She said 'Hello'\"\n",
    "```"
   ]
  },
  {
   "cell_type": "code",
   "execution_count": 19,
   "metadata": {},
   "outputs": [
    {
     "name": "stdout",
     "output_type": "stream",
     "text": [
      "She said \"Hello\"\n",
      "She said Hello'\n"
     ]
    }
   ],
   "source": [
    "print('She said \"Hello\"')\n",
    "print(\"She said Hello'\")"
   ]
  },
  {
   "attachments": {},
   "cell_type": "markdown",
   "metadata": {},
   "source": [
    "#### 1.2 String Formatting with the Format and F-String Methods\n",
    "\n",
    "Python provides several ways to format strings, including the format() method and f-strings. \n",
    "\n",
    "Here's an example of using the format() method:"
   ]
  },
  {
   "cell_type": "code",
   "execution_count": 21,
   "metadata": {},
   "outputs": [
    {
     "name": "stdout",
     "output_type": "stream",
     "text": [
      "My name is Alice and I am 25 years old. I live at 23 Westbrook Rd 1 2 3 4 5\n"
     ]
    }
   ],
   "source": [
    "name = \"Alice\"\n",
    "age = 25\n",
    "address = '23 Westbrook Rd'\n",
    "message = \"My name is {} and I am {} years old. I live at {} {} {} {} {} {}\".format(name, age, address)\n",
    "print(message) # prints \"My name is Alice and I am 25 years old.\""
   ]
  },
  {
   "attachments": {},
   "cell_type": "markdown",
   "metadata": {},
   "source": [
    "Here's an example of using f-strings:"
   ]
  },
  {
   "cell_type": "code",
   "execution_count": 25,
   "metadata": {},
   "outputs": [
    {
     "name": "stdout",
     "output_type": "stream",
     "text": [
      "My name is Alice and I am 20 years old.\n"
     ]
    }
   ],
   "source": [
    "name = \"Alice\"\n",
    "age = 25\n",
    "message = f\"My name is {name} and I am {20} years old.\"\n",
    "print(message) # prints \"My name is Alice and I am 25 years old.\""
   ]
  },
  {
   "attachments": {},
   "cell_type": "markdown",
   "metadata": {},
   "source": [
    "#### 🧑🏽‍💻 You do\n",
    "**Format a string from an input**\n",
    "\n",
    "1. make a my_name variable\n",
    "2. Using the format() method, create a variable named \"message\" and assign it to a string that says \"My name is {my_name}\".\n",
    "3. Print the message.\n",
    "\n",
    "**Challenge**: Use the f-string method to format the string.\n",
    "\n"
   ]
  },
  {
   "cell_type": "code",
   "execution_count": 3,
   "metadata": {},
   "outputs": [
    {
     "name": "stdout",
     "output_type": "stream",
     "text": [
      "My name is Devon\n",
      "My name is Devon\n"
     ]
    }
   ],
   "source": [
    "# Your Code Here ❌\n",
    "my_name = input()\n",
    "# use .format()\n",
    "print(\"My name is {}\".format(my_name))\n",
    "# use f\"\" string method here\n",
    "print(f\"My name is {my_name}\")"
   ]
  },
  {
   "attachments": {},
   "cell_type": "markdown",
   "metadata": {},
   "source": [
    "#### 1.3 Utilizing Escape Characters and Raw Strings for Special Characters\n",
    "\n",
    "Escape characters allow you to insert special characters into your strings. There are a number of them that you could use, were going to focus on the following:\n",
    "\n",
    "| Escape Character | Description                                                  |\n",
    "| ---------------- | ------------------------------------------------------------ |\n",
    "| \\\\\\               | Backslash                                                    |\n",
    "| \\\\'               | Single quote                                                 |\n",
    "| \\\\\"               | Double quote                                                 |\n",
    "| \\n               | Newline (line break)                                         |\n",
    "| \\t               | Horizontal tab (tab)                                         |\n"
   ]
  },
  {
   "attachments": {},
   "cell_type": "markdown",
   "metadata": {},
   "source": [
    "On the other hand, raw strings tell Python to ignore all escape characters and print any backslash that appears in the string as is. Using these prevent us from having to use the escape characters mentioned above.\n",
    "\n",
    "\n",
    "One particular example where raw strings are useful is when you're working with Windows file paths. Windows file paths use backslashes to separate folders, which is the same character used to escape characters in strings. For example, the following code creates a variable named path that contains the string \"C:\\Users\\Alice\\Documents\".\n",
    "\n",
    "```python \n",
    "# Using escape characters\n",
    "path = \"C:\\\\Users\\\\Alice\\\\Documents\"\n",
    "\n",
    "# Using raw strings\n",
    "path = r\"C:\\Users\\Alice\\Documents\"\n",
    "```\n"
   ]
  },
  {
   "attachments": {},
   "cell_type": "markdown",
   "metadata": {},
   "source": [
    "#### 1.4 Accessing String Characters via Indexing\n",
    "\n",
    "You can access individual characters in a string using their index, which is represented by a number in square brackets. Here's an example:\n",
    "\n",
    "```python\n",
    "name = \"Alice\"\n",
    "first_letter = name[0]\n",
    "print(first_letter) # prints \"A\"\n",
    "```\n",
    "\n",
    "You can use negative numbers as well which allow you to access the array with a backwards index. For example, the following code creates a variable named last_letter that contains the string \"e\". Since 0 is the first index, -1 is the last index. As you decrement the index, you move backwards in the string.\n",
    "\n",
    "```python\n",
    "name = \"Alice\"\n",
    "last_letter = name[-1]\n",
    "print(last_letter) # prints \"e\"\n",
    "```\n",
    "\n",
    "Another important use case for indexing is slicing, which allows you to access a range of characters in a string. We do that using a colon separating them. Kinda like saying from here to here, we use index:index to cut out part of our string. Here's an example:\n",
    "\n",
    "```python\n",
    "name = \"Alice\"\n",
    "first_three_letters = name[0:3]\n",
    "print(first_three_letters) # prints \"Ali\"\n",
    "\n",
    "# exclusivity vs inclusivity\n",
    "# either excludes (leaves out) or includes (brings in) to the slice\n",
    "# slices are [inclusive:exclusive] \n",
    "```\n",
    "\n",
    "#### 🧑🏽‍💻 You do\n",
    "**Accessing String Characters via Indexing - Anagram Challenge**\n",
    "\n",
    "Use the characters of the first string to spell out additional words. Use addition, individually referenced characters, and slices of other variables to create the words.\n",
    "\n",
    "Example:"
   ]
  },
  {
   "cell_type": "code",
   "execution_count": 7,
   "metadata": {},
   "outputs": [
    {
     "name": "stdout",
     "output_type": "stream",
     "text": [
      "e\n"
     ]
    }
   ],
   "source": [
    "root_word = \"evil\"\n",
    "# Create the words \"live\", \"vile\", and \"veil\"\n",
    "word1 = root_word[-1] + root_word[-2] + root_word[1] + root_word[0]\n",
    "\n",
    "word2 = root_word[1:4] + root_word[0]\n",
    "\n",
    "print(root_word[-1])"
   ]
  },
  {
   "cell_type": "code",
   "execution_count": null,
   "metadata": {},
   "outputs": [],
   "source": [
    "root_word = \"pythonista\"\n",
    "# Create the word \"piston\", \"saint\", and \"typhoon\"\n",
    "\n",
    "# Your code goes here"
   ]
  },
  {
   "attachments": {},
   "cell_type": "markdown",
   "metadata": {},
   "source": [
    "#### 1.5 Utilizing Basic String Methods\n",
    "\n",
    "Python has a number of built-in methods for strings, including len(), upper(), lower(), strip(), replace(), and split(). Here's an example of using the len() function to find the length of a string:\n",
    "\n",
    "```python\n",
    "name = \"Alice\"\n",
    "length = len(name)\n",
    "print(length) # prints 5\n",
    "```\n",
    "\n",
    "**capitalize()**\n",
    "Converts the first character of a string to uppercase.\n",
    "\n",
    "```python\n",
    "text = \"hello world\"\n",
    "result = text.capitalize()\n",
    "print(result)  # Output: \"Hello world\"\n",
    "```\n",
    "\n",
    "**lower()**\n",
    "Converts a string to lowercase.\n",
    "\n",
    "```python\n",
    "text = \"HELLO WORLD\"\n",
    "result = text.lower()\n",
    "print(result)  # Output: \"hello world\"\n",
    "```\n",
    "\n",
    "**upper()**\n",
    "Converts a string to uppercase.\n",
    "\n",
    "```python\n",
    "text = \"hello world\"\n",
    "result = text.upper()\n",
    "print(result)  # Output: \"HELLO WORLD\"\n",
    "```\n",
    "\n",
    "**strip()**\n",
    "Removes leading and trailing whitespace from a string.\n",
    "\n",
    "```python\n",
    "text = \"   hello world   \"\n",
    "result = text.strip()\n",
    "print(result)  # Output: \"hello world\"\n",
    "```\n",
    "\n",
    "**split()**\n",
    "Splits a string into a list of substrings based on a delimiter.\n",
    "\n",
    "```python\n",
    "text = \"apple,banana,orange\"\n",
    "result = text.split(\",\")\n",
    "print(result)  # Output: ['apple', 'banana', 'orange']\n",
    "```\n",
    "\n",
    "**join()**\n",
    "Joins elements of an iterable into a string using a specified separator.\n",
    "\n",
    "```python\n",
    "words = ['Hello', 'world']\n",
    "result = ' '.join(words)\n",
    "print(result)  # Output: \"Hello world\"\n",
    "```\n",
    "\n",
    "**startswith()**\n",
    "Checks if a string starts with a specified value.\n",
    "\n",
    "```python\n",
    "text = \"Hello world\"\n",
    "result = text.startswith(\"Hello\")\n",
    "print(result)  # Output: True\n",
    "```\n",
    "\n",
    "**endswith()**\n",
    "Checks if a string ends with a specified value.\n",
    "\n",
    "```python\n",
    "text = \"Hello world\"\n",
    "result = text.endswith(\"world\")\n",
    "print(result)  # Output: True\n",
    "```\n",
    "**replace()**\n",
    "Replaces the specified character with another character\n",
    "\n",
    "```python\n",
    "text = \"Hello world !\"\n",
    "result = text.replace(' ', '_')\n",
    "print(result)  # Output: Hello_world_!\n",
    "```"
   ]
  },
  {
   "attachments": {},
   "cell_type": "markdown",
   "metadata": {},
   "source": [
    "#### 1.6 Manipulating Strings with Arithmetic Operators\n",
    "\n",
    "In Python, you can use arithmetic operators to manipulate strings. The + operator concatenates two strings together, while the * operator repeats a string a certain number of times. Here's an example of string concatenation:\n",
    "\n",
    "```python\n",
    "greeting = \"Hello\"\n",
    "name = \"Alice\"\n",
    "message = greeting + \" \" + name\n",
    "print(message) # prints \"Hello Alice\"\n",
    "```\n",
    "\n",
    "In addition to these methods and operators, strings in Python have many other powerful features. For example, you can use string slicing to extract a portion of a string, or use string methods to manipulate the case, spacing, and other aspects of a string.\n",
    "\n",
    "#### 🧑🏽‍💻 You do\n",
    "**Sanitizing Text - Clean it up!**\n",
    "\n",
    "Modify the weird_name variable and sanitize it to be all lowercase so we can use it properly in our database. Also be sure to remove any white space surrounding the string so we don't get any errors when accessing it in our user search."
   ]
  },
  {
   "cell_type": "code",
   "execution_count": 9,
   "metadata": {},
   "outputs": [
    {
     "name": "stdout",
     "output_type": "stream",
     "text": [
      "The name is now crazyusername!!!!!!\n"
     ]
    }
   ],
   "source": [
    "# Sanitize the text\n",
    "weird_name = 'cRaZyUsErNamE       '\n",
    "\n",
    "#🚨 YOUR CODE BELOW 🚨\n",
    "weird_name = weird_name.lower()\n",
    "\n",
    "weird_name = weird_name.strip()\n",
    "#🚨 YOUR CODE ABOVE 🚨\n",
    "\n",
    "print('The name is now '+weird_name+'!!!!!!')\n"
   ]
  },
  {
   "attachments": {},
   "cell_type": "markdown",
   "metadata": {},
   "source": [
    "### 2. Numbers\n",
    "#### 2.1 Distinguishing Between Integers and Floats\n",
    "\n",
    "In Python's universe, integers and floating-point numbers act as two primary types of numbers. Integers, akin to whole numbers, do not contain any decimal places. For example:\n",
    "\n",
    "```python\n",
    "my_int = 10\n",
    "```\n",
    "\n",
    "On the other hand, floating-point numbers, similar to real numbers, are numerical values that can contain decimal places. For example:\n",
    "\n",
    "```python\n",
    "my_float = 10.0\n",
    "```"
   ]
  },
  {
   "attachments": {},
   "cell_type": "markdown",
   "metadata": {},
   "source": [
    "#### 2.2 Executing Mathematical Operations with Arithmetic Operators\n",
    "\n",
    "Python facilitates various arithmetic operations on numbers using operators such as \"+, -, *, /\". Let's explore some of these operations:"
   ]
  },
  {
   "cell_type": "code",
   "execution_count": 13,
   "metadata": {},
   "outputs": [
    {
     "name": "stdout",
     "output_type": "stream",
     "text": [
      "15 5 50 2.0\n",
      "269.4\n"
     ]
    }
   ],
   "source": [
    "addition = 10 + 5\n",
    "difference = 10 - 5\n",
    "product = 10 * 5\n",
    "quotient = 10 / 5\n",
    "print(addition, difference, product, quotient) # prints 15 5 50 2.0\n"
   ]
  },
  {
   "attachments": {},
   "cell_type": "markdown",
   "metadata": {},
   "source": [
    "#### 2.3 Harnessing Built-In Functions for Mathematical Operations\n",
    "\n",
    "Python is equipped with a set of built-in functions that support mathematical operations. Let's experiment with these functions:"
   ]
  },
  {
   "cell_type": "code",
   "execution_count": 15,
   "metadata": {},
   "outputs": [
    {
     "name": "stdout",
     "output_type": "stream",
     "text": [
      "10 11 8 57\n"
     ]
    }
   ],
   "source": [
    "abs_val = abs(-10) # Absolute value\n",
    "rounded_val = round(10.6) # Rounding\n",
    "power_val = pow(2, 3) # Power\n",
    "sum_val = sum([1,2,3,45,6]) # Adding all values in a list\n",
    "print(abs_val, rounded_val, power_val, sum_val) # prints 10 11 8"
   ]
  },
  {
   "attachments": {},
   "cell_type": "markdown",
   "metadata": {},
   "source": [
    "#### 2.4 Comprehending and Manipulating the Order of Operations\n",
    "\n",
    "Python obeys the mathematical rules known as BODMAS or PEMDAS for the order of operations. Let's craft some expressions that use different orders of operations:"
   ]
  },
  {
   "cell_type": "code",
   "execution_count": 5,
   "metadata": {},
   "outputs": [
    {
     "name": "stdout",
     "output_type": "stream",
     "text": [
      "20\n",
      "30\n"
     ]
    }
   ],
   "source": [
    "print(10 + 5 * 2) # prints 20\n",
    "print((10 + 5) * 2) # prints 30"
   ]
  },
  {
   "attachments": {},
   "cell_type": "markdown",
   "metadata": {},
   "source": [
    "#### 2.5 Utilizing the Math Module for Advanced Mathematical Operations\n",
    "\n",
    "For more complex mathematical operations, Python provides a math module. Import this module to use it:\n",
    "\n",
    "```python\n",
    "import math\n",
    "sqrt_val = math.sqrt(16) # Square root\n",
    "print(sqrt_val) # prints 4.0\n",
    "```"
   ]
  },
  {
   "attachments": {},
   "cell_type": "markdown",
   "metadata": {},
   "source": [
    "#### 2.6 Generating Random Numbers Using the Random Module\n",
    "\n",
    "Python's random module can generate random numbers. Let's generate a random integer between 1 and 10:\n",
    "\n",
    "```python\n",
    "import random\n",
    "rand_val = random.randint(1, 10)\n",
    "print(rand_val) # prints a random integer between 1 and 10\n",
    "```"
   ]
  },
  {
   "attachments": {},
   "cell_type": "markdown",
   "metadata": {},
   "source": [
    "#### 2.7 Handling Infinite Numbers with Float, Decimal Modules and Math Module\n",
    "\n",
    "Python provides several ways to represent infinite numbers:\n",
    "\n",
    "```python\n",
    "inf_float = float('inf') # With float\n",
    "print(inf_float) # prints inf\n",
    "\n",
    "inf_math = math.inf # With math module\n",
    "print(inf_math) # prints inf\n",
    "```\n",
    "```python\n",
    "import decimal\n",
    "inf_decimal = decimal.Decimal('Infinity') # With decimal module\n",
    "print(inf_decimal) # prints Infinity\n",
    "```"
   ]
  },
  {
   "attachments": {},
   "cell_type": "markdown",
   "metadata": {},
   "source": [
    "#### 🧑🏽‍💻 You do\n",
    "**Maths!**\n",
    "Complete the following exercises in the block below, assigning each question to a variable, then printing it at the end:"
   ]
  },
  {
   "cell_type": "code",
   "execution_count": 19,
   "metadata": {},
   "outputs": [
    {
     "name": "stdout",
     "output_type": "stream",
     "text": [
      "27 29 125\n"
     ]
    }
   ],
   "source": [
    "# Find the absolute valute of -27\n",
    "math_abs = abs(27)\n",
    "# Find the rounded version of 28.94\n",
    "math_round = round(28.94)\n",
    "# What is 5 to the power of 4?\n",
    "math_pow = pow(5,3)\n",
    "\n",
    "# Print your variables!\n",
    "\n",
    "print(math_abs, math_round,math_pow)"
   ]
  }
 ],
 "metadata": {
  "kernelspec": {
   "display_name": "Python 3",
   "language": "python",
   "name": "python3"
  },
  "language_info": {
   "codemirror_mode": {
    "name": "ipython",
    "version": 3
   },
   "file_extension": ".py",
   "mimetype": "text/x-python",
   "name": "python",
   "nbconvert_exporter": "python",
   "pygments_lexer": "ipython3",
   "version": "3.11.0"
  },
  "orig_nbformat": 4
 },
 "nbformat": 4,
 "nbformat_minor": 2
}
