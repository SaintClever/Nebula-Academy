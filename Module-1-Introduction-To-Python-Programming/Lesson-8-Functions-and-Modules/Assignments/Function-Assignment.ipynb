{
   "cells": [
      {
         "attachments": {},
         "cell_type": "markdown",
         "metadata": {},
         "source": [
            "**Question 1:**\n",
            "What is a function in Python? What keyword is used to define a function in Python?"
         ]
      },
      {
         "attachments": {},
         "cell_type": "markdown",
         "id": "b2137b6c",
         "metadata": {},
         "source": [
            "Your Solution Here ❌"
         ]
      },
      {
         "attachments": {},
         "cell_type": "markdown",
         "metadata": {},
         "source": [
            "**Question 2:**\n",
            "Define a function `multiply_numbers` that takes in two parameters `a` and `b`, and returns their product."
         ]
      },
      {
         "cell_type": "code",
         "execution_count": null,
         "metadata": {},
         "outputs": [],
         "source": [
            "#Your Solution Here ❌"
         ]
      },
      {
         "attachments": {},
         "cell_type": "markdown",
         "metadata": {},
         "source": [
            "**Question 3:**\n",
            "Write a function `greet` that takes a string `name` as a parameter and returns a greeting message 'Hello, {name}!'."
         ]
      },
      {
         "cell_type": "code",
         "execution_count": null,
         "metadata": {},
         "outputs": [],
         "source": [
            "#Your Solution Here ❌"
         ]
      },
      {
         "attachments": {},
         "cell_type": "markdown",
         "metadata": {},
         "source": [
            "**Question 4:**\n",
            "What does the Python Standard Library consist of?"
         ]
      },
      {
         "attachments": {},
         "cell_type": "markdown",
         "id": "f0990c8e",
         "metadata": {},
         "source": [
            "Your Solution Here ❌"
         ]
      },
      {
         "attachments": {},
         "cell_type": "markdown",
         "metadata": {},
         "source": [
            "**Question 5:**\n",
            "Use the `os` module from the Python Standard Library to print the current working directory."
         ]
      },
      {
         "cell_type": "code",
         "execution_count": null,
         "metadata": {},
         "outputs": [],
         "source": [
            "#Your Solution Here ❌"
         ]
      },
      {
         "attachments": {},
         "cell_type": "markdown",
         "metadata": {},
         "source": [
            "**Question 6:**\n",
            "Use the `random` module from the Python Standard Library to generate a random integer between 1 and 10."
         ]
      },
      {
         "cell_type": "code",
         "execution_count": null,
         "metadata": {},
         "outputs": [],
         "source": [
            "#Your Solution Here ❌"
         ]
      },
      {
         "attachments": {},
         "cell_type": "markdown",
         "metadata": {},
         "source": [
            "**Question 7:**\n",
            "What are some of the most commonly used external Python libraries?"
         ]
      },
      {
         "attachments": {},
         "cell_type": "markdown",
         "id": "49eebb0d",
         "metadata": {},
         "source": [
            "Your Solution Here ❌"
         ]
      },
      {
         "attachments": {},
         "cell_type": "markdown",
         "metadata": {},
         "source": [
            "**Question 8:**\n",
            "Install the `numpy` library using pip. Record the command you used to install the library."
         ]
      },
      {
         "cell_type": "code",
         "execution_count": null,
         "metadata": {
            "vscode": {
               "languageId": "shellscript"
            }
         },
         "outputs": [],
         "source": [
            "# Your Solution Here ❌"
         ]
      },
      {
         "attachments": {},
         "cell_type": "markdown",
         "metadata": {},
         "source": [
            "**Question 9:**\n",
            "Create a numpy array `arr` with the elements 1, 2, 3, 4, 5."
         ]
      },
      {
         "cell_type": "code",
         "execution_count": null,
         "metadata": {},
         "outputs": [],
         "source": [
            "#Your Solution Here ❌"
         ]
      },
      {
         "attachments": {},
         "cell_type": "markdown",
         "metadata": {},
         "source": [
            "**Question 10:**\n",
            "What are custom modules in Python and how do you create them?"
         ]
      },
      {
         "attachments": {},
         "cell_type": "markdown",
         "id": "f380e9f0",
         "metadata": {},
         "source": [
            "Your Solution Here ❌"
         ]
      },
      {
         "attachments": {},
         "cell_type": "markdown",
         "metadata": {},
         "source": [
            "**Question 11:**\n",
            "Create a module `calculator` with a function `add` that takes two numbers and returns their sum."
         ]
      },
      {
         "cell_type": "code",
         "execution_count": null,
         "metadata": {},
         "outputs": [],
         "source": [
            "#Your Solution Here ❌"
         ]
      },
      {
         "attachments": {},
         "cell_type": "markdown",
         "metadata": {},
         "source": [
            "**Question 12:**\n",
            "What is `pip` and what is it used for in Python?"
         ]
      },
      {
         "attachments": {},
         "cell_type": "markdown",
         "id": "9927187b",
         "metadata": {},
         "source": [
            "Your Solution Here ❌"
         ]
      },
      {
         "attachments": {},
         "cell_type": "markdown",
         "metadata": {},
         "source": [
            "**Question 13:**\n",
            "Display the list of packages installed in your Python environment using `pip list`. Show the output."
         ]
      },
      {
         "cell_type": "raw",
         "metadata": {},
         "source": [
            "Your Solution Here ❌"
         ]
      },
      {
         "attachments": {},
         "cell_type": "markdown",
         "metadata": {},
         "source": [
            "**Question 14:**\n",
            "What is the purpose of the `pip freeze` command and the `requirements.txt` file in Python?"
         ]
      },
      {
         "attachments": {},
         "cell_type": "markdown",
         "id": "838262e8",
         "metadata": {},
         "source": [
            "Your Solution Here ❌"
         ]
      },
      {
         "attachments": {},
         "cell_type": "markdown",
         "metadata": {},
         "source": [
            "**Question 15:**\n",
            "Generate a `requirements.txt` file for your current Python environment using the `pip freeze` command. Show the output."
         ]
      },
      {
         "cell_type": "raw",
         "metadata": {},
         "source": [
            "Your Solution Here ❌"
         ]
      },
      {
         "attachments": {},
         "cell_type": "markdown",
         "metadata": {},
         "source": [
            "**Question 16:**\n",
            "Create a Python script that uses the `requests` library to send a GET request to 'http://example.com' and prints the status code of the response. [Hint](https://www.w3schools.com/python/ref_requests_get.asp)"
         ]
      },
      {
         "cell_type": "code",
         "execution_count": null,
         "metadata": {},
         "outputs": [],
         "source": [
            "#Your Solution Here ❌"
         ]
      },
      {
         "attachments": {},
         "cell_type": "markdown",
         "metadata": {},
         "source": [
            "**Question 17:**\n",
            "Create a simple library that contains a function `calculate_area` to calculate the area of a rectangle. Use this library in a Python program to calculate and print the area of a rectangle with dimensions 5 and 10."
         ]
      },
      {
         "cell_type": "code",
         "execution_count": null,
         "metadata": {},
         "outputs": [],
         "source": [
            "#Your Solution Here ❌"
         ]
      },
      {
         "attachments": {},
         "cell_type": "markdown",
         "metadata": {},
         "source": [
            "**Question 18:**\n",
            "What are the steps to create and use a custom module in Python? You may choose to [illustrate](https://excalidraw.com) and/or describe this process."
         ]
      },
      {
         "attachments": {},
         "cell_type": "markdown",
         "id": "78d18887",
         "metadata": {},
         "source": [
            "Your Solution Here ❌"
         ]
      },
      {
         "attachments": {},
         "cell_type": "markdown",
         "metadata": {},
         "source": [
            "**Question 19:**\n",
            "Create a Python script that uses the `datetime` module from the Python Standard Library to print the current date and time."
         ]
      },
      {
         "cell_type": "code",
         "execution_count": null,
         "metadata": {},
         "outputs": [],
         "source": [
            "#Your Solution Here ❌"
         ]
      }
   ],
   "metadata": {
      "kernelspec": {
         "display_name": "Python 3",
         "name": "python3"
      },
      "language_info": {
         "codemirror_mode": {
            "name": "ipython",
            "version": 3
         },
         "file_extension": ".py",
         "mimetype": "text/x-python",
         "name": "python",
         "nbconvert_exporter": "python",
         "pygments_lexer": "ipython3",
         "version": "3.11.3"
      }
   },
   "nbformat": 4,
   "nbformat_minor": 5
}
