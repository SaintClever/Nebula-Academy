{
 "cells": [
  {
   "cell_type": "markdown",
   "metadata": {},
   "source": [
    "# Lesson 3 Homework\n"
   ]
  },
  {
   "cell_type": "markdown",
   "metadata": {},
   "source": [
    "Question 1: Variable Creation and Usage\n",
    "  Create specific variables and print their values.\n",
    "  - Define a string variable `name` with the value `\"Alice\"`.\n",
    "  - Define an integer variable `age` with the value `25`.\n",
    "  - Define a boolean variable `is_student` with the value `True`.\n",
    "  - Print each variable on a separate line."
   ]
  },
  {
   "cell_type": "code",
   "execution_count": 1,
   "metadata": {},
   "outputs": [
    {
     "name": "stdout",
     "output_type": "stream",
     "text": [
      "Alice\n",
      "25\n",
      "True\n"
     ]
    }
   ],
   "source": [
    "name = \"Alice\"\n",
    "age = 25\n",
    "is_student = True\n",
    "\n",
    "print(name)\n",
    "print(age)\n",
    "print(is_student)"
   ]
  },
  {
   "cell_type": "markdown",
   "metadata": {},
   "source": [
    "Question 2: Dynamic Typing Demonstration\n",
    "  Demonstrate Python's dynamic typing feature.\n",
    "  - Create a variable `dynamic_var` and assign the integer value `10`.\n",
    "  - Print `dynamic_var` and its type.\n",
    "  - Reassign the string value `\"Python\"` to `dynamic_var`.\n",
    "  - Print `dynamic_var` and its type again."
   ]
  },
  {
   "cell_type": "code",
   "execution_count": null,
   "metadata": {},
   "outputs": [],
   "source": [
    "dynamic_var = 10\n",
    "print(dynamic_var)\n",
    "\n",
    "dynamic_var = \"Python\"\n",
    "print(dynamic_var)"
   ]
  },
  {
   "cell_type": "markdown",
   "metadata": {},
   "source": [
    "Question 3: Arithmetic Operations\n",
    "  Perform arithmetic operations and print the result.\n",
    "  - Add `15` and `30`, then multiply the result by `2`.\n",
    "  - Print the final result."
   ]
  },
  {
   "cell_type": "code",
   "execution_count": 2,
   "metadata": {},
   "outputs": [
    {
     "name": "stdout",
     "output_type": "stream",
     "text": [
      "90\n"
     ]
    }
   ],
   "source": [
    "print((15 + 30) * 2)"
   ]
  },
  {
   "cell_type": "markdown",
   "metadata": {},
   "source": [
    "Question 4: Comparing Numbers\n",
    "  Use comparison operators to compare numbers.\n",
    "  - Check if `18` is less than `20` and also if `18` is not equal to `20`.\n",
    "  - Print both results."
   ]
  },
  {
   "cell_type": "code",
   "execution_count": 3,
   "metadata": {},
   "outputs": [
    {
     "name": "stdout",
     "output_type": "stream",
     "text": [
      "True\n"
     ]
    }
   ],
   "source": [
    "print(18 < 20 and 18 != 20)\n",
    "print(18 < 20)\n",
    "print(18 != 20)"
   ]
  },
  {
   "cell_type": "markdown",
   "metadata": {},
   "source": [
    "Question 5: Logical Operator Application\n",
    "  Apply logical operators on boolean expressions.\n",
    "  - Determine if `10` is greater than `5` and `15` is less than `20`.\n",
    "  - Check if `5` is not equal to `5` using the `not` operator.\n",
    "  - Print the outcomes."
   ]
  },
  {
   "cell_type": "code",
   "execution_count": 6,
   "metadata": {},
   "outputs": [
    {
     "name": "stdout",
     "output_type": "stream",
     "text": [
      "True\n",
      "False\n"
     ]
    }
   ],
   "source": [
    "print(10 > 5 and 15 < 20)\n",
    "print(5 == (not 5))"
   ]
  }
 ],
 "metadata": {
  "kernelspec": {
   "display_name": "Python 3",
   "language": "python",
   "name": "python3"
  },
  "language_info": {
   "codemirror_mode": {
    "name": "ipython",
    "version": 3
   },
   "file_extension": ".py",
   "mimetype": "text/x-python",
   "name": "python",
   "nbconvert_exporter": "python",
   "pygments_lexer": "ipython3",
   "version": "3.12.1"
  }
 },
 "nbformat": 4,
 "nbformat_minor": 2
}
