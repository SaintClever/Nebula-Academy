{
 "cells": [
  {
   "cell_type": "markdown",
   "metadata": {},
   "source": [
    "# Lesson 3 Homework\n"
   ]
  },
  {
   "cell_type": "markdown",
   "metadata": {},
   "source": [
    "Question 1: Variable Creation and Usage\n",
    "  Create specific variables and print their values.\n",
    "  - Define a string variable `name` with the value `\"Alice\"`.\n",
    "  - Define an integer variable `age` with the value `25`.\n",
    "  - Define a boolean variable `is_student` with the value `True`.\n",
    "  - Print each variable on a separate line."
   ]
  },
  {
   "cell_type": "code",
   "execution_count": null,
   "metadata": {
    "vscode": {
     "languageId": "plaintext"
    }
   },
   "outputs": [],
   "source": []
  },
  {
   "cell_type": "markdown",
   "metadata": {},
   "source": [
    "Question 2: Dynamic Typing Demonstration\n",
    "  Demonstrate Python's dynamic typing feature.\n",
    "  - Create a variable `dynamic_var` and assign the integer value `10`.\n",
    "  - Print `dynamic_var` and its type.\n",
    "  - Reassign the string value `\"Python\"` to `dynamic_var`.\n",
    "  - Print `dynamic_var` and its type again."
   ]
  },
  {
   "cell_type": "code",
   "execution_count": null,
   "metadata": {
    "vscode": {
     "languageId": "plaintext"
    }
   },
   "outputs": [],
   "source": []
  },
  {
   "cell_type": "markdown",
   "metadata": {},
   "source": [
    "Question 3: Arithmetic Operations\n",
    "  Perform arithmetic operations and print the result.\n",
    "  - Add `15` and `30`, then multiply the result by `2`.\n",
    "  - Print the final result."
   ]
  },
  {
   "cell_type": "code",
   "execution_count": null,
   "metadata": {
    "vscode": {
     "languageId": "plaintext"
    }
   },
   "outputs": [],
   "source": []
  },
  {
   "cell_type": "markdown",
   "metadata": {},
   "source": [
    "Question 4: Comparing Numbers\n",
    "  Use comparison operators to compare numbers.\n",
    "  - Check if `18` is less than `20` and also if `18` is not equal to `20`.\n",
    "  - Print both results."
   ]
  },
  {
   "cell_type": "code",
   "execution_count": null,
   "metadata": {
    "vscode": {
     "languageId": "plaintext"
    }
   },
   "outputs": [],
   "source": []
  },
  {
   "cell_type": "markdown",
   "metadata": {},
   "source": [
    "Question 5: Logical Operator Application\n",
    "  Apply logical operators on boolean expressions.\n",
    "  - Determine if `10` is greater than `5` and `15` is less than `20`.\n",
    "  - Check if `5` is not equal to `5` using the `not` operator.\n",
    "  - Print the outcomes."
   ]
  },
  {
   "cell_type": "code",
   "execution_count": null,
   "metadata": {
    "vscode": {
     "languageId": "plaintext"
    }
   },
   "outputs": [],
   "source": []
  }
 ],
 "metadata": {
  "language_info": {
   "name": "python"
  }
 },
 "nbformat": 4,
 "nbformat_minor": 2
}
