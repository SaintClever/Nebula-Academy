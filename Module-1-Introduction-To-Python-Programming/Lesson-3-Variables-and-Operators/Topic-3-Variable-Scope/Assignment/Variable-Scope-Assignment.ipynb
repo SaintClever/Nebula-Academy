{
 "cells": [
  {
   "cell_type": "markdown",
   "metadata": {},
   "source": [
    "# Variable Scoping Assignment for Beginners\n",
    "\n",
    "## Introduction to Global and Local Variables\n",
    "\n",
    "This assignment explores the concepts of global and local variables in Python. You'll learn how the scope of a variable affects where it can be used in your script.\n",
    "\n",
    "## Exercise 1: Global Variables\n",
    "\n",
    "Global variables are accessible throughout your entire script.\n",
    "\n",
    "- **Task 1.1:** Create a variable `global_var` at the start of your script and assign it the value `10`. Then, further down in your script, change the value of `global_var` to `20`. After each assignment, use `print()` to display the value of `global_var`. Observe how its value changes and remains accessible throughout the script.\n"
   ]
  },
  {
   "cell_type": "code",
   "execution_count": 1,
   "metadata": {},
   "outputs": [
    {
     "name": "stdout",
     "output_type": "stream",
     "text": [
      "10\n",
      "20\n"
     ]
    }
   ],
   "source": [
    "# Task 1.1\n",
    "global_var = 10\n",
    "print(global_var)\n",
    "\n",
    "global_var = 20\n",
    "print(global_var)"
   ]
  },
  {
   "cell_type": "markdown",
   "metadata": {},
   "source": [
    "## Exercise 2: Local Variables in a Conditional Block\n",
    "\n",
    "Local variables are only accessible within the block where they are declared.\n",
    "\n",
    "- **Task 2.1:** Within an `if` block (condition set to `True`), declare a local variable `local_var` and assign it the value `5`. Print `local_var` inside this block. Then, attempt to print `local_var` outside of the block and note what happens.\n",
    "\n",
    "> Hint: You can use the `if` statement `if True:` to create a block that will always execute. The lines following the `if` statement must be indented to be included in the block. Like this:\n",
    "\n",
    "```\n",
    "  if True:\n",
    "    # This line is inside the block\n",
    "    print(\"Hello from the block!\")\n",
    "  # This line is outside the block\n",
    "  print(\"Hello from outside the block!\")\n",
    "```\n"
   ]
  },
  {
   "cell_type": "code",
   "execution_count": 7,
   "metadata": {},
   "outputs": [
    {
     "name": "stdout",
     "output_type": "stream",
     "text": [
      "5\n",
      "5\n"
     ]
    }
   ],
   "source": [
    "# Task 2.1\n",
    "\n",
    "if True:\n",
    "  local_var = 5\n",
    "  print(local_var)\n",
    "\n",
    "print(local_var)"
   ]
  },
  {
   "cell_type": "markdown",
   "metadata": {},
   "source": [
    "## Additional Challenges\n",
    "\n",
    "To deepen your understanding, consider these scenarios:\n",
    "\n",
    "- **Challenge 1:** Define a global variable `temp` and assign it `30`. Inside an `if` block, define a local variable `temp` with the value `22`. Print `temp` both inside and outside the `if` block. Reflect on how the `temp` variable behaves in each context.\n",
    "\n",
    "- **Challenge 2:** Create a global variable `count` and set it to `10`. Then, inside an `if` block, define a local variable `count` and set it to `5`. Print `count` inside the block and again outside of it. Observe how the scope of `count` changes its value.\n"
   ]
  },
  {
   "cell_type": "code",
   "execution_count": 8,
   "metadata": {},
   "outputs": [
    {
     "name": "stdout",
     "output_type": "stream",
     "text": [
      "22\n",
      "22\n"
     ]
    }
   ],
   "source": [
    "# Challenge 1\n",
    "temp = 30\n",
    "\n",
    "if True:\n",
    "  temp = 22\n",
    "  print(temp)\n",
    "\n",
    "print(temp)"
   ]
  },
  {
   "cell_type": "code",
   "execution_count": 11,
   "metadata": {},
   "outputs": [
    {
     "name": "stdout",
     "output_type": "stream",
     "text": [
      "5\n",
      "5\n"
     ]
    }
   ],
   "source": [
    "# Challenge 2\n",
    "count = 10\n",
    "\n",
    "if True:\n",
    "  count = 5\n",
    "  print(count)\n",
    "\n",
    "print(count)"
   ]
  },
  {
   "cell_type": "markdown",
   "metadata": {},
   "source": [
    "## Reflection Questions\n",
    "\n",
    "After completing the exercises, reflect on your understanding:\n",
    "\n",
    "1. How does the scope of a variable (global vs. local) influence where you can use it in your script?\n",
    "2. What did you observe about the behavior of local variables defined within an `if` block when you tried to access them outside the block?\n",
    "3. Can you think of a real-world analogy to explain the difference between global and local variables?\n"
   ]
  },
  {
   "cell_type": "markdown",
   "metadata": {},
   "source": [
    "the if statements variable is exposed to the global variable with the same name, therefore changing the global value"
   ]
  }
 ],
 "metadata": {
  "kernelspec": {
   "display_name": "Python 3",
   "language": "python",
   "name": "python3"
  },
  "language_info": {
   "codemirror_mode": {
    "name": "ipython",
    "version": 3
   },
   "file_extension": ".py",
   "mimetype": "text/x-python",
   "name": "python",
   "nbconvert_exporter": "python",
   "pygments_lexer": "ipython3",
   "version": "3.12.1"
  }
 },
 "nbformat": 4,
 "nbformat_minor": 2
}
