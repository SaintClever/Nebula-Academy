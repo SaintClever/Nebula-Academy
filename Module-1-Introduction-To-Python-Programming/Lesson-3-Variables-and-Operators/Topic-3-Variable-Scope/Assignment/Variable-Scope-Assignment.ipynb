{
 "cells": [
  {
   "cell_type": "markdown",
   "metadata": {},
   "source": [
    "# Variable Scoping Assignment for Beginners\n",
    "\n",
    "## Introduction to Global and Local Variables\n",
    "\n",
    "This assignment explores the concepts of global and local variables in Python. You'll learn how the scope of a variable affects where it can be used in your script.\n",
    "\n",
    "## Exercise 1: Global Variables\n",
    "\n",
    "Global variables are accessible throughout your entire script.\n",
    "\n",
    "- **Task 1.1:** Create a variable `global_var` at the start of your script and assign it the value `10`. Then, further down in your script, change the value of `global_var` to `20`. After each assignment, use `print()` to display the value of `global_var`. Observe how its value changes and remains accessible throughout the script.\n"
   ]
  },
  {
   "cell_type": "code",
   "execution_count": null,
   "metadata": {},
   "outputs": [],
   "source": [
    "# Task 1.1"
   ]
  },
  {
   "cell_type": "markdown",
   "metadata": {},
   "source": [
    "## Exercise 2: Local Variables in a Conditional Block\n",
    "\n",
    "Local variables are only accessible within the block where they are declared.\n",
    "\n",
    "- **Task 2.1:** Within an `if` block (condition set to `True`), declare a local variable `local_var` and assign it the value `5`. Print `local_var` inside this block. Then, attempt to print `local_var` outside of the block and note what happens.\n",
    "\n",
    "> Hint: You can use the `if` statement `if True:` to create a block that will always execute. The lines following the `if` statement must be indented to be included in the block. Like this:\n",
    "\n",
    "```\n",
    "  if True:\n",
    "    # This line is inside the block\n",
    "    print(\"Hello from the block!\")\n",
    "  # This line is outside the block\n",
    "  print(\"Hello from outside the block!\")\n",
    "```\n"
   ]
  },
  {
   "cell_type": "code",
   "execution_count": null,
   "metadata": {},
   "outputs": [],
   "source": [
    "# Task 2.1"
   ]
  },
  {
   "cell_type": "markdown",
   "metadata": {},
   "source": [
    "## Additional Challenges\n",
    "\n",
    "To deepen your understanding, consider these scenarios:\n",
    "\n",
    "- **Challenge 1:** Define a global variable `temp` and assign it `30`. Inside an `if` block, define a local variable `temp` with the value `22`. Print `temp` both inside and outside the `if` block. Reflect on how the `temp` variable behaves in each context.\n",
    "\n",
    "- **Challenge 2:** Create a global variable `count` and set it to `10`. Then, inside an `if` block, define a local variable `count` and set it to `5`. Print `count` inside the block and again outside of it. Observe how the scope of `count` changes its value.\n"
   ]
  },
  {
   "cell_type": "code",
   "execution_count": null,
   "metadata": {},
   "outputs": [],
   "source": [
    "# Challenge 1"
   ]
  },
  {
   "cell_type": "code",
   "execution_count": null,
   "metadata": {},
   "outputs": [],
   "source": [
    "# Challenge 2"
   ]
  },
  {
   "cell_type": "markdown",
   "metadata": {},
   "source": [
    "## Reflection Questions\n",
    "\n",
    "After completing the exercises, reflect on your understanding:\n",
    "\n",
    "1. How does the scope of a variable (global vs. local) influence where you can use it in your script?\n",
    "2. What did you observe about the behavior of local variables defined within an `if` block when you tried to access them outside the block?\n",
    "3. Can you think of a real-world analogy to explain the difference between global and local variables?\n"
   ]
  },
  {
   "cell_type": "markdown",
   "metadata": {},
   "source": []
  }
 ],
 "metadata": {
  "language_info": {
   "name": "python"
  }
 },
 "nbformat": 4,
 "nbformat_minor": 2
}
