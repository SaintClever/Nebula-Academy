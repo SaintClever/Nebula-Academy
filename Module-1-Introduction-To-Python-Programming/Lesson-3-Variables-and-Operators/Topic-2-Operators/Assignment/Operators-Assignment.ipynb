{
 "cells": [
  {
   "cell_type": "markdown",
   "metadata": {},
   "source": [
    "# Operators Assignment\n"
   ]
  },
  {
   "cell_type": "markdown",
   "metadata": {},
   "source": [
    "## Exercise 1: Arithmetic Operations\n",
    "\n",
    "Arithmetic operations are fundamental in programming as they allow us to perform mathematical calculations.\n",
    "\n",
    "- **Task 1.1:** Add the numbers `25` and `75` together using the `+` operator and print the result. This will help you practice using addition in Python.\n",
    "\n",
    "  Example:\n",
    "\n",
    "  ```python\n",
    "  sum_result = 25 + 75\n",
    "  print(sum_result)\n",
    "  ```\n",
    "\n",
    "- **Task 1.2:** Multiply the numbers `7` and `6` using the `*` operator and display the outcome with `print()`. This exercise will reinforce your understanding of multiplication in Python.\n"
   ]
  },
  {
   "cell_type": "code",
   "execution_count": null,
   "metadata": {},
   "outputs": [],
   "source": [
    "# Task 1.1\n",
    "sum_result = 25 + 75\n",
    "print(sum_result)"
   ]
  },
  {
   "cell_type": "code",
   "execution_count": null,
   "metadata": {},
   "outputs": [],
   "source": [
    "# Task 1.2\n",
    "multiply_result = 7 * 6\n",
    "print(multiply_result)"
   ]
  },
  {
   "cell_type": "markdown",
   "metadata": {},
   "source": [
    "## Exercise 2: Boolean Expressions\n",
    "\n",
    "Boolean expressions evaluate to either `True` or `False`. They are essential in decision-making and control flow in programs.\n",
    "\n",
    "- **Task 2.1:** Use the `>` operator to check if `15` is greater than `10` and print the result. This will familiarize you with comparison operators.\n",
    "- **Task 2.2:** Use the `==` operator to compare whether `20` is equal to `20` and print the resulting Boolean value.\n"
   ]
  },
  {
   "cell_type": "code",
   "execution_count": 1,
   "metadata": {},
   "outputs": [
    {
     "name": "stdout",
     "output_type": "stream",
     "text": [
      "True\n"
     ]
    }
   ],
   "source": [
    "# Task 2.1\n",
    "print(15 > 10)"
   ]
  },
  {
   "cell_type": "code",
   "execution_count": 2,
   "metadata": {},
   "outputs": [
    {
     "name": "stdout",
     "output_type": "stream",
     "text": [
      "True\n"
     ]
    }
   ],
   "source": [
    "# Task 2.2\n",
    "print(20 == 20)"
   ]
  },
  {
   "cell_type": "markdown",
   "metadata": {},
   "source": [
    "## Exercise 3: Logical Operations\n",
    "\n",
    "Logical operations combine or modify boolean expressions and are crucial in constructing complex conditions.\n",
    "\n",
    "- **Task 3.1:** Use the logical `and` operator to determine whether both `10` is greater than `5` and `15` is less than `20`. Print the result. This will show you how to combine multiple conditions.\n",
    "\n",
    "  Example:\n",
    "\n",
    "  ```python\n",
    "  logical_and_result = (10 > 5) and (15 < 20)\n",
    "  print(logical_and_result)\n",
    "  ```\n",
    "\n",
    "- **Task 3.2:** Apply the `not` operator to invert the result of the expression `5 == 5` and print the outcome. This exercise will demonstrate how to reverse a boolean value.\n"
   ]
  },
  {
   "cell_type": "code",
   "execution_count": 3,
   "metadata": {},
   "outputs": [
    {
     "name": "stdout",
     "output_type": "stream",
     "text": [
      "True\n"
     ]
    }
   ],
   "source": [
    "# Task 3.1\n",
    "print(10 > 5 and 15 < 20)"
   ]
  },
  {
   "cell_type": "code",
   "execution_count": 4,
   "metadata": {},
   "outputs": [
    {
     "name": "stdout",
     "output_type": "stream",
     "text": [
      "False\n"
     ]
    }
   ],
   "source": [
    "# Task 3.2\n",
    "print(not (5 == 5))"
   ]
  },
  {
   "cell_type": "markdown",
   "metadata": {},
   "source": [
    "## Additional Challenges\n",
    "\n",
    "To further your understanding, try the following challenges:\n",
    "\n",
    "- **Challenge 1:** Calculate the average of three numbers: `23`, `35`, and `46`. Print the average with a descriptive message.\n",
    "- **Challenge 2:** Determine whether `100` is divisible by `3` and not equal to `10`. Use arithmetic and logical operators to find the result and explain your reasoning in a comment.\n"
   ]
  },
  {
   "cell_type": "code",
   "execution_count": 11,
   "metadata": {},
   "outputs": [
    {
     "name": "stdout",
     "output_type": "stream",
     "text": [
      "34.666666666666664\n",
      "34.666666666666664\n",
      "34.666666666666664\n"
     ]
    }
   ],
   "source": [
    "# Challenge 1\n",
    "print((23 + 35 + 46) / 3)\n",
    "\n",
    "print((23 + 35 + 46) / len((23, 35, 46)))\n",
    "\n",
    "import statistics\n",
    "\n",
    "print(statistics.mean((23, 35, 46)))\n",
    "\n"
   ]
  },
  {
   "cell_type": "code",
   "execution_count": 14,
   "metadata": {},
   "outputs": [
    {
     "name": "stdout",
     "output_type": "stream",
     "text": [
      "False\n",
      "False\n"
     ]
    }
   ],
   "source": [
    "# Challenge 2\n",
    "print(100 % 3 == 0)\n",
    "print(type(100 / 3) != float)"
   ]
  },
  {
   "cell_type": "markdown",
   "metadata": {},
   "source": [
    "## Reflection\n",
    "\n",
    "Reflect on the following questions after completing the exercises:\n",
    "\n",
    "- What types of problems can be solved more efficiently by using arithmetic, boolean, and logical operations?\n",
    "- How do these operations interact with each other when used in combination?\n",
    "- Provide an example of a real-life situation where you could use these operations.\n"
   ]
  },
  {
   "cell_type": "markdown",
   "metadata": {},
   "source": [
    "- logical problems\n",
    "- It's like a long list of chained invents, so parentheses are important\n",
    "- Finding the population with the largest / greatest number of people who smoke in a specific country"
   ]
  }
 ],
 "metadata": {
  "kernelspec": {
   "display_name": "Python 3",
   "language": "python",
   "name": "python3"
  },
  "language_info": {
   "codemirror_mode": {
    "name": "ipython",
    "version": 3
   },
   "file_extension": ".py",
   "mimetype": "text/x-python",
   "name": "python",
   "nbconvert_exporter": "python",
   "pygments_lexer": "ipython3",
   "version": "3.12.1"
  }
 },
 "nbformat": 4,
 "nbformat_minor": 2
}
