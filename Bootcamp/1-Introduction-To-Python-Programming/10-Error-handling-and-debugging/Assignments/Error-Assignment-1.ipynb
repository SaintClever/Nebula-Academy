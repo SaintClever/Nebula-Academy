{
  "cells": [
    {
      "attachments": {},
      "cell_type": "markdown",
      "metadata": {},
      "source": [
        "## Welcome to the Space Exploration Program!"
      ]
    },
    {
      "attachments": {},
      "cell_type": "markdown",
      "metadata": {},
      "source": [
        "You are a scientist working on a groundbreaking space exploration project. As part of your research, you need to write code to analyze data collected from various space probes. However, there are errors in the code that need to be fixed to ensure accurate results. Your task is to debug the code and resolve the errors."
      ]
    },
    {
      "attachments": {},
      "cell_type": "markdown",
      "metadata": {},
      "source": [
        "1. **Planetary Data Analysis**"
      ]
    },
    {
      "attachments": {},
      "cell_type": "markdown",
      "metadata": {},
      "source": [
        "You have collected data from multiple planetary probes and need to analyze it. However, there are errors in the code that prevent the analysis from running correctly. Your task is to fix the errors and execute the code to obtain the desired results."
      ]
    },
    {
      "attachments": {},
      "cell_type": "markdown",
      "metadata": {},
      "source": [
        "# Planetary Data Analysis\n",
        "\n"
      ]
    },
    {
      "cell_type": "code",
      "execution_count": 25,
      "metadata": {},
      "outputs": [
        {
          "name": "stdout",
          "output_type": "stream",
          "text": [
            "The average temperature is: 250.0\n",
            "The maximum temperature is: 300\n",
            "The minimum temperature is: 200\n"
          ]
        }
      ],
      "source": [
        "# Planetary Data Analysis\n",
        "temperatures = [200, 250, 300, 275, 225]  # Introduced an error by adding a string to the list\n",
        "\n",
        "average_temperature = sum(temperatures) / len(temperatures)  # This line will raise a TypeError\n",
        "print(f\"The average temperature is: {average_temperature}\")\n",
        "\n",
        "max_temperature = max(temperatures)  # This line will also raise a TypeError\n",
        "print(f\"The maximum temperature is: {max_temperature}\")\n",
        "\n",
        "# Introduced an error by trying to call a non-existing method \"mini\" instead of \"min\"\n",
        "min_temperature = min(temperatures)  # This line will raise a NameError\n",
        "print(f\"The minimum temperature is: {min_temperature}\")\n"
      ]
    },
    {
      "attachments": {},
      "cell_type": "markdown",
      "metadata": {},
      "source": []
    },
    {
      "attachments": {},
      "cell_type": "markdown",
      "metadata": {},
      "source": [
        "Fix the errors in the code above and execute it to calculate and display the average, maximum, and minimum temperatures obtained from the space probe data."
      ]
    },
    {
      "attachments": {},
      "cell_type": "markdown",
      "metadata": {},
      "source": [
        "### 2. Satellite Communication"
      ]
    },
    {
      "attachments": {},
      "cell_type": "markdown",
      "metadata": {},
      "source": [
        "You are responsible for maintaining communication with a satellite orbiting a distant planet. However, there are errors in the code that handle the communication process. Your task is to fix the errors and ensure successful communication with the satellite.\n",
        "\n",
        "```python\n",
        "def send_message(message):\n",
        " if len(message) > 100:\n",
        " print('Message is too long!')\n",
        " elif len(message) < 10:\n",
        " print('Message is too short!')\n",
        " else:\n",
        " print(f'Sending message: {message}')\n",
        "\n",
        "send_message('Hello, this is a test message.')\n",
        "send_message('Hi')\n",
        "send_message('This is a very long message that exceeds the maximum allowed length.')\n",
        "```"
      ]
    },
    {
      "attachments": {},
      "cell_type": "markdown",
      "metadata": {},
      "source": [
        "Fix the errors in the code above and execute it to send the appropriate messages to the satellite based on their length."
      ]
    },
    {
      "cell_type": "code",
      "execution_count": 27,
      "metadata": {},
      "outputs": [
        {
          "name": "stdout",
          "output_type": "stream",
          "text": [
            "Transmitting Hello Mars Rover! to Mars Rover at frequency 437.5.\n",
            "Received: Hello, Probe!\n"
          ]
        }
      ],
      "source": [
        "def transmit(name, frequency, message):\n",
        "    print(f\"Transmitting {message} to {name} at frequency {frequency}.\")\n",
        "\n",
        "def receive():\n",
        "    received_message = input(\"Enter the message received: \")\n",
        "    print(f\"Received: {message}\")\n",
        "\n",
        "def main():\n",
        "    name = \"Mars Rover\"\n",
        "    frequency = 437.5\n",
        "    message = \"Hello Mars Rover!\"\n",
        "\n",
        "    transmit(name, frequency, message)\n",
        "    receive()\n",
        "\n",
        "main()\n"
      ]
    },
    {
      "attachments": {},
      "cell_type": "markdown",
      "metadata": {},
      "source": [
        "You are working on a program to calculate astronomical distances between celestial bodies. However, there are errors in the code that prevent the calculations from being accurate. Your task is to fix the errors and ensure correct astronomical distance calculations.\n",
        "\n",
        "```python\n",
        "import math\n",
        "\n",
        "def calculate_distance(planet1, planet2):\n",
        " x_distance = planet2[0] - planet1[0]\n",
        " y_distance = planet2[1] - planet1[1]\n",
        " z_distance = planet2[2] - planet1[2]\n",
        " \n",
        " distance = math.sqrt(x_distance**2 + y_distance**2 + z_distance**2)\n",
        " return distance\n",
        "\n",
        "planet1 = (10, 5, 3)\n",
        "planet2 = (7, 8, 2)\n",
        "distance = calculate_distance(planet1, planet2)\n",
        "print(f'The distance between the two planets is: {distance}')\n",
        "```\n",
        "\n"
      ]
    },
    {
      "cell_type": "code",
      "execution_count": 29,
      "metadata": {},
      "outputs": [
        {
          "name": "stdout",
          "output_type": "stream",
          "text": [
            "The distance between Earth and Mars is: 227.9 million kilometers\n"
          ]
        }
      ],
      "source": [
        "# Astronomical Distance Calculator\n",
        "import math\n",
        "\n",
        "def calculate_distance(coord1, coord2):\n",
        "    x1, y1, z1 = coord1\n",
        "    x2, y2, z2 = coord2\n",
        "    return math.sqrt((x2 - x1)**2 + (y2 - y1)**2 + (z2 - z1)**2)\n",
        "\n",
        "def main():\n",
        "    earth_coordinates = (0, 0, 0)\n",
        "    mars_coordinates = (227.9, 0, 0)\n",
        "\n",
        "    distance = calculate_distance(earth_coordinates, mars_coordinates)\n",
        "    print(f\"The distance between Earth and Mars is: {distance} million kilometers\")\n",
        "\n",
        "main()\n"
      ]
    },
    {
      "attachments": {},
      "cell_type": "markdown",
      "metadata": {},
      "source": [
        "4. **Galactic Spectrum Analysis**\n",
        "\n",
        "    You are developing a program to analyze light spectrums of various galaxies. Your task is to debug the code that processes the light spectrum data and produces an array of elements present in the galaxy. Make sure the code correctly identifies the elements based on their corresponding light wavelength."
      ]
    },
    {
      "cell_type": "code",
      "execution_count": 31,
      "metadata": {},
      "outputs": [
        {
          "name": "stdout",
          "output_type": "stream",
          "text": [
            "Wavelength 656.2nm is likely emitted by hydrogen.\n",
            "Wavelength 587.5nm is likely emitted by helium.\n",
            "Wavelength 247.8nm is likely emitted by carbon.\n"
          ]
        }
      ],
      "source": [
        "# Your Solution Here ❌"
      ]
    },
    {
      "cell_type": "code",
      "execution_count": 31,
      "metadata": {},
      "outputs": [],
      "source": [
        "spectrums = {'hydrogen': 656.28, 'helium': 587.56, 'carbon': 247.86}\n",
        "light_wavelengths = [656.20, 587.50, 247.80]\n",
        "\n",
        "def detect_element(wavelength):\n",
        "    for element, value in spectrums.items():\n",
        "        if abs(value - wavelength) < 0.1:\n",
        "            return element\n",
        "    return \"Unknown\"\n",
        "\n",
        "for wavelength in light_wavelengths:\n",
        "    element = detect_element(wavelength)\n",
        "    print(f\"Wavelength {wavelength}nm is likely emitted by {element}.\")\n"
      ]
    },
    {
      "attachments": {},
      "cell_type": "markdown",
      "metadata": {},
      "source": [
        "5. **Exoplanet Detection**\n",
        "\n",
        "    You are using the transit method to detect exoplanets. However, there seems to be a problem with the code that measures the dip in a star's brightness as the exoplanet passes in front of it. Fix the errors in the code to correctly calculate the radius of the exoplanet based on the measured dip in brightness."
      ]
    },
    {
      "cell_type": "code",
      "execution_count": 34,
      "metadata": {},
      "outputs": [
        {
          "name": "stdout",
          "output_type": "stream",
          "text": [
            "Type of star_radius: <class 'int'>\n",
            "Type of star_brightness: <class 'float'>\n",
            "Type of dip_in_brightness: <class 'float'>\n",
            "The radius of the exoplanet is: 70000.0 km\n"
          ]
        }
      ],
      "source": [
        "def calculate_planet_radius(star_radius, star_brightness, dip_in_brightness):\n",
        "    print('Type of star_radius:', type(star_radius))\n",
        "    print('Type of star_brightness:', type(star_brightness))\n",
        "    print('Type of dip_in_brightness:', type(dip_in_brightness))\n",
        "    return star_radius * (dip_in_brightness / star_brightness)**0.5\n",
        "\n",
        "star_radius = 700000  # km\n",
        "star_brightness = 1.0  # arbitrary units\n",
        "dip_in_brightness = 0.01  # arbitrary units\n",
        "\n",
        "planet_radius = calculate_planet_radius(star_radius, star_brightness, dip_in_brightness)\n",
        "print(f\"The radius of the exoplanet is: {planet_radius} km\")\n"
      ]
    },
    {
      "attachments": {},
      "cell_type": "markdown",
      "metadata": {},
      "source": [
        "6. **Orbital Mechanics**\n",
        "\n",
        "    Your task is to develop a program that predicts the orbital paths of various celestial bodies. There seems to be an error in the code that calculates the orbital speed of a body based on its mass and distance from the center of its orbit. Debug the code and ensure it correctly calculates the orbital speed."
      ]
    },
    {
      "cell_type": "code",
      "execution_count": 37,
      "metadata": {},
      "outputs": [
        {
          "name": "stdout",
          "output_type": "stream",
          "text": [
            "G * mass: <class 'float'>\n",
            "distance: <class 'float'>\n",
            "The orbital speed is: 51.6174997788779 m/s\n"
          ]
        }
      ],
      "source": [
        "def calculate_orbital_speed(mass, distance):\n",
        "    G = 6.67430e-11  # gravitational constant in m^3 kg^-1 s^-2\n",
        "    print('G * mass:', type(G * mass))\n",
        "    print('distance:', type(distance))\n",
        "    return (G * mass / distance)**0.5\n",
        "\n",
        "mass = 5.972e24  #1 mass of Earth in kg\n",
        "distance = 1.496e11  # distance from Sun to Earth in m\n",
        "\n",
        "orbital_speed = calculate_orbital_speed(mass, distance)\n",
        "print(f\"The orbital speed is: {orbital_speed} m/s\")\n"
      ]
    },
    {
      "attachments": {},
      "cell_type": "markdown",
      "metadata": {},
      "source": [
        "7. **Cosmic Ray Analysis**\n",
        "\n",
        "    You are analyzing data from a cosmic ray detector aboard a space probe. However, there is an error in the code that processes the raw data into a readable format. Your task is to debug the code to ensure accurate cosmic ray data analysis."
      ]
    },
    {
      "cell_type": "code",
      "execution_count": 43,
      "metadata": {},
      "outputs": [
        {
          "name": "stdout",
          "output_type": "stream",
          "text": [
            "Datum Type <class 'float'>\n",
            "Datum Type <class 'float'>\n",
            "Datum Type <class 'float'>\n",
            "Datum Type <class 'float'>\n",
            "Datum Type <class 'float'>\n",
            "Processed data: [15.2, 25.5, 35.7, 45.1, 55.2]\n"
          ]
        }
      ],
      "source": [
        "cosmic_ray_data = [10.2, 20.5, 30.7, 40.1, 50.2]\n",
        "\n",
        "def process_data(data):\n",
        "    for datum in data:\n",
        "        print('Datum Type', type(datum))\n",
        "    return [datum + 5 for datum in data]\n",
        "\n",
        "processed_data = process_data(cosmic_ray_data)\n",
        "print(f\"Processed data: {processed_data}\")\n"
      ]
    },
    {
      "attachments": {},
      "cell_type": "markdown",
      "metadata": {},
      "source": [
        "8. **Interstellar Communication**\n",
        "\n",
        "    You are responsible for maintaining communication with an interstellar probe. However, there are errors in the code that handle the encoding and decoding of messages. Your task is to fix the errors and ensure successful communication with the interstellar probe."
      ]
    },
    {
      "cell_type": "code",
      "execution_count": 44,
      "metadata": {},
      "outputs": [
        {
          "name": "stdout",
          "output_type": "stream",
          "text": [
            "Original message: Hello, Probe!\n",
            "Encoded message: 01001000 01100101 01101100 01101100 01101111 00101100 00100000 01010000 01110010 01101111 01100010 01100101 00100001\n",
            "Decoded message: Hello, Probe!\n"
          ]
        }
      ],
      "source": [
        "def encode_message(message):\n",
        "    return ' '.join([bin(ord(c))[2:].zfill(8) for c in message])\n",
        "\n",
        "def decode_message(message):\n",
        "    return ''.join([chr(int(b, 2)) for b in message.split(' ')])  # Introduced an error by splitting on '.' instead of ' '\n",
        "\n",
        "message = \"Hello, Probe!\"\n",
        "encoded_message = encode_message(message)\n",
        "decoded_message = decode_message(encoded_message)  # This will raise a ValueError due to incorrect split character\n",
        "\n",
        "print(f\"Original message: {message}\")\n",
        "print(f\"Encoded message: {encoded_message}\")\n",
        "print(f\"Decoded message: {decoded_message}\")\n"
      ]
    },
    {
      "attachments": {},
      "cell_type": "markdown",
      "metadata": {},
      "source": [
        "9. **Star Cataloging**\n",
        "\n",
        "    You are working on a program to catalog stars based on their coordinates in the sky. However, there are errors in the code that sort the stars based on their right ascension and declination. Fix the errors and ensure correct sorting of the stars."
      ]
    },
    {
      "cell_type": "code",
      "execution_count": 55,
      "metadata": {},
      "outputs": [
        {
          "name": "stdout",
          "output_type": "stream",
          "text": [
            "stars: dict_items([('Polaris', {'RA': '2h31m49.09s', 'Dec': '+89d15m50.8s'}), ('Betelgeuse', {'RA': '5h55m10.3053s', 'Dec': '+7d24m25.430s'}), ('Vega', {'RA': '18h36m56.33635s', 'Dec': '+38d47m01.2802s'})])\n",
            "float(x[1]['RA'][:-1] 2h31m49.09\n",
            "Stars sorted by Right Ascension (RA):\n",
            "Vega\n",
            "Polaris\n",
            "Betelgeuse\n"
          ]
        }
      ],
      "source": [
        "stars = {\n",
        "    'Polaris': {'RA': '2h31m49.09s', 'Dec': '+89d15m50.8s'},\n",
        "    'Betelgeuse': {'RA': '5h55m10.3053s', 'Dec': '+7d24m25.430s'},\n",
        "    'Vega': {'RA': '18h36m56.33635s', 'Dec': '+38d47m01.2802s'}\n",
        "}\n",
        "\n",
        "def sort_stars_by_RA(stars):\n",
        "    print('stars:', stars.items())\n",
        "    print('float(x[1][\\'RA\\'][:-1]', stars['Polaris']['RA'][:-1])\n",
        "    return sorted(stars.items(), key=lambda x: x[1]['RA'][:-1])  # Introduced an error by trying to convert RA to float\n",
        "\n",
        "sorted_stars = sort_stars_by_RA(stars)\n",
        "print(\"Stars sorted by Right Ascension (RA):\")\n",
        "for star in sorted_stars:\n",
        "    print(star[0])\n"
      ]
    },
    {
      "attachments": {},
      "cell_type": "markdown",
      "metadata": {},
      "source": [
        "10. **Telescope Alignment**\n",
        "\n",
        "    You are tasked with writing a program that aligns a radio telescope to a specific celestial coordinate. However, there are errors in the code that converts the celestial coordinates into azimuth and elevation for the telescope. Fix the errors to correctly align the telescope."
      ]
    },
    {
      "cell_type": "code",
      "execution_count": 65,
      "metadata": {},
      "outputs": [
        {
          "name": "stdout",
          "output_type": "stream",
          "text": [
            "Altitude: 1.1197870118223732, Azimuth: 1.1147066283243638\n"
          ]
        }
      ],
      "source": [
        "def celestial_to_horizontal(declination, hour_angle):\n",
        "    lat = 51.5  # latitude of the observatory\n",
        "    dec = float(declination[:-1])\n",
        "    ha = float(hour_angle[:-1])\n",
        "    alt = math.asin(math.sin(dec) * math.sin(lat) + math.cos(dec) * math.cos(lat) * math.cos(ha))\n",
        "    az = math.acos((math.sin(dec) - math.sin(lat) * math.sin(alt)) / (math.cos(lat) * math.cos(alt)))\n",
        "    return alt, az\n",
        "\n",
        "declination = '20.0d'\n",
        "hour_angle = '5.0h'\n",
        "\n",
        "alt, az = celestial_to_horizontal(declination, hour_angle)\n",
        "print(f\"Altitude: {alt}, Azimuth: {az}\")\n"
      ]
    }
  ],
  "metadata": {
    "kernelspec": {
      "display_name": "Python 3",
      "language": "python",
      "name": "python3"
    },
    "language_info": {
      "codemirror_mode": {
        "name": "ipython",
        "version": 3
      },
      "file_extension": ".py",
      "mimetype": "text/x-python",
      "name": "python",
      "nbconvert_exporter": "python",
      "pygments_lexer": "ipython3",
      "version": "3.11.3"
    },
    "orig_nbformat": 4
  },
  "nbformat": 4,
  "nbformat_minor": 2
}
