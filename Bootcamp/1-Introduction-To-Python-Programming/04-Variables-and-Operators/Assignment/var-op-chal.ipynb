{
  "cells": [
    {
      "attachments": {},
      "cell_type": "markdown",
      "metadata": {},
      "source": [
        "## Python Challenge Problems\n",
        "\n",
        "Please complete the following challenges by writing your code in the provided Python code blocks and running them."
      ]
    },
    {
      "attachments": {},
      "cell_type": "markdown",
      "metadata": {},
      "source": [
        "### Challenge 1\n",
        "Create a list called `numbers` containing the numbers 1, 2, 3, and 4. Print the sum of all the numbers in the list."
      ]
    },
    {
      "cell_type": "code",
      "execution_count": 5,
      "metadata": {},
      "outputs": [
        {
          "name": "stdout",
          "output_type": "stream",
          "text": [
            "49\n"
          ]
        }
      ],
      "source": [
        "# Challenge 1\n",
        "numbers = [1,2,3,43]\n",
        "print(sum(numbers))"
      ]
    },
    {
      "attachments": {},
      "cell_type": "markdown",
      "metadata": {},
      "source": [
        "### Challenge 2\n",
        "Create a dictionary called `student` with keys \"name\" and \"age\". Assign your name to the \"name\" key and your age to the \"age\" key. Print a sentence that says \"My name is [name] and I am [age] years old.\""
      ]
    },
    {
      "cell_type": "code",
      "execution_count": null,
      "metadata": {},
      "outputs": [],
      "source": [
        "# Challenge 2\n"
      ]
    },
    {
      "attachments": {},
      "cell_type": "markdown",
      "metadata": {},
      "source": [
        "### Challenge 3\n",
        "Create a variable called `radius` and assign it a float value representing the radius of a circle. Calculate the area of the circle (π * radius^2) and print it."
      ]
    },
    {
      "cell_type": "code",
      "execution_count": null,
      "metadata": {},
      "outputs": [],
      "source": [
        "import math\n",
        "# Challenge 3\n",
        "\n"
      ]
    },
    {
      "attachments": {},
      "cell_type": "markdown",
      "metadata": {},
      "source": [
        "### Challenge 4\n",
        "Create a list called `grades` containing five integer grades (e.g., 85, 90, 78, 92, 88). Calculate and print the average of the grades."
      ]
    },
    {
      "cell_type": "code",
      "execution_count": null,
      "metadata": {},
      "outputs": [],
      "source": [
        "# Challenge 4\n",
        "\n"
      ]
    },
    {
      "attachments": {},
      "cell_type": "markdown",
      "metadata": {},
      "source": [
        "### Challenge 5\n",
        "Create a variable called `temperature` and assign it an integer representing the temperature in Celsius. Convert it to Fahrenheit using the formula (Celsius * 9/5) + 32 and print the result."
      ]
    },
    {
      "cell_type": "code",
      "execution_count": null,
      "metadata": {},
      "outputs": [],
      "source": [
        "# Challenge 5\n"
      ]
    },
    {
      "attachments": {},
      "cell_type": "markdown",
      "metadata": {},
      "source": [
        "### Challenge 6\n",
        "Create a dictionary called `book` with keys \"title\" and \"author\". Assign values to these keys representing the title and author of a book. Print a sentence that says \"The book [title] is written by [author].\""
      ]
    },
    {
      "cell_type": "code",
      "execution_count": null,
      "metadata": {},
      "outputs": [],
      "source": [
        "# Challenge 6\n",
        "\n"
      ]
    }
  ],
  "metadata": {
    "kernelspec": {
      "display_name": "Python 3",
      "language": "python",
      "name": "python3"
    },
    "language_info": {
      "codemirror_mode": {
        "name": "ipython",
        "version": 3
      },
      "file_extension": ".py",
      "mimetype": "text/x-python",
      "name": "python",
      "nbconvert_exporter": "python",
      "pygments_lexer": "ipython3",
      "version": "3.11.0"
    }
  },
  "nbformat": 4,
  "nbformat_minor": 5
}
