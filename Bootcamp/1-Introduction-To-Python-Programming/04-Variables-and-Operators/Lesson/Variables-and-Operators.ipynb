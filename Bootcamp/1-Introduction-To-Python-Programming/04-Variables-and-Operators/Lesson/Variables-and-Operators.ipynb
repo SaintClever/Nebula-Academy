{
  "cells": [
    {
      "attachments": {},
      "cell_type": "markdown",
      "metadata": {},
      "source": [
        "# Grasping Variables, Data Types, and Operators in Python\n",
        "\n",
        "- [Grasping Variables, Data Types, and Operators in Python](#grasping-variables-data-types-and-operators-in-python)\n",
        "  - [Decoding Variables](#decoding-variables)\n",
        "  - [Diving into Data Types](#diving-into-data-types)\n",
        "  - [Data Type Conversion: Casting](#data-type-conversion-casting)\n",
        "  - [Employing Variables and Arithmetic Operators](#employing-variables-and-arithmetic-operators)\n",
        "  - [Boolean and Comparison Operators](#boolean-and-comparison-operators)\n",
        "  - [Logical Operators](#logical-operators)\n",
        "\n",
        "\n",
        "## Decoding Variables\n",
        "\n",
        "When programming in Python, variables act like containers that hold onto values. When we assign a value to a variable, it becomes active, and we no longer need to initialize it formally."
      ]
    },
    {
      "cell_type": "code",
      "execution_count": null,
      "metadata": {},
      "outputs": [],
      "source": [
        "# Let's create a variable and assign it a string value\n",
        "salutation = \"Hi There!\""
      ]
    },
    {
      "cell_type": "markdown",
      "metadata": {},
      "source": [
        "By using the print() function, we can display the value of a variable. "
      ]
    },
    {
      "cell_type": "code",
      "execution_count": null,
      "metadata": {},
      "outputs": [],
      "source": ["print(salutation)"]
    },
    {
      "cell_type": "markdown",
      "metadata": {},
      "source": [
        "> ***Note:*** \n",
        "You will see '\\n' used in print statments throughout this lesson. Like this:\n",
        "> ```python\n",
        "> print(\"Hello World!\\n\")\n",
        "> ```\n",
        "> This is a special character that represents a new line. It is used to make the output more readable."
      ]
    },
    {
      "attachments": {},
      "cell_type": "markdown",
      "metadata": {},
      "source": [
        "#### 🧑🏽‍💻 You do\n",
        "**Create a Variable**\n",
        "\n",
        "1. Create A variable named \"my_name\" and assign it a string containing your name\n",
        "2. Print the variable"
      ]
    },
    {
      "cell_type": "code",
      "execution_count": null,
      "metadata": {},
      "outputs": [],
      "source": ["# Add your solution below:\n"]
    },
    {
      "cell_type": "markdown",
      "metadata": {},
      "source": [
        "In Python, variables are dynamic, allowing them to be easily **reassigned** to any data type whenever needed."
      ]
    },
    {
      "cell_type": "code",
      "execution_count": 3,
      "metadata": {},
      "outputs": [
        {
          "name": "stdout",
          "output_type": "stream",
          "text": ["salutation: I'm Jane Doe\n", "salutation: 33\n"]
        }
      ],
      "source": [
        "salutation = \"I'm Jane Doe\"\n",
        "print('salutation:', salutation)\n",
        "salutation = 33\n",
        "print('salutation:', salutation)"
      ]
    },
    {
      "attachments": {},
      "cell_type": "markdown",
      "metadata": {},
      "source": [
        "## Basic Data Types\n",
        "\n",
        "| Data Types | Description | Example |\n",
        "| --- | --- | --- |\n",
        "| **int** | An integer is a whole number (positive, negative, or zero) | `x = 1` |\n",
        "| **float** | A Float is a number with a decimal point or a number in exponential form | `x = 1.0` |\n",
        "| **str** | A string is a sequence of characters enclosed in single or double quotes | `x = 'Hello World'` |\n",
        "| **bool** | A Boolean value is either `True` or `False` | `x = True` |\n",
        "| **list** | A list is a mutable ordered sequence of items | `x = [1, 2, 3]` |\n",
        "| **tuple** | A tuple is an immutable ordered sequence of items | `x = (1, 2, 3)` |\n",
        "| **dict** | A dictionary is a key-value pair data structure | `x = {'a':1, 'b':2, 'c':3}` |"
      ]
    },
    {
      "cell_type": "markdown",
      "metadata": {},
      "source": [
        "**`type()`** and **`__class__`**\n",
        "\n",
        "In Python, there are built-in methods to determine the data type of a variable. The `type()` function is one way to do this. Another method is to use the __class__ attribute, which is a property of the object and can be accessed using the dot operator."
      ]
    },
    {
      "cell_type": "code",
      "execution_count": null,
      "metadata": {},
      "outputs": [],
      "source": [
        "# Assign a string to the variable\n",
        "salutation = \"Hello, Jane Doe!\"\n",
        "print('salutation = ', salutation)\n",
        "print('type(salutation):', type(salutation))\n",
        "print('salutation.__class__ :', salutation.__class__)"
      ]
    },
    {
      "cell_type": "code",
      "execution_count": null,
      "metadata": {},
      "outputs": [],
      "source": [
        "# Now assign an integer\n",
        "salutation = 33\n",
        "print('salutation = ', salutation)\n",
        "print('type(salutation):', type(salutation))\n",
        "print('salutation.__class__ :', salutation.__class__)"
      ]
    },
    {
      "attachments": {},
      "cell_type": "markdown",
      "metadata": {},
      "source": [
        "#### Integers and Floats\n",
        "\n",
        "Integers and floats enable us to express various types of numerical values. Integers are whole numbers, while floats can be any number with a decimal point or expressed in exponential form. Both integers and floats can be either positive or negative.\n",
        "\n",
        "Let's create some together:"
      ]
    },
    {
      "cell_type": "code",
      "execution_count": null,
      "metadata": {},
      "outputs": [],
      "source": []
    },
    {
      "attachments": {},
      "cell_type": "markdown",
      "metadata": {},
      "source": [
        "#### 🧑🏽‍💻 You do\n",
        "**Create an Integer variable.** &nbsp; Log it as well as its type."
      ]
    },
    {
      "cell_type": "code",
      "execution_count": null,
      "metadata": {},
      "outputs": [],
      "source": ["# Your Code Here 🤖\n", "\n"]
    },
    {
      "attachments": {},
      "cell_type": "markdown",
      "metadata": {},
      "source": [
        "**Create a Float variable.** &nbsp; Log it as well as its type."
      ]
    },
    {
      "cell_type": "code",
      "execution_count": null,
      "metadata": {},
      "outputs": [],
      "source": ["# Your Code Here 🤖\n", "\n"]
    },
    {
      "attachments": {},
      "cell_type": "markdown",
      "metadata": {},
      "source": [
        "#### Lists\n",
        "\n",
        "A list is a variable used to store multiple items. It is created by enclosing the items in square brackets. Lists are mutable, which means that they can be changed. Additionally, the items in a list can be of different types. Here are some examples of lists:\n",
        "\n",
        "Let's create one together:"
      ]
    },
    {
      "cell_type": "code",
      "execution_count": null,
      "metadata": {},
      "outputs": [],
      "source": []
    },
    {
      "attachments": {},
      "cell_type": "markdown",
      "metadata": {},
      "source": [
        "#### 🧑🏽‍💻 You do\n",
        "**Create a List variable.** &nbsp; Log it as well as its type."
      ]
    },
    {
      "cell_type": "code",
      "execution_count": null,
      "metadata": {},
      "outputs": [],
      "source": ["# Your Code Here 🤖\n", "\n"]
    },
    {
      "attachments": {},
      "cell_type": "markdown",
      "metadata": {},
      "source": [
        "#### Tuples\n",
        "\n",
        "Tuples are used to store multiple items in a single variable. Tuples are created using parentheses. Tuples are immutable, meaning they cannot be changed.\n",
        "\n",
        "Let's create one together:"
      ]
    },
    {
      "attachments": {},
      "cell_type": "markdown",
      "metadata": {},
      "source": [
        "#### 🧑🏽‍💻 You do\n",
        "**Create a Tuple Variable** &nbsp; Log it as well as its type."
      ]
    },
    {
      "cell_type": "code",
      "execution_count": null,
      "metadata": {},
      "outputs": [],
      "source": ["# Your Code Here 🤖\n", "\n"]
    },
    {
      "attachments": {},
      "cell_type": "markdown",
      "metadata": {},
      "source": [
        "#### Booleans\n",
        "\n",
        "Boolean values are a simple way to represent something with only two options: either `True` or `False`. Keywords such as `True` and `False` create Boolean values. These values are frequently used for comparisons and toggles.\n",
        "\n",
        "For instance, let's say you have a variable named `is_logged_in`. You can set it to `True` when a user logs in and `False` when they log out. This way, you can keep track of the user's login status.\n",
        "\n",
        "```python\n",
        "# Our user is logged in\n",
        "is_logged_in = True\n",
        "\n",
        "# Our user logs out\n",
        "is_logged_in = False\n",
        "```\n",
        "\n",
        "Let's create one together:"
      ]
    },
    {
      "cell_type": "code",
      "execution_count": null,
      "metadata": {},
      "outputs": [],
      "source": ["# Toggle\n", "\n", "# Comparisons\n"]
    },
    {
      "attachments": {},
      "cell_type": "markdown",
      "metadata": {},
      "source": [
        "#### 🧑🏽‍💻 You do\n",
        "**Create a Boolean Variable** &nbsp; *Log it as well as its type.*"
      ]
    },
    {
      "cell_type": "code",
      "execution_count": null,
      "metadata": {},
      "outputs": [],
      "source": ["# Your Code Here 🤖\n", "\n"]
    },
    {
      "attachments": {},
      "cell_type": "markdown",
      "metadata": {},
      "source": [
        "#### Dictionaries\n",
        "\n",
        "We use dictionaries to store data values in a format known as key:value pairs. Unlike other data types that hold only one value as an element, a dictionary can hold as many key:value pairs as needed, making it a container for storing data values.\n",
        "\n",
        "To understand better, think of a dictionary like words and definitions, where the key is the word, and the value is the definition. We create dictionaries using curly brackets. Additionally, dictionaries are mutable, which means that they can be changed.\n",
        "\n",
        "Let's create one together:"
      ]
    },
    {
      "cell_type": "code",
      "execution_count": null,
      "metadata": {},
      "outputs": [],
      "source": []
    },
    {
      "attachments": {},
      "cell_type": "markdown",
      "metadata": {},
      "source": [
        "#### 🧑🏽‍💻 You do\n",
        "**Create a Dictionary Variable** &nbsp; *Log it as well as its type.*"
      ]
    },
    {
      "cell_type": "code",
      "execution_count": null,
      "metadata": {},
      "outputs": [],
      "source": ["# Your Code Here 🤖\n", "\n"]
    },
    {
      "attachments": {},
      "cell_type": "markdown",
      "metadata": {},
      "source": [
        "## Mutability and Immutability\n",
        "\n",
        "We use dictionaries to store data values in a format known as key:value pairs. Unlike other data types with only one value as an element, a dictionary can hold as many key:value pairs as needed, making it a container for storing data values.\n",
        "\n",
        "To understand better, think of a dictionary like words and definitions, where the key is the word, and the value is the definition. We create dictionaries using curly brackets. Additionally, dictionaries are mutable, which means that they can be changed. In Python, mutability describes whether or not we can change our data after it has been created.\n",
        "\n",
        "This can be confusing to wrap your head around, but we have to consider the variable and the data as separate things. The variable is a container that holds the data. The data is the actual value that we are storing. When referring to mutability, we refer to the data, not the variable. \n",
        "\n",
        "Why is that distinction important?\n",
        "\n",
        "While we can <u>always</u> reassign a variable to a new value, we cannot always change the data itself.\n",
        "\n",
        " | Immutable Data Types | Mutable Data Types |\n",
        "| ---|--- |\n",
        " | Integer | List |\n",
        "| Float | Dictionary |\n",
        "| Tuple | - |\n",
        "| String | - |\n",
        "| Boolean | - |\n",
        "\n",
        "For our immutable data types, we cannot change the data itself. In the following example:\n",
        "\n",
        "```python\n",
        "int_var = 1\n",
        "int_var = 2\n",
        "```\n",
        "\n",
        "The value of `int_var` is changing, but the data itself is not. The data is still an integer.\n",
        "\n",
        "For our mutable data types, like lists, we can change the data itself. Lists specifically have a lot of methods that allow us to change the data.\n",
        "\n",
        "```python\n",
        "list_var = [1, 2, 3]\n",
        "list_var.append(4)\n",
        "print(list_var) # [1, 2, 3, 4]\n",
        "```\n",
        "\n",
        "In this example, we are changing the data itself. We are adding a new item to the list.\n"
      ]
    },
    {
      "attachments": {},
      "cell_type": "markdown",
      "metadata": {},
      "source": [
        "**`id()`**\n",
        "\n",
        "Take a look at the example below. It's important to note that even when you reassign a string to the exact same value, it is treated as a new variable. You can observe this using the `id()` function, which gives a unique identifier for an object based on its location in your computer's RAM."
      ]
    },
    {
      "cell_type": "code",
      "execution_count": 2,
      "metadata": {},
      "outputs": [
        {
          "name": "stdout",
          "output_type": "stream",
          "text": [
            "Memory ID for 'my_string':  4479159536\n",
            "This ID uniquely identifies the memory location where 'my_string' is stored.\n",
            "\n",
            "\n",
            "Memory ID for 'my_string_copy':  4479159536\n",
            "This ID is the same as 'my_string', as 'my_string_copy' points to the same memory location.\n",
            "\n",
            "\n",
            "4479161328\n",
            "Notice this id is different from the one above\n"
          ]
        }
      ],
      "source": [
        "my_string = \"Hello World!\"\n",
        "\n",
        "print(\"Memory ID for 'my_string': \", id(my_string)) \n",
        "print(\"This ID uniquely identifies the memory location where 'my_string' is stored.\")\n",
        "print(\"\\n\")\n",
        "\n",
        "# Assigning my_string to my_string_copy makes them point to the same piece of data,\n",
        "# therefore, they have the same memory ID. This is called a reference.\n",
        "my_string_copy = my_string\n",
        "\n",
        "# Print the memory ID of my_string_copy.\n",
        "print(\"Memory ID for 'my_string_copy': \", id(my_string_copy))\n",
        "print(\"This ID is the same as 'my_string', as 'my_string_copy' points to the same memory location.\")\n",
        "print(\"\\n\")\n",
        "\n",
        "\n",
        "my_string = \"Hello World!\" # my_string is now pointing to a new unique identifier, or rather a new memory address containing the same value as the previous one. Therefore the id is different even though the value is the same.\n",
        "print(id(my_string)) \n",
        "print(\"Notice this id is different from the one above\")"
      ]
    },
    {
      "attachments": {},
      "cell_type": "markdown",
      "metadata": {},
      "source": [
        "Try using the `id()` function on the variables below to see how the id changes when the variable is reassigned."
      ]
    },
    {
      "cell_type": "code",
      "execution_count": null,
      "metadata": {},
      "outputs": [],
      "source": []
    },
    {
      "attachments": {},
      "cell_type": "markdown",
      "metadata": {},
      "source": [
        "## Data Type Conversion: Casting\n",
        "\n",
        "In programming, data types have unique methods and properties that make data manipulation possible. Python has a casting feature that allows you to convert between data types. For instance, you can convert a string to an integer by using the `int()` function, while the `float()` or `int()` functions can be used to convert numbers, depending on the desired outcome. \n",
        "\n",
        "Take a look at the example below. \n",
        "\n",
        "You may notice that `int()` successfully converted a string with a decimal point without throwing an error. It merely truncated the decimal point and any digits after it. This indicates that you can convert a string with a decimal point to a whole number without encountering errors."
      ]
    },
    {
      "cell_type": "code",
      "execution_count": 1,
      "metadata": {},
      "outputs": [
        {
          "name": "stdout",
          "output_type": "stream",
          "text": [
            "33.3\n",
            "33\n",
            "Type of '33.3':  <class 'str'> \n",
            "\n",
            "Type of '33.3' after converting it to a float:  <class 'float'> \n",
            "\n",
            "4\n"
          ]
        }
      ],
      "source": [
        "# We start with a string. \n",
        "num_str = \"33.3\"\n",
        "\n",
        "# We then convert it to a float.\n",
        "num_float = float(num_str)\n",
        "print(num_float) # This will print 33.3\n",
        "\n",
        "# Finally, we convert it to an integer.\n",
        "num_int = int(num_float)\n",
        "print(num_int) # This will print 33 (note that the decimal part is truncated)\n",
        "\n",
        "# Let's try checking the type of a variable after we convert it.\n",
        "# Here we start with a string. \n",
        "print(\"Type of '33.3': \", type('33.3'), '\\n')\n",
        "# Now let's check the type after we've converted it to a float.\n",
        "print(\"Type of '33.3' after converting it to a float: \", type(float('33.3')), '\\n')\n",
        "\n",
        "\n",
        "print(2 + int(\"2\"))"
      ]
    },
    {
      "attachments": {},
      "cell_type": "markdown",
      "metadata": {},
      "source": [
        "## Operators ➖ ➕ ➗ ✖️\n",
        "\n",
        "When working with Python, operators are symbols and keywords that enable you to perform operations on variables and values. One of the most straightforward operators you've likely utilized before is the `=` sign, which assigns a value to a variable.\n",
        "\n",
        "But wait there's more!\n",
        "\n",
        "![but wait there's more](https://media1.giphy.com/media/9V1F9o1pBjsxFzHzBr/giphy.gif?cid=ecf05e47a3iwa0o6dkjextx1jp9r21krkavdnhh1vd0uj40d&ep=v1_gifs_search&rid=giphy.gif&ct=g)\n",
        "\n",
        "**Basic Operators**\n",
        "\n",
        "| Operator | Description |\n",
        "| -------- | ----------- |\n",
        "| `+`      | This operator adds two values together. |\n",
        "| `-`      | This operator subtracts one value from another. |\n",
        "| `*`      | This operator multiplies two values together. |\n",
        "| `/`      | This operator divides one value by another. |\n",
        "\n",
        "**Advanced Operators**\n",
        "\n",
        "| Operator | Description |\n",
        "| -------- | ----------- |\n",
        "| `**`     | This operator raises a number to the power of another number. |\n",
        "| `//`     | This operator divides one value by another and rounds down to the nearest integer (floor division). |\n",
        "| `%`      | This operator returns the remainder of a division operation (modulo operation). |\n",
        "| `!`      | This isn't a valid operator in Python, but in many programming languages it denotes logical NOT operation. |\n",
        "| `&`      | This operator performs a bitwise AND operation. |\n",
        "| `|`      | This operator performs a bitwise OR operation. |\n",
        "| `^`      | This operator performs a bitwise XOR operation. |\n",
        "| `~`      | This operator performs a bitwise NOT operation. |\n",
        "\n",
        "Let's try some out together:"
      ]
    },
    {
      "cell_type": "code",
      "execution_count": null,
      "metadata": {},
      "outputs": [],
      "source": []
    },
    {
      "attachments": {},
      "cell_type": "markdown",
      "metadata": {},
      "source": [
        "## Logical Operators\n",
        "\n",
        "In addition to those symbols we just introduced you to, you can also use some plain english words to perform some logic reasoning. These are called logical operators.\n",
        "\n",
        "| Operator | Description |\n",
        "| -------- | ----------- |\n",
        "| `and`    | This operator returns `True` if both statements are true. |\n",
        "| `or`     | This operator returns `True` if one of the statements is true. |\n",
        "| `not`    | This operator reverses the result, returns `False` if the result is true. |\n",
        "\n",
        "\n",
        "**When using the `and` operator**, consider the scenario of skydiving for the first time. Your tandem instructor will check that you have both a parachute and a reserve parachute before you jump. It's essential to ensure both are in place before taking this leap of faith.\n",
        "\n",
        "**Now let's look at the `or` operator**. Suppose you've already made the jump and completed the free fall, but the parachute fails to open. Fortunately, you have a reserve parachute. Pulling the cord on the reserve parachute saves your life. In this case, you would have been safe if the first or reserve parachute had opened.\n",
        "\n",
        "**Lastly, let's talk about the `not` operator**. Imagine the instructor is selecting a landing spot, and their only condition is that it's not water. They'll choose any place other than water to land.\n",
        "\n",
        "Let's code that together:"
      ]
    },
    {
      "cell_type": "code",
      "execution_count": null,
      "metadata": {},
      "outputs": [],
      "source": []
    },
    {
      "attachments": {},
      "cell_type": "markdown",
      "metadata": {},
      "source": [
        "## Comparison Operators\n",
        "\n",
        "When comparing two values, we use comparison operators. These operators return a boolean value, `True` or `False`. Although we'll soon learn how to use these operators to make decisions in our code, let's first understand what they are and how to use them.\n",
        "\n",
        "| Operator | Description |\n",
        "| -------- | ----------- |\n",
        "| `==`     | This operator returns `True` if both values are equal. |\n",
        "| `!=`     | This operator returns `True` if both values are not equal. |\n",
        "| `>`      | This operator returns `True` if the value on the left is greater than the value on the right. |\n",
        "| `<`      | This operator returns `True` if the value on the left is less than the value on the right. |\n",
        "| `>=`     | This operator returns `True` if the value on the left is greater than or equal to the value on the right. |\n",
        "| `<=`     | This operator returns `True` if the value on the left is less than or equal to the value on the right. |\n",
        "\n",
        "Let's create some conditional's together:\n"
      ]
    },
    {
      "cell_type": "code",
      "execution_count": null,
      "metadata": {},
      "outputs": [],
      "source": [
        "# User's existing bank balance\n",
        "bank_balance = 142.50\n",
        "\n",
        "\n",
        "# # Uncomment the block of code below\n",
        "# # User's deposit amount, represented as a string\n",
        "# deposit_amount = input('How much do you desire to deposit?\\n')\n",
        "\n",
        "# # Convert deposit_amount to float and add it to bank_balance\n",
        "# bank_balance = float(deposit_amount) + bank_balance\n",
        "# print(bank_balance)"
      ]
    },
    {
      "attachments": {},
      "cell_type": "markdown",
      "metadata": {},
      "source": [
        "This lesson serves as a stepping stone into the world of Python, revolving around variables, types, and operators. As you delve deeper into Python, you'll encounter these topics in further depth and complexity. Happy Pythoning!"
      ]
    }
  ],
  "metadata": {
    "kernelspec": {
      "display_name": "Python 3",
      "language": "python",
      "name": "python3"
    },
    "language_info": {
      "codemirror_mode": {
        "name": "ipython",
        "version": 3
      },
      "file_extension": ".py",
      "mimetype": "text/x-python",
      "name": "python",
      "nbconvert_exporter": "python",
      "pygments_lexer": "ipython3",
      "version": "3.11.0"
    },
    "orig_nbformat": 4
  },
  "nbformat": 4,
  "nbformat_minor": 2
}
