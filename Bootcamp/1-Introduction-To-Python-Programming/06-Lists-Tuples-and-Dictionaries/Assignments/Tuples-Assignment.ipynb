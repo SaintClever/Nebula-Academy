{
  "cells": [
    {
      "attachments": {},
      "cell_type": "markdown",
      "metadata": {},
      "source": [
        "**Question 1:**\n",
        "Create a tuple named `my_tuple` with elements 'apple', 'banana', and 'cherry'. Print `my_tuple`.\n"
      ]
    },
    {
      "cell_type": "code",
      "execution_count": null,
      "metadata": {
        "vscode": {
          "languageId": "plaintext"
        }
      },
      "outputs": [],
      "source": [
        "Your Solution Here ❌"
      ]
    },
    {
      "attachments": {},
      "cell_type": "markdown",
      "metadata": {},
      "source": [
        "**Question 2:**\n",
        "Unpack the `my_tuple` into three variables: `fruit1`, `fruit2`, and `fruit3`, then print these variables.\n"
      ]
    },
    {
      "cell_type": "code",
      "execution_count": null,
      "metadata": {
        "vscode": {
          "languageId": "plaintext"
        }
      },
      "outputs": [],
      "source": [
        "Your Solution Here ❌"
      ]
    },
    {
      "attachments": {},
      "cell_type": "markdown",
      "metadata": {},
      "source": [
        "**Question 3:**\n",
        "Pack three integers 1, 2, 3 into a tuple `numbers` without using parentheses. Print `numbers` and its type.\n"
      ]
    },
    {
      "cell_type": "code",
      "execution_count": null,
      "metadata": {
        "vscode": {
          "languageId": "plaintext"
        }
      },
      "outputs": [],
      "source": [
        "Your Solution Here ❌"
      ]
    },
    {
      "attachments": {},
      "cell_type": "markdown",
      "metadata": {},
      "source": [
        "**Question 4:**\n",
        "Write a function named `return_coordinates` that returns a tuple with three elements representing a 3D coordinate (x, y, z).\n"
      ]
    },
    {
      "cell_type": "code",
      "execution_count": null,
      "metadata": {
        "vscode": {
          "languageId": "plaintext"
        }
      },
      "outputs": [],
      "source": [
        "Your Solution Here ❌"
      ]
    },
    {
      "attachments": {},
      "cell_type": "markdown",
      "metadata": {},
      "source": [
        "**Question 5:**\n",
        "Create a dictionary where the keys are tuples representing coordinates, and the values are strings representing the names of locations. For example, the tuple (0, 0, 0) could correspond to 'Origin Point'.\n"
      ]
    },
    {
      "cell_type": "code",
      "execution_count": null,
      "metadata": {
        "vscode": {
          "languageId": "plaintext"
        }
      },
      "outputs": [],
      "source": [
        "Your Solution Here ❌"
      ]
    },
    {
      "attachments": {},
      "cell_type": "markdown",
      "metadata": {},
      "source": [
        "**Question 6:**\n",
        "Write a function that returns a tuple with multiple values. Call this function and unpack the returned tuple into variables.\n"
      ]
    },
    {
      "cell_type": "code",
      "execution_count": null,
      "metadata": {
        "vscode": {
          "languageId": "plaintext"
        }
      },
      "outputs": [],
      "source": [
        "Your Solution Here ❌"
      ]
    },
    {
      "attachments": {},
      "cell_type": "markdown",
      "metadata": {},
      "source": [
        "**Question 7:**\n",
        "Create a tuple named `numbers_tuple` with elements 1, 2, 2, 3, 4, 4, 4, 5. Use the `count` method to find the count of `4` in `numbers_tuple`.\n"
      ]
    },
    {
      "cell_type": "code",
      "execution_count": null,
      "metadata": {
        "vscode": {
          "languageId": "plaintext"
        }
      },
      "outputs": [],
      "source": [
        "Your Solution Here ❌"
      ]
    },
    {
      "attachments": {},
      "cell_type": "markdown",
      "metadata": {},
      "source": [
        "**Question 8:**\n",
        "Use the `index` method on `numbers_tuple` to find the first index of `2`.\n"
      ]
    },
    {
      "cell_type": "code",
      "execution_count": null,
      "metadata": {
        "vscode": {
          "languageId": "plaintext"
        }
      },
      "outputs": [],
      "source": [
        "Your Solution Here ❌"
      ]
    },
    {
      "attachments": {},
      "cell_type": "markdown",
      "metadata": {},
      "source": [
        "**Question 9:**\n",
        "Create a list of tuples, where each tuple consists of a name and an age. For example, [('John', 25), ('Jane', 23), ('Jim', 30)].\n"
      ]
    },
    {
      "cell_type": "code",
      "execution_count": null,
      "metadata": {
        "vscode": {
          "languageId": "plaintext"
        }
      },
      "outputs": [],
      "source": [
        "Your Solution Here ❌"
      ]
    },
    {
      "attachments": {},
      "cell_type": "markdown",
      "metadata": {},
      "source": [
        "**Question 10:**\n",
        "Given a list of tuples as in question 9, write a function that takes this list of tuples and a name as arguments, and returns the age associated with the given name.\n"
      ]
    },
    {
      "cell_type": "code",
      "execution_count": null,
      "metadata": {
        "vscode": {
          "languageId": "plaintext"
        }
      },
      "outputs": [],
      "source": [
        "Your Solution Here ❌"
      ]
    },
    {
      "attachments": {},
      "cell_type": "markdown",
      "metadata": {},
      "source": [
        "**Question 11:**\n",
        "Given a tuple of integers, write a function that returns a tuple with each original element squared. For example, given the tuple (1, 2, 3), the function would return (1, 4, 9).\n"
      ]
    },
    {
      "cell_type": "code",
      "execution_count": null,
      "metadata": {
        "vscode": {
          "languageId": "plaintext"
        }
      },
      "outputs": [],
      "source": [
        "Your Solution Here ❌"
      ]
    },
    {
      "attachments": {},
      "cell_type": "markdown",
      "metadata": {},
      "source": [
        "**Question 12:**\n",
        "Write a Python function that takes a tuple as input, and returns a tuple that is the reverse of the input. For example, if given the tuple ('a', 'b', 'c'), the function should return ('c', 'b', 'a').\n"
      ]
    },
    {
      "cell_type": "code",
      "execution_count": null,
      "metadata": {
        "vscode": {
          "languageId": "plaintext"
        }
      },
      "outputs": [],
      "source": [
        "Your Solution Here ❌"
      ]
    },
    {
      "attachments": {},
      "cell_type": "markdown",
      "metadata": {},
      "source": [
        "**Question 13:**\n",
        "Create a dictionary for a rock-paper-scissors game where the keys are tuples representing a player's choice (first player's choice, second player's choice), and the values are the results of the game.\n"
      ]
    },
    {
      "cell_type": "code",
      "execution_count": null,
      "metadata": {
        "vscode": {
          "languageId": "plaintext"
        }
      },
      "outputs": [],
      "source": [
        "Your Solution Here ❌"
      ]
    },
    {
      "attachments": {},
      "cell_type": "markdown",
      "metadata": {},
      "source": [
        "**Question 14:**\n",
        "Use your rock-paper-scissors dictionary to determine the outcome of a game where player 1 chooses 'rock' and player 2 chooses 'scissors'.\n"
      ]
    },
    {
      "cell_type": "code",
      "execution_count": null,
      "metadata": {
        "vscode": {
          "languageId": "plaintext"
        }
      },
      "outputs": [],
      "source": [
        "Your Solution Here ❌"
      ]
    },
    {
      "attachments": {},
      "cell_type": "markdown",
      "metadata": {},
      "source": [
        "**Question 15:**\n",
        "Create a function `make_square` that takes in a tuple with 2 elements (base, height) and returns the area of the rectangle that could be formed. Apply this function to a tuple (5, 6).\n"
      ]
    },
    {
      "cell_type": "code",
      "execution_count": null,
      "metadata": {
        "vscode": {
          "languageId": "plaintext"
        }
      },
      "outputs": [],
      "source": [
        "Your Solution Here ❌"
      ]
    },
    {
      "attachments": {},
      "cell_type": "markdown",
      "metadata": {},
      "source": [
        "**Question 16:**\n",
        "Write a Python function that accepts a tuple of tuples, each containing two elements (a name and a score). The function should return the name of the person with the highest score. Test this function with the input ((‘Tom’, 100), (‘Jerry’, 110), (‘Spike’, 90)).\n"
      ]
    },
    {
      "cell_type": "code",
      "execution_count": null,
      "metadata": {
        "vscode": {
          "languageId": "plaintext"
        }
      },
      "outputs": [],
      "source": [
        "Your Solution Here ❌"
      ]
    },
    {
      "attachments": {},
      "cell_type": "markdown",
      "metadata": {},
      "source": [
        "**Question 17:**\n",
        "Define a tuple named `grades` that contains the values 'A', 'B', 'C', 'D', 'F'. Then define a tuple named `scores` that contains the values 90, 80, 70, 60, 50. Finally, create a dictionary that uses the `grades` as keys and `scores` as values.\n"
      ]
    },
    {
      "cell_type": "code",
      "execution_count": null,
      "metadata": {
        "vscode": {
          "languageId": "plaintext"
        }
      },
      "outputs": [],
      "source": [
        "Your Solution Here ❌"
      ]
    },
    {
      "attachments": {},
      "cell_type": "markdown",
      "metadata": {},
      "source": [
        "**Question 18:**\n",
        "Write a function `grade_lookup` that takes in a grade and returns the corresponding score from the dictionary created in the previous question.\n"
      ]
    },
    {
      "cell_type": "code",
      "execution_count": null,
      "metadata": {
        "vscode": {
          "languageId": "plaintext"
        }
      },
      "outputs": [],
      "source": [
        "Your Solution Here ❌"
      ]
    },
    {
      "attachments": {},
      "cell_type": "markdown",
      "metadata": {},
      "source": [
        "**Question 19:**\n",
        "Create a tuple named `mixed_tuple` with elements of different data types (integer, string, list, tuple, dictionary). Access the third element of `mixed_tuple`.\n"
      ]
    },
    {
      "cell_type": "code",
      "execution_count": null,
      "metadata": {
        "vscode": {
          "languageId": "plaintext"
        }
      },
      "outputs": [],
      "source": [
        "Your Solution Here ❌"
      ]
    },
    {
      "attachments": {},
      "cell_type": "markdown",
      "metadata": {},
      "source": [
        "**Question 20:**\n",
        "Given a list of tuples, sort the list in ascending order based on the second element in each tuple. For example, given the list [(1, 2), (3, 1), (4, 5), (2, 3)], the sorted list would be [(3, 1), (1, 2), (2, 3), (4, 5)].\n"
      ]
    },
    {
      "cell_type": "code",
      "execution_count": null,
      "metadata": {
        "vscode": {
          "languageId": "plaintext"
        }
      },
      "outputs": [],
      "source": [
        "Your Solution Here ❌"
      ]
    }
  ],
  "metadata": {
    "kernelspec": {
      "display_name": "Python 3",
      "language": "python",
      "name": "python3"
    },
    "language_info": {
      "codemirror_mode": {
        "name": "ipython",
        "version": 3
      },
      "file_extension": ".py",
      "mimetype": "text/x-python",
      "name": "python",
      "nbconvert_exporter": "python",
      "pygments_lexer": "ipython3",
      "version": "3.11.3"
    },
    "orig_nbformat": 4
  },
  "nbformat": 4,
  "nbformat_minor": 2
}
