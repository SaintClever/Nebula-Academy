{
 "cells": [
  {
   "attachments": {},
   "cell_type": "markdown",
   "metadata": {},
   "source": [
    "# Lists Homework\n",
    "\n",
    "**Question 1:**\n",
    "\n",
    "1. Create an empty list called fruits.\n",
    "2. Use the append() method to add the following fruits to the list: \"apple\", \"banana\", \"orange\", \"grape\".\n",
    "3. Print the updated list of fruits."
   ]
  },
  {
   "cell_type": "code",
   "execution_count": null,
   "metadata": {},
   "outputs": [],
   "source": [
    "# Your code here"
   ]
  },
  {
   "attachments": {},
   "cell_type": "markdown",
   "metadata": {},
   "source": [
    "**Question 2:**\n",
    "\n",
    "Consider the following list:\n",
    "\n",
    "```python\n",
    "numbers = [1, 2, 3, 4, 5, 6, 7, 8, 9, 10]\n",
    "```\n",
    "\n",
    "1. Print the first element of the list.\n",
    "2. Print the last element of the list.\n",
    "3. Print the third element of the list.\n",
    "4. Print a sublist containing the second to fifth elements of the list."
   ]
  },
  {
   "cell_type": "code",
   "execution_count": null,
   "metadata": {},
   "outputs": [],
   "source": [
    "numbers = [1, 2, 3, 4, 5, 6, 7, 8, 9, 10]\n",
    "# Your code here"
   ]
  },
  {
   "attachments": {},
   "cell_type": "markdown",
   "id": "066be913",
   "metadata": {},
   "source": [
    "**Question 3:**\n",
    "\n",
    "Consider the following list:\n",
    "\n",
    "```python\n",
    "my_list = [1, 2, 3, 4, 5]\n",
    "```\n",
    "\n",
    "1. Use the `insert()` method to insert the number 6 at index 2.\n",
    "2. Use the `pop()` method to remove the element at index 3 and assign it to a variable called `removed_element`.\n",
    "3. Print the updated list after inserting and removing elements."
   ]
  },
  {
   "cell_type": "code",
   "execution_count": null,
   "id": "d5fb010a",
   "metadata": {},
   "outputs": [],
   "source": [
    "my_list = [1, 2, 3, 4, 5]\n",
    "# Your code here"
   ]
  },
  {
   "attachments": {},
   "cell_type": "markdown",
   "id": "312e378a",
   "metadata": {},
   "source": [
    "**Question 4**\n",
    "\n",
    "```python\n",
    "numbers = [1, 2, 3, 4, 5]\n",
    "```\n",
    "\n",
    "1. Unpack the list `numbers` into individual variables `a`, `b`, `c`, `d`, and `e`.\n",
    "2. Print the values of the variables."
   ]
  },
  {
   "cell_type": "code",
   "execution_count": null,
   "id": "5711a067",
   "metadata": {},
   "outputs": [],
   "source": [
    "numbers = [1, 2, 3, 4, 5]\n",
    "# Your code here"
   ]
  },
  {
   "attachments": {},
   "cell_type": "markdown",
   "id": "647ec92b",
   "metadata": {},
   "source": [
    "**Question 5:**\n",
    "\n",
    "Consider the following list:\n",
    "\n",
    "```python\n",
    "letters = [\"A\", \"B\", \"C\", \"D\", \"E\", \"F\", \"G\"]\n",
    "```\n",
    "\n",
    "1. Use list slicing to create a new list called `sublist` containing elements from index 2 to 5 (inclusive).\n",
    "2. Print the `sublist`."
   ]
  },
  {
   "cell_type": "code",
   "execution_count": null,
   "id": "5245d4e3",
   "metadata": {},
   "outputs": [],
   "source": [
    "letters = [\"A\", \"B\", \"C\", \"D\", \"E\", \"F\", \"G\"]\n",
    "# Your code here"
   ]
  },
  {
   "attachments": {},
   "cell_type": "markdown",
   "id": "ed27ee09",
   "metadata": {},
   "source": [
    "**Question 6:**\n",
    "\n",
    "Consider the following list:\n",
    "\n",
    "```python\n",
    "names = [\"Alice\", \"Bob\", \"Charlie\", \"Dave\"]\n",
    "```\n",
    "\n",
    "1. Change the name at index 1 to \"Barbara\".\n",
    "2. Change the name at index 3 to \"Daniel\".\n",
    "3. Print the updated `names` list."
   ]
  },
  {
   "cell_type": "code",
   "execution_count": null,
   "id": "469d0f86",
   "metadata": {},
   "outputs": [],
   "source": [
    "names = [\"Alice\", \"Bob\", \"Charlie\", \"Dave\"]\n",
    "# Your code here"
   ]
  },
  {
   "attachments": {},
   "cell_type": "markdown",
   "id": "cb0fad2e",
   "metadata": {},
   "source": [
    "**Question 7:**\n",
    "\n",
    "Consider the following lists:\n",
    "\n",
    "```python\n",
    "list1 = [1, 2, 3]\n",
    "list2 = [3, 4, 5]\n",
    "```\n",
    "\n",
    "1. Use the `+` operator to concatenate `list1` and `list2` into a new list called `result`.\n",
    "2. Use the `*` operator to repeat `list1` three times and assign it to a variable called `repeated_list`.\n",
    "3. Print the `result` and `repeated_list`."
   ]
  },
  {
   "cell_type": "code",
   "execution_count": null,
   "id": "c600903e",
   "metadata": {},
   "outputs": [],
   "source": [
    "list1 = [1, 2, 3]\n",
    "list2 = [3, 4, 5]\n",
    "# Your code here"
   ]
  },
  {
   "attachments": {},
   "cell_type": "markdown",
   "id": "1a96f67b",
   "metadata": {},
   "source": [
    "**Question 8:**\n",
    "\n",
    "Consider the following lists:\n",
    "\n",
    "```python\n",
    "list1 = [1, 2, 3]\n",
    "list2 = [4, 5, 6]\n",
    "```\n",
    "\n",
    "1. Concatenate `list1` and `list2` into a new list called `combined_list`.\n",
    "2. Print the `combined_list`."
   ]
  },
  {
   "cell_type": "code",
   "execution_count": null,
   "id": "7fe7302f",
   "metadata": {},
   "outputs": [],
   "source": [
    "list1 = [1, 2, 3]\n",
    "list2 = [4, 5, 6]\n",
    "# Your code here"
   ]
  },
  {
   "attachments": {},
   "cell_type": "markdown",
   "metadata": {},
   "source": [
    "Question 9:\n",
    "\n",
    "Consider the following list:\n",
    "\n",
    "```python\n",
    "colors = [\"red\", \"green\", \"blue\", \"yellow\"]\n",
    "```\n",
    "\n",
    "1. Check if \"green\" is present in the list using the `in` operator and print the result.\n",
    "2. Check if \"purple\" is not present in the list using the `not in` operator and print the result."
   ]
  },
  {
   "cell_type": "code",
   "execution_count": null,
   "id": "af25cd7c",
   "metadata": {},
   "outputs": [],
   "source": [
    "colors = [\"red\", \"green\", \"blue\", \"yellow\"]\n",
    "# Your code here"
   ]
  }
 ],
 "metadata": {
  "kernelspec": {
   "display_name": "Python 3",
   "language": "python",
   "name": "python3"
  },
  "language_info": {
   "codemirror_mode": {
    "name": "ipython",
    "version": 3
   },
   "file_extension": ".py",
   "mimetype": "text/x-python",
   "name": "python",
   "nbconvert_exporter": "python",
   "pygments_lexer": "ipython3",
   "version": "3.9.7"
  }
 },
 "nbformat": 4,
 "nbformat_minor": 5
}
