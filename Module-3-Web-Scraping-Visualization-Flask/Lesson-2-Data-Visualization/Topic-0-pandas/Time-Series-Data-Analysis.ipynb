{
 "cells": [
  {
   "cell_type": "markdown",
   "metadata": {},
   "source": [
    "# Assignment: Time-Series Data Analysis\n",
    "\n",
    "This assignment will guide you through the process of analyzing a time-series dataset to identify underlying trends, patterns, and seasonal variations using Pandas.\n",
    "\n",
    "#### Setup: Generate the Time-Series Dataset\n",
    "\n",
    "Run the following code in this Jupyter Notebook to generate your synthetic time-series dataset:\n"
   ]
  },
  {
   "cell_type": "code",
   "execution_count": null,
   "metadata": {},
   "outputs": [],
   "source": [
    "import pandas as pd\n",
    "import numpy as np\n",
    "\n",
    "# Seed for reproducibility\n",
    "np.random.seed(0)\n",
    "\n",
    "# Generate a date range\n",
    "dates = pd.date_range(start=\"2020-01-01\", end=\"2020-12-31\", freq=\"D\")\n",
    "\n",
    "# Generate synthetic time-series data\n",
    "data = {\n",
    "    \"Date\": dates,\n",
    "    \"Sales\": np.random.rand(len(dates)) * 200\n",
    "    + np.sin(np.linspace(-3, 3, len(dates))) * 50\n",
    "    + 100,\n",
    "}\n",
    "\n",
    "# Create DataFrame\n",
    "df = pd.DataFrame(data)\n",
    "df.set_index(\"Date\", inplace=True)"
   ]
  },
  {
   "cell_type": "markdown",
   "metadata": {},
   "source": [
    "#### Task 1: Initial Exploration\n",
    "\n",
    "Begin with an initial exploration to understand your dataset's structure and main components.\n",
    "\n",
    "1. **Display the first few rows of the dataset to get an idea of its structure.** Insert your code below:\n"
   ]
  },
  {
   "cell_type": "code",
   "execution_count": null,
   "metadata": {},
   "outputs": [],
   "source": [
    "# INSERT CODE HERE to display the first 5 rows of the dataframe"
   ]
  },
  {
   "cell_type": "markdown",
   "metadata": {},
   "source": [
    "2. **Generate a quick statistical summary of the 'Sales' column.** Insert your code below:\n"
   ]
  },
  {
   "cell_type": "code",
   "execution_count": null,
   "metadata": {},
   "outputs": [],
   "source": [
    "# INSERT CODE HERE to generate a statistical summary for 'Sales'"
   ]
  },
  {
   "cell_type": "markdown",
   "metadata": {},
   "source": [
    "#### Task 2: Time-Series Analysis\n",
    "\n",
    "Dive deeper into the time-series data to identify trends and patterns.\n"
   ]
  },
  {
   "cell_type": "markdown",
   "metadata": {},
   "source": [
    "1. **Calculate the monthly average sales.** Insert your code below:\n"
   ]
  },
  {
   "cell_type": "code",
   "execution_count": null,
   "metadata": {},
   "outputs": [],
   "source": [
    "# INSERT CODE HERE to resample the data by month and calculate average sales"
   ]
  },
  {
   "cell_type": "markdown",
   "metadata": {},
   "source": [
    "2. **Identify any obvious trends in monthly average sales.** (For now, describe the trend in a markdown cell. Later, you'll learn how to visualize these trends for better insight.)\n"
   ]
  },
  {
   "cell_type": "code",
   "execution_count": null,
   "metadata": {},
   "outputs": [],
   "source": [
    "# INSERT YOUR OBSERVATION HERE about any trends in monthly average sales"
   ]
  },
  {
   "cell_type": "markdown",
   "metadata": {},
   "source": [
    "3. **Calculate the rolling 7-day average of sales to smooth out any short-term fluctuations.** Insert your code below:\n"
   ]
  },
  {
   "cell_type": "code",
   "execution_count": null,
   "metadata": {},
   "outputs": [],
   "source": [
    "# INSERT CODE HERE to calculate a rolling 7-day average of sales"
   ]
  },
  {
   "cell_type": "markdown",
   "metadata": {},
   "source": [
    "#### Task 3: Insights Reporting\n",
    "\n",
    "Reflect on the analysis performed and answer the following questions in a markdown cell in your Jupyter Notebook:\n",
    "\n",
    "1. What are the overall trends that you can observe in the data?\n",
    "2. Did you notice any seasonal variations in monthly average sales?\n",
    "3. How did the 7-day rolling average compare to the daily sales figures? What does this tell you about the volatility of the sales data?\n"
   ]
  },
  {
   "cell_type": "markdown",
   "metadata": {},
   "source": [
    "1. INSERT YOUR ANSWER HERE\n",
    "2. INSERT YOUR ANSWER HERE\n",
    "3. INSERT YOUR ANSWER HERE\n"
   ]
  }
 ],
 "metadata": {
  "language_info": {
   "name": "python"
  }
 },
 "nbformat": 4,
 "nbformat_minor": 2
}
