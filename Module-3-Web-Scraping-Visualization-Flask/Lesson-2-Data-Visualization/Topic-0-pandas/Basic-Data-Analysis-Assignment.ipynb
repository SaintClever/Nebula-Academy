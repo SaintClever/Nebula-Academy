{
 "cells": [
  {
   "cell_type": "markdown",
   "metadata": {},
   "source": [
    "### Assignment: Data Analysis with Pre-Generated Random Data\n",
    "\n",
    "This assignment guides you through analyzing a pre-generated dataset using Pandas. You'll practice manipulating and analyzing data to extract insights.\n",
    "\n",
    "#### Setup: Generate the Dataset\n",
    "\n",
    "Start by running the following code in this Jupyter Notebook to generate your dataset:\n"
   ]
  },
  {
   "cell_type": "code",
   "execution_count": null,
   "metadata": {
    "vscode": {
     "languageId": "plaintext"
    }
   },
   "outputs": [],
   "source": [
    "import pandas as pd\n",
    "import numpy as np\n",
    "\n",
    "# Seed for reproducibility\n",
    "np.random.seed(0)\n",
    "\n",
    "# Generate random data\n",
    "data = {\n",
    "    'Region': np.random.choice(['North', 'South', 'East', 'West'], size=100),\n",
    "    'Sales': np.random.rand(100) * 1000,  # Sales figures between 0 and 1000\n",
    "    'Transactions': np.random.randint(1, 100, size=100)  # Transactions between 1 and 100\n",
    "}\n",
    "\n",
    "# Create DataFrame\n",
    "df = pd.DataFrame(data)"
   ]
  },
  {
   "cell_type": "markdown",
   "metadata": {},
   "source": [
    "#### Task 1: Explore the Dataset\n",
    "\n",
    "Familiarize yourself with the dataset structure and basic statistics.\n",
    "\n",
    "1. **Display the first few rows of the dataset.** Insert your code below:\n"
   ]
  },
  {
   "cell_type": "code",
   "execution_count": null,
   "metadata": {
    "vscode": {
     "languageId": "plaintext"
    }
   },
   "outputs": [],
   "source": [
    "# INSERT CODE HERE to display the first 5 rows of the dataframe"
   ]
  },
  {
   "cell_type": "markdown",
   "metadata": {},
   "source": [
    "2. **Calculate and display basic statistics for the 'Sales' and 'Transactions' columns.** Insert your code below:\n"
   ]
  },
  {
   "cell_type": "code",
   "execution_count": null,
   "metadata": {
    "vscode": {
     "languageId": "plaintext"
    }
   },
   "outputs": [],
   "source": [
    "# INSERT CODE HERE to calculate basic statistics for 'Sales' and 'Transactions'"
   ]
  },
  {
   "cell_type": "markdown",
   "metadata": {},
   "source": [
    "#### Task 2: Data Analysis\n",
    "\n",
    "Perform basic analyses to extract insights from the data.\n",
    "\n",
    "1. **Calculate the average sales and transactions per region.** Insert your code below:\n"
   ]
  },
  {
   "cell_type": "code",
   "execution_count": null,
   "metadata": {
    "vscode": {
     "languageId": "plaintext"
    }
   },
   "outputs": [],
   "source": [
    "# INSERT CODE HERE to calculate the average sales per region\n",
    "# INSERT CODE HERE to calculate the average transactions per region"
   ]
  },
  {
   "cell_type": "markdown",
   "metadata": {},
   "source": [
    "2. **Find and display the region with the highest average sales.** Insert your code below:\n"
   ]
  },
  {
   "cell_type": "code",
   "execution_count": null,
   "metadata": {
    "vscode": {
     "languageId": "plaintext"
    }
   },
   "outputs": [],
   "source": [
    "# INSERT CODE HERE to find the region with the highest average sales"
   ]
  },
  {
   "cell_type": "markdown",
   "metadata": {},
   "source": [
    "#### Task 3: Insights Reporting\n",
    "\n",
    "Based on your analysis, answer the following questions in a markdown cell in your Jupyter Notebook:\n",
    "\n",
    "1. What is the average sales and transactions figure per region?\n",
    "2. Which region has the highest average sales, and what might this imply?\n",
    "3. Did you notice any interesting patterns or anomalies in the data? How might you investigate these further?\n",
    "\n",
    "**Placeholder for Student's Analysis:**\n"
   ]
  },
  {
   "cell_type": "markdown",
   "metadata": {},
   "source": [
    "1. INSERT YOUR ANSWER HERE\n",
    "2. INSERT YOUR ANSWER HERE\n",
    "3. INSERT YOUR ANSWER HERE\n"
   ]
  }
 ],
 "metadata": {
  "language_info": {
   "name": "python"
  }
 },
 "nbformat": 4,
 "nbformat_minor": 2
}
