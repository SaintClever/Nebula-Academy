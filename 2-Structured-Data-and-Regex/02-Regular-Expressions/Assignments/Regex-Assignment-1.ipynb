{
  "cells": [
    {
      "attachments": {},
      "cell_type": "markdown",
      "metadata": {},
      "source": [
        "**Exercise 1:**\n",
        "Create a regular expression pattern to search for the word 'cat' in the sentence 'The cat in the hat.' If the pattern is found, print 'Pattern found!', otherwise print 'Pattern not found!'."
      ]
    },
    {
      "cell_type": "code",
      "execution_count": null,
      "metadata": {},
      "outputs": [],
      "source": [
        "Your Solution Here ❌"
      ]
    },
    {
      "attachments": {},
      "cell_type": "markdown",
      "metadata": {},
      "source": [
        "**Exercise 2:**\n",
        "Create a regular expression pattern that matches any three-letter word in the sentence 'The dog ran far.' Print the matches."
      ]
    },
    {
      "cell_type": "code",
      "execution_count": null,
      "metadata": {},
      "outputs": [],
      "source": [
        "Your Solution Here ❌"
      ]
    },
    {
      "attachments": {},
      "cell_type": "markdown",
      "metadata": {},
      "source": [
        "**Exercise 3:**\n",
        "Describe what the following special characters do in regular expressions:\n",
        "- .\n",
        "- ^\n",
        "- $\n",
        "- \\*\n",
        "- \\+\n",
        "- ?\n",
        "- [abc]\n"
      ]
    },
    {
      "attachments": {},
      "cell_type": "markdown",
      "metadata": {},
      "source": [
        "Your Explanation Here ❌"
      ]
    },
    {
      "attachments": {},
      "cell_type": "markdown",
      "metadata": {},
      "source": [
        "**Exercise 4:**\n",
        "Find a pre-made regular expression online for a date in the format MM/DD/YYYY, and use it to find dates in the following sentence: 'Important events happened on 07/04/1776 and 12/07/1941.'"
      ]
    },
    {
      "cell_type": "code",
      "execution_count": null,
      "metadata": {},
      "outputs": [],
      "source": [
        "Your Solution Here ❌"
      ]
    },
    {
      "attachments": {},
      "cell_type": "markdown",
      "metadata": {},
      "source": [
        "**Exercise 5:**\n",
        "With the help of the `re` module, replace all the dates in the format MM/DD/YYYY from the sentence in Exercise 4 with 'MM/DD/YYYY'."
      ]
    },
    {
      "cell_type": "code",
      "execution_count": null,
      "metadata": {},
      "outputs": [],
      "source": [
        "Your Solution Here ❌"
      ]
    },
    {
      "attachments": {},
      "cell_type": "markdown",
      "metadata": {},
      "source": [
        "**Exercise 6:**\n",
        "Create a regular expression to find all words starting with 'a' in the sentence 'An apple a day keeps the doctor away'."
      ]
    },
    {
      "cell_type": "code",
      "execution_count": null,
      "metadata": {},
      "outputs": [],
      "source": [
        "Your Solution Here ❌"
      ]
    },
    {
      "attachments": {},
      "cell_type": "markdown",
      "metadata": {},
      "source": [
        "**Exercise 7:**\n",
        "Create a regular expression to find all words ending with 'e' in the sentence 'Where in the world is Carmen Sandiego?'."
      ]
    },
    {
      "cell_type": "code",
      "execution_count": null,
      "metadata": {},
      "outputs": [],
      "source": [
        "Your Solution Here ❌"
      ]
    },
    {
      "attachments": {},
      "cell_type": "markdown",
      "metadata": {},
      "source": [
        "**Exercise 8:**\n",
        "Create a regular expression to find and replace the word 'lazy' with 'active' in the sentence 'The quick brown fox jumps over the lazy dog'."
      ]
    },
    {
      "cell_type": "markdown",
      "metadata": {},
      "source": []
    },
    {
      "cell_type": "code",
      "execution_count": null,
      "metadata": {},
      "outputs": [],
      "source": [
        "Your Solution Here ❌"
      ]
    },
    {
      "attachments": {},
      "cell_type": "markdown",
      "metadata": {},
      "source": [
        "**Exercise 9:**\n",
        "Create a regular expression to split a sentence into words. Try it on the sentence 'Regular expressions are powerful tools.'"
      ]
    },
    {
      "cell_type": "code",
      "execution_count": null,
      "metadata": {},
      "outputs": [],
      "source": [
        "Your Solution Here ❌"
      ]
    },
    {
      "attachments": {},
      "cell_type": "markdown",
      "metadata": {},
      "source": [
        "**Exercise 10:**\n",
        "Create a regular expression to find a sequence of non-whitespace characters in the string 'Python regex 101'."
      ]
    },
    {
      "cell_type": "code",
      "execution_count": null,
      "metadata": {},
      "outputs": [],
      "source": [
        "Your Solution Here ❌"
      ]
    }
  ],
  "metadata": {
    "kernelspec": {
      "display_name": "Python 3",
      "language": "python",
      "name": "python3"
    },
    "language_info": {
      "codemirror_mode": {
        "name": "ipython",
        "version": 3
      },
      "file_extension": ".py",
      "mimetype": "text/x-python",
      "name": "python",
      "nbconvert_exporter": "python",
      "pygments_lexer": "ipython3",
      "version": "3.11.3"
    },
    "orig_nbformat": 4
  },
  "nbformat": 4,
  "nbformat_minor": 2
}
